{
  "nbformat": 4,
  "nbformat_minor": 0,
  "metadata": {
    "colab": {
      "name": "SCMr '22 Orientation - Inferential Statistics.ipynb",
      "provenance": [],
      "collapsed_sections": []
    },
    "kernelspec": {
      "name": "python3",
      "display_name": "Python 3"
    }
  },
  "cells": [
    {
      "cell_type": "markdown",
      "metadata": {
        "id": "vr2gTKPpIktH"
      },
      "source": [
        "### **1. Identify parameters of interest**\n",
        "\n",
        "#### **Known Population Parameters vs Unkown Population Parameters**\n",
        "\n",
        "A statistical hypothesis can be thought of as a statement about the probability distribution of a random variable.\n",
        "\n",
        "\\\n",
        "We have a random $X_1$, $X_2$,..., $X_n$ from a normal population. Sample mean $\\bar{X}$ is an estimate of the true population mean $\\mu$, and therefore, it is the **test statistic**.\n",
        "\n",
        "\\\n",
        "\n",
        "If the information obtained from a random sample of a population is consistent with the hypothesis, we do not reject hypothesis. Otherwise we reject the hypothesis. \n",
        "\n",
        "\\\n",
        "\n",
        "Hypothesis-testing procedure should be developed with the probability of reaching a wrong conclusion in mind since we do not work with the entire population but a random sample of it.\n",
        "\n"
      ]
    },
    {
      "cell_type": "markdown",
      "metadata": {
        "id": "qAbFC7VY7_Y3"
      },
      "source": [
        "# **Hypothesis Testing**\n",
        "\n",
        "<p align = \"justify\"> Inferential statistics consists of a set of procedures that enables us to draw conclusions about the characteristics of a whole population by studying the properties of a sample of a population.</p>\n",
        " \n",
        "**Remember:** Hypotheses are always **statements about the population** or distribution under study, **not statements about the sample**.\n",
        "\n",
        "> ## **General Procedures for Hypothesis Testing**\n",
        "\n",
        "> Hypothesis testing procedures rely on using the information in a random sample from the population.\n",
        "\n",
        "> **1.** Identify parameters of interest\n",
        "\n",
        "> **2.** State null and alternative hypothesis\n",
        "\n",
        "> **3.** Select a significance level $\\alpha$\n",
        "\n",
        "> **4.** Determine the appropriate test statistics\n",
        "\n",
        "> **5.** Calculate test statistics\n",
        "\n",
        "> **6.** Calculate rejection criteria and compute p-value\n",
        "\n",
        "> **7.** Make statistical decision and interpret results\n",
        "\n",
        "\n",
        "Let elaborate on each step on the testing procedure."
      ]
    },
    {
      "cell_type": "markdown",
      "metadata": {
        "id": "UJdZKneg7ZjT"
      },
      "source": [
        "### **2. State null and alternative hypotheses**\n",
        "\n",
        "##### **Hypothesis Tests on Mean**\n",
        "\n",
        "Suppose that we wish to test the hypotheses:\n",
        "<p align = \"center\"> $H_0$ : $\\mu$ = $\\mu_0$\n",
        "\n",
        "<p align = \"center\"> $H_1$ : $\\mu$ $\\ne$ $\\mu_0$ </p>\n",
        "\n",
        "\\\n",
        "A sample mean $\\bar{x}$ that falls close to the hypothesized value of the population mean $\\mu$ does **not** conflict with the null hypothesis $H_0$. \n",
        "\n",
        "On the other hand, a sample mean $\\bar{x}$ that considerably different from the population mean $\\mu$ supports the alternative hypothesis $H_1$.\n"
      ]
    },
    {
      "cell_type": "markdown",
      "metadata": {
        "id": "JOeB_rMZs1RX"
      },
      "source": [
        "### **3. Select a significance level  𝛼  and the critical value**\n",
        "\n",
        "Sample mean may take different values. Therefore, we find an interval for sample mean $\\bar{x}$ that forms a region for which we will fail to reject the null hypothesis. This is also called **acceptance region**.\n",
        "\n",
        "\\\n",
        "\n",
        "A sample mean falls outside of this region favors the alternative hypothesis $H_1$, where we reject the null hypothesis. This is also called **critical region**.\n",
        "\n",
        "\\\n",
        "\n",
        "The boundaries between the critical and acceptance region are called **critical values**.\n",
        "\n",
        "\\\n",
        "\n",
        "\n",
        "\n",
        "\n",
        "Since we make assumptions for a population over a random sample of it, there is always a chance for being led to wrong conclusions. For example, after the test, we may observe that $\\bar{x}$ falls into the critical region and reject the null hypothesis $H_0$ while it was true. This error leads to **Type I error**.\n",
        "\n",
        "\\\n",
        "\n",
        "In the opposite case, we may fail to reject the null hypothesis while it was false. This error is called **Type II error**.\n",
        "\n",
        "\\\n",
        "\n",
        "> The probability of making Type I error is called **significance level** and denoted by *$\\alpha$*. This error is also known as the **sample size error**.\n",
        "\n",
        "\\\n",
        "\n",
        "<p align = \"center\"> $\\alpha$ = Significance level = P(Type I error) = P(Reject $H_0$ when $H_0$ is true) </p>\n",
        "\n",
        "\\\n",
        "\n",
        "> The probability of making Type II error is denoted by $\\beta$ or $\\beta$-error.\n",
        "\n",
        "\\\n",
        "<p align = \"center\"> $\\beta$ = $\\beta$-error = P(Type II error) = P(Fail to reject $H_0$ when $H_0$ is false) </p>\n",
        "\n",
        "\\\n",
        "\n",
        "> The power of a statistical test is the probability of correctly rejecting the null hypothesis $H_0$ when the alternative hypothesis $H_1$ is true. Power is the **sensitivity** of the statistical test and it shows the percentage of correctly rejecting $H_0$. If the power of the test is low, we may increase the sample size *n* or $\\alpha$.\n",
        "<p align = \"center\"> Power = 1 - $\\beta$\n",
        "\n",
        "\\\n",
        "\n",
        "Let's take a closer look to test regions based on a sampling distribution.\n",
        "\n"
      ]
    },
    {
      "cell_type": "markdown",
      "metadata": {
        "id": "DQ3ML28oZoXi"
      },
      "source": [
        "#### **a. Sampling Distribution for Two-Tailed Test**\n",
        "\n",
        "Let's assume $\\bar{X}$ has a normal distribution with mean $\\mu_0$ and standard deviation $\\sigma$/$\\sqrt{n}$ if the null hypothesis is true. We can calculate a  p-value or construct a critical region based on a computed value of the sample mean $\\bar{X}$.\n",
        "\n",
        "It is usually convenient to standardize the sample mean $\\bar{x}$ and calculate test statistics based on a standard normal distribution.\n",
        "\n",
        "Since the sample mean is normally distributed with mean = 0 and variance = 1, it has an area under the curve of 1 (*~N(0,1)*). \n",
        "\n",
        "\n",
        "Assume $\\alpha$ = 0.05 *(significance level)*\n",
        "\n",
        "> ***Critical Region can be visualized as follows:*** "
      ]
    },
    {
      "cell_type": "code",
      "metadata": {
        "id": "OGsF14z3omId",
        "colab": {
          "base_uri": "https://localhost:8080/"
        },
        "outputId": "cf815da5-73c6-453e-8d4e-c7080ae0d693"
      },
      "source": [
        "#@title\n",
        "import pandas as pd\n",
        "import numpy as np\n",
        "import statsmodels.api as sm\n",
        "import seaborn as sns\n",
        "import scipy.stats as stats\n",
        "import numpy as np\n",
        "import random\n",
        "from scipy.stats import norm\n",
        "import matplotlib.pyplot as plt\n",
        "import math\n",
        "%matplotlib inline"
      ],
      "execution_count": null,
      "outputs": [
        {
          "output_type": "stream",
          "name": "stderr",
          "text": [
            "/usr/local/lib/python3.7/dist-packages/statsmodels/tools/_testing.py:19: FutureWarning: pandas.util.testing is deprecated. Use the functions in the public API at pandas.testing instead.\n",
            "  import pandas.util.testing as tm\n"
          ]
        }
      ]
    },
    {
      "cell_type": "code",
      "metadata": {
        "id": "_KcmV_G6pnZa",
        "colab": {
          "base_uri": "https://localhost:8080/",
          "height": 343
        },
        "outputId": "3e6f5fce-e8b4-4e05-c476-18c707b83923"
      },
      "source": [
        "#@title\n",
        "values = np.random.normal(loc=0, scale=1, size=6000)\n",
        "alpha_05_positive = np.mean(values) + np.std(values)*1.96\n",
        "alpha_05_negative = np.mean(values) - np.std(values)*1.96\n",
        "kde = stats.gaussian_kde(values)\n",
        "pos = np.linspace(np.min(values), np.max(values))\n",
        "plt.plot(pos, kde(pos), color='dodgerblue')\n",
        "shade = np.linspace(alpha_05_positive, 4, 300)\n",
        "plt.fill_between(shade, kde(shade), alpha=0.45, color='dodgerblue')\n",
        "shade2 = np.linspace(alpha_05_negative, -4, 300)\n",
        "plt.fill_between(shade2, kde(shade2), alpha=0.45, color='dodgerblue')\n",
        "plt.title(\"Sampling Distribution for Two-Tailed Hypothesis Test\", y=1.15, fontsize=20)\n",
        "plt.xlabel(\"sample mean value\", labelpad=14)\n",
        "plt.ylabel(\"frequency of occurence\", labelpad=14);"
      ],
      "execution_count": null,
      "outputs": [
        {
          "output_type": "display_data",
          "data": {
            "image/png": "[encoded data removed]",
            "text/plain": [
              "<Figure size 432x288 with 1 Axes>"
            ]
          },
          "metadata": {
            "needs_background": "light"
          }
        }
      ]
    },
    {
      "cell_type": "markdown",
      "metadata": {
        "id": "IYfqeNSRxoBV"
      },
      "source": [
        "> ***Acceptance Region can be visualized as follows:***"
      ]
    },
    {
      "cell_type": "code",
      "metadata": {
        "id": "wkxl-824xrrk",
        "colab": {
          "base_uri": "https://localhost:8080/",
          "height": 343
        },
        "outputId": "2a90ca67-c818-468f-82ea-67bf3ac040ce"
      },
      "source": [
        "#@title\n",
        "values = np.random.normal(loc=0, scale=1, size=6000)\n",
        "alpha_05_positive = np.mean(values) + np.std(values)*1.96\n",
        "alpha_05_negative = np.mean(values) - np.std(values)*1.96\n",
        "kde = stats.gaussian_kde(values)\n",
        "pos = np.linspace(np.min(values), np.max(values))\n",
        "plt.plot(pos, kde(pos), color='dodgerblue')\n",
        "shade = np.linspace(alpha_05_negative, alpha_05_positive, 300)\n",
        "plt.fill_between(shade, kde(shade), alpha=0.45, color='dodgerblue')\n",
        "#shade2 = np.linspace(alpha_05_negative, -4, 300)\n",
        "#plt.fill_between(shade2, kde(shade2), alpha=0.45, color='dodgerblue')\n",
        "plt.title(\"Sampling Distribution for Two-Tailed Hypothesis Test\", y=1.15, fontsize=20)\n",
        "plt.xlabel(\"sample mean value\", labelpad=14)\n",
        "plt.ylabel(\"frequency of occurence\", labelpad=14);"
      ],
      "execution_count": null,
      "outputs": [
        {
          "output_type": "display_data",
          "data": {
            "image/png": "[encoded data removed]",
            "text/plain": [
              "<Figure size 432x288 with 1 Axes>"
            ]
          },
          "metadata": {
            "needs_background": "light"
          }
        }
      ]
    },
    {
      "cell_type": "markdown",
      "metadata": {
        "id": "x87JsQiEszM7"
      },
      "source": [
        "#### **b. Sampling Distribution for Lower-Tailed Test**\n",
        "\n",
        "$H_0$ : $\\mu$ = $\\mu_0$\n",
        "\n",
        "$H_1$ : $\\mu$ $\\gt$ $\\mu_0$\n",
        "\n",
        "$\\alpha$ = 0.05"
      ]
    },
    {
      "cell_type": "code",
      "metadata": {
        "id": "dsf5gJtapjuP",
        "colab": {
          "base_uri": "https://localhost:8080/",
          "height": 343
        },
        "outputId": "c98b81f0-4419-4d78-9af1-3f5f5d5beba8"
      },
      "source": [
        "#@title\n",
        "values = np.random.normal(loc=0, scale=1, size=6000)\n",
        "two_std_from_mean = np.mean(values) - np.std(values)*1.645\n",
        "kde = stats.gaussian_kde(values)\n",
        "pos = np.linspace(np.min(values), np.max(values))\n",
        "plt.plot(pos, kde(pos), color='dodgerblue')\n",
        "shade = np.linspace(two_std_from_mean, -4, 300)\n",
        "plt.fill_between(shade, kde(shade), alpha=0.45, color='dodgerblue')\n",
        "plt.title(\"Sampling Distribution for Lower-Tailed Hypothesis Test\", y=1.15, fontsize=20)\n",
        "plt.xlabel(\"sample mean value\", labelpad=14)\n",
        "plt.ylabel(\"frequency of occurence\", labelpad=14);"
      ],
      "execution_count": null,
      "outputs": [
        {
          "output_type": "display_data",
          "data": {
            "image/png": "[encoded data removed]",
            "text/plain": [
              "<Figure size 432x288 with 1 Axes>"
            ]
          },
          "metadata": {
            "needs_background": "light"
          }
        }
      ]
    },
    {
      "cell_type": "markdown",
      "metadata": {
        "id": "vqoCsOTet4cc"
      },
      "source": [
        "#### **c. Sampling Distribution for Upper-Tailed Test**\n",
        "\n",
        "$H_0$ : $\\mu$ = $\\mu_0$\n",
        "\n",
        "$H_1$ : $\\mu$ $\\lt$ $\\mu_0$"
      ]
    },
    {
      "cell_type": "code",
      "metadata": {
        "id": "md4lny4Vtyl4",
        "colab": {
          "base_uri": "https://localhost:8080/",
          "height": 343
        },
        "outputId": "95051eaa-eec2-4d08-8e4d-8b65b2f0d674"
      },
      "source": [
        "#@title\n",
        "values = np.random.normal(loc=0, scale=1, size=6000)\n",
        "two_std_from_mean = np.mean(values) + np.std(values)*1.645\n",
        "kde = stats.gaussian_kde(values)\n",
        "pos = np.linspace(np.min(values), np.max(values))\n",
        "plt.plot(pos, kde(pos), color='dodgerblue')\n",
        "shade = np.linspace(two_std_from_mean, 4, 300)\n",
        "plt.fill_between(shade, kde(shade), alpha=0.45, color='dodgerblue')\n",
        "plt.title(\"Sampling Distribution for Upper-Tailed Hypothesis Test\", y=1.15, fontsize=20)\n",
        "plt.xlabel(\"sample mean value\", labelpad=14)\n",
        "plt.ylabel(\"frequency of occurence\", labelpad=14);"
      ],
      "execution_count": null,
      "outputs": [
        {
          "output_type": "display_data",
          "data": {
            "image/png": "[encoded data removed]",
            "text/plain": [
              "<Figure size 432x288 with 1 Axes>"
            ]
          },
          "metadata": {
            "needs_background": "light"
          }
        }
      ]
    },
    {
      "cell_type": "markdown",
      "metadata": {
        "id": "jiKBwpYpG8-b"
      },
      "source": [
        "### **4 & 5. Determine the appropriate test statistics & Calculate test statistics**\n",
        "\n",
        "> #### **Z-test**\n",
        "\n",
        "Assume that variance $\\sigma^2$ of population is **known**. The reference distribution is **z-distribution** and test statistics is **z-test**. \n",
        "<p align = \"center\"> $Z_0$ = $\\frac{\\bar{X}-\\mu_0}{\\sigma/\\sqrt{n}}$ </p>\n",
        "\n",
        "* **$\\sigma$** : population standard deviation\n",
        "* **n** : sample size\n",
        "\n",
        "\n",
        "**Standard Error** : SE = $\\frac{\\sigma}{\\sqrt{n}}$\n",
        "\n",
        "\n",
        "\n",
        "\n",
        "> #### **T-test**\n",
        "\n",
        "Suppose we wish to test hypothesis on the mean of a population with **unknown variance** $\\sigma^2$:\n",
        "\n",
        "\n",
        "The test procedure relies where $X_1$, $X_2$, $X_3$,..., $X_n$ is a random sample from a normal distribution with mean $\\mu$ and variance $\\sigma^2$. The reference distribution is **t-distribution** and test statistics is **t-test**. The random variable has a t-distribution with ***n-1*** degrees of freedom.\n",
        "\n",
        "<p align = \"center\"> $T_0 = \\frac{\\bar{X}-\\mu_0}{S/\\sqrt{n}}$\n",
        "\n",
        "\n"
      ]
    },
    {
      "cell_type": "markdown",
      "metadata": {
        "id": "g-ZYAVc5kBzG"
      },
      "source": [
        "### **6 & 7. Calculate rejection criteria and compute p-value & Make statistical decision and interpret results**\n",
        "\n",
        "Critical regions can be presented as test statistics (*z-test or t-test*) or in the computed value of the sample mean $\\bar{x}$.\n",
        "\n",
        "> **Z-test**\n",
        "\n",
        "<p align = \"center\"> Acceptance region: $-z_{\\alpha/2} \\le z_0 \\le z_{\\alpha/2}$\n",
        "\n",
        "<p align = \"center\"> Confidence interval: $\\mu_0 - z_{\\alpha/2}\\sigma/\\sqrt{n} \\le \\mu \\le \\mu_0 + z_{\\alpha/2}\\sigma/\\sqrt{n}$\n",
        "\n",
        "> **T-test**\n",
        "\n",
        "<p align = \"center\"> Acceptance region: $-t_{\\alpha/2, n-1} \\le t_0 \\le t_{\\alpha/2, n-1}$\n",
        "\n",
        "<p align = \"center\"> Confidence interval: $\\mu_0 - t_{\\alpha/2, n-1}s\\sqrt{n} \\le \\mu \\le \\mu_0 + t_{\\alpha/2, n-1}s/\\sqrt{n}$\n",
        "\n",
        "\\\n",
        "\n",
        "*p-value* is the observed significance level. It conveys information about the weight of evidence against the null hypothesis  $𝐻_0$. Therefore, we can draw conclusions at any specified significance level and mitigate the risk of  𝛼.\n",
        "\n",
        "> **p-value for Z-test**\n",
        "\n",
        "<p align = \"center\"> P = 2*P(1- $\\Phi(|z_0|))$\n",
        "\n",
        "> **p-value for T-test**\n",
        "\n",
        "<p align = \"center\"> P = 2*P($T_{n-1} \\gt |t_0|)$\n",
        "\n",
        "\\\n",
        "![image.png](data:image/png;base64,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)\n",
        "\n",
        "\\\n",
        "\n",
        "![image.png](data:image/png;base64,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)\n"
      ]
    },
    {
      "cell_type": "markdown",
      "metadata": {
        "id": "5z7uJdQBpjYf"
      },
      "source": [
        "## **Example 1**\n",
        "<p align = \"justify\"> A manufacturer produces crankshafts for an automobile engine. The wear of the crankshaft after 100,000 miles (0.0001 inch) is of interest because it is likely to have an impact on warranty claims. A random sample of n=15 shafts is tested and $\\bar{x}$ = 2.78. The variance is known. $\\sigma$ = 0.9 and that wear is normally distributed. </p>"
      ]
    },
    {
      "cell_type": "markdown",
      "metadata": {
        "id": "cv61XxCRsSm-"
      },
      "source": [
        "##### a) Test $H_0$: $\\mu$ = 3 versus $H_1$= $\\mu$ $\\ne$ 3 using $\\alpha$ = 0.05.\n",
        "\n",
        "\n"
      ]
    },
    {
      "cell_type": "markdown",
      "metadata": {
        "id": "9Ve2lkeU07A4"
      },
      "source": [
        "> We first **identify the parameters**:\n",
        "\n",
        "> n = 15\n",
        "\n",
        "> $\\sigma$ = 0.9\n",
        "\n",
        "> $\\bar{x}$ = 2.78\n"
      ]
    },
    {
      "cell_type": "code",
      "metadata": {
        "id": "Lptnp_MVmaEN"
      },
      "source": [
        "x_bar = 2.78\n",
        "m = 3\n",
        "std = 0.9\n",
        "n = 15"
      ],
      "execution_count": null,
      "outputs": []
    },
    {
      "cell_type": "markdown",
      "metadata": {
        "id": "hDI2GW3y0jVt"
      },
      "source": [
        "\n",
        "> Then we **state the null and alternative hypotheses**:\n",
        "\n",
        "> $H_0$: $\\mu$ = 3 \n",
        "\n",
        "> $H_1$= $\\mu$ $\\ne$ 3\n",
        "\n",
        "> The significance level of the test (*$\\alpha$*) is given as 0.05.\n",
        "\n",
        "> Since the variance is known, we apply z-test *(test statistics)*\n",
        "\n",
        "> $Z_0$ = $\\frac{\\bar{X}-\\mu_0}{SE}$\n",
        "\n",
        "\\\n",
        "\n",
        "> **Now let's find test statistics.**\n"
      ]
    },
    {
      "cell_type": "markdown",
      "metadata": {
        "id": "12x-opr04zgF"
      },
      "source": [
        "> First, we find SE:\n",
        "\n",
        "> SE = $\\frac{\\sigma}{\\sqrt{n}}$"
      ]
    },
    {
      "cell_type": "code",
      "metadata": {
        "id": "PEdOaVmFmmID"
      },
      "source": [
        "SE=std/math.sqrt(n)"
      ],
      "execution_count": null,
      "outputs": []
    },
    {
      "cell_type": "markdown",
      "metadata": {
        "id": "0cziDH5umpx8"
      },
      "source": [
        "> Then, z-distribution:"
      ]
    },
    {
      "cell_type": "code",
      "metadata": {
        "id": "VvY2NVlUsRO9",
        "colab": {
          "base_uri": "https://localhost:8080/"
        },
        "outputId": "32e658b8-f5da-448c-9ad5-ebb2288cb7c2"
      },
      "source": [
        "z0=(x_bar-m)/SE\n",
        "z0"
      ],
      "execution_count": null,
      "outputs": [
        {
          "output_type": "execute_result",
          "data": {
            "text/plain": [
              "-0.9467292624062583"
            ]
          },
          "metadata": {},
          "execution_count": 8
        }
      ]
    },
    {
      "cell_type": "markdown",
      "metadata": {
        "id": "at1P_sTF487R"
      },
      "source": [
        " **Let's find critical values and the acceptance region**\n",
        "\n",
        " > **Z-test**\n",
        "\n",
        "<p align = \"center\"> Acceptance region: $-z_{\\alpha/2} \\le z_0 \\le z_{\\alpha/2}$\n",
        "\n",
        "<p align = \"center\"> Confidence interval: $\\mu_0 - z_{\\alpha/2}\\sigma/\\sqrt{n} \\le \\mu \\le \\mu_0 + z_{\\alpha/2}\\sigma/\\sqrt{n}$\n"
      ]
    },
    {
      "cell_type": "code",
      "metadata": {
        "id": "Xahpo_cQ12ZR",
        "colab": {
          "base_uri": "https://localhost:8080/"
        },
        "outputId": "8526253a-4c12-4677-e89e-2e273498c995"
      },
      "source": [
        "#@title\n",
        "if (z0 > -(norm.ppf(0.025)) and z0 < norm.ppf(0.025)):\n",
        "    Hypothesis_Status = 'Reject Null Hypothesis : Significant'\n",
        "else:\n",
        "    Hypothesis_Status = 'Do not reject Null Hypothesis : Not Significant'\n",
        "\n",
        "print(Hypothesis_Status)\n",
        "\n",
        "z_positive = m + (abs(norm.ppf(0.025))*SE)\n",
        "z_negative = m - (abs(norm.ppf(0.025))*SE)\n",
        "print('Confidence interval is between', z_negative, 'and', z_positive,'.')"
      ],
      "execution_count": null,
      "outputs": [
        {
          "output_type": "stream",
          "name": "stdout",
          "text": [
            "Do not reject Null Hypothesis : Not Significant\n",
            "Confidence interval is between 2.5445455277226023 and 3.4554544722773977 .\n"
          ]
        }
      ]
    },
    {
      "cell_type": "markdown",
      "metadata": {
        "id": "n49-Xkgq_OBa"
      },
      "source": [
        "***Critical values*** are ***2.54*** and ***3.45***\n",
        "\n",
        "***Acceptance region*** is within ***$2.54 \\lt \\bar{x} \\lt 3.45$*** --> Fail to Reject $H_0$\n",
        "\n",
        "Result: Fail to Reject."
      ]
    },
    {
      "cell_type": "markdown",
      "metadata": {
        "id": "iWZ3eNdd5Irj"
      },
      "source": [
        "**Let's find *p*-value**\n",
        "\n",
        "> **p-value for Z-test**\n",
        "\n",
        "<p align = \"center\"> P = 2*P(1- $\\Phi(|z_0|))$"
      ]
    },
    {
      "cell_type": "code",
      "metadata": {
        "id": "zAV9KhDN4yFt",
        "colab": {
          "base_uri": "https://localhost:8080/"
        },
        "outputId": "b2df577b-4c2b-4c9b-d104-eae2db905161"
      },
      "source": [
        "#@title\n",
        "#p_value = round(1-stats.norm.cdf(z0), 3)\n",
        "pvalue = 2*(1 - norm.cdf(abs(z0)))\n",
        "print(pvalue)\n",
        "if (pvalue < 0.05):\n",
        "    Hypothesis_Status = 'Reject Null Hypothesis : Significant'\n",
        "else:\n",
        "    Hypothesis_Status = 'Do not reject Null Hypothesis : Not Significant'\n",
        "print(Hypothesis_Status)"
      ],
      "execution_count": null,
      "outputs": [
        {
          "output_type": "stream",
          "name": "stdout",
          "text": [
            "0.3437767552983577\n",
            "Do not reject Null Hypothesis : Not Significant\n"
          ]
        }
      ]
    },
    {
      "cell_type": "markdown",
      "metadata": {
        "id": "wcSDgBco_2tT"
      },
      "source": [
        "*p*-value $\\gt$ 0.05. Fail to reject $H_0$"
      ]
    },
    {
      "cell_type": "code",
      "metadata": {
        "id": "BQl8FiOI261_",
        "colab": {
          "base_uri": "https://localhost:8080/",
          "height": 343
        },
        "outputId": "8ce3ed08-4485-4566-c626-e64fb143add5"
      },
      "source": [
        "#@title\n",
        "sample_means = np.random.normal(loc=3, scale=0.9, size=10000)\n",
        "kde = stats.gaussian_kde(sample_means)\n",
        "pos = np.linspace(np.min(sample_means), np.max(sample_means), 10000)\n",
        "plt.plot(pos, kde(pos), color='darkviolet')\n",
        "shade = np.linspace(z_positive, 6,15)\n",
        "plt.fill_between(shade, kde(shade), alpha=0.45, color='darkviolet')\n",
        "shade2 = np.linspace(0, z_negative, 15)\n",
        "plt.fill_between(shade2, kde(shade2), alpha=0.45, color='darkviolet')\n",
        "plt.axvline(x=2.78, linestyle='--', linewidth=2.5, label=\"sample mean with n = 15 shafts\", c='purple')\n",
        "plt.title(\"Sampling Distribution\", y=1.15, fontsize=20)\n",
        "plt.xlabel(\"sample mean\", labelpad=14)\n",
        "plt.ylabel(\"probability of occurence\", labelpad=14)\n",
        "plt.legend();"
      ],
      "execution_count": null,
      "outputs": [
        {
          "output_type": "display_data",
          "data": {
            "image/png": "[encoded data removed]",
            "text/plain": [
              "<Figure size 432x288 with 1 Axes>"
            ]
          },
          "metadata": {
            "needs_background": "light"
          }
        }
      ]
    },
    {
      "cell_type": "markdown",
      "metadata": {
        "id": "XAV7MiXD8zsa"
      },
      "source": [
        "##### b) What is the power of this test if $\\mu$ = 3.25?"
      ]
    },
    {
      "cell_type": "markdown",
      "metadata": {
        "id": "uRNPHiAVBvST"
      },
      "source": [
        "> Suppose the null hypothesis $H_0$ is false and the true value of the mean is\n",
        "\n",
        "> $\\mu = \\mu_0 + \\delta$, where $\\delta \\gt 0$.\n",
        "\n",
        "> Then, the z-distribution ($Z_0$) when $H_1$ is true:\n",
        "\n",
        "> $Z_0$ ~ $N(\\frac{\\delta\\sqrt{n}}{\\sigma}, 1)$"
      ]
    },
    {
      "cell_type": "markdown",
      "metadata": {
        "id": "eJXMHFe_9GJm"
      },
      "source": [
        "> If we know the true mean of the population, we can find the power of test as:\n",
        "\n",
        "> **Power** = 1- $\\beta$\n",
        "\n",
        "> Knowing the true value of the population mean, the $\\beta$-error will also be revised as:\n",
        "\n",
        "> $\\beta = \\Phi$ $(z_{\\alpha/2}- \\frac{\\delta\\sqrt{n}}{\\sigma}) - \\Phi$ $(-z_{\\alpha/2} - \\frac{\\delta\\sqrt{n}}{\\sigma})$"
      ]
    },
    {
      "cell_type": "markdown",
      "metadata": {
        "id": "MHRqWa0s-YUb"
      },
      "source": [
        "Given that the significance level $\\alpha$ = 0.05:"
      ]
    },
    {
      "cell_type": "code",
      "metadata": {
        "id": "6-GVT2ve26r1",
        "collapsed": true,
        "colab": {
          "base_uri": "https://localhost:8080/"
        },
        "outputId": "3defac39-34c4-4145-8429-9e409103dbc5"
      },
      "source": [
        "#@title\n",
        "zp_critical = norm.ppf(0.025)-(((3.25-3)*math.sqrt(15))/0.9)\n",
        "zn_critical = -(norm.ppf(0.025))-(((3.25-3)*math.sqrt(15))/0.9)\n",
        "zp_new = norm.cdf(abs(zp_critical))\n",
        "zn_new = norm.cdf(abs(zn_critical))\n",
        "beta = zp_new - zn_new\n",
        "power = 1-beta\n",
        "print(beta, power)"
      ],
      "execution_count": null,
      "outputs": [
        {
          "output_type": "stream",
          "name": "stdout",
          "text": [
            "0.18711207465963453 0.8128879253403655\n"
          ]
        }
      ]
    },
    {
      "cell_type": "markdown",
      "metadata": {
        "id": "3wPp5ZgNNeaw"
      },
      "source": [
        "The probability of correctly rejecting a false null hypothesis is ~0.81 when $\\mu$ = 3.25 and n = 15."
      ]
    },
    {
      "cell_type": "markdown",
      "metadata": {
        "id": "c1Rv2-CePDi2"
      },
      "source": [
        "> The probability of Type II error ($\\beta$) depends on the choice of sample size. Change in sample size will increase the power of the test.\n",
        "\n",
        "> n = $\\frac{(z_{\\alpha/2}+z_{\\beta})^2\\sigma^2}{\\delta^2}$"
      ]
    },
    {
      "cell_type": "markdown",
      "metadata": {
        "id": "TLGDcsOFQsg8"
      },
      "source": [
        "> n = $\\frac{(z_{0.025}+z_{0.10})^2\\sigma^2}{\\delta^2}$"
      ]
    },
    {
      "cell_type": "markdown",
      "metadata": {
        "id": "DLF7D-3cWZHC"
      },
      "source": [
        "## **Example 2**\n",
        "\n",
        "Test of $\\mu$\u0005= 12 vs $\\mu \\ne$ 12\n",
        "\n",
        "    |Variable  | N  |  Mean   |  StDev  |  SE Mean  |   T   |   P  |\n",
        "    |----------|----|---------|---------|-----------|-------|------|\n",
        "    |x         | 10 |  12.564 |  ?      |  0.296    |   ?   |   ?  |"
      ]
    },
    {
      "cell_type": "markdown",
      "metadata": {
        "id": "AZn5aBGReX24"
      },
      "source": [
        "##### a) Is this is a one-sided or two-sided test?"
      ]
    },
    {
      "cell_type": "code",
      "metadata": {
        "id": "HqHd1m_TR_xT"
      },
      "source": [
        "Two sided"
      ],
      "execution_count": null,
      "outputs": []
    },
    {
      "cell_type": "markdown",
      "metadata": {
        "id": "AZUE1E4zcmf_"
      },
      "source": [
        "##### b) How many degrees of freedom are there on the t-test statistics?"
      ]
    },
    {
      "cell_type": "markdown",
      "metadata": {
        "id": "dk-_zA0tcu7k"
      },
      "source": [
        "n-1 = 9"
      ]
    },
    {
      "cell_type": "markdown",
      "metadata": {
        "id": "CUBzB93ecxzN"
      },
      "source": [
        "##### c) Fill in the missing values. What conclusion would you draw?"
      ]
    },
    {
      "cell_type": "markdown",
      "metadata": {
        "id": "jg6x1jeT-1il"
      },
      "source": [
        "> **Let's identify the test parameters**\n",
        "\n",
        "> n : sample size\n",
        "\n",
        "> $\\bar{x}$ : sample mean\n",
        "\n",
        "> S : Sample standard deviation\n",
        "\n",
        "> SE ($S_{\\bar{x}}$) : Estimated standard error (SE) of the mean"
      ]
    },
    {
      "cell_type": "code",
      "metadata": {
        "id": "4o2Zhwvt3Oxd"
      },
      "source": [
        ""
      ],
      "execution_count": null,
      "outputs": []
    },
    {
      "cell_type": "code",
      "metadata": {
        "id": "30ozBKpNc6Sk"
      },
      "source": [
        ""
      ],
      "execution_count": null,
      "outputs": []
    },
    {
      "cell_type": "markdown",
      "metadata": {
        "id": "1mciUeBodJhf"
      },
      "source": [
        "\n",
        "\n",
        "$SE = \\frac{S}{\\sqrt{n}}$"
      ]
    },
    {
      "cell_type": "code",
      "metadata": {
        "id": "OqY77vR4dHwi"
      },
      "source": [
        ""
      ],
      "execution_count": null,
      "outputs": []
    },
    {
      "cell_type": "markdown",
      "metadata": {
        "id": "AhKmyU-CeyO7"
      },
      "source": [
        "$T_0 = \\frac{\\bar{X}-\\mu_0}{S/\\sqrt{n}}$"
      ]
    },
    {
      "cell_type": "code",
      "metadata": {
        "id": "C6lvxw7EOz5M"
      },
      "source": [
        ""
      ],
      "execution_count": null,
      "outputs": []
    },
    {
      "cell_type": "code",
      "metadata": {
        "id": "v7uOG7yAevDW"
      },
      "source": [
        "t0 = (x_bar-mu)/(se_mean)\n",
        "p_value = 2*(1- stats.t.cdf(t0,dof))\n",
        "\n",
        "print(t0, p_value)\n",
        "\n",
        "stats.t.ppf(0.005,16)"
      ],
      "execution_count": null,
      "outputs": []
    },
    {
      "cell_type": "markdown",
      "metadata": {
        "id": "26Ozlgoeby-4"
      },
      "source": [
        "Let's find the two-sided confidence interval on the mean.\n",
        "\n",
        "<p align = \"center\"> Confidence interval: $\\mu_0 - t_{\\alpha/2, n-1}s\\sqrt{n} \\le \\mu \\le \\mu_0 + t_{\\alpha/2, n-1}s/\\sqrt{n}$"
      ]
    },
    {
      "cell_type": "code",
      "metadata": {
        "id": "w0ltIbqfohbo"
      },
      "source": [
        "t_negative = mu - (abs(stats.t.ppf(0.025,9))*SE)\n",
        "t_positive = mu + (abs(stats.t.ppf(0.025,9))*SE)\n",
        "print(t_negative, t_positive)"
      ],
      "execution_count": null,
      "outputs": []
    },
    {
      "cell_type": "markdown",
      "metadata": {
        "id": "FmhLszeInBHR"
      },
      "source": [
        "## **Empirical Analysis**\n",
        "\n",
        "In many real-life problems, the relationship between variables is not deterministic and cannot be predicted perfectly.\n",
        "\n",
        "\n",
        "The collection of statistical tools to explore relationships between variables that are related to a nondeterministic manner is called **regression analysis**. The widely-used regression analysis techniques:\n",
        "1. Simple Linear Regression - *one predictor variable and a response variable*\n",
        "2. Multiple Linear Regression - *multiple predictor variables and a response variable*\n",
        "\n"
      ]
    },
    {
      "cell_type": "markdown",
      "metadata": {
        "id": "6lTyWvCkouJI"
      },
      "source": [
        "### **Simple Linear Regression**\n",
        "\n",
        "> A single regressor x (*predictor*) and a dependent y (*response*) variable.\n",
        "\n",
        "Suppose there is a true relationship between x and y on a straight line, where the observation of y at each level of x is a random variable.\n",
        "\n",
        "<p align = \"center\"> E(Y|x) = $\\beta_0 + \\beta_1x$ </p>\n",
        "\n",
        "> $\\beta_0$ and $\\beta_1$ are unknown regression coefficients.\n",
        "\n",
        "> $\\epsilon$ is a random variable with $\\mu = 0$ and unknown variance $\\sigma^2$. Random errors are uncorrelated random variables.\n",
        "\n",
        "Regression coefficients should result in a line that is a \"best fit\" to the data. Assume sample size is n, then each pair of observation x and y will satisfy:\n",
        "\n",
        "<p align = \"center\">  $y_i = \\hat{\\beta_0} + \\hat{\\beta_1}x_i + \\epsilon_i,          i = 1,2,..n $\n",
        "\n",
        "> **The fitted regression line:**\n",
        "\n",
        "<p align = \"center\">  $\\hat{y} = \\hat{\\beta_0} + \\hat{\\beta_1}x$\n",
        "\n",
        "Therefore, the **residual** : $\\epsilon_i = y_i - \\hat{y}_i$. The residual describes the error in the fit of the model for each observation *i*. "
      ]
    },
    {
      "cell_type": "markdown",
      "metadata": {
        "id": "hK2ARUZWNna1"
      },
      "source": [
        "### **Multiple Linear Regression**\n",
        "\n",
        "> Multiple regressor variables (*$x_1, x_2,...,x_k$*) and one response variable *y*.\n",
        "\n",
        "Similar to the simple linear regression equation, the multiple linear regression with *k* variables can be shown as: \n",
        "\n",
        "<p align = \"center\">  $Y = \\hat{\\beta_0} + \\hat{\\beta_1}x_1 + \\hat{\\beta_2}x_2 + ...+ \\hat{\\beta_k}x_k + \\epsilon$\n",
        "\n",
        "In this regression model, we may also combine regressors to assess their interaction effects in the model. For example:\n",
        "\n",
        "<p align = \"center\">  $Y = \\hat{\\beta_0} + \\hat{\\beta_1}x_1 + \\hat{\\beta_{1,2}}x_1x_2 + \\epsilon$\n",
        "\n",
        "Consider that we have n observation (*sample size*) and k variable. We should consider the multiple regression in a matrix format since there are multiple observations for multiple variables. Then each pair of observations will satisfy: \n",
        "\n",
        "<p align = \"center\"> $y_i = \\hat{\\beta_0} + \\hat{\\beta_1}x_{i,1} + \\hat{\\beta_2}x_{i,2} + ...+ \\hat{\\beta_k}x_{i,k} + \\epsilon_i, i = 1,2,...n$\n",
        "\n",
        "<p align = \"center\"> $y_i = \\beta_0 + \\sum_{j=1}^k \\beta_jx_{i,j} + \\epsilon_i, i = 1,2,...n$\n"
      ]
    },
    {
      "cell_type": "markdown",
      "metadata": {
        "id": "HiJd2qe89lXx"
      },
      "source": [
        "#### **Example 3**\n",
        "Let's focus on a simple dataset:"
      ]
    },
    {
      "cell_type": "markdown",
      "metadata": {
        "id": "y5Aozdxr-jbg"
      },
      "source": [
        "Assume that we have MPG performance and engine displacement for a sample of n = 20 cars. "
      ]
    },
    {
      "cell_type": "code",
      "metadata": {
        "id": "Muk3To7H9-kY"
      },
      "source": [
        "cars = {'Make - Model':['Acura - Legend','BMW - 735i','Buick - Regal', 'Chevrolet - Cavalier','Chevrolet - Celebrity', 'Chrysler - Conquest', 'Dodge - Aries', \n",
        "                 'Dodge - Dynasty', 'Ford - Escort', 'Ford - Mustang', 'Ford - Taurus', 'Ford - Tempo', 'Honda - Accord', \n",
        "                 'Mazda - RX-7', 'Mercedes - 260E', 'Mercury - Tracer', 'Nissan - Maxima', 'Oldsmobile - Cutlass', \n",
        "                 'Plymouth - Laser', 'Pontiac - Grand Prix'],\n",
        "        'MPG':[30,19,29,32,30,24,30,28,31,25,27,33,30,23,24,29,26,29,37,29],\n",
        "        'EngDis':[97,209,173,121,151,156,135,181,114,302,153,90,119,80,159,97,181,173,122,173]}"
      ],
      "execution_count": null,
      "outputs": []
    },
    {
      "cell_type": "code",
      "metadata": {
        "id": "8Xh4Xf8iIMZR",
        "colab": {
          "base_uri": "https://localhost:8080/",
          "height": 669
        },
        "outputId": "5454e0a2-e6ab-48c4-abb1-93f6fd761224"
      },
      "source": [
        "cars_df=pd.DataFrame(cars)\n",
        "cars_df"
      ],
      "execution_count": null,
      "outputs": [
        {
          "output_type": "execute_result",
          "data": {
            "text/html": [
              "<div>\n",
              "<style scoped>\n",
              "    .dataframe tbody tr th:only-of-type {\n",
              "        vertical-align: middle;\n",
              "    }\n",
              "\n",
              "    .dataframe tbody tr th {\n",
              "        vertical-align: top;\n",
              "    }\n",
              "\n",
              "    .dataframe thead th {\n",
              "        text-align: right;\n",
              "    }\n",
              "</style>\n",
              "<table border=\"1\" class=\"dataframe\">\n",
              "  <thead>\n",
              "    <tr style=\"text-align: right;\">\n",
              "      <th></th>\n",
              "      <th>Make - Model</th>\n",
              "      <th>MPG</th>\n",
              "      <th>EngDis</th>\n",
              "    </tr>\n",
              "  </thead>\n",
              "  <tbody>\n",
              "    <tr>\n",
              "      <th>0</th>\n",
              "      <td>Acura - Legend</td>\n",
              "      <td>30</td>\n",
              "      <td>97</td>\n",
              "    </tr>\n",
              "    <tr>\n",
              "      <th>1</th>\n",
              "      <td>BMW - 735i</td>\n",
              "      <td>19</td>\n",
              "      <td>209</td>\n",
              "    </tr>\n",
              "    <tr>\n",
              "      <th>2</th>\n",
              "      <td>Buick - Regal</td>\n",
              "      <td>29</td>\n",
              "      <td>173</td>\n",
              "    </tr>\n",
              "    <tr>\n",
              "      <th>3</th>\n",
              "      <td>Chevrolet - Cavalier</td>\n",
              "      <td>32</td>\n",
              "      <td>121</td>\n",
              "    </tr>\n",
              "    <tr>\n",
              "      <th>4</th>\n",
              "      <td>Chevrolet - Celebrity</td>\n",
              "      <td>30</td>\n",
              "      <td>151</td>\n",
              "    </tr>\n",
              "    <tr>\n",
              "      <th>5</th>\n",
              "      <td>Chrysler - Conquest</td>\n",
              "      <td>24</td>\n",
              "      <td>156</td>\n",
              "    </tr>\n",
              "    <tr>\n",
              "      <th>6</th>\n",
              "      <td>Dodge - Aries</td>\n",
              "      <td>30</td>\n",
              "      <td>135</td>\n",
              "    </tr>\n",
              "    <tr>\n",
              "      <th>7</th>\n",
              "      <td>Dodge - Dynasty</td>\n",
              "      <td>28</td>\n",
              "      <td>181</td>\n",
              "    </tr>\n",
              "    <tr>\n",
              "      <th>8</th>\n",
              "      <td>Ford - Escort</td>\n",
              "      <td>31</td>\n",
              "      <td>114</td>\n",
              "    </tr>\n",
              "    <tr>\n",
              "      <th>9</th>\n",
              "      <td>Ford - Mustang</td>\n",
              "      <td>25</td>\n",
              "      <td>302</td>\n",
              "    </tr>\n",
              "    <tr>\n",
              "      <th>10</th>\n",
              "      <td>Ford - Taurus</td>\n",
              "      <td>27</td>\n",
              "      <td>153</td>\n",
              "    </tr>\n",
              "    <tr>\n",
              "      <th>11</th>\n",
              "      <td>Ford - Tempo</td>\n",
              "      <td>33</td>\n",
              "      <td>90</td>\n",
              "    </tr>\n",
              "    <tr>\n",
              "      <th>12</th>\n",
              "      <td>Honda - Accord</td>\n",
              "      <td>30</td>\n",
              "      <td>119</td>\n",
              "    </tr>\n",
              "    <tr>\n",
              "      <th>13</th>\n",
              "      <td>Mazda - RX-7</td>\n",
              "      <td>23</td>\n",
              "      <td>80</td>\n",
              "    </tr>\n",
              "    <tr>\n",
              "      <th>14</th>\n",
              "      <td>Mercedes - 260E</td>\n",
              "      <td>24</td>\n",
              "      <td>159</td>\n",
              "    </tr>\n",
              "    <tr>\n",
              "      <th>15</th>\n",
              "      <td>Mercury - Tracer</td>\n",
              "      <td>29</td>\n",
              "      <td>97</td>\n",
              "    </tr>\n",
              "    <tr>\n",
              "      <th>16</th>\n",
              "      <td>Nissan - Maxima</td>\n",
              "      <td>26</td>\n",
              "      <td>181</td>\n",
              "    </tr>\n",
              "    <tr>\n",
              "      <th>17</th>\n",
              "      <td>Oldsmobile - Cutlass</td>\n",
              "      <td>29</td>\n",
              "      <td>173</td>\n",
              "    </tr>\n",
              "    <tr>\n",
              "      <th>18</th>\n",
              "      <td>Plymouth - Laser</td>\n",
              "      <td>37</td>\n",
              "      <td>122</td>\n",
              "    </tr>\n",
              "    <tr>\n",
              "      <th>19</th>\n",
              "      <td>Pontiac - Grand Prix</td>\n",
              "      <td>29</td>\n",
              "      <td>173</td>\n",
              "    </tr>\n",
              "  </tbody>\n",
              "</table>\n",
              "</div>"
            ],
            "text/plain": [
              "             Make - Model  MPG  EngDis\n",
              "0          Acura - Legend   30      97\n",
              "1              BMW - 735i   19     209\n",
              "2           Buick - Regal   29     173\n",
              "3    Chevrolet - Cavalier   32     121\n",
              "4   Chevrolet - Celebrity   30     151\n",
              "5     Chrysler - Conquest   24     156\n",
              "6           Dodge - Aries   30     135\n",
              "7         Dodge - Dynasty   28     181\n",
              "8           Ford - Escort   31     114\n",
              "9          Ford - Mustang   25     302\n",
              "10          Ford - Taurus   27     153\n",
              "11           Ford - Tempo   33      90\n",
              "12         Honda - Accord   30     119\n",
              "13           Mazda - RX-7   23      80\n",
              "14        Mercedes - 260E   24     159\n",
              "15       Mercury - Tracer   29      97\n",
              "16        Nissan - Maxima   26     181\n",
              "17   Oldsmobile - Cutlass   29     173\n",
              "18       Plymouth - Laser   37     122\n",
              "19   Pontiac - Grand Prix   29     173"
            ]
          },
          "metadata": {},
          "execution_count": 13
        }
      ]
    },
    {
      "cell_type": "markdown",
      "metadata": {
        "id": "eZlF4uuaw6Ab"
      },
      "source": [
        ""
      ]
    },
    {
      "cell_type": "markdown",
      "metadata": {
        "id": "cUjvPEpjDwLb"
      },
      "source": [
        "##### **What are the regression coefficients?**"
      ]
    },
    {
      "cell_type": "code",
      "metadata": {
        "id": "-kYvpDCCL9FR",
        "colab": {
          "base_uri": "https://localhost:8080/"
        },
        "outputId": "03f78801-87cb-4894-bb00-42d95397ed0c"
      },
      "source": [
        "x=cars_df.EngDis\n",
        "y=cars_df.MPG\n",
        "X=sm.add_constant(x)\n",
        "slr=sm.OLS(y,X).fit()\n",
        "print(slr.summary())"
      ],
      "execution_count": null,
      "outputs": [
        {
          "output_type": "stream",
          "name": "stdout",
          "text": [
            "                            OLS Regression Results                            \n",
            "==============================================================================\n",
            "Dep. Variable:                    MPG   R-squared:                       0.201\n",
            "Model:                            OLS   Adj. R-squared:                  0.157\n",
            "Method:                 Least Squares   F-statistic:                     4.532\n",
            "Date:                Wed, 08 Sep 2021   Prob (F-statistic):             0.0473\n",
            "Time:                        04:30:21   Log-Likelihood:                -53.272\n",
            "No. Observations:                  20   AIC:                             110.5\n",
            "Df Residuals:                      18   BIC:                             112.5\n",
            "Df Model:                           1                                         \n",
            "Covariance Type:            nonrobust                                         \n",
            "==============================================================================\n",
            "                 coef    std err          t      P>|t|      [0.025      0.975]\n",
            "------------------------------------------------------------------------------\n",
            "const         33.5348      2.614     12.829      0.000      28.043      39.027\n",
            "EngDis        -0.0354      0.017     -2.129      0.047      -0.070      -0.000\n",
            "==============================================================================\n",
            "Omnibus:                        2.614   Durbin-Watson:                   1.642\n",
            "Prob(Omnibus):                  0.271   Jarque-Bera (JB):                1.072\n",
            "Skew:                          -0.482   Prob(JB):                        0.585\n",
            "Kurtosis:                       3.596   Cond. No.                         502.\n",
            "==============================================================================\n",
            "\n",
            "Warnings:\n",
            "[1] Standard Errors assume that the covariance matrix of the errors is correctly specified.\n"
          ]
        }
      ]
    },
    {
      "cell_type": "code",
      "metadata": {
        "id": "-OD9-Yo_xfld"
      },
      "source": [
        ""
      ],
      "execution_count": null,
      "outputs": []
    },
    {
      "cell_type": "markdown",
      "metadata": {
        "id": "HumFcrs9yJpC"
      },
      "source": [
        "### **Properties of Least Square Estimators:**\n",
        "\n",
        "Regression coefficients that we found in the regression model are the least square estimates of the intercept and slope. They can also be calculated manually. These equations are called as **least squares normal equations**.\n",
        "\n",
        "<p align = \"center\"> $\\hat{\\beta_0} = \\bar{y} - \\hat{b}_1\\bar{x}$\n",
        "\n",
        "<p align = \"center\"> $\\hat{\\beta_1} = \\frac{S_{xx}}{S_{xy}}$ \n",
        "\n",
        "> where, \n",
        "\n",
        "> $S_{xx} = \\sum_{i=1}^n x_i^2 - \\frac{(\\sum_{i=1}^n x_i)^2}{n}$\n",
        "\n",
        "> $S_{xy} = \\sum_{i=1}^n y_ix_i - \\frac{(\\sum_{i=1}^n y_i)(\\sum_{i=1}^n x_i)}{n}$\n",
        "\n",
        "> and \n",
        "\n",
        "> $\\bar{y} = (1/n)\\sum_{i=1}^n y_i$ and $\\bar{x} = (1/n)\\sum_{i=1}^n x_i$\n",
        "\n",
        "Therefore, the fitted regression line:\n",
        "\n",
        "> $\\hat{y} = \\hat{\\beta}_0 + \\hat{\\beta}_1x$, \n",
        "\n",
        "where each pair of observation satisfies:\n",
        "\n",
        "> $y_i = \\hat{\\beta}_0 + \\hat{\\beta}_1x_i + \\epsilon_i$,\n",
        "\n",
        "and the residual equals:\n",
        "\n",
        "> $\\epsilon_i = y_i - \\hat{y}_i$\n",
        "\n",
        "\\\n",
        "\n",
        "Just as in simple linear regression, properties of least square estimators follow similar estimations but in a matrix form."
      ]
    },
    {
      "cell_type": "markdown",
      "metadata": {
        "id": "ZOPHE3BM48-z"
      },
      "source": [
        "**Let's calculate regression coefficients manually:**"
      ]
    },
    {
      "cell_type": "code",
      "metadata": {
        "id": "lB0opEQ0SwTN",
        "colab": {
          "base_uri": "https://localhost:8080/",
          "height": 238
        },
        "outputId": "c91f10f0-69e0-44d8-fa3b-a86acd3d3ae1"
      },
      "source": [
        "import scipy\n",
        "data_size = 20\n",
        "sumx=0\n",
        "sumy=0\n",
        "sumxy=0\n",
        "sumsqx=0\n",
        "\n",
        "for i in range(len(cars_df)):\n",
        "   sumx = cars_df['EngDis'][i]+sumx\n",
        "\n",
        "for i in range(len(cars_df)):\n",
        "   sumsqx = (cars_df['EngDis'][i]**2)+sumsqx\n",
        "\n",
        "for i in range(len(cars_df)):\n",
        "   sumy = cars_df['MPG'][i]+sumy\n",
        "\n",
        "for i in range(len(cars_df)):\n",
        "   sumxy = cars_df['EngDis'][i]*cars_df['MPG'][i]+sumxy\n",
        "\n",
        "sxx = sumsqx-((sumx**2)/data_size)\n",
        "\n",
        "sxy = sumxy - ((sumx*sumy)/data_size)\n",
        "\n",
        "b1= sxy/sxx\n",
        "\n",
        "b0 = (sumy/data_size) - (b1*(sumx/data_size))\n",
        "\n",
        "print(b0, b1, b0+abs(b1))"
      ],
      "execution_count": null,
      "outputs": [
        {
          "output_type": "error",
          "ename": "NameError",
          "evalue": "ignored",
          "traceback": [
            "\u001b[0;31m---------------------------------------------------------------------------\u001b[0m",
            "\u001b[0;31mNameError\u001b[0m                                 Traceback (most recent call last)",
            "\u001b[0;32m<ipython-input-6-8f19633ef2d8>\u001b[0m in \u001b[0;36m<module>\u001b[0;34m()\u001b[0m\n\u001b[1;32m      6\u001b[0m \u001b[0msumsqx\u001b[0m\u001b[0;34m=\u001b[0m\u001b[0;36m0\u001b[0m\u001b[0;34m\u001b[0m\u001b[0;34m\u001b[0m\u001b[0m\n\u001b[1;32m      7\u001b[0m \u001b[0;34m\u001b[0m\u001b[0m\n\u001b[0;32m----> 8\u001b[0;31m \u001b[0;32mfor\u001b[0m \u001b[0mi\u001b[0m \u001b[0;32min\u001b[0m \u001b[0mrange\u001b[0m\u001b[0;34m(\u001b[0m\u001b[0mlen\u001b[0m\u001b[0;34m(\u001b[0m\u001b[0mcars_df\u001b[0m\u001b[0;34m)\u001b[0m\u001b[0;34m)\u001b[0m\u001b[0;34m:\u001b[0m\u001b[0;34m\u001b[0m\u001b[0;34m\u001b[0m\u001b[0m\n\u001b[0m\u001b[1;32m      9\u001b[0m    \u001b[0msumx\u001b[0m \u001b[0;34m=\u001b[0m \u001b[0mcars_df\u001b[0m\u001b[0;34m[\u001b[0m\u001b[0;34m'EngDis'\u001b[0m\u001b[0;34m]\u001b[0m\u001b[0;34m[\u001b[0m\u001b[0mi\u001b[0m\u001b[0;34m]\u001b[0m\u001b[0;34m+\u001b[0m\u001b[0msumx\u001b[0m\u001b[0;34m\u001b[0m\u001b[0;34m\u001b[0m\u001b[0m\n\u001b[1;32m     10\u001b[0m \u001b[0;34m\u001b[0m\u001b[0m\n",
            "\u001b[0;31mNameError\u001b[0m: name 'cars_df' is not defined"
          ]
        }
      ]
    },
    {
      "cell_type": "markdown",
      "metadata": {
        "id": "Tzo-Avj_Qr0I"
      },
      "source": [
        "\n",
        "\n",
        "> There is one predictor coefficient only since it is simple linear regression.\n",
        "\n",
        "> $\\hat{\\beta_0}$ = 33.5358 \n",
        "\n",
        "> $\\hat{\\beta_1}$ = -0.0354\n",
        "\n",
        "**Practical Interpretation:** Using a simple linear regression model between mpg and engine displacements, we would predict the MPG of $\\hat{y}$ = %33.57 when the engine displacement x = 1.00%. \n",
        "\n",
        "This is not a strong evidence that these two parameters have a strong relationship. In addition, there is always an error on these estimates since they are predictions."
      ]
    },
    {
      "cell_type": "code",
      "metadata": {
        "id": "NbB6vhsdI31z"
      },
      "source": [
        "ax = sns.regplot(x=\"EngDis\", y=\"MPG\", data=cars_df)"
      ],
      "execution_count": null,
      "outputs": []
    },
    {
      "cell_type": "markdown",
      "metadata": {
        "id": "GdOSbNMJX3v1"
      },
      "source": [
        "### **Use of t-tests**\n",
        "\n",
        "In the regression analysis, independent (*predictor*) variables x are fixed. Therefore, the coefficient estimates $\\hat{\\beta}_0$ and $\\hat{\\beta}_1$ depend on the observed response (*response*) variables.\n",
        "\n",
        "For example, $\\hat{\\beta}_1$ is the linear combination of observations Y. Therefore we can show it as:\n",
        "\n",
        "<p align = \"center\"> E[$\\hat{\\beta}_1$] = $\\beta_1$ </p>\n",
        "\n",
        "In other words, $\\hat{\\beta}_1$ is the **unbiased estimator** of the **true slope of the population** $\\beta_1$.\n",
        "\n",
        "Similarly, $\\hat{\\beta}_0$ is the unbiased estimator of the **true intercept of the population** $\\beta_0$.\n",
        "\n",
        "The estimate of variance $\\hat{\\sigma}^2$ can be used to estimate the variance and slope $\\beta_1$ and intercept $\\beta_0$. We call the squared root of the resulting variance estimators as the **estimated standard errors** of the slope $se(\\hat{\\beta}_1)$ and intercept $se(\\hat{\\beta}_0)$.\n",
        "\n",
        "<p align = \"center\"> $se(\\hat{\\beta}_0) = \\sqrt{\\hat{\\sigma}^2[\\frac{1}{n}+\\frac{\\bar{x}^2}{S_{xx}}]}$\n",
        "\n",
        "<p align = \"center\"> $se(\\hat{\\beta}_1) = \\sqrt{\\frac{\\hat{\\sigma}^2}{S_{xx}}}$\n",
        "\n",
        "<p align = \"justify\"> Standard errors are useful measure of the precision of estimation for the regression coefficients; small standard errors imply good precision. In case the regression coefficients are considerably larger than their standard errors, that implies that they are precisely estimated. Otherwise, it can be concluded that the coefficients are not well-estimated. Specifically in multiple regression models, it is not unusual to obtain more precisely estimated slope coefficients than the intercept. However, employing the standard errors alone is not sufficient enough to make statistical conclusions."
      ]
    },
    {
      "cell_type": "markdown",
      "metadata": {
        "id": "7tKZAOu8C4Yl"
      },
      "source": [
        "Suppose we want to test the hypotheses that the slope equals a constant: \n",
        "\n",
        "<p align = \"center\"> $H_0$ : $\\beta_1$ = $\\beta_{1,0}$\n",
        "\n",
        "<p align = \"center\"> $H_1$ : $\\beta_1$ $\\ne$ $\\beta_{1,0}$ </p>\n",
        "\n",
        "Similarly, let's define the hypotheses that the intercept equals a constant:\n",
        "\n",
        "<p align = \"center\"> $H_0$ : $\\beta_0$ = $\\beta_{0,0}$\n",
        "\n",
        "<p align = \"center\"> $H_1$ : $\\beta_0$ $\\ne$ $\\beta_{0,0}$ </p>\n",
        "\n",
        "Recall the hypothesis testing procedures:\n",
        "\n",
        "> Test statistic: \n",
        "\n",
        "<p align = \"center\"> $T_0 = \\frac{\\hat{\\beta}_1-\\beta_{1,0}}{se(\\hat{\\beta}_1)}$\n",
        "\n",
        "<p align = \"center\"> $T_0 = \\frac{\\hat{\\beta}_0-\\beta_{0,0}}{se(\\hat{\\beta}_0)}$\n",
        "\n",
        "> We will accept the null hypothesis if:\n",
        "\n",
        "> $t_{-\\alpha/2, n-p} < |t_0| < t_{\\alpha/2, n-p}$"
      ]
    },
    {
      "cell_type": "markdown",
      "metadata": {
        "id": "3IhHL91VJzmM"
      },
      "source": [
        "#### **Significance of Regression**\n",
        "\n",
        "Let's focus on a special case of the hypotheses:\n",
        "\n",
        "<p align = \"center\"> $H_0$ : $\\beta_1$ = 0\n",
        "\n",
        "<p align = \"center\"> $H_1$ : $\\beta_1$ $\\ne$ 0 </p>\n",
        "\n",
        "In such case, accepting the null hypothesis means that there is no linear relationship between x and y. \n",
        "> This result may indicate either that x is of little value explaining the variation in Y or the true relationship between x and y is not linear.\n",
        "\n",
        "Rejecting the null hypothesis means that there is a linear relationship between x and y.\n",
        "> This result may indicate that x is of value in explaining the variability in y and the straight-line model is adequate.\n",
        "\n",
        "Similarly, the significance of regression test determines whether a linear relationship exists between the response variable and a subset of the regressor variables, shown as:\n",
        "\n",
        "<p align = \"center\"> $H_0$ : $\\beta_1 = \\beta_2 = ... = \\beta_k$ = 0\n",
        "\n",
        "<p align = \"center\"> $H_1$ : $\\beta_j$ $\\ne$ 0, for at least one j </p>\n",
        "\n",
        "Rejecting the null hypothesis means that at least one of the regressors have a significant contribution to the model."
      ]
    },
    {
      "cell_type": "markdown",
      "metadata": {
        "id": "wLu97mmkLgX0"
      },
      "source": [
        "#### Let's recall **Example 3** and test the significance of regression for simple linear regression:\n",
        "\n",
        "$H_0$ : $\\beta_1$ = 0\n",
        "\n",
        "$H_1$ : $\\beta_1$ $\\ne$ 0"
      ]
    },
    {
      "cell_type": "code",
      "metadata": {
        "id": "6J8-YwkULoe0",
        "colab": {
          "base_uri": "https://localhost:8080/",
          "height": 669
        },
        "outputId": "fc7eaaaf-c48e-4240-993e-71a116c154a0"
      },
      "source": [
        "cars_df"
      ],
      "execution_count": null,
      "outputs": [
        {
          "output_type": "execute_result",
          "data": {
            "text/html": [
              "<div>\n",
              "<style scoped>\n",
              "    .dataframe tbody tr th:only-of-type {\n",
              "        vertical-align: middle;\n",
              "    }\n",
              "\n",
              "    .dataframe tbody tr th {\n",
              "        vertical-align: top;\n",
              "    }\n",
              "\n",
              "    .dataframe thead th {\n",
              "        text-align: right;\n",
              "    }\n",
              "</style>\n",
              "<table border=\"1\" class=\"dataframe\">\n",
              "  <thead>\n",
              "    <tr style=\"text-align: right;\">\n",
              "      <th></th>\n",
              "      <th>Make - Model</th>\n",
              "      <th>MPG</th>\n",
              "      <th>EngDis</th>\n",
              "    </tr>\n",
              "  </thead>\n",
              "  <tbody>\n",
              "    <tr>\n",
              "      <th>0</th>\n",
              "      <td>Acura - Legend</td>\n",
              "      <td>30</td>\n",
              "      <td>97</td>\n",
              "    </tr>\n",
              "    <tr>\n",
              "      <th>1</th>\n",
              "      <td>BMW - 735i</td>\n",
              "      <td>19</td>\n",
              "      <td>209</td>\n",
              "    </tr>\n",
              "    <tr>\n",
              "      <th>2</th>\n",
              "      <td>Buick - Regal</td>\n",
              "      <td>29</td>\n",
              "      <td>173</td>\n",
              "    </tr>\n",
              "    <tr>\n",
              "      <th>3</th>\n",
              "      <td>Chevrolet - Cavalier</td>\n",
              "      <td>32</td>\n",
              "      <td>121</td>\n",
              "    </tr>\n",
              "    <tr>\n",
              "      <th>4</th>\n",
              "      <td>Chevrolet - Celebrity</td>\n",
              "      <td>30</td>\n",
              "      <td>151</td>\n",
              "    </tr>\n",
              "    <tr>\n",
              "      <th>5</th>\n",
              "      <td>Chrysler - Conquest</td>\n",
              "      <td>24</td>\n",
              "      <td>156</td>\n",
              "    </tr>\n",
              "    <tr>\n",
              "      <th>6</th>\n",
              "      <td>Dodge - Aries</td>\n",
              "      <td>30</td>\n",
              "      <td>135</td>\n",
              "    </tr>\n",
              "    <tr>\n",
              "      <th>7</th>\n",
              "      <td>Dodge - Dynasty</td>\n",
              "      <td>28</td>\n",
              "      <td>181</td>\n",
              "    </tr>\n",
              "    <tr>\n",
              "      <th>8</th>\n",
              "      <td>Ford - Escort</td>\n",
              "      <td>31</td>\n",
              "      <td>114</td>\n",
              "    </tr>\n",
              "    <tr>\n",
              "      <th>9</th>\n",
              "      <td>Ford - Mustang</td>\n",
              "      <td>25</td>\n",
              "      <td>302</td>\n",
              "    </tr>\n",
              "    <tr>\n",
              "      <th>10</th>\n",
              "      <td>Ford - Taurus</td>\n",
              "      <td>27</td>\n",
              "      <td>153</td>\n",
              "    </tr>\n",
              "    <tr>\n",
              "      <th>11</th>\n",
              "      <td>Ford - Tempo</td>\n",
              "      <td>33</td>\n",
              "      <td>90</td>\n",
              "    </tr>\n",
              "    <tr>\n",
              "      <th>12</th>\n",
              "      <td>Honda - Accord</td>\n",
              "      <td>30</td>\n",
              "      <td>119</td>\n",
              "    </tr>\n",
              "    <tr>\n",
              "      <th>13</th>\n",
              "      <td>Mazda - RX-7</td>\n",
              "      <td>23</td>\n",
              "      <td>80</td>\n",
              "    </tr>\n",
              "    <tr>\n",
              "      <th>14</th>\n",
              "      <td>Mercedes - 260E</td>\n",
              "      <td>24</td>\n",
              "      <td>159</td>\n",
              "    </tr>\n",
              "    <tr>\n",
              "      <th>15</th>\n",
              "      <td>Mercury - Tracer</td>\n",
              "      <td>29</td>\n",
              "      <td>97</td>\n",
              "    </tr>\n",
              "    <tr>\n",
              "      <th>16</th>\n",
              "      <td>Nissan - Maxima</td>\n",
              "      <td>26</td>\n",
              "      <td>181</td>\n",
              "    </tr>\n",
              "    <tr>\n",
              "      <th>17</th>\n",
              "      <td>Oldsmobile - Cutlass</td>\n",
              "      <td>29</td>\n",
              "      <td>173</td>\n",
              "    </tr>\n",
              "    <tr>\n",
              "      <th>18</th>\n",
              "      <td>Plymouth - Laser</td>\n",
              "      <td>37</td>\n",
              "      <td>122</td>\n",
              "    </tr>\n",
              "    <tr>\n",
              "      <th>19</th>\n",
              "      <td>Pontiac - Grand Prix</td>\n",
              "      <td>29</td>\n",
              "      <td>173</td>\n",
              "    </tr>\n",
              "  </tbody>\n",
              "</table>\n",
              "</div>"
            ],
            "text/plain": [
              "             Make - Model  MPG  EngDis\n",
              "0          Acura - Legend   30      97\n",
              "1              BMW - 735i   19     209\n",
              "2           Buick - Regal   29     173\n",
              "3    Chevrolet - Cavalier   32     121\n",
              "4   Chevrolet - Celebrity   30     151\n",
              "5     Chrysler - Conquest   24     156\n",
              "6           Dodge - Aries   30     135\n",
              "7         Dodge - Dynasty   28     181\n",
              "8           Ford - Escort   31     114\n",
              "9          Ford - Mustang   25     302\n",
              "10          Ford - Taurus   27     153\n",
              "11           Ford - Tempo   33      90\n",
              "12         Honda - Accord   30     119\n",
              "13           Mazda - RX-7   23      80\n",
              "14        Mercedes - 260E   24     159\n",
              "15       Mercury - Tracer   29      97\n",
              "16        Nissan - Maxima   26     181\n",
              "17   Oldsmobile - Cutlass   29     173\n",
              "18       Plymouth - Laser   37     122\n",
              "19   Pontiac - Grand Prix   29     173"
            ]
          },
          "metadata": {},
          "execution_count": 16
        }
      ]
    },
    {
      "cell_type": "code",
      "metadata": {
        "id": "D4v-PtcVRKBp",
        "colab": {
          "base_uri": "https://localhost:8080/",
          "height": 167
        },
        "outputId": "eef60b70-9155-44eb-e91e-e729014eb552"
      },
      "source": [
        "print(slr.summary())"
      ],
      "execution_count": null,
      "outputs": [
        {
          "output_type": "error",
          "ename": "NameError",
          "evalue": "ignored",
          "traceback": [
            "\u001b[0;31m---------------------------------------------------------------------------\u001b[0m",
            "\u001b[0;31mNameError\u001b[0m                                 Traceback (most recent call last)",
            "\u001b[0;32m<ipython-input-5-0f56da386f45>\u001b[0m in \u001b[0;36m<module>\u001b[0;34m()\u001b[0m\n\u001b[0;32m----> 1\u001b[0;31m \u001b[0mprint\u001b[0m\u001b[0;34m(\u001b[0m\u001b[0mslr\u001b[0m\u001b[0;34m.\u001b[0m\u001b[0msummary\u001b[0m\u001b[0;34m(\u001b[0m\u001b[0;34m)\u001b[0m\u001b[0;34m)\u001b[0m\u001b[0;34m\u001b[0m\u001b[0;34m\u001b[0m\u001b[0m\n\u001b[0m",
            "\u001b[0;31mNameError\u001b[0m: name 'slr' is not defined"
          ]
        }
      ]
    },
    {
      "cell_type": "code",
      "metadata": {
        "id": "G0-ooKswR2jy",
        "colab": {
          "base_uri": "https://localhost:8080/"
        },
        "outputId": "e959f9fb-e522-4f92-934d-028debe8bd6d"
      },
      "source": [
        "slr.params[0], slr.params[1]"
      ],
      "execution_count": null,
      "outputs": [
        {
          "output_type": "execute_result",
          "data": {
            "text/plain": [
              "(33.53478390129697, -0.03539707904418601)"
            ]
          },
          "metadata": {},
          "execution_count": 23
        }
      ]
    },
    {
      "cell_type": "markdown",
      "metadata": {
        "id": "nEhiylnLKS7z"
      },
      "source": [
        "Recall the Test statistic formulation:\n",
        "\n",
        "<p align = \"center\"> $T_0 = \\frac{\\hat{\\beta}_1-\\beta_{1,0}}{se(\\hat{\\beta}_1)}$\n",
        "\n",
        "<p align = \"center\"> $T_0 = \\frac{\\hat{\\beta}_0-\\beta_{0,0}}{se(\\hat{\\beta}_0)}$\n",
        "\n",
        "Accept the null hypothesis if:\n",
        "<p align = \"center\"> $t_{-\\alpha/2, n-p} < |t_0| < t_{\\alpha/2, n-p}$"
      ]
    },
    {
      "cell_type": "code",
      "metadata": {
        "id": "OoHV9yibR-Vg",
        "colab": {
          "base_uri": "https://localhost:8080/",
          "height": 238
        },
        "outputId": "907c157f-1164-4033-dc1e-fdd0c368d02a"
      },
      "source": [
        "#@title\n",
        "dof = 18\n",
        "se = slr.bse\n",
        "\n",
        "t_critical = stats.t.isf(0.025, dof)\n",
        "print('t_critical: ',t_critical)\n",
        "\n",
        "t_intercept = (slr.params[0]-0)/slr.bse[0]\n",
        "print('t_intercept: ', t_intercept)\n",
        "\n",
        "t_slope = (slr.params[1]-0)/slr.bse[1]\n",
        "print('t_slope: ',t_slope)\n",
        "\n",
        "if (t_slope > t_critical):\n",
        "    Hypothesis_Status = 'Reject Null Hypothesis : Significant'\n",
        "else:\n",
        "    Hypothesis_Status = 'Do not reject Null Hypothesis : t-value is NOT statistically significant'\n",
        "\n",
        "p_value = (1- stats.t.cdf(t_critical,dof))\n",
        "print('p_value: ',p_value)\n",
        "\n",
        "print('Hypothesis_Status: ',Hypothesis_Status)"
      ],
      "execution_count": null,
      "outputs": [
        {
          "output_type": "error",
          "ename": "NameError",
          "evalue": "ignored",
          "traceback": [
            "\u001b[0;31m---------------------------------------------------------------------------\u001b[0m",
            "\u001b[0;31mNameError\u001b[0m                                 Traceback (most recent call last)",
            "\u001b[0;32m<ipython-input-4-0c5e056388b4>\u001b[0m in \u001b[0;36m<module>\u001b[0;34m()\u001b[0m\n\u001b[1;32m      1\u001b[0m \u001b[0;31m#@title\u001b[0m\u001b[0;34m\u001b[0m\u001b[0;34m\u001b[0m\u001b[0;34m\u001b[0m\u001b[0m\n\u001b[1;32m      2\u001b[0m \u001b[0mdof\u001b[0m \u001b[0;34m=\u001b[0m \u001b[0;36m18\u001b[0m\u001b[0;34m\u001b[0m\u001b[0;34m\u001b[0m\u001b[0m\n\u001b[0;32m----> 3\u001b[0;31m \u001b[0mse\u001b[0m \u001b[0;34m=\u001b[0m \u001b[0mslr\u001b[0m\u001b[0;34m.\u001b[0m\u001b[0mbse\u001b[0m\u001b[0;34m\u001b[0m\u001b[0;34m\u001b[0m\u001b[0m\n\u001b[0m\u001b[1;32m      4\u001b[0m \u001b[0;34m\u001b[0m\u001b[0m\n\u001b[1;32m      5\u001b[0m \u001b[0mt_critical\u001b[0m \u001b[0;34m=\u001b[0m \u001b[0mstats\u001b[0m\u001b[0;34m.\u001b[0m\u001b[0mt\u001b[0m\u001b[0;34m.\u001b[0m\u001b[0misf\u001b[0m\u001b[0;34m(\u001b[0m\u001b[0;36m0.025\u001b[0m\u001b[0;34m,\u001b[0m \u001b[0mdof\u001b[0m\u001b[0;34m)\u001b[0m\u001b[0;34m\u001b[0m\u001b[0;34m\u001b[0m\u001b[0m\n",
            "\u001b[0;31mNameError\u001b[0m: name 'slr' is not defined"
          ]
        }
      ]
    },
    {
      "cell_type": "markdown",
      "metadata": {
        "id": "r7aSoWkq2Rgo"
      },
      "source": [
        "**Let's find p-values for t-test**:\n",
        "\n",
        "**p-value for T-test**\n",
        "\n",
        "<p align = \"center\"> P = 2*P($T_{n-1} \\gt |t_0|)$\n"
      ]
    },
    {
      "cell_type": "code",
      "metadata": {
        "id": "rNO9UxWf2VOf",
        "colab": {
          "base_uri": "https://localhost:8080/"
        },
        "outputId": "6c2f4a07-4032-4366-eebd-41eca17777b4"
      },
      "source": [
        "p_value_1 = 2*(1- stats.t.cdf(abs(t_intercept), dof+1-2))\n",
        "p_value_2 = 2*(1- stats.t.cdf(abs(t_slope), dof+1-2))\n",
        "print(p_value_1, p_value_2)"
      ],
      "execution_count": null,
      "outputs": [
        {
          "output_type": "stream",
          "name": "stdout",
          "text": [
            "3.5972047562893295e-10 0.048194970017224614\n"
          ]
        }
      ]
    },
    {
      "cell_type": "markdown",
      "metadata": {
        "id": "ho4J-d1-Wz7X"
      },
      "source": [
        "> This means that no strong evidence that show $\\beta_1 \\ne 0$."
      ]
    },
    {
      "cell_type": "markdown",
      "metadata": {
        "id": "oaQTsXH3bAl8"
      },
      "source": [
        "#### **Analysis of Variance (ANOVA) Approach to Test Significance of Regression**\n",
        "\n",
        "This approach relies on the total variability in the response variable into the meaningful components.\n",
        "\n",
        "This can be explained by the amount of variability in each prediction explained by the regression line and the residual variation left unexplained by the regression line.\n",
        "\n",
        "> Let's dive into it:"
      ]
    },
    {
      "cell_type": "markdown",
      "metadata": {
        "id": "O09_Qb7DTtLC"
      },
      "source": [
        "Recall what the residual is. The residual is the error in the fit of the model for each observation of y. \n",
        "\n",
        "> **Sum of squares of the residuals are called error sum of squares ($SSE$)**:\n",
        "\n",
        "$SSE = \\sum_{i=1}^n (y_i-\\hat{y}_i)^2$\n",
        "\n",
        "\\\n",
        "\n",
        "The expected value of SSE:\n",
        "\n",
        "$ E[SSE] = (n-2)\\sigma^2$\n",
        "\n",
        "The variance of error term $\\sigma^2$ is unknown. The residuals are used to obtain an estimate of $\\sigma^2$.\n",
        "\n",
        "\\\n",
        "\n",
        "> **Unbiased estimator of variance $\\sigma^2$**:\n",
        "\n",
        "$\\hat{\\sigma}^2 = \\frac{SSE}{n-2}$\n",
        "\n",
        "\\\n",
        "\n",
        "> **Total sum of squares of the response variable y**:\n",
        "\n",
        "$SST = \\sum_{i=1}^n (y_i-\\bar{y})^2$\n",
        "\n",
        "\\\n",
        "\n",
        "SSE can also be found as:\n",
        "\n",
        "$SSE = SST - \\hat{\\beta}_1S_{xy}$\n",
        "\n",
        "\\\n",
        "\n",
        "> **Regression sum of squares can be presented as**:\n",
        "\n",
        "$SSR = \\sum_{i=1}^n (\\hat{y}_i-\\bar{y}_i)^2$\n",
        "\n",
        "\\\n",
        "\n",
        "Shortly,\n",
        "\n",
        "\n",
        "$SST = SSR + SSE$\n",
        "\n",
        "\\\n",
        "\n",
        "![image.png](data:image/png;base64,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)\n",
        "\n",
        "\\\n",
        "\n",
        "**Coefficient of Determination is shown as**:\n",
        "\n",
        "This is used to measure the adequacy of the regression model. it is also presented as the square of the correlation coefficient between x and y.\n",
        "\n",
        "We need to be careful about the $R^2$ value since the value may sometimes be misleading. For example, as long as we add new variables to the model, $R^2$ keeps increasing even though it does not necessarily mean that the model becomes more meaningful.\n",
        "\n",
        "**Important note**: $R^2$ does not measure the appropriateness of the model since it can be manipulated by adding more variables to the model. Therefore, obtaining a large $R^2$ does not imply that the regression model provides accurate predictions of future observations.\n",
        "\n",
        "$R^2 = \\frac{SSR}{SST} = 1 - \\frac{SSE}{SST}$\n",
        "\n",
        "\\\n",
        "\n",
        "Because of this concern, we can refer to **adjusted $R^2$** to assess the fit of the model.  \n",
        "\n",
        "> $Adj-R^2 = R_{adj}^2 = 1 - \\frac{SSE/(n-p)}{SST/(n-1)}$\n",
        "\n",
        "**Important note**: $R_{adj}^2$ only increases if the new variable reduces the error mean square. This statistic penalizes the analysts for adding terms to the model and protects the model against **overfitting**. This is an important statistic to be used in **variable selection**."
      ]
    },
    {
      "cell_type": "markdown",
      "metadata": {
        "id": "sH1vt7iMd9XG"
      },
      "source": [
        "To test if the null hypothesis is true, we apply f-statistics:\n",
        "\n",
        "<p align = \"center\"> $F_0 = \\frac{SSR/k}{SSE/(n-p)} = \\frac{MSR}{MSE}$\n",
        "\n",
        "> MSE and MSR are called mean squares. As shown in the formula: MSE = $\\hat{\\sigma}^2$\n",
        "\n",
        "We reject the null hypothesis if $f_0 \\gt f_{\\alpha,1,n-p}$\n",
        "\n",
        "Just as in simple linear regression, residual estimators and ANOVA approach follow the same structure but in a matrix form."
      ]
    },
    {
      "cell_type": "markdown",
      "metadata": {
        "id": "KkLcgw8TfSD0"
      },
      "source": [
        "#### Let's see how it works. Recall **Example 3**: "
      ]
    },
    {
      "cell_type": "code",
      "metadata": {
        "id": "UpcT50XgfyWC"
      },
      "source": [
        "slr.summary2()"
      ],
      "execution_count": null,
      "outputs": []
    },
    {
      "cell_type": "code",
      "metadata": {
        "id": "oFnpiPeRhCsC"
      },
      "source": [
        "predictions"
      ],
      "execution_count": null,
      "outputs": []
    },
    {
      "cell_type": "markdown",
      "metadata": {
        "id": "Ee4mpZLFgRPH"
      },
      "source": [
        "Let's find **residuals**:"
      ]
    },
    {
      "cell_type": "code",
      "metadata": {
        "id": "ILhy351WEpoK"
      },
      "source": [
        "sse = 0\n",
        "ssr = 0\n",
        "for i in range(len(cars_df)):\n",
        "   sse = math.pow((cars_df['MPG'][i] - predictions[i]),2) + sse\n",
        "\n",
        "for i in range(len(cars_df)):\n",
        "   ssr = math.pow((predictions[i] - (sumy/data_size)),2) + ssr\n",
        "  \n",
        "sst = ssr + sse\n",
        "\n",
        "r2 = ssr/sst\n",
        "\n",
        "adj_r2 = 1- ((sse/(data_size-2))/(sst/(data_size-1)))\n",
        "\n",
        "print(sst, ssr, sse, r2, adj_r2)"
      ],
      "execution_count": null,
      "outputs": []
    },
    {
      "cell_type": "markdown",
      "metadata": {
        "id": "j5TEp3ZMgZ4X"
      },
      "source": [
        "Now let's apply f-test and find the **significance of regression**:"
      ]
    },
    {
      "cell_type": "code",
      "metadata": {
        "id": "dN0l82z5h2Ze"
      },
      "source": [
        "msr = ssr /1\n",
        "mse = sse/(data_size-2)\n",
        "\n",
        "f0 = msr/mse\n",
        "\n",
        "print(msr, mse, f0)\n",
        "\n",
        "f_critical = stats.f.isf(0.025, 1, 18)\n",
        "\n",
        "if (f0 > f_critical):\n",
        "    Hypothesis_Status = 'Reject Null Hypothesis : Significant'\n",
        "else:\n",
        "    Hypothesis_Status = 'Do not reject Null Hypothesis : f-value is NOT statistically significant'\n",
        "\n",
        "print(Hypothesis_Status)"
      ],
      "execution_count": null,
      "outputs": []
    },
    {
      "cell_type": "markdown",
      "metadata": {
        "id": "QXkxdqhXqzOz"
      },
      "source": [
        "Let's find **p-value** for f-test:"
      ]
    },
    {
      "cell_type": "code",
      "metadata": {
        "id": "cD6RVZ6Sq3NV"
      },
      "source": [
        "p_value_f = (1- stats.f.cdf(f0, 1, data_size-2))\n",
        "print(p_value_f)"
      ],
      "execution_count": null,
      "outputs": []
    },
    {
      "cell_type": "markdown",
      "metadata": {
        "id": "Q21uxm7u4CGk"
      },
      "source": [
        "Remember that there is always an error on these estimates since they are predictions.\n",
        "\n",
        "> To better describe this, we construct **confidence intervals** to describe error in estimation from a regression model.\n",
        "\n",
        "Let's dive into it:"
      ]
    },
    {
      "cell_type": "code",
      "metadata": {
        "id": "KC6LeYIwAn4p"
      },
      "source": [
        "#fitted_values = pd.Series(slr.fittedvalues, name=\"Fitted Values\")\n",
        "#fitted_values"
      ],
      "execution_count": null,
      "outputs": []
    },
    {
      "cell_type": "markdown",
      "metadata": {
        "id": "-DtW-uPO4aKC"
      },
      "source": [
        "In addition to point estimates of regression coefficients, we can also obtain confidence interval (CI) estimates of these parameters. The width of the CI is a measure of the quality of the regression line.\n",
        "\n",
        "If we assume that the observations in the regression model are normally and independently distributed, a 100(1-$\\alpha$)% CI on the slope $\\beta_1$ is shown:\n",
        "\n",
        "<p align = \"center\"> $\\hat{\\beta}_1 - t_{\\alpha/2, n-2}\\sqrt{\\frac{\\hat{\\sigma}^2}{S_{xx}}} \\le \\beta_1 \\le \\hat{\\beta}_1 + t_{\\alpha/2, n-2}\\sqrt{\\frac{\\hat{\\sigma}^2}{S_{xx}}}$\n",
        "\n",
        "Similarly, CI on the intercept:\n",
        "\n",
        "<p align = \"center\"> $\\hat{\\beta}_0 - t_{\\alpha/2, n-2}\\sqrt{\\hat{\\sigma}^2[\\frac{1}{n} + \\frac{\\bar{x}^2}{S_{xx}}]} \\le \\beta_0 \\le \\hat{\\beta}_0 + t_{\\alpha/2, n-2}\\sqrt{\\hat{\\sigma}^2[\\frac{1}{n} + \\frac{\\bar{x}^2}{S_{xx}}]}$"
      ]
    },
    {
      "cell_type": "code",
      "metadata": {
        "id": "QK7UeMdGBHRu"
      },
      "source": [
        "ax = sns.regplot(x=\"EngDis\", y=\"MPG\", data=cars_df)"
      ],
      "execution_count": null,
      "outputs": []
    },
    {
      "cell_type": "code",
      "metadata": {
        "id": "wM9nNP-kHz-M"
      },
      "source": [
        "b1_lower = b1 - stats.t.isf(0.025, 18)*(math.sqrt(mse/sxx))\n",
        "b1_upper = b1 + stats.t.isf(0.025, 18)*(math.sqrt(mse/sxx))\n",
        "print(b1_lower, b1_upper)"
      ],
      "execution_count": null,
      "outputs": []
    },
    {
      "cell_type": "markdown",
      "metadata": {
        "id": "j7QtlTvps4gp"
      },
      "source": [
        "There is a strong indication that the points lie scattered randomly around a straight line. It is reasonable to assume that the mean of the random variable Y is related to X by a straight-line relationship."
      ]
    },
    {
      "cell_type": "markdown",
      "metadata": {
        "id": "8so40k7C8pp_"
      },
      "source": [
        "There is a distribution of Y-values at each x and that the variance of this distribution is the **same** at each x.\n",
        "The values of the intercept $\\beta_0$, slope $\\beta_1$, and the error variance $\\sigma^2$ **are not known**, and they must be estimated from sample data."
      ]
    },
    {
      "cell_type": "markdown",
      "metadata": {
        "id": "7XepVDelwgby"
      },
      "source": [
        "Sometimes a model like this will arise from a theoretical relationship. \n",
        "\n",
        "However, in many real-life cases, no theoretical knowledge of\n",
        "the relationship between x and y arise. In such cases, the regression model is considered as an **empirical model**."
      ]
    },
    {
      "cell_type": "markdown",
      "metadata": {
        "id": "zzQPEpz7CdwC"
      },
      "source": [
        "### **Example 4**\n",
        "\n",
        "Let's recall the spot freight case study."
      ]
    },
    {
      "cell_type": "code",
      "metadata": {
        "id": "hr_sHl2JejC4"
      },
      "source": [
        "from google.colab import files\n",
        "uploaded=files.upload()\n",
        "import io\n",
        "freight=pd.read_csv(io.StringIO(uploaded['Data_update.csv'].decode('utf-8')))\n",
        "print(freight)"
      ],
      "execution_count": null,
      "outputs": []
    },
    {
      "cell_type": "markdown",
      "metadata": {
        "id": "D-guX3EWewrj"
      },
      "source": [
        "#### **a. Fit a multiple linear regression model to this dataset.**"
      ]
    },
    {
      "cell_type": "code",
      "metadata": {
        "id": "CFoZdfiJfOqD",
        "colab": {
          "base_uri": "https://localhost:8080/",
          "height": 238
        },
        "outputId": "670a5539-0073-42e5-b35d-fe5eeb6a8884"
      },
      "source": [
        "#@title\n",
        "from sklearn.preprocessing import MinMaxScaler\n",
        "from sklearn import preprocessing\n",
        "\n",
        "Q1 = freight.quantile(0.25)\n",
        "Q3 = freight.quantile(0.75)\n",
        "IQR = Q3 - Q1\n",
        "\n",
        "freight = freight[~((freight< (Q1 - 1.5 * IQR)) |(freight> (Q3 + 1.5 * IQR))).any(axis=1)]\n",
        "\n",
        "names = freight.columns\n",
        "scaler = MinMaxScaler()\n",
        "freight = scaler.fit_transform(freight)\n",
        "freight = pd.DataFrame(freight, columns=names)\n",
        "pd.options.display.float_format = '{:,.2f}'.format"
      ],
      "execution_count": null,
      "outputs": [
        {
          "output_type": "error",
          "ename": "NameError",
          "evalue": "ignored",
          "traceback": [
            "\u001b[0;31m---------------------------------------------------------------------------\u001b[0m",
            "\u001b[0;31mNameError\u001b[0m                                 Traceback (most recent call last)",
            "\u001b[0;32m<ipython-input-3-653ce7fe50c6>\u001b[0m in \u001b[0;36m<module>\u001b[0;34m()\u001b[0m\n\u001b[1;32m      3\u001b[0m \u001b[0;32mfrom\u001b[0m \u001b[0msklearn\u001b[0m \u001b[0;32mimport\u001b[0m \u001b[0mpreprocessing\u001b[0m\u001b[0;34m\u001b[0m\u001b[0;34m\u001b[0m\u001b[0m\n\u001b[1;32m      4\u001b[0m \u001b[0;34m\u001b[0m\u001b[0m\n\u001b[0;32m----> 5\u001b[0;31m \u001b[0mQ1\u001b[0m \u001b[0;34m=\u001b[0m \u001b[0mfreight\u001b[0m\u001b[0;34m.\u001b[0m\u001b[0mquantile\u001b[0m\u001b[0;34m(\u001b[0m\u001b[0;36m0.25\u001b[0m\u001b[0;34m)\u001b[0m\u001b[0;34m\u001b[0m\u001b[0;34m\u001b[0m\u001b[0m\n\u001b[0m\u001b[1;32m      6\u001b[0m \u001b[0mQ3\u001b[0m \u001b[0;34m=\u001b[0m \u001b[0mfreight\u001b[0m\u001b[0;34m.\u001b[0m\u001b[0mquantile\u001b[0m\u001b[0;34m(\u001b[0m\u001b[0;36m0.75\u001b[0m\u001b[0;34m)\u001b[0m\u001b[0;34m\u001b[0m\u001b[0;34m\u001b[0m\u001b[0m\n\u001b[1;32m      7\u001b[0m \u001b[0mIQR\u001b[0m \u001b[0;34m=\u001b[0m \u001b[0mQ3\u001b[0m \u001b[0;34m-\u001b[0m \u001b[0mQ1\u001b[0m\u001b[0;34m\u001b[0m\u001b[0;34m\u001b[0m\u001b[0m\n",
            "\u001b[0;31mNameError\u001b[0m: name 'freight' is not defined"
          ]
        }
      ]
    },
    {
      "cell_type": "code",
      "metadata": {
        "id": "lX7eCGtbi_Tk",
        "colab": {
          "base_uri": "https://localhost:8080/",
          "height": 238
        },
        "outputId": "7f05be60-9c2a-404f-c245-5231ac7e8660"
      },
      "source": [
        "import statsmodels.api as sm\n",
        "\n",
        "X = freight[['Oil Price','Currency','Exporter CPI','Exporter GDP','Exporter Capacity', 'Importer Capacity','Exporter PMI']] \n",
        "\n",
        "y = freight['Spot rate']\n",
        "\n",
        "X = sm.add_constant(X)\n",
        "mlr = sm.OLS(y, X).fit()\n",
        "print(mlr.summary())"
      ],
      "execution_count": null,
      "outputs": [
        {
          "output_type": "error",
          "ename": "NameError",
          "evalue": "ignored",
          "traceback": [
            "\u001b[0;31m---------------------------------------------------------------------------\u001b[0m",
            "\u001b[0;31mNameError\u001b[0m                                 Traceback (most recent call last)",
            "\u001b[0;32m<ipython-input-2-52d9ff07b8d6>\u001b[0m in \u001b[0;36m<module>\u001b[0;34m()\u001b[0m\n\u001b[1;32m      1\u001b[0m \u001b[0;32mimport\u001b[0m \u001b[0mstatsmodels\u001b[0m\u001b[0;34m.\u001b[0m\u001b[0mapi\u001b[0m \u001b[0;32mas\u001b[0m \u001b[0msm\u001b[0m\u001b[0;34m\u001b[0m\u001b[0;34m\u001b[0m\u001b[0m\n\u001b[1;32m      2\u001b[0m \u001b[0;34m\u001b[0m\u001b[0m\n\u001b[0;32m----> 3\u001b[0;31m \u001b[0mX\u001b[0m \u001b[0;34m=\u001b[0m \u001b[0mfreight\u001b[0m\u001b[0;34m[\u001b[0m\u001b[0;34m[\u001b[0m\u001b[0;34m'Oil Price'\u001b[0m\u001b[0;34m,\u001b[0m\u001b[0;34m'Currency'\u001b[0m\u001b[0;34m,\u001b[0m\u001b[0;34m'Exporter CPI'\u001b[0m\u001b[0;34m,\u001b[0m\u001b[0;34m'Exporter GDP'\u001b[0m\u001b[0;34m,\u001b[0m\u001b[0;34m'Exporter Capacity'\u001b[0m\u001b[0;34m,\u001b[0m \u001b[0;34m'Importer Capacity'\u001b[0m\u001b[0;34m,\u001b[0m\u001b[0;34m'Exporter PMI'\u001b[0m\u001b[0;34m]\u001b[0m\u001b[0;34m]\u001b[0m\u001b[0;34m\u001b[0m\u001b[0;34m\u001b[0m\u001b[0m\n\u001b[0m\u001b[1;32m      4\u001b[0m \u001b[0;34m\u001b[0m\u001b[0m\n\u001b[1;32m      5\u001b[0m \u001b[0my\u001b[0m \u001b[0;34m=\u001b[0m \u001b[0mfreight\u001b[0m\u001b[0;34m[\u001b[0m\u001b[0;34m'Spot rate'\u001b[0m\u001b[0;34m]\u001b[0m\u001b[0;34m\u001b[0m\u001b[0;34m\u001b[0m\u001b[0m\n",
            "\u001b[0;31mNameError\u001b[0m: name 'freight' is not defined"
          ]
        }
      ]
    },
    {
      "cell_type": "markdown",
      "metadata": {
        "id": "Xs0iQ_FKt7et"
      },
      "source": [
        "#### **b. Calculate t-test statistics for each regression coefficient. Using $\\alpha$ = 0.05, what conclusions can be drawn? Do all variables contribute to the model?**"
      ]
    },
    {
      "cell_type": "markdown",
      "metadata": {
        "id": "t01mpVW-uqZU"
      },
      "source": [
        "Before running t-statistic, we should identify the null and alternative hypotheses.\n",
        "\n",
        "$H_0$ : $\\beta_1 = \\beta_2 = \\beta_3 = ... = \\beta_7 = 0$\n",
        "\n",
        "$H_1$ : $\\beta_j \\ne 0$\n",
        "\n",
        "> t-test can be written as: \n",
        "\n",
        "$t_0 = \\frac{\\beta_j - \\beta{j,0}}{se(\\beta_j)}$\n",
        "\n",
        "Let's calculate t-statistic for each regression coefficient:"
      ]
    },
    {
      "cell_type": "code",
      "metadata": {
        "id": "uNA75DXzwS_e"
      },
      "source": [
        "t0_b0 = (mlr.params[0] - 0)/mlr.bse[0]\n",
        "t0_b1 = (mlr.params[1] - 0)/mlr.bse[1]\n",
        "t0_b2 = (mlr.params[2] - 0)/mlr.bse[2]\n",
        "t0_b3 = (mlr.params[3] - 0)/mlr.bse[3]\n",
        "t0_b4 = (mlr.params[4] - 0)/mlr.bse[4]\n",
        "t0_b5 = (mlr.params[5] - 0)/mlr.bse[5]\n",
        "t0_b6 = (mlr.params[6] - 0)/mlr.bse[6]\n",
        "t0_b7 = (mlr.params[7] - 0)/mlr.bse[7]\n",
        "\n",
        "print(t0_b0, t0_b1, t0_b2, t0_b3, t0_b4, t0_b5, t0_b6, t0_b7)\n",
        "\n",
        "for i in range(len(mlr.params)):\n",
        "  if (mlr.tvalues[i] > stats.t.isf(0.025, 52)):\n",
        "     Hypothesis_Status = 'Reject Null Hypothesis : Significant'\n",
        "  else:\n",
        "     Hypothesis_Status = 'Do not reject Null Hypothesis : Not Significant'\n",
        "  print(\"For t\" + str(i), \" \", Hypothesis_Status)\n",
        "\n",
        "#p_value = 2*(1- stats.t.cdf(abs(t0_b0),52))\n",
        "#print(p_value)"
      ],
      "execution_count": null,
      "outputs": []
    },
    {
      "cell_type": "markdown",
      "metadata": {
        "id": "KpxlAMV91oRS"
      },
      "source": [
        "#### **c. Test for significance of regression using $\\alpha$ =0.05. What conclusions can you draw?**"
      ]
    },
    {
      "cell_type": "markdown",
      "metadata": {
        "id": "MYhoOQYF2HXm"
      },
      "source": [
        "Recall the significance of regression test.\n",
        "\n",
        "$F_0 = \\frac{SSR/k}{SSE/(n-p)} = \\frac{MSR}{MSE}$\n",
        "\n",
        "This test refers to f-statistic. Obtaining the f-test critical values, p-value can be calculated and compared with critical values.\n",
        "\n",
        "Let's find error sum of squares and regression sum of squares."
      ]
    },
    {
      "cell_type": "code",
      "metadata": {
        "id": "tdhcbMUw2GYC",
        "colab": {
          "base_uri": "https://localhost:8080/",
          "height": 294
        },
        "outputId": "3bd0c988-9678-4d43-d3bf-81b0a9f294e9"
      },
      "source": [
        "import statsmodels.api as sm\n",
        "from statsmodels.formula.api import ols\n",
        "from statsmodels.graphics.api import interaction_plot, abline_plot\n",
        "from statsmodels.stats.anova import anova_lm\n",
        "\n",
        "fitted = mlr.predict(X)\n",
        "\n",
        "predicts= {'actual':y,'predicted':fitted}\n",
        "\n",
        "f_test = pd.DataFrame(predicts,columns = ['actual', 'predicted'])\n",
        "f_test.head()\n",
        "\n",
        "f_test['errors'] = f_test['actual'] - f_test['predicted']\n",
        "f_test.head()\n",
        "\n",
        "f_test['squared errors'] = f_test['errors']**2\n",
        "print(f_test.head())\n",
        "\n",
        "sse = f_test['squared errors'].sum()\n",
        "print(sse)\n",
        "\n",
        "mean = f_test['actual'].mean()\n",
        "mean\n",
        "\n",
        "f_test['squared regression'] =  (f_test['predicted']-mean)**2\n",
        "f_test.head()\n",
        "\n",
        "ssr = f_test['squared regression'].sum()\n",
        "print(ssr)\n",
        "\n",
        "sst = sse+ssr\n",
        "\n",
        "msr = ssr/7\n",
        "print(msr)\n",
        "\n",
        "mse = sse/52\n",
        "print(mse)\n",
        "\n",
        "f_stats = msr/mse\n",
        "print(f_stats)\n",
        "\n",
        "p_value = (1- stats.f.cdf(f_stats, 7, 52))\n",
        "print(p_value)"
      ],
      "execution_count": null,
      "outputs": [
        {
          "output_type": "stream",
          "name": "stderr",
          "text": [
            "/usr/local/lib/python3.7/dist-packages/statsmodels/tools/_testing.py:19: FutureWarning: pandas.util.testing is deprecated. Use the functions in the public API at pandas.testing instead.\n",
            "  import pandas.util.testing as tm\n"
          ]
        },
        {
          "output_type": "error",
          "ename": "NameError",
          "evalue": "ignored",
          "traceback": [
            "\u001b[0;31m---------------------------------------------------------------------------\u001b[0m",
            "\u001b[0;31mNameError\u001b[0m                                 Traceback (most recent call last)",
            "\u001b[0;32m<ipython-input-1-46510bb4a832>\u001b[0m in \u001b[0;36m<module>\u001b[0;34m()\u001b[0m\n\u001b[1;32m      4\u001b[0m \u001b[0;32mfrom\u001b[0m \u001b[0mstatsmodels\u001b[0m\u001b[0;34m.\u001b[0m\u001b[0mstats\u001b[0m\u001b[0;34m.\u001b[0m\u001b[0manova\u001b[0m \u001b[0;32mimport\u001b[0m \u001b[0manova_lm\u001b[0m\u001b[0;34m\u001b[0m\u001b[0;34m\u001b[0m\u001b[0m\n\u001b[1;32m      5\u001b[0m \u001b[0;34m\u001b[0m\u001b[0m\n\u001b[0;32m----> 6\u001b[0;31m \u001b[0mfitted\u001b[0m \u001b[0;34m=\u001b[0m \u001b[0mmlr\u001b[0m\u001b[0;34m.\u001b[0m\u001b[0mpredict\u001b[0m\u001b[0;34m(\u001b[0m\u001b[0mX\u001b[0m\u001b[0;34m)\u001b[0m\u001b[0;34m\u001b[0m\u001b[0;34m\u001b[0m\u001b[0m\n\u001b[0m\u001b[1;32m      7\u001b[0m \u001b[0;34m\u001b[0m\u001b[0m\n\u001b[1;32m      8\u001b[0m \u001b[0mpredicts\u001b[0m\u001b[0;34m=\u001b[0m \u001b[0;34m{\u001b[0m\u001b[0;34m'actual'\u001b[0m\u001b[0;34m:\u001b[0m\u001b[0my\u001b[0m\u001b[0;34m,\u001b[0m\u001b[0;34m'predicted'\u001b[0m\u001b[0;34m:\u001b[0m\u001b[0mfitted\u001b[0m\u001b[0;34m}\u001b[0m\u001b[0;34m\u001b[0m\u001b[0;34m\u001b[0m\u001b[0m\n",
            "\u001b[0;31mNameError\u001b[0m: name 'mlr' is not defined"
          ]
        }
      ]
    },
    {
      "cell_type": "code",
      "metadata": {
        "id": "30wyCINbPG7l"
      },
      "source": [
        ""
      ],
      "execution_count": null,
      "outputs": []
    }
  ]
}