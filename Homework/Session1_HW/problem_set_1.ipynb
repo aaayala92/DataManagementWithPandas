{
  "nbformat": 4,
  "nbformat_minor": 0,
  "metadata": {
    "colab": {
      "name": "problem_set_1.ipynb",
      "provenance": [],
      "collapsed_sections": []
    },
    "kernelspec": {
      "name": "python3",
      "display_name": "Python 3"
    },
    "language_info": {
      "name": "python"
    }
  },
  "cells": [
    {
      "cell_type": "markdown",
      "metadata": {
        "id": "RpyP_I7I03e_"
      },
      "source": [
        "#**Problem set 1**"
      ]
    },
    {
      "cell_type": "markdown",
      "metadata": {
        "id": "pEV9Z2Za3ZEu"
      },
      "source": [
        "Please enter your name in a cell below "
      ]
    },
    {
      "cell_type": "code",
      "metadata": {
        "id": "mZcWeHfw3WN2"
      },
      "source": [
        "# First name Last name "
      ],
      "execution_count": null,
      "outputs": []
    },
    {
      "cell_type": "markdown",
      "metadata": {
        "id": "xkScUOkSMYqI"
      },
      "source": [
        "##Task\n",
        "### Please, find the dataset “SKU.xlsx”. The dataset contains SKU features at the pallet level, including pallet weight, pallet height, number of units per pallet, and expiry date. Use the dataset to perform the following: \n",
        "1. Read the data contained in file SKU.xlsx in a DataFrame.\n",
        "2. Display the first 5 rows of and the last 3 rows of the dataset. \n",
        "3. How many columns does the DataFrame contain? \n",
        "4. Create and add a new column called “pallet_value”  (pallet_value =  unitprice x units_per_pallet).\n",
        "5. Create a new DataFrame with only SKUs whose pallet_value is higher than 200.\n",
        "6. Sort the DataFrame by descending order of pallet_value.\n",
        "7. Write the resulting DataFrame to an Excel file. Do not include the index.\n",
        "\n",
        "\n",
        "### Please, use cells below to write and execute your code. Feel free to add additional cells. \n",
        "### Submit the resulting .ipynb file to Canvas. Don’t forget to enter your name. "
      ]
    },
    {
      "cell_type": "code",
      "metadata": {
        "id": "TFpIEYBYhD6B"
      },
      "source": [
        "# write your code here "
      ],
      "execution_count": null,
      "outputs": []
    }
  ]
}