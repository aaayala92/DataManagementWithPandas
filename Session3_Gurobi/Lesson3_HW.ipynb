{
 "cells": [
  {
   "cell_type": "code",
   "execution_count": 1,
   "metadata": {},
   "outputs": [],
   "source": [
    "\"\"\"\n",
    "Homework | Production Distribution in Gurobi\n",
    "\"\"\"\n",
    "\n",
    "# import gurobi library\n",
    "import gurobipy as gp         #Gurobi Python interface\n",
    "from gurobipy import GRB      #Import as shortcut to avoid writing GP.grb\n",
    "from itertools import product #product creates the cartesian product from 2 or more lists."
   ]
  },
  {
   "cell_type": "code",
   "execution_count": null,
   "metadata": {},
   "outputs": [],
   "source": [
    "# Creates a list of all the supply nodes\n",
    "Plants = [\"Monterrey\",\"Puebla\",\"San Luis Potosi\"]\n",
    "\n",
    "# Creates a dictionary for the number of units of productivity for each supply node\n",
    "#Productivity = {\"Monterrey\": 3200,\n",
    "#                \"Puebla\": 2600,\n",
    "#                \"San Luis Potosi\":1600}\n",
    "\n",
    "# Creates a dictionary for the number of units of Capacity for each supply node\n",
    "Capacity = {\"Monterrey\": 96000,\n",
    "                \"Puebla\": 78000,\n",
    "                \"San Luis Potosi\":48000}\n",
    "\n",
    "# Creates a dictionary for the number of units of Variable Cost for each supply node\n",
    "Variable = {\"Monterrey\": 381,\n",
    "                \"Puebla\": 342,\n",
    "                \"San Luis Potosi\":368}\n",
    "\n",
    "# Creates a list of all demand nodes\n",
    "Markets = [\"Chihuahua\", \"Ciudad Victoria\", \"Durango\", \"Guadalajara\", \"Leon\",\n",
    "           \"Mexico City\", \"Morelia\", 'Oaxaca','Queretaro','Toluca','Villahermosa','Xalapa']\n",
    "\n",
    "# Creates a dictionary for the number of units of demand for each demand node\n",
    "demand = {\"1\": 500,\n",
    "          \"2\": 900,\n",
    "          \"3\": 1800,\n",
    "          \"4\": 200,\n",
    "          \"5\": 700}"
   ]
  },
  {
   "cell_type": "code",
   "execution_count": null,
   "metadata": {},
   "outputs": [],
   "source": []
  }
 ],
 "metadata": {
  "kernelspec": {
   "display_name": "Python 3",
   "language": "python",
   "name": "python3"
  },
  "language_info": {
   "codemirror_mode": {
    "name": "ipython",
    "version": 3
   },
   "file_extension": ".py",
   "mimetype": "text/x-python",
   "name": "python",
   "nbconvert_exporter": "python",
   "pygments_lexer": "ipython3",
   "version": "3.10.1"
  },
  "orig_nbformat": 4
 },
 "nbformat": 4,
 "nbformat_minor": 2
}
