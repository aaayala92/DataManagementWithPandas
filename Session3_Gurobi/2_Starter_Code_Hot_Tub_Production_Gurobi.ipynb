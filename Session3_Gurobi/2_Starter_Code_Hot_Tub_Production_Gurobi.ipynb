{
  "cells": [
    {
      "cell_type": "code",
      "execution_count": 1,
      "id": "a59178a5",
      "metadata": {
        "id": "a59178a5"
      },
      "outputs": [
        {
          "name": "stdout",
          "output_type": "stream",
          "text": [
            "Requirement already satisfied: gurobipy in c:\\users\\artur\\appdata\\local\\programs\\python\\python310\\lib\\site-packages (10.0.2)\n",
            "Requirement already satisfied: numpy in c:\\users\\artur\\appdata\\local\\programs\\python\\python310\\lib\\site-packages (1.23.3)\n",
            "Requirement already satisfied: pandas in c:\\users\\artur\\appdata\\local\\programs\\python\\python310\\lib\\site-packages (1.4.4)\n",
            "Requirement already satisfied: python-dateutil>=2.8.1 in c:\\users\\artur\\appdata\\local\\programs\\python\\python310\\lib\\site-packages (from pandas) (2.8.2)\n",
            "Requirement already satisfied: pytz>=2020.1 in c:\\users\\artur\\appdata\\local\\programs\\python\\python310\\lib\\site-packages (from pandas) (2022.2.1)\n",
            "Requirement already satisfied: six>=1.5 in c:\\users\\artur\\appdata\\local\\programs\\python\\python310\\lib\\site-packages (from python-dateutil>=2.8.1->pandas) (1.16.0)\n"
          ]
        },
        {
          "name": "stderr",
          "output_type": "stream",
          "text": [
            "WARNING: You are using pip version 21.2.4; however, version 23.2.1 is available.\n",
            "You should consider upgrading via the 'C:\\Users\\artur\\AppData\\Local\\Programs\\Python\\Python310\\python.exe -m pip install --upgrade pip' command.\n"
          ]
        }
      ],
      "source": [
        "#Install gurobi dependency by uncommenting following line:\n",
        "!pip install gurobipy numpy pandas"
      ]
    },
    {
      "cell_type": "markdown",
      "id": "9064625b",
      "metadata": {
        "id": "9064625b"
      },
      "source": [
        "# A Production Problem\n",
        "\n",
        "## Problem Description\n",
        "\n",
        "Beaver Ridge Hot Tubs manufactures and sells two models of hot tubs: the Aqua-Spa and the Hydro-Lux.  Tim, the owner and manager of the company, needs to decide how many of each type of hot tub to produce during his next production cycle.\n",
        "\n",
        "Tim buys prefabricated fiberglass hot tub shells from a local supplier and adds the pump and tubing to the shells to create his hot tubs.  (This supplier has the capacity to deliver as many hot tub shells as Tim needs.)  Tim installs the same type of pump into both hot tubs.\n",
        "\n",
        "He will have only 200 pumps available during his next production cycle.  From a manufacturing standpoint, the main difference between the two models of hot tubs is the amount of tubing and labor required.  Each Aqua-Spa requires 9 hours of labor and 12 feet of tubing.  Each Hydro-Lux requires 6 hours of labor and 16 feet of tubing.  Tim expects to have 1,566 production labor hours and 2,880 feet of tubing available during the next production cycle.\n",
        "\n",
        "\n",
        "Tim earns a profit of \\\\$ 350 on each Aqua-Spa he sells and $300 on each Hydro-Lux he sells. The question is, how many Aqua-Spas and Hydro-Luxes should Tim produce if he wants to maximize his revenue during the next production cycle?"
      ]
    },
    {
      "cell_type": "markdown",
      "id": "69f7a9f8",
      "metadata": {
        "id": "69f7a9f8"
      },
      "source": [
        "## Identify the Decision Variables\n",
        "\n",
        "\n",
        "Let:\n",
        "- x = the number of Aqua-Spas produced\n",
        "- y = the number of Hydro-Luxes produced"
      ]
    },
    {
      "cell_type": "markdown",
      "id": "2a2cab0e",
      "metadata": {
        "id": "2a2cab0e"
      },
      "source": [
        "## Formulate the Objective Function\n",
        "\n",
        "The objective function has been loosely defined as revenue. We formulate the porblem as a simple linear function of total profit, as the sum of of the sales of both products.\n",
        "We know that the profit of a Aqua-Spa is \\\\$ 350 and that that of a Hydro-Lux \\\\$ 300\n",
        "\n",
        "- 350 * x + 300 * y"
      ]
    },
    {
      "cell_type": "markdown",
      "id": "3672f252",
      "metadata": {
        "id": "3672f252"
      },
      "source": [
        "## Formulate the Constraints\n",
        "\n",
        "We have the following constraints\n",
        "\n",
        "The producer only has 200 pumps available\n",
        "- x+y <= 200.\n",
        "\n",
        "We only have 1566 available labor hours. Each Aqua-Spa requires 9 hours of labor, Each Hydro-Lux requires 6 hours.\n",
        "- 9 * x + 6 * y <= 1566.\n",
        "\n",
        "We have only 2,880 feet of tubing available. Each Aqua-Spa requires 12 feet of tubing, Each Hydro-Lux requires 16 feet.\n",
        "- 12 * x + 16 * y <= 2880."
      ]
    },
    {
      "cell_type": "code",
      "execution_count": 1,
      "id": "7fed8160",
      "metadata": {
        "colab": {
          "base_uri": "https://localhost:8080/",
          "height": 872
        },
        "id": "7fed8160",
        "outputId": "d36f0f8c-2867-46f9-80b4-697c8fb5beb8"
      },
      "outputs": [
        {
          "data": {
            "text/plain": [
              "Text(0, 0.5, '$y$')"
            ]
          },
          "execution_count": 1,
          "metadata": {},
          "output_type": "execute_result"
        },
        {
          "data": {
            "image/png": "[encoded data removed]",
            "text/plain": [
              "<Figure size 720x720 with 1 Axes>"
            ]
          },
          "metadata": {
            "needs_background": "light"
          },
          "output_type": "display_data"
        }
      ],
      "source": [
        "import numpy as np\n",
        "import matplotlib.pyplot as plt\n",
        "\n",
        "# plotting a line plot after changing it's width and height\n",
        "f = plt.figure()\n",
        "f.set_figwidth(10)\n",
        "f.set_figheight(10)\n",
        "\n",
        "d = np.linspace(0,250,300)\n",
        "x,y = np.meshgrid(d,d)\n",
        "#Plot fei\n",
        "plt.imshow( ((y<=200-(1*x)) & (6*y<=1566-(x*9)) & (16*y<=2880-(x*12))).astype(int) ,\n",
        "                extent=(x.min(),x.max(),y.min(),y.max()),origin=\"lower\", cmap=\"Greys\", alpha = 0.3);\n",
        "\n",
        "x = np.linspace(0, 250, 2000)\n",
        "\n",
        "y1 = 200 - (1*x) #pump constraint\n",
        "y2 = (1566 - (9*x))/6 #labor constraint\n",
        "y3 = (2880 - (12*x))/16 #tube constraint\n",
        "\n",
        "plt.plot(x,y1, label='$x + y \\leq 200$ pumps') # maximum 200 pumps\n",
        "plt.plot(x,y2, label='$9x + 6y \\leq 1566$ hours of labor') # maximum 1566 labor hours\n",
        "plt.plot(x,y3, label='$12x + 16y \\leq 2880$ feet of tube') # maximum 2880 feet of tube\n",
        "\n",
        "plt.xlim(0,300)\n",
        "plt.ylim(0,300)\n",
        "plt.legend(bbox_to_anchor=(1.05, 1), loc=2, borderaxespad=0.)\n",
        "plt.xlabel(r'$x$')\n",
        "plt.ylabel(r'$y$')\n"
      ]
    },
    {
      "cell_type": "markdown",
      "id": "5513a1da",
      "metadata": {
        "id": "5513a1da"
      },
      "source": [
        "## Gurobi Model\n",
        "\n",
        "First, start your Python file with a heading and the import Gurubi statement:"
      ]
    },
    {
      "cell_type": "code",
      "execution_count": 2,
      "id": "4bea298c",
      "metadata": {
        "id": "4bea298c"
      },
      "outputs": [],
      "source": [
        "# import gurobi library\n",
        "import gurobipy as gp         #Gurobi Python interface\n",
        "from gurobipy import GRB      #Import as shortcut to avoid writing GP.grb\n",
        "from itertools import product\n"
      ]
    },
    {
      "cell_type": "markdown",
      "id": "b4fa5331",
      "metadata": {
        "id": "b4fa5331"
      },
      "source": [
        "The model variable is created using the Model function, with the usual input parameters."
      ]
    },
    {
      "cell_type": "code",
      "execution_count": 3,
      "id": "21340619",
      "metadata": {
        "id": "21340619"
      },
      "outputs": [
        {
          "name": "stdout",
          "output_type": "stream",
          "text": [
            "Restricted license - for non-production use only - expires 2024-10-28\n"
          ]
        }
      ],
      "source": [
        "#Define model\n",
        "m = gp.Model('Hot_Tub')"
      ]
    },
    {
      "cell_type": "markdown",
      "id": "129cd59a",
      "metadata": {
        "id": "129cd59a"
      },
      "source": [
        "Initialize the decision variables. We set a constraint for non-negativity using the lb parameter"
      ]
    },
    {
      "cell_type": "code",
      "execution_count": 4,
      "id": "c3b0b3f1",
      "metadata": {
        "id": "c3b0b3f1"
      },
      "outputs": [],
      "source": [
        "# Decision variables\n",
        "x = m.addVar(vtype=GRB.CONTINUOUS, lb=0, name='AQUA_SPA')\n",
        "y = m.addVar(vtype=GRB.CONTINUOUS, lb=0, name='HYDRO_LUX')"
      ]
    },
    {
      "cell_type": "markdown",
      "id": "416a2634",
      "metadata": {
        "id": "416a2634"
      },
      "source": [
        "Add the objective function to the model, we choose to maximize the objective function"
      ]
    },
    {
      "cell_type": "code",
      "execution_count": 5,
      "id": "bb23eec2",
      "metadata": {
        "id": "bb23eec2"
      },
      "outputs": [],
      "source": [
        "# The objective is to maximize the profit\n",
        "m.setObjective(350*x+300*y,GRB.MAXIMIZE)"
      ]
    },
    {
      "cell_type": "markdown",
      "id": "b2e7863c",
      "metadata": {
        "id": "b2e7863c"
      },
      "source": [
        "Add the constraints to the model"
      ]
    },
    {
      "cell_type": "code",
      "execution_count": 6,
      "id": "5424f4fd",
      "metadata": {
        "id": "5424f4fd"
      },
      "outputs": [
        {
          "data": {
            "text/plain": [
              "<gurobi.Constr *Awaiting Model Update*>"
            ]
          },
          "execution_count": 6,
          "metadata": {},
          "output_type": "execute_result"
        }
      ],
      "source": [
        "# Pump constraint\n",
        "m.addConstr(x+y<=200,'PUMP_LIMIT')\n",
        "# Tubing Constraint\n",
        "m.addConstr(12*x+16*y<=2880,'TUBING_LIMIT')\n",
        "# Labor Constraint\n",
        "m.addConstr(9*x+6*y<=1566,'LABOR_LIMIT')"
      ]
    },
    {
      "cell_type": "markdown",
      "id": "ee67eb6c",
      "metadata": {
        "id": "ee67eb6c"
      },
      "source": [
        "Write the model specifiction to a text file for possible evalation."
      ]
    },
    {
      "cell_type": "code",
      "execution_count": 7,
      "id": "cb42297a",
      "metadata": {
        "id": "cb42297a"
      },
      "outputs": [],
      "source": [
        "# save model for inspection\n",
        "m.write('HOTTUBS.lp')"
      ]
    },
    {
      "cell_type": "code",
      "execution_count": 8,
      "id": "a23f3672",
      "metadata": {
        "id": "a23f3672"
      },
      "outputs": [
        {
          "name": "stdout",
          "output_type": "stream",
          "text": [
            "Gurobi Optimizer version 10.0.2 build v10.0.2rc0 (win64)\n",
            "\n",
            "CPU model: AMD Ryzen 7 4800H with Radeon Graphics, instruction set [SSE2|AVX|AVX2]\n",
            "Thread count: 8 physical cores, 16 logical processors, using up to 16 threads\n",
            "\n",
            "Optimize a model with 3 rows, 2 columns and 6 nonzeros\n",
            "Model fingerprint: 0x608dce1c\n",
            "Coefficient statistics:\n",
            "  Matrix range     [1e+00, 2e+01]\n",
            "  Objective range  [3e+02, 4e+02]\n",
            "  Bounds range     [0e+00, 0e+00]\n",
            "  RHS range        [2e+02, 3e+03]\n",
            "Presolve time: 0.01s\n",
            "Presolved: 3 rows, 2 columns, 6 nonzeros\n",
            "\n",
            "Iteration    Objective       Primal Inf.    Dual Inf.      Time\n",
            "       0    1.6250000e+32   4.687500e+30   1.625000e+02      0s\n",
            "       2    6.6100000e+04   0.000000e+00   0.000000e+00      0s\n",
            "\n",
            "Solved in 2 iterations and 0.01 seconds (0.00 work units)\n",
            "Optimal objective  6.610000000e+04\n"
          ]
        }
      ],
      "source": [
        "# Solve the problem by running optimization engine\n",
        "m.optimize()"
      ]
    },
    {
      "cell_type": "markdown",
      "id": "299b20f4",
      "metadata": {
        "id": "299b20f4"
      },
      "source": [
        "The solution by the model is optimal, you can see that Gurobi reports to have solved the problem."
      ]
    },
    {
      "cell_type": "code",
      "execution_count": 10,
      "id": "32b21077",
      "metadata": {
        "id": "32b21077",
        "scrolled": true
      },
      "outputs": [
        {
          "name": "stdout",
          "output_type": "stream",
          "text": [
            "objective: 66100.0\n"
          ]
        }
      ],
      "source": [
        "#Print optimal objective value\n",
        "print(f\"objective: {m.objVal}\")"
      ]
    },
    {
      "cell_type": "markdown",
      "id": "e2fa7d1d",
      "metadata": {
        "id": "e2fa7d1d"
      },
      "source": [
        "The optimal product-mix reaches a profit of \\$ 66,100 dollar."
      ]
    },
    {
      "cell_type": "markdown",
      "id": "921d2e97",
      "metadata": {
        "id": "921d2e97"
      },
      "source": [
        "We reach the maximal number of pumps and labor hours. Our solution is 168 feet of tube below what was available."
      ]
    },
    {
      "cell_type": "code",
      "execution_count": 12,
      "id": "b2d9e2d5",
      "metadata": {},
      "outputs": [
        {
          "name": "stdout",
          "output_type": "stream",
          "text": [
            "PUMP_LIMIT LHS 200.0\n",
            "TUBING_LIMIT LHS 2712.0\n",
            "LABOR_LIMIT LHS 1566.0\n"
          ]
        }
      ],
      "source": [
        "#print LHS\n",
        "for constr in m.getConstrs():\n",
        "  print(f'{constr.ConstrName} LHS {m.getRow(constr).getValue()}')"
      ]
    },
    {
      "cell_type": "code",
      "execution_count": 11,
      "id": "52904922",
      "metadata": {
        "id": "52904922"
      },
      "outputs": [
        {
          "name": "stdout",
          "output_type": "stream",
          "text": [
            "AQUA_SPA: 122.0\n",
            "HYDRO_LUX: 78.0\n"
          ]
        }
      ],
      "source": [
        "# display optimal values of decision variables\n",
        "for var in m.getVars():\n",
        "    if abs(var.x) > 1e-6:\n",
        "        print(\"{0}: {1}\".format(var.varName, var.x))"
      ]
    },
    {
      "cell_type": "markdown",
      "id": "9945699b",
      "metadata": {
        "id": "9945699b"
      },
      "source": [
        "The optimal product-mix is 122 units of Aqua-Spas and 78 Hydro-luxes."
      ]
    }
  ],
  "metadata": {
    "colab": {
      "provenance": []
    },
    "kernelspec": {
      "display_name": "Python 3 (ipykernel)",
      "language": "python",
      "name": "python3"
    },
    "language_info": {
      "codemirror_mode": {
        "name": "ipython",
        "version": 3
      },
      "file_extension": ".py",
      "mimetype": "text/x-python",
      "name": "python",
      "nbconvert_exporter": "python",
      "pygments_lexer": "ipython3",
      "version": "3.10.1"
    }
  },
  "nbformat": 4,
  "nbformat_minor": 5
}
