{
  "cells": [
    {
      "cell_type": "markdown",
      "metadata": {
        "id": "h6M4XNFJ7wvd"
      },
      "source": [
        "# Banner\tChemicals\n",
        "\n",
        "## Problem statement\n",
        "\n",
        "Banner Chemicals manufactures specialty chemicals, one of their products comes in two grades, high and supreme. The capacity at the plant is 110 barrels per week. The high grade requires 3 gallons of additive A and 1 gallon of additive B per barrel while the supreme grade requires 2 gallons of additive A and 3 gallons of additive B per barrel.\n",
        "\n",
        "The supply of both of these additives is quite limited. Each week, this product line is allocated only 300 gallons of additive A per week and 280 gallons of additive B. A barrel of the high grade has a profit margin of $\\$80$ per barrel while the supreme grade has a profit margin of $\\$200$ per barrel. \\\\\n",
        "**Question: How many barrels of High and Supreme grade should Banner Chemicals produce each week?**\n",
        "\n",
        "## Decision variables\n",
        "\n",
        "   $X_H$ = Number of High grade barrels to produce per week\n",
        "\n",
        "   $X_S$ = Number of Supreme grade barrels to produce per week\n",
        "\n",
        "$\\text{Bounds:}\\;\\;X_H >= 0 \\;,\\; X_S >= 0$\n",
        "## Constraints\n",
        "\n",
        "### Plant Capacity\n",
        "The plant can produce 110 barrels per week\n",
        "$$X_H +X_S <= 110$$\n",
        "\n",
        "### Resources constraints\n",
        "\n",
        "#### Additive A\n",
        "The high grade requires 3 gallons of additive A while the supreme grade requires 2 gallons of additive A. Only 300 gallons of additive A per week is available.\n",
        "\n",
        "$$\n",
        "3 X_H + 2 X_S <= 300\n",
        "$$\n",
        "#### Additive B\n",
        "\n",
        "The high grade requires 1 gallon of additive B per barrel while the supreme grade requires 3 gallons of additive B per barrel.  Only 300 gallons of additive B per week is available.\n",
        "\n",
        "$$\n",
        "X_H + 3 X_S <= 280\n",
        "$$\n",
        "## Objective function\n",
        "\n",
        "The objective function is the maxium the profit by finding the most profitable product-mix\n",
        "\n",
        "$$\n",
        "\\text{Profit} = 80 \\dot X_H + 200 \\dot X_S\n",
        "$$\n",
        "\n"
      ]
    },
    {
      "cell_type": "markdown",
      "metadata": {
        "id": "xVWpWbdF7wvh"
      },
      "source": [
        "First, let's install gurobipy as needed"
      ]
    },
    {
      "cell_type": "code",
      "execution_count": null,
      "metadata": {
        "id": "NvVDL4_Y7wvh",
        "colab": {
          "base_uri": "https://localhost:8080/"
        },
        "outputId": "204a5e7e-8852-4a79-9083-8252f6711951"
      },
      "outputs": [
        {
          "output_type": "stream",
          "name": "stdout",
          "text": [
            "Collecting gurobipy\n",
            "  Downloading gurobipy-10.0.2-cp310-cp310-manylinux2014_x86_64.whl (12.7 MB)\n",
            "\u001b[2K     \u001b[90m━━━━━━━━━━━━━━━━━━━━━━━━━━━━━━━━━━━━━━━━\u001b[0m \u001b[32m12.7/12.7 MB\u001b[0m \u001b[31m25.3 MB/s\u001b[0m eta \u001b[36m0:00:00\u001b[0m\n",
            "\u001b[?25hInstalling collected packages: gurobipy\n",
            "Successfully installed gurobipy-10.0.2\n"
          ]
        }
      ],
      "source": [
        "%pip install gurobipy"
      ]
    },
    {
      "cell_type": "code",
      "execution_count": null,
      "metadata": {
        "id": "BflH6sQt7wvi"
      },
      "outputs": [],
      "source": [
        "# import gurobi library\n",
        "import gurobipy as gp         #Gurobi Python interface\n",
        "from gurobipy import GRB      #Import as shortcut to avoid writing GP.grb"
      ]
    },
    {
      "cell_type": "code",
      "execution_count": null,
      "metadata": {
        "id": "qs32lpen7wvk",
        "colab": {
          "base_uri": "https://localhost:8080/"
        },
        "outputId": "405f4668-db33-45b5-dcd1-4572742e375a"
      },
      "outputs": [
        {
          "output_type": "stream",
          "name": "stdout",
          "text": [
            "Restricted license - for non-production use only - expires 2024-10-28\n"
          ]
        }
      ],
      "source": [
        "#Define model\n",
        "m ="
      ]
    },
    {
      "cell_type": "markdown",
      "metadata": {
        "id": "OQBQ65-e7wvk"
      },
      "source": [
        "## Decision variables\n",
        "\n",
        "The decision variable $x_h$ represents the barrels of High Grade chemicals produced and the decision variable $x_s$ represents the barrels of Supreme chemicals produced.\n",
        "\n",
        "The “addVar()” method defines the decision variable of the model object “m”. The vtype GRB.INTEGER requires non-negative integers."
      ]
    },
    {
      "cell_type": "code",
      "execution_count": null,
      "metadata": {
        "id": "jA_NkVAT7wvl"
      },
      "outputs": [],
      "source": [
        "#Add variables\n",
        "Xh =\n",
        "Xs ="
      ]
    },
    {
      "cell_type": "markdown",
      "metadata": {
        "id": "sOUU5SqF7wvl"
      },
      "source": [
        "## Resource constraints\n",
        "\n",
        "We add the plant capacity constraint and the two additive constraints to our defined model.\n",
        "\n",
        "The “addConstr()” method defines the constraints of the model object “m”."
      ]
    },
    {
      "cell_type": "code",
      "execution_count": null,
      "metadata": {
        "id": "7R1KB-Pc7wvl",
        "colab": {
          "base_uri": "https://localhost:8080/"
        },
        "outputId": "93481912-7a02-477c-945f-4500a8de4ad2"
      },
      "outputs": [
        {
          "output_type": "execute_result",
          "data": {
            "text/plain": [
              "<gurobi.Constr *Awaiting Model Update*>"
            ]
          },
          "metadata": {},
          "execution_count": 5
        }
      ],
      "source": [
        "# Plant capacity\n",
        "\n",
        "\n",
        "# Additive capacity\n"
      ]
    },
    {
      "cell_type": "markdown",
      "metadata": {
        "id": "WvqRPEhX7wvm"
      },
      "source": [
        "## Objective Function\n",
        "\n",
        "The objective function is to maximize the profit by producing the most profitable product mix.\n",
        "\n",
        "$$\n",
        "\\text{Profit} = 80 \\dot X_H + 200 \\dot X_S\n",
        "$$\n",
        "\n",
        "The “setObjective()” method defines the objective function of the model object “m”."
      ]
    },
    {
      "cell_type": "code",
      "execution_count": null,
      "metadata": {
        "id": "16q1hHjt7wvm"
      },
      "outputs": [],
      "source": [
        "# The objective is to maximize the profit.\n"
      ]
    },
    {
      "cell_type": "code",
      "execution_count": null,
      "metadata": {
        "id": "-U6MJy9G7wvm"
      },
      "outputs": [],
      "source": [
        "# save model for inspection\n"
      ]
    },
    {
      "cell_type": "code",
      "execution_count": null,
      "metadata": {
        "scrolled": true,
        "id": "ebYEAu-A7wvm"
      },
      "outputs": [],
      "source": [
        "# run optimization engine\n"
      ]
    },
    {
      "cell_type": "code",
      "source": [
        "#Print optimal objective value\n",
        "print(f\"Optimal objective value: {m.objVal}\\n\")\n",
        "# display optimal values of decision variables\n",
        "for var in m.getVars():\n",
        "    if abs(var.x) > 1e-6:\n",
        "        print(\"{0}: {1}\".format(var.varName, var.x))"
      ],
      "metadata": {
        "id": "sK7wzHQ8EgKq"
      },
      "execution_count": null,
      "outputs": []
    },
    {
      "cell_type": "markdown",
      "source": [
        "The provided Gurobi log describes the optimization of a mathematical model using the Gurobi solver. Here's a breakdown of the key elements in the log:\n",
        "\n",
        "- Gurobi Version Information:\n",
        "\n",
        "  It specifies the version of Gurobi being used, including the version number and build details.\n",
        "  It also provides information about the CPU model and the number of available threads for parallel processing.\n",
        "- Model Information:\n",
        "\n",
        "  This section describes the optimization problem being solved:\n",
        "  The model has 3 rows (constraints), 2 columns (variables), and 6 non-zero coefficients in its constraint matrix.\n",
        "  Variable types consist of 2 integer variables, both of which are not binary.\n",
        "  Coefficient statistics provide information about the range of coefficient values in the model, objective function coefficients, variable bounds, and right-hand side (RHS) values for constraints.\n",
        "  The presolve phase removed redundant information, reducing the model's size.\n",
        "- Initial Heuristic Solution:\n",
        "\n",
        "  The solver found an initial heuristic solution with an objective value of 8000. This solution may have been obtained using heuristic algorithms to provide an initial starting point for the optimization process.\n",
        "- Root Relaxation:\n",
        "\n",
        "  Before the solver enters the main optimization process, it performs a relaxation of the original problem known as the \"root relaxation.\" In this relaxation, integer variables are allowed to take non-integer values, treating them as continuous variables.\n",
        "  The result of the root relaxation is an objective value of approximately 19,000 after 2 simplex iterations.\n",
        "- Node Exploration:\n",
        "\n",
        "  The solver explores nodes in a branch-and-bound search tree.\n",
        "  The \"Nodes\" column indicates the number of nodes explored.\n",
        "  The \"Current Node\" column provides details about the current node being explored.\n",
        "  The \"Objective Bounds\" column displays the current best-known upper and lower bounds on the objective function value.\n",
        "  The \"Gap\" represents the optimality gap, indicating how close the current best solution is to the lower bound.\n",
        "  An asterisk (*) indicates that an optimal solution was found at node 0 with an objective value of 19,000.\n",
        "- Thread Information:\n",
        "\n",
        "  The solver utilized 2 threads out of the 2 available processors for parallel processing.\n",
        "\n",
        "- Solution Summary:\n",
        "\n",
        "  The \"Solution count\" indicates that the solver found three solutions during the optimization process.\n",
        "  The \"Optimal solution found\" message confirms that an optimal solution was found within the specified optimality tolerance.\n",
        "  \"Best objective\" provides the final optimal objective function value, which is approximately 19,000, and indicates that the optimality gap is 0.0000%, meaning that the solver proved that the solution is indeed optimal within the specified tolerance.\n",
        "\n",
        "In summary, the Gurobi log demonstrates that the solver successfully found an optimal solution to the optimization problem, with an objective value of approximately 19,000, meeting the specified optimality tolerance. The Simplex algorithm played a role in this process, especially in the root relaxation and node exploration phases, where it iteratively improved the objective function value while respecting the problem's constraints.\n",
        "\n",
        "(Interpretation by ChatGPT)"
      ],
      "metadata": {
        "id": "jB2T1ajwprI8"
      }
    },
    {
      "cell_type": "markdown",
      "source": [
        "## Acknowledgements\n",
        "\n",
        "GoNuts is an example created by Chris Caplice and and the MITx MicroMasters® Program in Supply Chain Management"
      ],
      "metadata": {
        "id": "GoltI9_5NGjx"
      }
    }
  ],
  "metadata": {
    "kernelspec": {
      "display_name": "Python 3",
      "language": "python",
      "name": "python3"
    },
    "language_info": {
      "codemirror_mode": {
        "name": "ipython",
        "version": 3
      },
      "file_extension": ".py",
      "mimetype": "text/x-python",
      "name": "python",
      "nbconvert_exporter": "python",
      "pygments_lexer": "ipython3",
      "version": "3.9.2"
    },
    "colab": {
      "provenance": []
    }
  },
  "nbformat": 4,
  "nbformat_minor": 0
}