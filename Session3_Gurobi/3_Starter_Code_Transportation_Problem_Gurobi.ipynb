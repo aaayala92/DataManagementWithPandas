{
  "cells": [
    {
      "cell_type": "code",
      "execution_count": 1,
      "id": "cb9fde76",
      "metadata": {
        "id": "cb9fde76"
      },
      "outputs": [
        {
          "name": "stdout",
          "output_type": "stream",
          "text": [
            "Requirement already satisfied: gurobipy in c:\\users\\artur\\appdata\\local\\programs\\python\\python310\\lib\\site-packages (10.0.2)\n",
            "Requirement already satisfied: numpy in c:\\users\\artur\\appdata\\local\\programs\\python\\python310\\lib\\site-packages (1.23.3)\n",
            "Requirement already satisfied: pandas in c:\\users\\artur\\appdata\\local\\programs\\python\\python310\\lib\\site-packages (1.4.4)\n",
            "Requirement already satisfied: python-dateutil>=2.8.1 in c:\\users\\artur\\appdata\\local\\programs\\python\\python310\\lib\\site-packages (from pandas) (2.8.2)\n",
            "Requirement already satisfied: pytz>=2020.1 in c:\\users\\artur\\appdata\\local\\programs\\python\\python310\\lib\\site-packages (from pandas) (2022.2.1)\n",
            "Requirement already satisfied: six>=1.5 in c:\\users\\artur\\appdata\\local\\programs\\python\\python310\\lib\\site-packages (from python-dateutil>=2.8.1->pandas) (1.16.0)\n"
          ]
        },
        {
          "name": "stderr",
          "output_type": "stream",
          "text": [
            "WARNING: You are using pip version 21.2.4; however, version 23.2.1 is available.\n",
            "You should consider upgrading via the 'C:\\Users\\artur\\AppData\\Local\\Programs\\Python\\Python310\\python.exe -m pip install --upgrade pip' command.\n"
          ]
        }
      ],
      "source": [
        "#Install gurobi dependency by uncommenting following line:\n",
        "!pip install gurobipy numpy pandas"
      ]
    },
    {
      "cell_type": "markdown",
      "id": "7b1ba2de",
      "metadata": {
        "id": "7b1ba2de"
      },
      "source": [
        "# A Transportation Problem\n",
        "\n",
        "## Problem Description\n",
        "\n",
        "A boutique brewery has two warehouses from which it distributes beer to five carefully chosen bars. At the start of every week, each bar sends an order to the brewery’s head office for so many crates of beer, which is then dispatched from the appropriate warehouse to the bar. The brewery would like to have an interactive computer program which they can run week by week to tell them which warehouse should supply which bar so as to minimize the costs of the whole operation. For example, suppose that at the start of a given week the brewery has 1000 cases at warehouse A, and 4000 cases at warehouse B, and that the bars require 500, 900, 1800, 200, and 700 cases respectively. Which warehouse should supply which bar?"
      ]
    },
    {
      "cell_type": "markdown",
      "id": "c40c3bab",
      "metadata": {
        "id": "c40c3bab"
      },
      "source": [
        "## Formulation\n",
        "For transportation problems, using a graphical representation of the problem is often helpful during formulation. Here is a graphical representation of The Beer Distribution Problem.\n",
        "\n",
        "![brewery_nodes.jpg](https://www.coin-or.org/PuLP/_images/brewery_nodes.jpg)"
      ]
    },
    {
      "cell_type": "markdown",
      "id": "d9d59567",
      "metadata": {
        "id": "d9d59567"
      },
      "source": [
        "## Identify the Decision Variables\n",
        "\n",
        "In transportation problems we are deciding how to transport goods from their supply nodes to their demand nodes. The decision variables are the Arcs connecting these nodes, as shown in the diagram below. We are deciding how many crates of beer to transport from each warehouse to each pub.\n",
        "\n",
        "![brewery_arcs.jpg](https://www.coin-or.org/PuLP/_images/brewery_arcs.jpg)\n",
        "\n",
        "Let:\n",
        "- A1 = number of crates of beer to ship from Warehouse A to Bar 1\n",
        "- A5 = number of crates of beer to ship from Warehouse A to Bar 5\n",
        "- B1 = number of crates of beer to ship from Warehouse B to Bar 1\n",
        "- B5 = number of crates of beer to ship from Warehouse B to Bar 5"
      ]
    },
    {
      "cell_type": "markdown",
      "id": "a928b6c1",
      "metadata": {
        "id": "a928b6c1"
      },
      "source": [
        "![6e22bc037817c4d46d068fe3d24df3246fbdf4f8.png](https://www.coin-or.org/PuLP/_images/math/6e22bc037817c4d46d068fe3d24df3246fbdf4f8.png)\n",
        "\n",
        "\n",
        "The lower bound on the variables is Zero, and the values must all be Integers (since the number of crates cannot be negative or fractional). There is no upper bound."
      ]
    },
    {
      "cell_type": "markdown",
      "id": "774e8d18",
      "metadata": {
        "id": "774e8d18"
      },
      "source": [
        "## Formulate the Objective Function\n",
        "\n",
        "The objective function has been loosely defined as cost. The problem can only be formulated as a linear program if the cost of transportation from warehouse to pub is a linear function of the amounts of crates transported. Note that this is sometimes not the case. This may be due to factors such as economies of scale or fixed costs. For example, transporting 10 crates may not cost 10 times as much as transporting one crate, since it may be the case that one truck can accommodate 10 crates as easily as one. Usually in this situation there are fixed costs in operating a truck which implies that the costs go up in jumps (when an extra truck is required). In these situations, it is possible to model such a cost by using zero-one integer variables.\n",
        "\n",
        "We shall assume then that there is a fixed transportation cost per crate. (If the capacity of a truck is small compared with the number of crates that must be delivered then this is a valid assumption). Lets assume we talk with the financial manager, and she gives us the following transportation costs (dollars per crate):\n",
        "\n",
        "|From Warehouse to Bar|A|B|\n",
        "| --- | --- | --- |\n",
        "|1|2|3|\n",
        "|2|4|1|\n",
        "|3|5|3|\n",
        "|4|2|2|\n",
        "|5|1|3|\n",
        "\n",
        "Minimise the Transporting Costs = Cost per crate for RouteA1 * A1 (number of crates on RouteA1) + ... + Cost per crate for RouteB5 * B5 (number of crates on RouteB5)\n",
        "\n",
        "![6fec37a5f986724e3414e35e56081ae1e1745115.png](https://www.coin-or.org/PuLP/_images/math/6fec37a5f986724e3414e35e56081ae1e1745115.png)"
      ]
    },
    {
      "cell_type": "markdown",
      "id": "78e0c350",
      "metadata": {
        "id": "78e0c350"
      },
      "source": [
        "## Formulate the Constraints\n",
        "\n",
        "The constraints come from considerations of supply and demand. The supply of beer at warehouse A is 1000 cases. The total amount of beer shipped from warehouse A cannot exceed this amount. Similarly, the amount of beer shipped from warehouse B cannot exceed the supply of beer at warehouse B. The sum of the values on all the arcs leading out of a warehouse, must be less than or equal to the supply value at that warehouse:\n",
        "\n",
        "Such that:\n",
        "\n",
        "- A1 + A2 + A3 + A4 + A5 <= 1000\n",
        "- B1 + B2 + B3 + B4 + B5 <= 4000\n",
        "\n",
        "![0e57edac5e6f1152e622250b16c332b084d62c40.png](https://www.coin-or.org/PuLP/_images/math/0e57edac5e6f1152e622250b16c332b084d62c40.png)"
      ]
    },
    {
      "cell_type": "markdown",
      "id": "2d35d379",
      "metadata": {
        "id": "2d35d379"
      },
      "source": [
        "The demand for beer at bar 1 is 500 cases, so the amount of beer delivered there must be at least 500 to avoid lost sales. Similarly, considering the amounts delivered to the other bars must be at least equal to the demand at those bars. Note, we are assuming there are no penalties for oversupplying bars (other than the extra transportation cost we incur). We can _balance_ the transportation problem to make sure that demand is met exactly - there will be more on this later. For now, the sum of the values on all the arcs leading into a bar, must be greater than or equal to the demand value at that bar:\n",
        "\n",
        "\n",
        "- A1 + B1 >= 500\n",
        "- A2 + B2 >= 900\n",
        "- A3 + B3 >= 1800\n",
        "- A4 + B4 >= 200\n",
        "- A5 + B5 >= 700\n",
        "\n",
        "![cc15edd9db6d9dbab572c9441f343b131262afd2.png](https://www.coin-or.org/PuLP/_images/math/cc15edd9db6d9dbab572c9441f343b131262afd2.png)\n",
        "\n",
        "Finally, we have already specified the amount of beer shipped must be non-negative."
      ]
    },
    {
      "cell_type": "markdown",
      "id": "e364538f",
      "metadata": {
        "id": "e364538f"
      },
      "source": [
        "## Gurobi Model\n",
        "\n",
        "First, start your Python file with a heading and the import Gurobi statement:"
      ]
    },
    {
      "cell_type": "code",
      "execution_count": 2,
      "id": "fb96ddeb",
      "metadata": {
        "id": "fb96ddeb"
      },
      "outputs": [],
      "source": [
        "\"\"\"\n",
        "The Beer Distribution Problem for the Gurobi\n",
        "\"\"\"\n",
        "\n",
        "# import gurobi library\n",
        "import gurobipy as gp         #Gurobi Python interface\n",
        "from gurobipy import GRB      #Import as shortcut to avoid writing GP.grb\n",
        "from itertools import product #product creates the cartesian product from 2 or more lists."
      ]
    },
    {
      "cell_type": "markdown",
      "id": "d8f00f77",
      "metadata": {
        "id": "d8f00f77"
      },
      "source": [
        "The start of the formulation is a simple definition of the nodes and their limits/capacities. The node names are put into lists, and their associated capacities are put into dictionaries with the node names as the reference keys:"
      ]
    },
    {
      "cell_type": "code",
      "execution_count": 3,
      "id": "f4f513e5",
      "metadata": {
        "id": "f4f513e5"
      },
      "outputs": [],
      "source": [
        "# Creates a list of all the supply nodes\n",
        "Warehouses = [\"A\",\"B\"]\n",
        "\n",
        "# Creates a dictionary for the number of units of supply for each supply node\n",
        "supply = {\"A\": 1000,\n",
        "          \"B\": 4000}\n",
        "\n",
        "# Creates a list of all demand nodes\n",
        "Bars = [\"1\", \"2\", \"3\", \"4\", \"5\"]\n",
        "\n",
        "# Creates a dictionary for the number of units of demand for each demand node\n",
        "demand = {\"1\": 500,\n",
        "          \"2\": 900,\n",
        "          \"3\": 1800,\n",
        "          \"4\": 200,\n",
        "          \"5\": 700}"
      ]
    },
    {
      "cell_type": "markdown",
      "id": "ff91fd5b",
      "metadata": {
        "id": "ff91fd5b"
      },
      "source": [
        "Then we create a dictonary with as key as tuple with (Bar, Warehouse) and as value the the shipping cost.\n",
        "if costs[(“A”,“1”)] is called it will return the cost of from warehouse A to bar 1."
      ]
    },
    {
      "cell_type": "code",
      "execution_count": 4,
      "id": "5a3541b3",
      "metadata": {
        "id": "5a3541b3"
      },
      "outputs": [],
      "source": [
        "costs = {('A', '1'): 2,\n",
        "         ('A', '2'): 4,\n",
        "         ('A', '3'): 5,\n",
        "         ('A', '4'): 2,\n",
        "         ('A', '5'): 1,\n",
        "         ('B', '1'): 3,\n",
        "         ('B', '2'): 1,\n",
        "         ('B', '3'): 3,\n",
        "         ('B', '4'): 2,\n",
        "         ('B', '5'): 3}"
      ]
    },
    {
      "cell_type": "markdown",
      "id": "9dd9edfd",
      "metadata": {
        "id": "9dd9edfd"
      },
      "source": [
        "The prob variable is created using the LpProblem function, with the usual input parameters."
      ]
    },
    {
      "cell_type": "code",
      "execution_count": 5,
      "id": "5279042f",
      "metadata": {
        "id": "5279042f"
      },
      "outputs": [
        {
          "name": "stdout",
          "output_type": "stream",
          "text": [
            "Restricted license - for non-production use only - expires 2024-10-28\n"
          ]
        }
      ],
      "source": [
        "# Creates the prob variable to contain the problem data\n",
        "m =gp.Model('BeerDistributionProblem')"
      ]
    },
    {
      "cell_type": "markdown",
      "id": "5adcfa13",
      "metadata": {
        "id": "5adcfa13"
      },
      "source": [
        "A list of tuples is created containing all the arcs."
      ]
    },
    {
      "cell_type": "code",
      "execution_count": 6,
      "id": "8ad7acdc",
      "metadata": {
        "id": "8ad7acdc"
      },
      "outputs": [],
      "source": [
        "# Creates a list of tuples containing all the possible routes for transport\n",
        "Routes = [(w,b) for w in Warehouses for b in Bars]"
      ]
    },
    {
      "cell_type": "code",
      "execution_count": 7,
      "id": "2df99e96",
      "metadata": {},
      "outputs": [
        {
          "data": {
            "text/plain": [
              "[('A', '1'),\n",
              " ('A', '2'),\n",
              " ('A', '3'),\n",
              " ('A', '4'),\n",
              " ('A', '5'),\n",
              " ('B', '1'),\n",
              " ('B', '2'),\n",
              " ('B', '3'),\n",
              " ('B', '4'),\n",
              " ('B', '5')]"
            ]
          },
          "execution_count": 7,
          "metadata": {},
          "output_type": "execute_result"
        }
      ],
      "source": [
        "Routes"
      ]
    },
    {
      "cell_type": "markdown",
      "id": "17724094",
      "metadata": {
        "id": "17724094"
      },
      "source": [
        "A dictionary called route_var is created which contains the LP variables. The reference keys to the dictionary are the warehouse name, then the bar name as as tuple. By setting the data-type with vtype as an Integer we restrict the decision variables to be 0 or higher."
      ]
    },
    {
      "cell_type": "code",
      "execution_count": 8,
      "id": "378323fa",
      "metadata": {
        "id": "378323fa"
      },
      "outputs": [
        {
          "data": {
            "text/plain": [
              "{('A', '1'): <gurobi.Var *Awaiting Model Update*>,\n",
              " ('A', '2'): <gurobi.Var *Awaiting Model Update*>,\n",
              " ('A', '3'): <gurobi.Var *Awaiting Model Update*>,\n",
              " ('A', '4'): <gurobi.Var *Awaiting Model Update*>,\n",
              " ('A', '5'): <gurobi.Var *Awaiting Model Update*>,\n",
              " ('B', '1'): <gurobi.Var *Awaiting Model Update*>,\n",
              " ('B', '2'): <gurobi.Var *Awaiting Model Update*>,\n",
              " ('B', '3'): <gurobi.Var *Awaiting Model Update*>,\n",
              " ('B', '4'): <gurobi.Var *Awaiting Model Update*>,\n",
              " ('B', '5'): <gurobi.Var *Awaiting Model Update*>}"
            ]
          },
          "execution_count": 8,
          "metadata": {},
          "output_type": "execute_result"
        }
      ],
      "source": [
        "# A dictionary called route_vars is created to contain the referenced variables (the routes)\n",
        "route_vars = m.addVars(Routes, vtype=GRB.INTEGER, name='Route')\n",
        "route_vars"
      ]
    },
    {
      "cell_type": "markdown",
      "id": "0d36d7c9",
      "metadata": {
        "id": "0d36d7c9"
      },
      "source": [
        "The objective function is added to the variable prob using a list comprehension. Since route_vars and costs are now dictionaries (with further internal dictionaries), they can be used as if they were tables, as for (w,b) in Routes will cycle through all the combinations/arcs. Note that i and j could have been used, but w and b are more meaningful."
      ]
    },
    {
      "cell_type": "code",
      "execution_count": 9,
      "id": "2d4023fd",
      "metadata": {
        "id": "2d4023fd"
      },
      "outputs": [],
      "source": [
        "#Set the objective function as the product of the number of units transported on a route with the cost of that route.\n",
        "m.setObjective(route_vars.prod(costs),GRB.MINIMIZE)"
      ]
    },
    {
      "cell_type": "markdown",
      "id": "69082e1f",
      "metadata": {
        "id": "69082e1f"
      },
      "source": [
        "The supply and demand constraints are added using a normal for loop and a list comprehension. Supply Constraints: For each warehouse in turn, the values of the decision variables (number of beer cases on arc) to each of the bars is summed, and then constrained to being less than or equal to the supply max for that warehouse. Demand Constraints: For each bar in turn, the values of the decision variables (number on arc) from each of the warehouses is summed, and then constrained to being greater than or equal to the demand minimum."
      ]
    },
    {
      "cell_type": "code",
      "execution_count": 10,
      "id": "0077f925",
      "metadata": {
        "id": "0077f925"
      },
      "outputs": [],
      "source": [
        "for w in Warehouses:\n",
        "    # route_vars.sum(w) sums up all decision variables with a tuple that starts with the value of w\n",
        "    # Eg route_vars.sum('A') is the sum of all transported units from warehouse A\n",
        "    m.addConstr(route_vars.sum(w)<=supply[w], name=f\"SupplyConstraintWarehouse{w}\")\n",
        "for b in Bars:\n",
        "    # route_vars.sum('*',b) sums up all decision variables with a tuple\n",
        "    #    where the second value is equal to the value of b\n",
        "    # Eg route_vars.sum('*','1') is the sum of all transported units to bar 1\n",
        "    m.addConstr(route_vars.sum('*',b)>=demand[b], name=f\"DemandBar{b}\")"
      ]
    },
    {
      "cell_type": "markdown",
      "id": "dceac80c",
      "metadata": {
        "id": "dceac80c"
      },
      "source": [
        "Solve the model"
      ]
    },
    {
      "cell_type": "code",
      "execution_count": 11,
      "id": "17d6b241",
      "metadata": {
        "id": "17d6b241"
      },
      "outputs": [
        {
          "name": "stdout",
          "output_type": "stream",
          "text": [
            "Gurobi Optimizer version 10.0.2 build v10.0.2rc0 (win64)\n",
            "\n",
            "CPU model: AMD Ryzen 7 4800H with Radeon Graphics, instruction set [SSE2|AVX|AVX2]\n",
            "Thread count: 8 physical cores, 16 logical processors, using up to 16 threads\n",
            "\n",
            "Optimize a model with 7 rows, 10 columns and 20 nonzeros\n",
            "Model fingerprint: 0x183ef47f\n",
            "Variable types: 0 continuous, 10 integer (0 binary)\n",
            "Coefficient statistics:\n",
            "  Matrix range     [1e+00, 1e+00]\n",
            "  Objective range  [1e+00, 5e+00]\n",
            "  Bounds range     [0e+00, 0e+00]\n",
            "  RHS range        [2e+02, 4e+03]\n",
            "Presolve removed 7 rows and 10 columns\n",
            "Presolve time: 0.01s\n",
            "Presolve: All rows and columns removed\n",
            "\n",
            "Explored 0 nodes (0 simplex iterations) in 0.02 seconds (0.00 work units)\n",
            "Thread count was 1 (of 16 available processors)\n",
            "\n",
            "Solution count 1: 8600 \n",
            "\n",
            "Optimal solution found (tolerance 1.00e-04)\n",
            "Best objective 8.600000000000e+03, best bound 8.600000000000e+03, gap 0.0000%\n"
          ]
        }
      ],
      "source": [
        "# Run the model\n",
        "m.optimize()"
      ]
    },
    {
      "cell_type": "code",
      "execution_count": 12,
      "id": "91ebcb63",
      "metadata": {
        "id": "91ebcb63"
      },
      "outputs": [
        {
          "name": "stdout",
          "output_type": "stream",
          "text": [
            "Optimal objective value: 8600.0\n",
            "\n",
            "Shipment plan:\n",
            "Ship 300.0 units to bar 1 from warehouse A\n",
            "Ship 700.0 units to bar 5 from warehouse A\n",
            "Ship 200.0 units to bar 1 from warehouse B\n",
            "Ship 900.0 units to bar 2 from warehouse B\n",
            "Ship 1800.0 units to bar 3 from warehouse B\n",
            "Ship 200.0 units to bar 4 from warehouse B\n"
          ]
        }
      ],
      "source": [
        "print(f\"Optimal objective value: {m.objVal}\")\n",
        "\n",
        "print(\"\\nShipment plan:\")\n",
        "for warehouse, bar in route_vars.keys():\n",
        "    if (abs(route_vars[warehouse, bar].x) > 0): #Only print if not 0\n",
        "        print (f\"Ship {route_vars[warehouse, bar].x} units to bar {bar} from warehouse {warehouse}\")"
      ]
    },
    {
      "cell_type": "markdown",
      "id": "60bb8513",
      "metadata": {
        "id": "60bb8513"
      },
      "source": [
        "*CC-BY-SA pulp documentation team*\n",
        "\n",
        "https://www.coin-or.org/PuLP/CaseStudies/a_transportation_problem.html\n",
        "\n",
        "https://creativecommons.org/licenses/by-sa/3.0/nz/"
      ]
    }
  ],
  "metadata": {
    "colab": {
      "provenance": []
    },
    "kernelspec": {
      "display_name": "Python 3 (ipykernel)",
      "language": "python",
      "name": "python3"
    },
    "language_info": {
      "codemirror_mode": {
        "name": "ipython",
        "version": 3
      },
      "file_extension": ".py",
      "mimetype": "text/x-python",
      "name": "python",
      "nbconvert_exporter": "python",
      "pygments_lexer": "ipython3",
      "version": "3.10.1"
    }
  },
  "nbformat": 4,
  "nbformat_minor": 5
}
