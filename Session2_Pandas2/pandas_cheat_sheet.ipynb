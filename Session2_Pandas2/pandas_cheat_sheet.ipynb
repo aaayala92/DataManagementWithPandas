{
  "nbformat": 4,
  "nbformat_minor": 0,
  "metadata": {
    "colab": {
      "name": "pandas_test.ipynb",
      "provenance": []
    },
    "kernelspec": {
      "name": "python3",
      "display_name": "Python 3"
    },
    "language_info": {
      "name": "python"
    }
  },
  "cells": [
    {
      "cell_type": "markdown",
      "metadata": {
        "id": "LnB9OmAU4T6G"
      },
      "source": [
        "0) Import pandas "
      ]
    },
    {
      "cell_type": "code",
      "metadata": {
        "id": "h6yqfx1S4KmQ"
      },
      "source": [
        "import pandas as pd"
      ],
      "execution_count": 1,
      "outputs": []
    },
    {
      "cell_type": "markdown",
      "metadata": {
        "id": "HTVsEqI-4bjt"
      },
      "source": [
        "1) Recall common built-in data structures"
      ]
    },
    {
      "cell_type": "code",
      "metadata": {
        "id": "-itfg3Ut4aje"
      },
      "source": [
        "my_list = ['Whole Foods', 'Walmart', 'Target']\n",
        "my_list.append('Star')\n",
        "print(my_list)\n",
        "print(my_list[-1])\n",
        "my_list.remove('Star')\n",
        "print(my_list)"
      ],
      "execution_count": null,
      "outputs": []
    },
    {
      "cell_type": "code",
      "metadata": {
        "id": "9p-QFDfkAt68"
      },
      "source": [
        "# DataFrames can be created from lists. In this case a list becomes a column of the DataFrame \n",
        "df = pd.DataFrame(my_list)\n",
        "print(df)"
      ],
      "execution_count": null,
      "outputs": []
    },
    {
      "cell_type": "code",
      "metadata": {
        "id": "9XQBkQ0N6Z3V"
      },
      "source": [
        "#A tuple is a collection which is ordered and unchangeable. Items are indexed\n",
        "my_tuple = ('Whole Foods', 'Wallmart', 'Target')\n",
        "my_tuple[1:3] # we can access by index or slice\n",
        "# but we can't do my_tuple.append('Star') or my_tuple.remove('Amazon') "
      ],
      "execution_count": null,
      "outputs": []
    },
    {
      "cell_type": "code",
      "metadata": {
        "id": "NvU4FjL8Bfpb"
      },
      "source": [
        "# DataFrames can be also created from tuples.\n",
        "df = pd.DataFrame(my_tuple)\n",
        "print(df)"
      ],
      "execution_count": null,
      "outputs": []
    },
    {
      "cell_type": "code",
      "metadata": {
        "id": "nLRXdld94PAW"
      },
      "source": [
        "# A dictionary is ordered, changeable and does not allow duplicates. Dictionaries store data in key:value pairs.\n",
        "my_dict = {'Retail': ['Whole Foods', 'Walmart', 'Target'],\n",
        "           'Shipping': ['UPS', 'FedEx', 'DHL']}\n",
        "\n",
        "print(my_dict)"
      ],
      "execution_count": null,
      "outputs": []
    },
    {
      "cell_type": "code",
      "metadata": {
        "id": "4sAmwqrhAoBA"
      },
      "source": [
        "# DataFrames can be created from a dictionary. In this case  keys become column names.\n",
        "df = pd.DataFrame(my_dict)\n",
        "print(df)"
      ],
      "execution_count": null,
      "outputs": []
    },
    {
      "cell_type": "markdown",
      "metadata": {
        "id": "FRaaJ7GrDa7c"
      },
      "source": [
        "2) Loading and exporting data"
      ]
    },
    {
      "cell_type": "code",
      "metadata": {
        "id": "T8VrmfMwB-Qr"
      },
      "source": [
        "#loading .csv file\n",
        "data = pd.read_csv('stores.csv')\n",
        "print(data)"
      ],
      "execution_count": null,
      "outputs": []
    },
    {
      "cell_type": "code",
      "metadata": {
        "id": "uZw31wKUF2-0"
      },
      "source": [
        "#loading .xlsx file\n",
        "df = pd.read_excel('stores.xlsx')\n",
        "#index column can be specified index_col='Sales'\n",
        "print(df)"
      ],
      "execution_count": null,
      "outputs": []
    },
    {
      "cell_type": "markdown",
      "metadata": {
        "id": "I5WyWZw8JPTh"
      },
      "source": [
        "3) Inspecting data\n"
      ]
    },
    {
      "cell_type": "code",
      "metadata": {
        "id": "VbjTtIdIGU65"
      },
      "source": [
        "# display the first n rows \n",
        "n = 5 \n",
        "print(df.head(n)) "
      ],
      "execution_count": null,
      "outputs": []
    },
    {
      "cell_type": "code",
      "metadata": {
        "id": "-Lzs7qWGJeYE"
      },
      "source": [
        "# display the last n rows \n",
        "n = 3\n",
        "print(df.tail(n)) "
      ],
      "execution_count": null,
      "outputs": []
    },
    {
      "cell_type": "code",
      "metadata": {
        "id": "EXgKz17wJvxR"
      },
      "source": [
        "# randomly sample n observations \n",
        "n = 7\n",
        "print(df.sample(n)) "
      ],
      "execution_count": null,
      "outputs": []
    },
    {
      "cell_type": "code",
      "metadata": {
        "id": "37oOGy5bL0Ia"
      },
      "source": [
        "# get dimensions of df (number of rows and columns)\n",
        "print(df.shape) #we get a tuple\n",
        "n, m = df.shape\n",
        "print('Number of rows: ', n)\n",
        "print('Number of columns: ', m)"
      ],
      "execution_count": null,
      "outputs": []
    },
    {
      "cell_type": "code",
      "metadata": {
        "id": "7MfMFsXXMoax"
      },
      "source": [
        "# retrieve general info about df\n",
        "print(df.info())"
      ],
      "execution_count": null,
      "outputs": []
    },
    {
      "cell_type": "markdown",
      "metadata": {
        "id": "zpACSzbAr9pH"
      },
      "source": [
        "4) Combining multiple files"
      ]
    },
    {
      "cell_type": "code",
      "metadata": {
        "id": "JrnO7e9TNXjT"
      },
      "source": [
        "#row concat\n",
        "frames = [df, data]\n",
        "data_concat = pd.concat(frames, axis=0)\n",
        "print(data_concat.info())"
      ],
      "execution_count": null,
      "outputs": []
    },
    {
      "cell_type": "code",
      "metadata": {
        "id": "yQhPkQ-nsTVe"
      },
      "source": [
        "df1 = df[['Name', 'Address']]\n",
        "df2 = df[['Sales', 'Number_emp']]\n",
        "print(df1.head())\n",
        "print(df2.head())\n",
        "column_concat = pd.concat([df1, df2], axis=1)\n",
        "print(column_concat.head())"
      ],
      "execution_count": null,
      "outputs": []
    },
    {
      "cell_type": "markdown",
      "metadata": {
        "id": "Juyd5gcPuasH"
      },
      "source": [
        "5) Writing data to a file"
      ]
    },
    {
      "cell_type": "code",
      "metadata": {
        "id": "1bLLRogXs-1K"
      },
      "source": [
        "column_concat.to_excel('new_file.xlsx')\n",
        "column_concat.to_csv('new_file.csv')"
      ],
      "execution_count": 24,
      "outputs": []
    },
    {
      "cell_type": "markdown",
      "metadata": {
        "id": "Hj2aYNx7xoYc"
      },
      "source": [
        "6) Accessing rows and columns"
      ]
    },
    {
      "cell_type": "code",
      "metadata": {
        "id": "AT7rco-UuWDY"
      },
      "source": [
        "df['Address']"
      ],
      "execution_count": null,
      "outputs": []
    },
    {
      "cell_type": "code",
      "metadata": {
        "id": "yefECxPvyFSd"
      },
      "source": [
        "column_names = ['Name','Address', 'Sales']\n",
        "new_df = df[column_names]\n",
        "print(new_df.head())"
      ],
      "execution_count": null,
      "outputs": []
    },
    {
      "cell_type": "code",
      "metadata": {
        "id": "qUNcELyuySx6"
      },
      "source": [
        "#retrieving the 5th row\n",
        "print(df.iloc[4])\n",
        "#retrieving rows from 3rd to 7th\n",
        "print(df.iloc[2:7]) \n",
        "#retrieving the 3rd row and 2nd column\n",
        "print(df.iloc[2, 1])\n",
        "#rewriting the value\n",
        "df.iloc[2, 1] = 'Hello world!'\n",
        "print(df.iloc[2, 1])"
      ],
      "execution_count": null,
      "outputs": []
    },
    {
      "cell_type": "code",
      "metadata": {
        "id": "kITUl_tQFvnH"
      },
      "source": [
        "#displaying first 5 rows one by one \n",
        "for i in range(5):\n",
        "  print(i, ': ', df.iloc[i].values)"
      ],
      "execution_count": null,
      "outputs": []
    },
    {
      "cell_type": "markdown",
      "metadata": {
        "id": "Y0WcOKm44S-r"
      },
      "source": [
        "7) Filtering data"
      ]
    },
    {
      "cell_type": "code",
      "metadata": {
        "id": "gHV9LlHEy1bN"
      },
      "source": [
        "(df['Sales'] > 2000).sum()\n",
        "high_sales = df[df['Sales'] > 2000]\n",
        "print(high_sales.head())\n",
        "big_company = df[(df['Sales'] > 5000) & (df['Number_emp'] > 150)]\n",
        "big_company.reset_index(inplace=True) \n",
        "print(big_company)"
      ],
      "execution_count": null,
      "outputs": []
    },
    {
      "cell_type": "code",
      "metadata": {
        "id": "2z9vVPe25YbH"
      },
      "source": [
        "names = ['MARKET BASKET', 'PRICE CHOPPER']\n",
        "new_df = df[df['Name'].isin(names)]\n",
        "print(new_df.head())"
      ],
      "execution_count": null,
      "outputs": []
    },
    {
      "cell_type": "markdown",
      "metadata": {
        "id": "W02MOGgK8ZwJ"
      },
      "source": [
        "8) Adding and deleting new columns"
      ]
    },
    {
      "cell_type": "code",
      "metadata": {
        "id": "W9nediEb79UP"
      },
      "source": [
        "#add a new column\n",
        "df['Sales_per_employee'] = df['Sales'] / df['Number_emp']\n",
        "print(df)"
      ],
      "execution_count": null,
      "outputs": []
    },
    {
      "cell_type": "code",
      "metadata": {
        "id": "6mS-97xPFlZr"
      },
      "source": [
        "#delete a column\n",
        "del df['Empsiz']\n",
        "print(df.info())"
      ],
      "execution_count": null,
      "outputs": []
    },
    {
      "cell_type": "code",
      "metadata": {
        "id": "9wGbDoWnber4"
      },
      "source": [
        "#delete multiple columns \n",
        "to_delete = ['State', 'State_name', 'Zip']\n",
        "new_df = df.drop(columns=to_delete)\n",
        "print(new_df.info())"
      ],
      "execution_count": null,
      "outputs": []
    },
    {
      "cell_type": "markdown",
      "metadata": {
        "id": "XHjXfxtYyOZJ"
      },
      "source": [
        "9) Sorting values"
      ]
    },
    {
      "cell_type": "code",
      "metadata": {
        "id": "kw2mqC97cCCA"
      },
      "source": [
        "#ascending by default \n",
        "sorted_df = df.sort_values('Sales')\n",
        "print(sorted_df)"
      ],
      "execution_count": null,
      "outputs": []
    },
    {
      "cell_type": "code",
      "metadata": {
        "id": "dFFqmhl_yfrf"
      },
      "source": [
        "#descending order\n",
        "sorted_df = df.sort_values('Sales', ascending=False)\n",
        "print(sorted_df['Sales'])"
      ],
      "execution_count": null,
      "outputs": []
    },
    {
      "cell_type": "code",
      "metadata": {
        "id": "t8dhuz9Uy8qJ"
      },
      "source": [
        "# sort values using list of columns \n",
        "sorted_df = df.sort_values(['Sales', 'Sales_per_employee'], ascending=[False, False])\n",
        "print(sorted_df.head())"
      ],
      "execution_count": null,
      "outputs": []
    },
    {
      "cell_type": "markdown",
      "metadata": {
        "id": "mo5mg3iq34VP"
      },
      "source": [
        "10) Data cleaning"
      ]
    },
    {
      "cell_type": "code",
      "metadata": {
        "id": "KIdsUU6oz4r1"
      },
      "source": [
        "#data frame description\n",
        "#nemeric data\n",
        "print(df['Sales'].describe())"
      ],
      "execution_count": null,
      "outputs": []
    },
    {
      "cell_type": "code",
      "metadata": {
        "id": "s5joIRD64AO0"
      },
      "source": [
        "#categorical data \n",
        "print(df['City'].describe())"
      ],
      "execution_count": null,
      "outputs": []
    },
    {
      "cell_type": "code",
      "metadata": {
        "id": "V7MOZHiT4gPA"
      },
      "source": [
        "#get an array of all unique values \n",
        "print(df['City'].unique())"
      ],
      "execution_count": null,
      "outputs": []
    },
    {
      "cell_type": "code",
      "metadata": {
        "id": "flyWXiNH47Gz"
      },
      "source": [
        "#check the data types\n",
        "print(df.dtypes) "
      ],
      "execution_count": null,
      "outputs": []
    },
    {
      "cell_type": "code",
      "metadata": {
        "id": "-XDTdMbk5sAX"
      },
      "source": [
        "#change the dtype \n",
        "print(df['Sales'].astype('Float64'))"
      ],
      "execution_count": null,
      "outputs": []
    },
    {
      "cell_type": "code",
      "metadata": {
        "id": "QDkZ11bl6Mep"
      },
      "source": [
        "#obtaining and displaying column names \n",
        "col_names = df.columns\n",
        "def print_col_names(names):\n",
        "  print('There are {} columns'.format(len(names)))\n",
        "  for i in range(len(names)):\n",
        "    print(i+1, ' ', names[i])\n",
        "print_col_names(col_names)"
      ],
      "execution_count": null,
      "outputs": []
    },
    {
      "cell_type": "code",
      "metadata": {
        "id": "KCHDK6Gj63DF"
      },
      "source": [
        "#renaming a column\n",
        "df.rename(columns={'Number_emp': 'N employees'}, inplace=True)\n",
        "print(df.columns)"
      ],
      "execution_count": null,
      "outputs": []
    },
    {
      "cell_type": "code",
      "metadata": {
        "id": "kjhiq4Mg9c2F"
      },
      "source": [
        "#what values are missing? \n",
        "print(df.isna().sum())\n",
        "#print(df.notna().sum())"
      ],
      "execution_count": null,
      "outputs": []
    },
    {
      "cell_type": "code",
      "metadata": {
        "id": "r8VwtnDxBMpm"
      },
      "source": [
        "#delete rows with missing data \n",
        "new_df = df.dropna(axis=0, inplace=False)\n",
        "print(new_df.isna().sum())"
      ],
      "execution_count": null,
      "outputs": []
    },
    {
      "cell_type": "code",
      "metadata": {
        "id": "oVK9iWd-LajQ"
      },
      "source": [
        "#delete a column with missing data \n",
        "new_df = df.dropna(axis=1, inplace=False)\n",
        "print(new_df.isna().sum())"
      ],
      "execution_count": null,
      "outputs": []
    },
    {
      "cell_type": "code",
      "metadata": {
        "id": "K9Qeeh2AMIMw"
      },
      "source": [
        "#replace missing values\n",
        "df['Address'].fillna('No address', inplace=True)\n",
        "print(df.isna().sum())\n",
        "\n",
        "#replace missing values with the average\n",
        "average_sales = round(df['Sales'].mean(), 2)\n",
        "df['Sales'].fillna(average_sales, inplace=True)"
      ],
      "execution_count": null,
      "outputs": []
    },
    {
      "cell_type": "code",
      "metadata": {
        "colab": {
          "base_uri": "https://localhost:8080/"
        },
        "id": "ZTDCRItbNcb8",
        "outputId": "6caf0582-b883-4061-db80-2138399d87d4"
      },
      "source": [
        "# Replacing values\n",
        "print(df['State'].unique())\n",
        "df['State'].replace('MA', \"Massachusetts\", inplace=True)\n",
        "df['State'].unique()"
      ],
      "execution_count": 137,
      "outputs": [
        {
          "output_type": "stream",
          "text": [
            "['Massachusetts']\n"
          ],
          "name": "stdout"
        },
        {
          "output_type": "execute_result",
          "data": {
            "text/plain": [
              "array(['Massachusetts'], dtype=object)"
            ]
          },
          "metadata": {
            "tags": []
          },
          "execution_count": 137
        }
      ]
    },
    {
      "cell_type": "code",
      "metadata": {
        "id": "ykgRjq-UQpSV"
      },
      "source": [
        "#Check for duplicates\n",
        "print(df.duplicated().sum())"
      ],
      "execution_count": null,
      "outputs": []
    },
    {
      "cell_type": "markdown",
      "metadata": {
        "id": "KSYIqOEFTehf"
      },
      "source": [
        "11) Basic descriptive statistics"
      ]
    },
    {
      "cell_type": "code",
      "metadata": {
        "id": "Xe0ljj6bRd9j"
      },
      "source": [
        "df['Sales'].describe()\n",
        "print('Average sales are: ', df['Sales'].mean())\n",
        "avg = df['Sales'].mean()\n",
        "df['Average_sales'] = avg\n",
        "print(df.head())"
      ],
      "execution_count": null,
      "outputs": []
    }
  ]
}