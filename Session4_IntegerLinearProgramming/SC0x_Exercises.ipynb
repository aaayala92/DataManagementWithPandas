{
 "cells": [
  {
   "cell_type": "markdown",
   "metadata": {},
   "source": [
    "# SC0x Optimization Exercises"
   ]
  },
  {
   "cell_type": "markdown",
   "metadata": {},
   "source": [
    "### Module 4. Unit 2 | Constrained Optimization"
   ]
  },
  {
   "cell_type": "markdown",
   "metadata": {},
   "source": [
    "PP1. Jims Meat Packing Company"
   ]
  },
  {
   "cell_type": "code",
   "execution_count": 1,
   "metadata": {},
   "outputs": [],
   "source": [
    "# import gurobi library\n",
    "import gurobipy as gp         #Gurobi Python interface\n",
    "from gurobipy import GRB      #Import as shortcut to avoid writing GP.grb\n",
    "from itertools import product #product creates the cartesian product from 2 or more lists."
   ]
  },
  {
   "cell_type": "code",
   "execution_count": 2,
   "metadata": {},
   "outputs": [],
   "source": [
    "meats = ['LeanMeat','FatMeat']\n",
    "cuts = ['Chuck','Sirloin']\n",
    "\n",
    "Meat_options = list(product(meats,cuts))\n",
    "\n",
    "cost=dict(zip(cuts,[9.3,8.4]))\n",
    "\n",
    "LeanMeat = {'Chuck':0.09,\n",
    "            'Sirloin':0.6}\n",
    "FatMeat={'Chuck':0.02,\n",
    "            'Sirloin':0.06}#dict(zip(Meat_options,[0.09,0.6,0.02,0.06]))\n",
    "\n",
    "LeanPerc = dict(zip(meats,[0.3,0.05]))"
   ]
  },
  {
   "cell_type": "code",
   "execution_count": 3,
   "metadata": {},
   "outputs": [
    {
     "name": "stdout",
     "output_type": "stream",
     "text": [
      "Restricted license - for non-production use only - expires 2024-10-28\n"
     ]
    }
   ],
   "source": [
    "#defining the model\n",
    "m=gp.Model('Meats')"
   ]
  },
  {
   "cell_type": "code",
   "execution_count": 4,
   "metadata": {},
   "outputs": [
    {
     "data": {
      "text/plain": [
       "{'Chuck': <gurobi.Var *Awaiting Model Update*>,\n",
       " 'Sirloin': <gurobi.Var *Awaiting Model Update*>}"
      ]
     },
     "execution_count": 4,
     "metadata": {},
     "output_type": "execute_result"
    }
   ],
   "source": [
    "#Variables\n",
    "Meats_var = m.addVars(cuts,vtype=GRB.CONTINUOUS,name='Meats')\n",
    "Meats_var"
   ]
  },
  {
   "cell_type": "code",
   "execution_count": 5,
   "metadata": {},
   "outputs": [
    {
     "data": {
      "text/plain": [
       "{'Chuck': 9.3, 'Sirloin': 8.4}"
      ]
     },
     "execution_count": 5,
     "metadata": {},
     "output_type": "execute_result"
    }
   ],
   "source": [
    "cost"
   ]
  },
  {
   "cell_type": "code",
   "execution_count": 6,
   "metadata": {},
   "outputs": [],
   "source": [
    "#Objective Functin\n",
    "m.setObjective(Meats_var.prod(cost), GRB.MINIMIZE)"
   ]
  },
  {
   "cell_type": "code",
   "execution_count": 7,
   "metadata": {},
   "outputs": [
    {
     "data": {
      "text/plain": [
       "<gurobi.Constr *Awaiting Model Update*>"
      ]
     },
     "execution_count": 7,
     "metadata": {},
     "output_type": "execute_result"
    }
   ],
   "source": [
    "#Constraints\n",
    "#Lean Meat at least 30%\n",
    "m.addConstr(Meats_var.prod(LeanMeat) >= LeanPerc['LeanMeat']*Meats_var.sum(),name='LeanMeat%_Const')"
   ]
  },
  {
   "cell_type": "code",
   "execution_count": 8,
   "metadata": {},
   "outputs": [
    {
     "data": {
      "text/plain": [
       "<gurobi.Constr *Awaiting Model Update*>"
      ]
     },
     "execution_count": 8,
     "metadata": {},
     "output_type": "execute_result"
    }
   ],
   "source": [
    "#Fat meat at most 5%\n",
    "m.addConstr(Meats_var.prod(FatMeat) <= LeanPerc['FatMeat']*Meats_var.sum(),name='FatMeat%_Const')"
   ]
  },
  {
   "cell_type": "code",
   "execution_count": 9,
   "metadata": {},
   "outputs": [
    {
     "data": {
      "text/plain": [
       "<gurobi.Constr *Awaiting Model Update*>"
      ]
     },
     "execution_count": 9,
     "metadata": {},
     "output_type": "execute_result"
    }
   ],
   "source": [
    "#at leats 50 pounds\n",
    "\n",
    "m.addConstr(Meats_var.sum('*','*') >= 50, name='AtLeast50Pounds')"
   ]
  },
  {
   "cell_type": "code",
   "execution_count": 10,
   "metadata": {},
   "outputs": [],
   "source": [
    "#Writting the model\n",
    "m.write('Meats.lp')"
   ]
  },
  {
   "cell_type": "code",
   "execution_count": 11,
   "metadata": {},
   "outputs": [
    {
     "name": "stdout",
     "output_type": "stream",
     "text": [
      "\\ Model Meats\n",
      "\\ LP format - for model browsing. Use MPS format to capture full model detail.\n",
      "Minimize\n",
      "  9.3 Meats[Chuck] + 8.4 Meats[Sirloin]\n",
      "Subject To\n",
      " LeanMeat%_Const: - 0.21 Meats[Chuck] + 0.3 Meats[Sirloin] >= 0\n",
      " FatMeat%_Const: - 0.03 Meats[Chuck] + 0.01 Meats[Sirloin] <= 0\n",
      " AtLeast50Pounds: Meats[Chuck] + Meats[Sirloin] >= 50\n",
      "Bounds\n",
      "End\n",
      "\n"
     ]
    }
   ],
   "source": [
    "# Details of the model\n",
    "with open('Meats.lp') as f:\n",
    "  print (f.read())"
   ]
  },
  {
   "cell_type": "code",
   "execution_count": 12,
   "metadata": {},
   "outputs": [
    {
     "name": "stdout",
     "output_type": "stream",
     "text": [
      "Gurobi Optimizer version 10.0.2 build v10.0.2rc0 (win64)\n",
      "\n",
      "CPU model: AMD Ryzen 7 4800H with Radeon Graphics, instruction set [SSE2|AVX|AVX2]\n",
      "Thread count: 8 physical cores, 16 logical processors, using up to 16 threads\n",
      "\n",
      "Optimize a model with 3 rows, 2 columns and 6 nonzeros\n",
      "Model fingerprint: 0x9bc4f007\n",
      "Coefficient statistics:\n",
      "  Matrix range     [1e-02, 1e+00]\n",
      "  Objective range  [8e+00, 9e+00]\n",
      "  Bounds range     [0e+00, 0e+00]\n",
      "  RHS range        [5e+01, 5e+01]\n",
      "Presolve time: 0.01s\n",
      "Presolved: 3 rows, 2 columns, 6 nonzeros\n",
      "\n",
      "Iteration    Objective       Primal Inf.    Dual Inf.      Time\n",
      "       0    0.0000000e+00   5.000000e+01   0.000000e+00      0s\n",
      "       2    4.3125000e+02   0.000000e+00   0.000000e+00      0s\n",
      "\n",
      "Solved in 2 iterations and 0.01 seconds (0.00 work units)\n",
      "Optimal objective  4.312500000e+02\n"
     ]
    }
   ],
   "source": [
    "#Optimize\n",
    "m.optimize()"
   ]
  },
  {
   "cell_type": "code",
   "execution_count": 13,
   "metadata": {},
   "outputs": [
    {
     "name": "stdout",
     "output_type": "stream",
     "text": [
      "Optimal objective value: 431.25\n",
      "\n",
      "Sites Openned\n",
      "Use 12.499999999999996 meat of Chuck\n",
      "Use 37.5 meat of Sirloin\n"
     ]
    }
   ],
   "source": [
    "#Results\n",
    "print(f\"Optimal objective value: {m.objVal}\")\n",
    "\n",
    "print(\"\\nSites Openned\",end = '\\n')\n",
    "for cut in Meats_var:\n",
    "  if (Meats_var[cut].x>0):\n",
    "    print(f'Use {Meats_var[cut].x} meat of {cut}')\n"
   ]
  },
  {
   "cell_type": "markdown",
   "metadata": {},
   "source": [
    "PP2. Pasteru Cheese Factory"
   ]
  },
  {
   "cell_type": "code",
   "execution_count": 14,
   "metadata": {},
   "outputs": [],
   "source": [
    "# import gurobi library\n",
    "import gurobipy as gp         #Gurobi Python interface\n",
    "from gurobipy import GRB      #Import as shortcut to avoid writing GP.grb\n",
    "from itertools import product #product creates the cartesian product from 2 or more lists."
   ]
  },
  {
   "cell_type": "code",
   "execution_count": 15,
   "metadata": {},
   "outputs": [],
   "source": [
    "#Data and Variables\n",
    "Cheeses = ['Original','Cheddar','Wasabi']\n",
    "\n",
    "Cheese_Price = dict(zip(Cheeses,[20,15,17]))\n",
    "\n",
    "XRay_time = dict(zip(Cheeses,[8.6,2.2,5.1]))\n",
    "\n",
    "Weight_time = dict(zip(Cheeses,[7.0,6.8,9.8]))\n",
    "\n",
    "Prod_Cost = {'XRay_time':0.11,\n",
    "             'Weight_time':0.22}\n",
    "\n",
    "\n",
    "\n"
   ]
  },
  {
   "cell_type": "code",
   "execution_count": 16,
   "metadata": {},
   "outputs": [],
   "source": [
    "#Defining the model\n",
    "m=gp.Model('CheeseModel')"
   ]
  },
  {
   "cell_type": "code",
   "execution_count": 17,
   "metadata": {},
   "outputs": [
    {
     "data": {
      "text/plain": [
       "{'Original': <gurobi.Var *Awaiting Model Update*>,\n",
       " 'Cheddar': <gurobi.Var *Awaiting Model Update*>,\n",
       " 'Wasabi': <gurobi.Var *Awaiting Model Update*>}"
      ]
     },
     "execution_count": 17,
     "metadata": {},
     "output_type": "execute_result"
    }
   ],
   "source": [
    "#Decision Variables\n",
    "Cheese_var = m.addVars(Cheeses, vtype=GRB.CONTINUOUS, name='Cheeses')\n",
    "Cheese_var"
   ]
  },
  {
   "cell_type": "code",
   "execution_count": 18,
   "metadata": {},
   "outputs": [],
   "source": [
    "#Objective Function\n",
    "m.setObjective(Cheese_var.prod(Cheese_Price)-(Cheese_var.prod(XRay_time)*0.11+Cheese_var.prod(Weight_time)*0.22),GRB.MAXIMIZE)"
   ]
  },
  {
   "cell_type": "code",
   "execution_count": 19,
   "metadata": {},
   "outputs": [
    {
     "data": {
      "text/plain": [
       "<gurobi.Constr *Awaiting Model Update*>"
      ]
     },
     "execution_count": 19,
     "metadata": {},
     "output_type": "execute_result"
    }
   ],
   "source": [
    "#Constraints\n",
    "m.addConstr(Cheese_var.prod(XRay_time)<=480, name='Xray_Machine')"
   ]
  },
  {
   "cell_type": "code",
   "execution_count": 20,
   "metadata": {},
   "outputs": [
    {
     "data": {
      "text/plain": [
       "<gurobi.Constr *Awaiting Model Update*>"
      ]
     },
     "execution_count": 20,
     "metadata": {},
     "output_type": "execute_result"
    }
   ],
   "source": [
    "m.addConstr(Cheese_var.prod(Weight_time)<=540, name='Weight_Machine')"
   ]
  },
  {
   "cell_type": "code",
   "execution_count": 21,
   "metadata": {},
   "outputs": [],
   "source": [
    "m.write('Cheese.lp')"
   ]
  },
  {
   "cell_type": "code",
   "execution_count": 22,
   "metadata": {},
   "outputs": [
    {
     "name": "stdout",
     "output_type": "stream",
     "text": [
      "\\ Model CheeseModel\n",
      "\\ LP format - for model browsing. Use MPS format to capture full model detail.\n",
      "Maximize\n",
      "  17.514 Cheeses[Original] + 13.262 Cheeses[Cheddar]\n",
      "   + 14.283 Cheeses[Wasabi]\n",
      "Subject To\n",
      " Xray_Machine: 8.6 Cheeses[Original] + 2.2 Cheeses[Cheddar]\n",
      "   + 5.1 Cheeses[Wasabi] <= 480\n",
      " Weight_Machine: 7 Cheeses[Original] + 6.8 Cheeses[Cheddar]\n",
      "   + 9.8 Cheeses[Wasabi] <= 540\n",
      "Bounds\n",
      "End\n",
      "\n"
     ]
    }
   ],
   "source": [
    "# Details of the model\n",
    "with open('Cheese.lp') as f:\n",
    "  print (f.read())"
   ]
  },
  {
   "cell_type": "code",
   "execution_count": 23,
   "metadata": {},
   "outputs": [
    {
     "name": "stdout",
     "output_type": "stream",
     "text": [
      "Gurobi Optimizer version 10.0.2 build v10.0.2rc0 (win64)\n",
      "\n",
      "CPU model: AMD Ryzen 7 4800H with Radeon Graphics, instruction set [SSE2|AVX|AVX2]\n",
      "Thread count: 8 physical cores, 16 logical processors, using up to 16 threads\n",
      "\n",
      "Optimize a model with 2 rows, 3 columns and 6 nonzeros\n",
      "Model fingerprint: 0x77ceb8f1\n",
      "Coefficient statistics:\n",
      "  Matrix range     [2e+00, 1e+01]\n",
      "  Objective range  [1e+01, 2e+01]\n",
      "  Bounds range     [0e+00, 0e+00]\n",
      "  RHS range        [5e+02, 5e+02]\n",
      "Presolve time: 0.00s\n",
      "Presolved: 2 rows, 3 columns, 6 nonzeros\n",
      "\n",
      "Iteration    Objective       Primal Inf.    Dual Inf.      Time\n",
      "       0    4.5059000e+31   4.937500e+30   4.505900e+01      0s\n",
      "       2    1.2392635e+03   0.000000e+00   0.000000e+00      0s\n",
      "\n",
      "Solved in 2 iterations and 0.01 seconds (0.00 work units)\n",
      "Optimal objective  1.239263510e+03\n"
     ]
    }
   ],
   "source": [
    "m.optimize()"
   ]
  },
  {
   "cell_type": "code",
   "execution_count": 24,
   "metadata": {},
   "outputs": [
    {
     "name": "stdout",
     "output_type": "stream",
     "text": [
      "Optimal objective value: 1239.2635097493035\n",
      "\n",
      "Cheese Produces\n",
      "Produce 48 amounts of Original Cheese\n",
      "Produce 30 amounts of Cheddar Cheese\n"
     ]
    }
   ],
   "source": [
    "print(f\"Optimal objective value: {m.objVal}\")\n",
    "\n",
    "print(\"\\nCheese Produces\")\n",
    "for chis in Cheese_var:\n",
    "  if (Cheese_var[chis].x>0):\n",
    "    print(f'Produce {round(Cheese_var[chis].x)} amounts of {chis} Cheese')"
   ]
  },
  {
   "cell_type": "markdown",
   "metadata": {},
   "source": [
    "## Module 4. Unit 3 | IMILP"
   ]
  },
  {
   "cell_type": "markdown",
   "metadata": {},
   "source": [
    " PP2 - BooBoo Magicians  \n"
   ]
  },
  {
   "cell_type": "code",
   "execution_count": 25,
   "metadata": {},
   "outputs": [],
   "source": [
    "# import gurobi library\n",
    "import gurobipy as gp         #Gurobi Python interface\n",
    "from gurobipy import GRB      #Import as shortcut to avoid writing GP.grb\n",
    "from itertools import product #product creates the cartesian product from 2 or more lists."
   ]
  },
  {
   "cell_type": "code",
   "execution_count": 26,
   "metadata": {},
   "outputs": [],
   "source": [
    "entert_pack = ['Standard','Joyful','Fabulous']\n",
    "\n",
    "labor_req = dict(zip(entert_pack,[3,5,8]))\n",
    "Balloon_req = dict(zip(entert_pack,[2,5,8]))\n",
    "Cost = dict(zip(entert_pack,[2,3,4]))\n",
    "Price = dict(zip(entert_pack,[3,5,7]))"
   ]
  },
  {
   "cell_type": "markdown",
   "metadata": {},
   "source": [
    "Part 1."
   ]
  },
  {
   "cell_type": "code",
   "execution_count": 27,
   "metadata": {},
   "outputs": [],
   "source": [
    "ballons_inv = 325\n",
    "labor_avail = 400 "
   ]
  },
  {
   "cell_type": "code",
   "execution_count": 28,
   "metadata": {},
   "outputs": [],
   "source": [
    "#Defining the model\n",
    "m = gp.Model('BooBooMagicians')"
   ]
  },
  {
   "cell_type": "code",
   "execution_count": 29,
   "metadata": {},
   "outputs": [],
   "source": [
    "#Decision Variables\n",
    "entert_pack_var = m.addVars(entert_pack, vtype=GRB.INTEGER, name= 'EntertainmentPackages')"
   ]
  },
  {
   "cell_type": "code",
   "execution_count": 30,
   "metadata": {},
   "outputs": [
    {
     "data": {
      "text/plain": [
       "{'Standard': <gurobi.Var *Awaiting Model Update*>,\n",
       " 'Joyful': <gurobi.Var *Awaiting Model Update*>,\n",
       " 'Fabulous': <gurobi.Var *Awaiting Model Update*>}"
      ]
     },
     "execution_count": 30,
     "metadata": {},
     "output_type": "execute_result"
    }
   ],
   "source": [
    "#Objective Function\n",
    "m.setObjective(entert_pack_var.prod(Price)-entert_pack_var.prod(Cost), GRB.MAXIMIZE)\n",
    "entert_pack_var"
   ]
  },
  {
   "cell_type": "code",
   "execution_count": 31,
   "metadata": {},
   "outputs": [
    {
     "data": {
      "text/plain": [
       "<gurobi.Constr *Awaiting Model Update*>"
      ]
     },
     "execution_count": 31,
     "metadata": {},
     "output_type": "execute_result"
    }
   ],
   "source": [
    "#Constraints\n",
    "#labor\n",
    "m.addConstr((gp.quicksum(entert_pack_var[ent]*labor_req[ent] for ent in entert_pack)<=labor_avail), name= 'LaborAvailable')"
   ]
  },
  {
   "cell_type": "code",
   "execution_count": 32,
   "metadata": {},
   "outputs": [
    {
     "data": {
      "text/plain": [
       "<gurobi.Constr *Awaiting Model Update*>"
      ]
     },
     "execution_count": 32,
     "metadata": {},
     "output_type": "execute_result"
    }
   ],
   "source": [
    "#Balloons\n",
    "m.addConstr((gp.quicksum(entert_pack_var[ent]*Balloon_req[ent] for ent in entert_pack)<=ballons_inv), name='BaloonAvailable')"
   ]
  },
  {
   "cell_type": "code",
   "execution_count": 33,
   "metadata": {},
   "outputs": [],
   "source": [
    "#writting the model\n",
    "m.write('BooBooMagicians.lp')"
   ]
  },
  {
   "cell_type": "code",
   "execution_count": 34,
   "metadata": {},
   "outputs": [
    {
     "name": "stdout",
     "output_type": "stream",
     "text": [
      "\\ Model BooBooMagicians\n",
      "\\ LP format - for model browsing. Use MPS format to capture full model detail.\n",
      "Maximize\n",
      "  EntertainmentPackages[Standard] + 2 EntertainmentPackages[Joyful]\n",
      "   + 3 EntertainmentPackages[Fabulous]\n",
      "Subject To\n",
      " LaborAvailable: 3 EntertainmentPackages[Standard]\n",
      "   + 5 EntertainmentPackages[Joyful] + 8 EntertainmentPackages[Fabulous]\n",
      "   <= 400\n",
      " BaloonAvailable: 2 EntertainmentPackages[Standard]\n",
      "   + 5 EntertainmentPackages[Joyful] + 8 EntertainmentPackages[Fabulous]\n",
      "   <= 325\n",
      "Bounds\n",
      "Generals\n",
      " EntertainmentPackages[Standard] EntertainmentPackages[Joyful]\n",
      " EntertainmentPackages[Fabulous]\n",
      "End\n",
      "\n"
     ]
    }
   ],
   "source": [
    "# Details of the model\n",
    "with open('BooBooMagicians.lp') as f:\n",
    "  print (f.read())"
   ]
  },
  {
   "cell_type": "code",
   "execution_count": 35,
   "metadata": {},
   "outputs": [
    {
     "name": "stdout",
     "output_type": "stream",
     "text": [
      "Gurobi Optimizer version 10.0.2 build v10.0.2rc0 (win64)\n",
      "\n",
      "CPU model: AMD Ryzen 7 4800H with Radeon Graphics, instruction set [SSE2|AVX|AVX2]\n",
      "Thread count: 8 physical cores, 16 logical processors, using up to 16 threads\n",
      "\n",
      "Optimize a model with 2 rows, 3 columns and 6 nonzeros\n",
      "Model fingerprint: 0x8b0f33c6\n",
      "Variable types: 0 continuous, 3 integer (0 binary)\n",
      "Coefficient statistics:\n",
      "  Matrix range     [2e+00, 8e+00]\n",
      "  Objective range  [1e+00, 3e+00]\n",
      "  Bounds range     [0e+00, 0e+00]\n",
      "  RHS range        [3e+02, 4e+02]\n",
      "Found heuristic solution: objective 133.0000000\n",
      "Presolve time: 0.00s\n",
      "Presolved: 2 rows, 3 columns, 6 nonzeros\n",
      "Variable types: 0 continuous, 3 integer (0 binary)\n",
      "\n",
      "Root relaxation: objective 1.450000e+02, 3 iterations, 0.00 seconds (0.00 work units)\n",
      "\n",
      "    Nodes    |    Current Node    |     Objective Bounds      |     Work\n",
      " Expl Unexpl |  Obj  Depth IntInf | Incumbent    BestBd   Gap | It/Node Time\n",
      "\n",
      "*    0     0               0     145.0000000  145.00000  0.00%     -    0s\n",
      "\n",
      "Explored 1 nodes (3 simplex iterations) in 0.01 seconds (0.00 work units)\n",
      "Thread count was 16 (of 16 available processors)\n",
      "\n",
      "Solution count 2: 145 133 \n",
      "\n",
      "Optimal solution found (tolerance 1.00e-04)\n",
      "Best objective 1.450000000000e+02, best bound 1.450000000000e+02, gap 0.0000%\n"
     ]
    }
   ],
   "source": [
    "m.optimize()"
   ]
  },
  {
   "cell_type": "code",
   "execution_count": 36,
   "metadata": {},
   "outputs": [
    {
     "name": "stdout",
     "output_type": "stream",
     "text": [
      "Optimal objective value: 145.0\n"
     ]
    }
   ],
   "source": [
    "print(f\"Optimal objective value: {m.objVal}\")"
   ]
  },
  {
   "cell_type": "markdown",
   "metadata": {},
   "source": [
    "Part 4"
   ]
  },
  {
   "cell_type": "code",
   "execution_count": 37,
   "metadata": {},
   "outputs": [
    {
     "data": {
      "text/plain": [
       "{'Standard': 10, 'Joyful': 5, 'Fabulous': 1}"
      ]
     },
     "execution_count": 37,
     "metadata": {},
     "output_type": "execute_result"
    }
   ],
   "source": [
    "#Additional Information for Part 4\n",
    "FixCost = dict(zip(entert_pack,[10,5,1]))\n",
    "ballons_inv = 360\n",
    "labor_avail = 500 \n",
    "\n",
    "FixCost"
   ]
  },
  {
   "cell_type": "code",
   "execution_count": 38,
   "metadata": {},
   "outputs": [],
   "source": [
    "#Define model 4\n",
    "m=gp.Model('BooBooMagicians_P4')"
   ]
  },
  {
   "cell_type": "code",
   "execution_count": 39,
   "metadata": {},
   "outputs": [],
   "source": [
    "#Decision Variables\n",
    "#Amount of Entrertainment Packages\n",
    "entert_pack_var = m.addVars(entert_pack, vtype=GRB.INTEGER, name= 'EntertainmentPackages')"
   ]
  },
  {
   "cell_type": "code",
   "execution_count": 40,
   "metadata": {},
   "outputs": [],
   "source": [
    "fix_cost_var = m.addVars(entert_pack, vtype=GRB.BINARY, name='PackageFixCost')"
   ]
  },
  {
   "cell_type": "code",
   "execution_count": 41,
   "metadata": {},
   "outputs": [],
   "source": [
    "#Objective Function\n",
    "m.setObjective(entert_pack_var.prod(Price)-entert_pack_var.prod(Cost)-fix_cost_var.prod(FixCost), GRB.MAXIMIZE)\n"
   ]
  },
  {
   "cell_type": "code",
   "execution_count": 42,
   "metadata": {},
   "outputs": [
    {
     "data": {
      "text/plain": [
       "<gurobi.Constr *Awaiting Model Update*>"
      ]
     },
     "execution_count": 42,
     "metadata": {},
     "output_type": "execute_result"
    }
   ],
   "source": [
    "#Constraints\n",
    "#Labor\n",
    "m.addConstr(gp.quicksum(entert_pack_var[ent]*labor_req[ent] for ent in entert_pack)<=labor_avail, name='LaborConstraint')"
   ]
  },
  {
   "cell_type": "code",
   "execution_count": 43,
   "metadata": {},
   "outputs": [
    {
     "data": {
      "text/plain": [
       "<gurobi.Constr *Awaiting Model Update*>"
      ]
     },
     "execution_count": 43,
     "metadata": {},
     "output_type": "execute_result"
    }
   ],
   "source": [
    "#Balloons Available\n",
    "m.addConstr(gp.quicksum(entert_pack_var[ent]*Balloon_req[ent] for ent in entert_pack)<=ballons_inv, name='BalloonsConstraint')"
   ]
  },
  {
   "cell_type": "code",
   "execution_count": 44,
   "metadata": {},
   "outputs": [
    {
     "data": {
      "text/plain": [
       "{'Standard': <gurobi.Constr *Awaiting Model Update*>,\n",
       " 'Joyful': <gurobi.Constr *Awaiting Model Update*>,\n",
       " 'Fabulous': <gurobi.Constr *Awaiting Model Update*>}"
      ]
     },
     "execution_count": 44,
     "metadata": {},
     "output_type": "execute_result"
    }
   ],
   "source": [
    "#Linking Constraint\n",
    "m.addConstrs((entert_pack_var[ent]-fix_cost_var[ent]*30_000 <= 0 for ent in entert_pack), name='LinkingConst')"
   ]
  },
  {
   "cell_type": "code",
   "execution_count": 45,
   "metadata": {},
   "outputs": [],
   "source": [
    "#Write the model\n",
    "m.write('BooBooMagicians_P4.lp')"
   ]
  },
  {
   "cell_type": "code",
   "execution_count": 46,
   "metadata": {},
   "outputs": [
    {
     "name": "stdout",
     "output_type": "stream",
     "text": [
      "\\ Model BooBooMagicians_P4\n",
      "\\ LP format - for model browsing. Use MPS format to capture full model detail.\n",
      "Maximize\n",
      "  EntertainmentPackages[Standard] + 2 EntertainmentPackages[Joyful]\n",
      "   + 3 EntertainmentPackages[Fabulous] - 10 PackageFixCost[Standard]\n",
      "   - 5 PackageFixCost[Joyful] - PackageFixCost[Fabulous]\n",
      "Subject To\n",
      " LaborConstraint: 3 EntertainmentPackages[Standard]\n",
      "   + 5 EntertainmentPackages[Joyful] + 8 EntertainmentPackages[Fabulous]\n",
      "   <= 500\n",
      " BalloonsConstraint: 2 EntertainmentPackages[Standard]\n",
      "   + 5 EntertainmentPackages[Joyful] + 8 EntertainmentPackages[Fabulous]\n",
      "   <= 360\n",
      " LinkingConst[Standard]: EntertainmentPackages[Standard]\n",
      "   - 30000 PackageFixCost[Standard] <= 0\n",
      " LinkingConst[Joyful]: EntertainmentPackages[Joyful]\n",
      "   - 30000 PackageFixCost[Joyful] <= 0\n",
      " LinkingConst[Fabulous]: EntertainmentPackages[Fabulous]\n",
      "   - 30000 PackageFixCost[Fabulous] <= 0\n",
      "Bounds\n",
      "Binaries\n",
      " PackageFixCost[Standard] PackageFixCost[Joyful] PackageFixCost[Fabulous]\n",
      "Generals\n",
      " EntertainmentPackages[Standard] EntertainmentPackages[Joyful]\n",
      " EntertainmentPackages[Fabulous]\n",
      "End\n",
      "\n"
     ]
    }
   ],
   "source": [
    "# Details of the model\n",
    "with open('BooBooMagicians_P4.lp') as f:\n",
    "  print (f.read())"
   ]
  },
  {
   "cell_type": "code",
   "execution_count": 47,
   "metadata": {},
   "outputs": [
    {
     "name": "stdout",
     "output_type": "stream",
     "text": [
      "Gurobi Optimizer version 10.0.2 build v10.0.2rc0 (win64)\n",
      "\n",
      "CPU model: AMD Ryzen 7 4800H with Radeon Graphics, instruction set [SSE2|AVX|AVX2]\n",
      "Thread count: 8 physical cores, 16 logical processors, using up to 16 threads\n",
      "\n",
      "Optimize a model with 5 rows, 6 columns and 12 nonzeros\n",
      "Model fingerprint: 0xdebfc35f\n",
      "Variable types: 0 continuous, 6 integer (3 binary)\n",
      "Coefficient statistics:\n",
      "  Matrix range     [1e+00, 3e+04]\n",
      "  Objective range  [1e+00, 1e+01]\n",
      "  Bounds range     [1e+00, 1e+00]\n",
      "  RHS range        [4e+02, 5e+02]\n",
      "Found heuristic solution: objective -0.0000000\n",
      "Found heuristic solution: objective 156.0000000\n",
      "Presolve time: 0.00s\n",
      "Presolved: 5 rows, 6 columns, 12 nonzeros\n",
      "Variable types: 0 continuous, 6 integer (3 binary)\n",
      "\n",
      "Root relaxation: objective 1.624552e+02, 4 iterations, 0.00 seconds (0.00 work units)\n",
      "\n",
      "    Nodes    |    Current Node    |     Objective Bounds      |     Work\n",
      " Expl Unexpl |  Obj  Depth IntInf | Incumbent    BestBd   Gap | It/Node Time\n",
      "\n",
      "     0     0  162.45515    0    2  156.00000  162.45515  4.14%     -    0s\n",
      "H    0     0                     157.0000000  162.45515  3.47%     -    0s\n",
      "H    0     0                     159.0000000  162.45515  2.17%     -    0s\n",
      "\n",
      "Explored 1 nodes (4 simplex iterations) in 0.02 seconds (0.00 work units)\n",
      "Thread count was 16 (of 16 available processors)\n",
      "\n",
      "Solution count 4: 159 157 156 -0 \n",
      "\n",
      "Optimal solution found (tolerance 1.00e-04)\n",
      "Best objective 1.590000000000e+02, best bound 1.590000000000e+02, gap 0.0000%\n"
     ]
    }
   ],
   "source": [
    "m.optimize()"
   ]
  },
  {
   "cell_type": "code",
   "execution_count": 48,
   "metadata": {},
   "outputs": [
    {
     "name": "stdout",
     "output_type": "stream",
     "text": [
      "Optimal objective value: 159.0\n"
     ]
    }
   ],
   "source": [
    "print(f\"Optimal objective value: {m.objVal}\")\n",
    "\n"
   ]
  },
  {
   "cell_type": "markdown",
   "metadata": {},
   "source": [
    "PP1 - Fixed Charge Problem"
   ]
  },
  {
   "cell_type": "code",
   "execution_count": 1,
   "metadata": {},
   "outputs": [],
   "source": [
    "# import gurobi library\n",
    "import gurobipy as gp         #Gurobi Python interface\n",
    "from gurobipy import GRB      #Import as shortcut to avoid writing GP.grb\n",
    "from itertools import product #product creates the cartesian product from 2 or more lists."
   ]
  },
  {
   "cell_type": "code",
   "execution_count": 2,
   "metadata": {},
   "outputs": [],
   "source": [
    "# Data\n",
    "\n",
    "frames = ['Homer','Turner','Sargent']\n",
    "\n",
    "labor = dict(zip(frames,[3,2,6]))\n",
    "glass = dict(zip(frames,[4,3,4]))\n",
    "\n",
    "max_labor = 150\n",
    "max_glass = 160\n",
    "\n",
    "fix_cost = dict(zip(frames,[200,150,100]))\n",
    "\n",
    "profit = dict(zip(frames,[12-6,8-4,15-8]))\n"
   ]
  },
  {
   "cell_type": "code",
   "execution_count": 3,
   "metadata": {},
   "outputs": [
    {
     "name": "stdout",
     "output_type": "stream",
     "text": [
      "Restricted license - for non-production use only - expires 2024-10-28\n"
     ]
    }
   ],
   "source": [
    "#Initialize model\n",
    "m = gp.Model('Frames')"
   ]
  },
  {
   "cell_type": "code",
   "execution_count": 4,
   "metadata": {},
   "outputs": [],
   "source": [
    "#Decision Variables\n",
    "frames_var = m.addVars(frames, vtype=GRB.INTEGER, name='Frames')"
   ]
  },
  {
   "cell_type": "code",
   "execution_count": 5,
   "metadata": {},
   "outputs": [],
   "source": [
    "frames_bin = m.addVars(frames, vtype=GRB.BINARY, name='Frames_binary')"
   ]
  },
  {
   "cell_type": "code",
   "execution_count": 6,
   "metadata": {},
   "outputs": [],
   "source": [
    "#Objective Function\n",
    "m.setObjective(frames_var.prod(profit)-frames_bin.prod(fix_cost),GRB.MAXIMIZE)"
   ]
  },
  {
   "cell_type": "code",
   "execution_count": 7,
   "metadata": {},
   "outputs": [
    {
     "data": {
      "text/plain": [
       "<gurobi.Constr *Awaiting Model Update*>"
      ]
     },
     "execution_count": 7,
     "metadata": {},
     "output_type": "execute_result"
    }
   ],
   "source": [
    "#Constraints\n",
    "#labor\n",
    "m.addConstr(frames_var.prod(labor)<=max_labor,name='LaborConstr')"
   ]
  },
  {
   "cell_type": "code",
   "execution_count": 8,
   "metadata": {},
   "outputs": [
    {
     "data": {
      "text/plain": [
       "<gurobi.Constr *Awaiting Model Update*>"
      ]
     },
     "execution_count": 8,
     "metadata": {},
     "output_type": "execute_result"
    }
   ],
   "source": [
    "#glass\n",
    "m.addConstr(frames_var.prod(glass)<=max_glass, name='GlassConstr')"
   ]
  },
  {
   "cell_type": "code",
   "execution_count": 9,
   "metadata": {},
   "outputs": [
    {
     "data": {
      "text/plain": [
       "{'Homer': <gurobi.Constr *Awaiting Model Update*>,\n",
       " 'Turner': <gurobi.Constr *Awaiting Model Update*>,\n",
       " 'Sargent': <gurobi.Constr *Awaiting Model Update*>}"
      ]
     },
     "execution_count": 9,
     "metadata": {},
     "output_type": "execute_result"
    }
   ],
   "source": [
    "#linking\n",
    "m.addConstrs((frames_var[f]-100*frames_bin[f]<=0 for f in frames),name='Linking')"
   ]
  },
  {
   "cell_type": "code",
   "execution_count": 10,
   "metadata": {},
   "outputs": [],
   "source": [
    "#write model\n",
    "m.write('Frames.lp')"
   ]
  },
  {
   "cell_type": "code",
   "execution_count": 11,
   "metadata": {},
   "outputs": [
    {
     "name": "stdout",
     "output_type": "stream",
     "text": [
      "\\ Model Frames\n",
      "\\ LP format - for model browsing. Use MPS format to capture full model detail.\n",
      "Maximize\n",
      "  6 Frames[Homer] + 4 Frames[Turner] + 7 Frames[Sargent]\n",
      "   - 200 Frames_binary[Homer] - 150 Frames_binary[Turner]\n",
      "   - 100 Frames_binary[Sargent]\n",
      "Subject To\n",
      " LaborConstr: 3 Frames[Homer] + 2 Frames[Turner] + 6 Frames[Sargent]\n",
      "   <= 150\n",
      " GlassConstr: 4 Frames[Homer] + 3 Frames[Turner] + 4 Frames[Sargent]\n",
      "   <= 160\n",
      " Linking[Homer]: Frames[Homer] - 100 Frames_binary[Homer] <= 0\n",
      " Linking[Turner]: Frames[Turner] - 100 Frames_binary[Turner] <= 0\n",
      " Linking[Sargent]: Frames[Sargent] - 100 Frames_binary[Sargent] <= 0\n",
      "Bounds\n",
      "Binaries\n",
      " Frames_binary[Homer] Frames_binary[Turner] Frames_binary[Sargent]\n",
      "Generals\n",
      " Frames[Homer] Frames[Turner] Frames[Sargent]\n",
      "End\n",
      "\n"
     ]
    }
   ],
   "source": [
    "# Details of the model\n",
    "with open('Frames.lp') as f:\n",
    "  print (f.read())"
   ]
  },
  {
   "cell_type": "code",
   "execution_count": 12,
   "metadata": {},
   "outputs": [
    {
     "name": "stdout",
     "output_type": "stream",
     "text": [
      "Gurobi Optimizer version 10.0.2 build v10.0.2rc0 (win64)\n",
      "\n",
      "CPU model: AMD Ryzen 7 4800H with Radeon Graphics, instruction set [SSE2|AVX|AVX2]\n",
      "Thread count: 8 physical cores, 16 logical processors, using up to 16 threads\n",
      "\n",
      "Optimize a model with 5 rows, 6 columns and 12 nonzeros\n",
      "Model fingerprint: 0x04382a37\n",
      "Variable types: 0 continuous, 6 integer (3 binary)\n",
      "Coefficient statistics:\n",
      "  Matrix range     [1e+00, 1e+02]\n",
      "  Objective range  [4e+00, 2e+02]\n",
      "  Bounds range     [1e+00, 1e+00]\n",
      "  RHS range        [2e+02, 2e+02]\n",
      "Found heuristic solution: objective -0.0000000\n",
      "Found heuristic solution: objective 40.0000000\n",
      "Presolve time: 0.00s\n",
      "Presolved: 5 rows, 6 columns, 12 nonzeros\n",
      "Variable types: 0 continuous, 6 integer (3 binary)\n",
      "\n",
      "Root relaxation: objective 8.111321e+01, 4 iterations, 0.00 seconds (0.00 work units)\n",
      "\n",
      "    Nodes    |    Current Node    |     Objective Bounds      |     Work\n",
      " Expl Unexpl |  Obj  Depth IntInf | Incumbent    BestBd   Gap | It/Node Time\n",
      "\n",
      "     0     0   81.11321    0    2   40.00000   81.11321   103%     -    0s\n",
      "H    0     0                      75.0000000   81.11321  8.15%     -    0s\n",
      "\n",
      "Cutting planes:\n",
      "  Flow cover: 2\n",
      "\n",
      "Explored 1 nodes (4 simplex iterations) in 0.02 seconds (0.00 work units)\n",
      "Thread count was 16 (of 16 available processors)\n",
      "\n",
      "Solution count 3: 75 40 -0 \n",
      "\n",
      "Optimal solution found (tolerance 1.00e-04)\n",
      "Best objective 7.500000000000e+01, best bound 7.500000000000e+01, gap 0.0000%\n"
     ]
    }
   ],
   "source": [
    "#optimize model\n",
    "m.optimize()"
   ]
  },
  {
   "cell_type": "code",
   "execution_count": 13,
   "metadata": {},
   "outputs": [
    {
     "name": "stdout",
     "output_type": "stream",
     "text": [
      "Optimal objective value: 75.0\n"
     ]
    }
   ],
   "source": [
    "print(f\"Optimal objective value: {m.objVal}\")"
   ]
  },
  {
   "cell_type": "code",
   "execution_count": 14,
   "metadata": {},
   "outputs": [
    {
     "name": "stdout",
     "output_type": "stream",
     "text": [
      "Results of the constraints: (Slack is the difference between the right side of the constraint and the left side)\n",
      "Constraint LaborConstr: Slack Value = 0.0\n",
      "Constraint GlassConstr: Slack Value = 60.0\n",
      "Constraint Linking[Homer]: Slack Value = 0.0\n",
      "Constraint Linking[Turner]: Slack Value = 0.0\n",
      "Constraint Linking[Sargent]: Slack Value = 75.0\n"
     ]
    }
   ],
   "source": [
    "print(\"Results of the constraints: (Slack is the difference between the right side of the constraint and the left side)\")\n",
    "for constr in m.getConstrs():\n",
    "    constr_name = constr.ConstrName\n",
    "    slack_value = constr.Slack\n",
    "    print(f\"Constraint {constr_name}: Slack Value = {slack_value}\")"
   ]
  },
  {
   "cell_type": "markdown",
   "metadata": {},
   "source": [
    "## Module 4 - Extra Linear Programming"
   ]
  },
  {
   "cell_type": "markdown",
   "metadata": {},
   "source": [
    "PP7 - Capital Budgeting Problem"
   ]
  },
  {
   "cell_type": "code",
   "execution_count": 60,
   "metadata": {},
   "outputs": [],
   "source": [
    "# import gurobi library\n",
    "import gurobipy as gp         #Gurobi Python interface\n",
    "from gurobipy import GRB      #Import as shortcut to avoid writing GP.grb\n",
    "from itertools import product #product creates the cartesian product from 2 or more lists."
   ]
  },
  {
   "cell_type": "code",
   "execution_count": 61,
   "metadata": {},
   "outputs": [],
   "source": [
    "#Data\n",
    "project = [i for i in range(1,6)]\n",
    "\n",
    "years = ['1st year','2nd year','3rd year']\n",
    "\n",
    "proyect_year = list(product(project, years))\n",
    "\n",
    "expenditures = dict(zip(proyect_year,[12,8,4,\n",
    "                                      7,5,1,\n",
    "                                      9,6,3,\n",
    "                                      2,4,8,\n",
    "                                      4,6,10]))\n",
    "\n",
    "revenue =  dict(zip(project,[30,20,25,23,27]))\n",
    "\n",
    "available_fund = dict(zip(years,[25,20,20]))"
   ]
  },
  {
   "cell_type": "code",
   "execution_count": 62,
   "metadata": {},
   "outputs": [],
   "source": [
    "#Defining the model\n",
    "m = gp.Model('CapitalBudgeting')"
   ]
  },
  {
   "cell_type": "code",
   "execution_count": 63,
   "metadata": {},
   "outputs": [
    {
     "data": {
      "text/plain": [
       "{1: <gurobi.Var *Awaiting Model Update*>,\n",
       " 2: <gurobi.Var *Awaiting Model Update*>,\n",
       " 3: <gurobi.Var *Awaiting Model Update*>,\n",
       " 4: <gurobi.Var *Awaiting Model Update*>,\n",
       " 5: <gurobi.Var *Awaiting Model Update*>}"
      ]
     },
     "execution_count": 63,
     "metadata": {},
     "output_type": "execute_result"
    }
   ],
   "source": [
    "#Decision Variables\n",
    "project_var = m.addVars(project, vtype=GRB.BINARY, name='Projects')\n",
    "project_var"
   ]
  },
  {
   "cell_type": "code",
   "execution_count": 64,
   "metadata": {},
   "outputs": [],
   "source": [
    "#Objective Function\n",
    "m.setObjective(project_var.prod(revenue), GRB.MAXIMIZE)\n",
    "# - gp.quicksum(project_var[proj]*expenditures[proj, year] for proj, year in proyect_year)"
   ]
  },
  {
   "cell_type": "code",
   "execution_count": 65,
   "metadata": {},
   "outputs": [],
   "source": [
    "#Constraints\n",
    "#Available funds\n",
    "for year in years:\n",
    "  m.addConstr(gp.quicksum(project_var[proj]*expenditures[proj, year] for proj in project) <=available_fund[year], name='FundsAvailable')"
   ]
  },
  {
   "cell_type": "code",
   "execution_count": 66,
   "metadata": {},
   "outputs": [],
   "source": [
    "#linking constraint\n",
    "#for proj in project:\n",
    "#  m.addConstr(gp.quicksum(project_var[proj]*expenditures[proj,year]- project_var[proj]*expenditures[proj,year] for year in years)  <= 0, name='linkingConstr' )"
   ]
  },
  {
   "cell_type": "code",
   "execution_count": 67,
   "metadata": {},
   "outputs": [
    {
     "data": {
      "text/plain": [
       "<gurobi.Constr *Awaiting Model Update*>"
      ]
     },
     "execution_count": 67,
     "metadata": {},
     "output_type": "execute_result"
    }
   ],
   "source": [
    "#at least one project\n",
    "m.addConstr(project_var.sum('*')>=1,name='AtLeastOneProject')"
   ]
  },
  {
   "cell_type": "code",
   "execution_count": 68,
   "metadata": {},
   "outputs": [
    {
     "name": "stdout",
     "output_type": "stream",
     "text": [
      "Warning: linear constraint 0 and linear constraint 1 have the same name \"FundsAvailable\"\n"
     ]
    }
   ],
   "source": [
    "m.write('ProjectSelection.lp')"
   ]
  },
  {
   "cell_type": "code",
   "execution_count": 69,
   "metadata": {},
   "outputs": [
    {
     "name": "stdout",
     "output_type": "stream",
     "text": [
      "\\ Model CapitalBudgeting\n",
      "\\ LP format - for model browsing. Use MPS format to capture full model detail.\n",
      "Maximize\n",
      "  30 Projects[1] + 20 Projects[2] + 25 Projects[3] + 23 Projects[4]\n",
      "   + 27 Projects[5]\n",
      "Subject To\n",
      " FundsAvailable: 12 Projects[1] + 7 Projects[2] + 9 Projects[3]\n",
      "   + 2 Projects[4] + 4 Projects[5] <= 25\n",
      " FundsAvailable: 8 Projects[1] + 5 Projects[2] + 6 Projects[3]\n",
      "   + 4 Projects[4] + 6 Projects[5] <= 20\n",
      " FundsAvailable: 4 Projects[1] + Projects[2] + 3 Projects[3]\n",
      "   + 8 Projects[4] + 10 Projects[5] <= 20\n",
      " AtLeastOneProject: Projects[1] + Projects[2] + Projects[3] + Projects[4]\n",
      "   + Projects[5] >= 1\n",
      "Bounds\n",
      "Binaries\n",
      " Projects[1] Projects[2] Projects[3] Projects[4] Projects[5]\n",
      "End\n",
      "\n"
     ]
    }
   ],
   "source": [
    "with open('ProjectSelection.lp') as f:\n",
    "  print (f.read())"
   ]
  },
  {
   "cell_type": "code",
   "execution_count": 70,
   "metadata": {},
   "outputs": [
    {
     "name": "stdout",
     "output_type": "stream",
     "text": [
      "Gurobi Optimizer version 10.0.2 build v10.0.2rc0 (win64)\n",
      "\n",
      "CPU model: AMD Ryzen 7 4800H with Radeon Graphics, instruction set [SSE2|AVX|AVX2]\n",
      "Thread count: 8 physical cores, 16 logical processors, using up to 16 threads\n",
      "\n",
      "Optimize a model with 4 rows, 5 columns and 20 nonzeros\n",
      "Model fingerprint: 0x7ba93007\n",
      "Variable types: 0 continuous, 5 integer (5 binary)\n",
      "Coefficient statistics:\n",
      "  Matrix range     [1e+00, 1e+01]\n",
      "  Objective range  [2e+01, 3e+01]\n",
      "  Bounds range     [1e+00, 1e+00]\n",
      "  RHS range        [1e+00, 3e+01]\n",
      "Found heuristic solution: objective 73.0000000\n",
      "Presolve time: 0.00s\n",
      "Presolved: 4 rows, 5 columns, 19 nonzeros\n",
      "Variable types: 0 continuous, 5 integer (5 binary)\n",
      "Found heuristic solution: objective 82.0000000\n",
      "\n",
      "Root relaxation: cutoff, 3 iterations, 0.00 seconds (0.00 work units)\n",
      "\n",
      "    Nodes    |    Current Node    |     Objective Bounds      |     Work\n",
      " Expl Unexpl |  Obj  Depth IntInf | Incumbent    BestBd   Gap | It/Node Time\n",
      "\n",
      "     0     0     cutoff    0        82.00000   82.00000  0.00%     -    0s\n",
      "\n",
      "Explored 1 nodes (3 simplex iterations) in 0.01 seconds (0.00 work units)\n",
      "Thread count was 16 (of 16 available processors)\n",
      "\n",
      "Solution count 2: 82 73 \n",
      "\n",
      "Optimal solution found (tolerance 1.00e-04)\n",
      "Best objective 8.200000000000e+01, best bound 8.200000000000e+01, gap 0.0000%\n"
     ]
    }
   ],
   "source": [
    "#optimize\n",
    "m.optimize()"
   ]
  },
  {
   "cell_type": "code",
   "execution_count": 71,
   "metadata": {},
   "outputs": [
    {
     "name": "stdout",
     "output_type": "stream",
     "text": [
      "Optimal objective value: 82.0\n",
      "Optimal solution for project_var:\n",
      "Project 1: Value = 1.0\n",
      "Project 2: Value = 0.0\n",
      "Project 3: Value = 1.0\n",
      "Project 4: Value = 0.0\n",
      "Project 5: Value = 1.0\n"
     ]
    }
   ],
   "source": [
    "print(f\"Optimal objective value: {m.objVal}\")\n",
    "\n",
    "print(\"Optimal solution for project_var:\")\n",
    "for proj in project:\n",
    "    print(f\"Project {proj}: Value = {project_var[proj].x}\")"
   ]
  },
  {
   "cell_type": "markdown",
   "metadata": {},
   "source": [
    "PP8 - Machu Pichu Commerce"
   ]
  },
  {
   "cell_type": "code",
   "execution_count": 72,
   "metadata": {},
   "outputs": [],
   "source": [
    "# import gurobi library\n",
    "import gurobipy as gp         #Gurobi Python interface\n",
    "from gurobipy import GRB      #Import as shortcut to avoid writing GP.grb\n",
    "from itertools import product #product creates the cartesian product from 2 or more lists."
   ]
  },
  {
   "cell_type": "code",
   "execution_count": 73,
   "metadata": {},
   "outputs": [],
   "source": [
    "#Data\n",
    "dc_list = ['DC_1','DC_2','DC_3','DC_4','DC_5']\n",
    "wholesaler_list = ['WH_1','WH_2','WH_3']\n",
    "\n",
    "t_cost = dict(zip(dc_list,[0.3,0.2,0.8,0.5,0.4]))\n",
    "capacity = dict(zip(dc_list,[410,410,320,420,380]))\n",
    "fixed_cost = dict(zip(dc_list,[80,90,80,90,80]))\n",
    "\n",
    "dc_to_wh = list(product(dc_list,wholesaler_list))\n",
    "\n",
    "distance = dict(zip(dc_to_wh,[85,120,90,45,150,85,75,120,95,60,80,90,110,65,95]))\n",
    "\n",
    "minimum_storage = 900\n",
    "demand=35\n",
    "\n",
    "min_dcs = 2\n",
    "max_dc = 3\n"
   ]
  },
  {
   "cell_type": "code",
   "execution_count": 74,
   "metadata": {},
   "outputs": [
    {
     "data": {
      "text/plain": [
       "{('DC_1', 'WH_1'): 85,\n",
       " ('DC_1', 'WH_2'): 120,\n",
       " ('DC_1', 'WH_3'): 90,\n",
       " ('DC_2', 'WH_1'): 45,\n",
       " ('DC_2', 'WH_2'): 150,\n",
       " ('DC_2', 'WH_3'): 85,\n",
       " ('DC_3', 'WH_1'): 75,\n",
       " ('DC_3', 'WH_2'): 120,\n",
       " ('DC_3', 'WH_3'): 95,\n",
       " ('DC_4', 'WH_1'): 60,\n",
       " ('DC_4', 'WH_2'): 80,\n",
       " ('DC_4', 'WH_3'): 90,\n",
       " ('DC_5', 'WH_1'): 110,\n",
       " ('DC_5', 'WH_2'): 65,\n",
       " ('DC_5', 'WH_3'): 95}"
      ]
     },
     "execution_count": 74,
     "metadata": {},
     "output_type": "execute_result"
    }
   ],
   "source": [
    "distance"
   ]
  },
  {
   "cell_type": "code",
   "execution_count": 75,
   "metadata": {},
   "outputs": [],
   "source": [
    "#Defining the model\n",
    "m = gp.Model('MachuPichu')"
   ]
  },
  {
   "cell_type": "code",
   "execution_count": 76,
   "metadata": {},
   "outputs": [],
   "source": [
    "#Decision Variables\n",
    "DC_var = m.addVars(dc_list,vtype=GRB.BINARY,name='DC')"
   ]
  },
  {
   "cell_type": "code",
   "execution_count": 77,
   "metadata": {},
   "outputs": [],
   "source": [
    "#Objective\n",
    "m.setObjective((gp.quicksum(gp.quicksum(DC_var[dc]*distance[dc,wh]*t_cost[dc]*demand for wh in wholesaler_list) + fixed_cost[dc]*DC_var[dc] for dc in dc_list)),GRB.MINIMIZE)"
   ]
  },
  {
   "cell_type": "code",
   "execution_count": 78,
   "metadata": {},
   "outputs": [
    {
     "data": {
      "text/plain": [
       "<gurobi.Constr *Awaiting Model Update*>"
      ]
     },
     "execution_count": 78,
     "metadata": {},
     "output_type": "execute_result"
    }
   ],
   "source": [
    "#Constraints\n",
    "#minimum storage\n",
    "m.addConstr(DC_var.prod(capacity)>=minimum_storage,name='MinimumStorage')"
   ]
  },
  {
   "cell_type": "code",
   "execution_count": 79,
   "metadata": {},
   "outputs": [
    {
     "data": {
      "text/plain": [
       "<gurobi.Constr *Awaiting Model Update*>"
      ]
     },
     "execution_count": 79,
     "metadata": {},
     "output_type": "execute_result"
    }
   ],
   "source": [
    "#at least 2 DC\n",
    "m.addConstr(DC_var.sum('*')>=min_dcs, name='AtLeast2DCs')"
   ]
  },
  {
   "cell_type": "code",
   "execution_count": 80,
   "metadata": {},
   "outputs": [
    {
     "data": {
      "text/plain": [
       "<gurobi.Constr *Awaiting Model Update*>"
      ]
     },
     "execution_count": 80,
     "metadata": {},
     "output_type": "execute_result"
    }
   ],
   "source": [
    "#at most 3 DC\n",
    "m.addConstr(DC_var.sum('*')<=max_dc, name='AtMost3DCs')"
   ]
  },
  {
   "cell_type": "code",
   "execution_count": 81,
   "metadata": {},
   "outputs": [],
   "source": [
    "#Write model\n",
    "m.write('MachuPichu.lp')"
   ]
  },
  {
   "cell_type": "code",
   "execution_count": 82,
   "metadata": {},
   "outputs": [
    {
     "name": "stdout",
     "output_type": "stream",
     "text": [
      "\\ Model MachuPichu\n",
      "\\ LP format - for model browsing. Use MPS format to capture full model detail.\n",
      "Minimize\n",
      "  3177.5 DC[DC_1] + 2050 DC[DC_2] + 8200 DC[DC_3] + 4115 DC[DC_4]\n",
      "   + 3860 DC[DC_5]\n",
      "Subject To\n",
      " MinimumStorage: 410 DC[DC_1] + 410 DC[DC_2] + 320 DC[DC_3] + 420 DC[DC_4]\n",
      "   + 380 DC[DC_5] >= 900\n",
      " AtLeast2DCs: DC[DC_1] + DC[DC_2] + DC[DC_3] + DC[DC_4] + DC[DC_5] >= 2\n",
      " AtMost3DCs: DC[DC_1] + DC[DC_2] + DC[DC_3] + DC[DC_4] + DC[DC_5] <= 3\n",
      "Bounds\n",
      "Binaries\n",
      " DC[DC_1] DC[DC_2] DC[DC_3] DC[DC_4] DC[DC_5]\n",
      "End\n",
      "\n"
     ]
    }
   ],
   "source": [
    "#Check model\n",
    "with open('MachuPichu.lp') as f:\n",
    "  print (f.read())"
   ]
  },
  {
   "cell_type": "code",
   "execution_count": 83,
   "metadata": {},
   "outputs": [
    {
     "name": "stdout",
     "output_type": "stream",
     "text": [
      "Gurobi Optimizer version 10.0.2 build v10.0.2rc0 (win64)\n",
      "\n",
      "CPU model: AMD Ryzen 7 4800H with Radeon Graphics, instruction set [SSE2|AVX|AVX2]\n",
      "Thread count: 8 physical cores, 16 logical processors, using up to 16 threads\n",
      "\n",
      "Optimize a model with 3 rows, 5 columns and 15 nonzeros\n",
      "Model fingerprint: 0x76e26ee7\n",
      "Variable types: 0 continuous, 5 integer (5 binary)\n",
      "Coefficient statistics:\n",
      "  Matrix range     [1e+00, 4e+02]\n",
      "  Objective range  [2e+03, 8e+03]\n",
      "  Bounds range     [1e+00, 1e+00]\n",
      "  RHS range        [2e+00, 9e+02]\n",
      "Found heuristic solution: objective 13427.500000\n",
      "Presolve removed 3 rows and 5 columns\n",
      "Presolve time: 0.00s\n",
      "Presolve: All rows and columns removed\n",
      "\n",
      "Explored 0 nodes (0 simplex iterations) in 0.01 seconds (0.00 work units)\n",
      "Thread count was 1 (of 16 available processors)\n",
      "\n",
      "Solution count 2: 9087.5 13427.5 \n",
      "\n",
      "Optimal solution found (tolerance 1.00e-04)\n",
      "Best objective 9.087500000000e+03, best bound 9.087500000000e+03, gap 0.0000%\n"
     ]
    }
   ],
   "source": [
    "#Optimize model\n",
    "m.optimize()"
   ]
  },
  {
   "cell_type": "code",
   "execution_count": 84,
   "metadata": {},
   "outputs": [
    {
     "name": "stdout",
     "output_type": "stream",
     "text": [
      "Optimal objective value: 9087.5\n",
      "Optimal DCs:\n",
      "DC DC_1: Value = 1.0\n",
      "DC DC_2: Value = 1.0\n",
      "DC DC_3: Value = 0.0\n",
      "DC DC_4: Value = 0.0\n",
      "DC DC_5: Value = 1.0\n",
      "Results of the constraints: (Slack is the difference between the right side of the constraint and the left side)\n",
      "Constraint MinimumStorage: Slack Value = -300.0\n",
      "Constraint AtLeast2DCs: Slack Value = -1.0\n",
      "Constraint AtMost3DCs: Slack Value = 0.0\n"
     ]
    }
   ],
   "source": [
    "print(f\"Optimal objective value: {m.objVal}\")\n",
    "\n",
    "print(\"Optimal DCs:\")\n",
    "for dc in DC_var:\n",
    "    print(f\"DC {dc}: Value = {DC_var[dc].x}\")\n",
    "    \n",
    "print(\"Results of the constraints: (Slack is the difference between the right side of the constraint and the left side)\")\n",
    "for constr in m.getConstrs():\n",
    "    constr_name = constr.ConstrName\n",
    "    slack_value = constr.Slack\n",
    "    print(f\"Constraint {constr_name}: Slack Value = {slack_value}\")\n",
    "    \n"
   ]
  },
  {
   "cell_type": "markdown",
   "metadata": {},
   "source": [
    "PP9 - Railey Motors"
   ]
  },
  {
   "cell_type": "code",
   "execution_count": 85,
   "metadata": {},
   "outputs": [],
   "source": [
    "# import gurobi library\n",
    "import gurobipy as gp         #Gurobi Python interface\n",
    "from gurobipy import GRB      #Import as shortcut to avoid writing GP.grb\n",
    "from itertools import product #product creates the cartesian product from 2 or more lists."
   ]
  },
  {
   "cell_type": "code",
   "execution_count": 86,
   "metadata": {},
   "outputs": [],
   "source": [
    "#Data\n",
    "plants = ['Ahmedabad','Patna','Hyderabad']\n",
    "DCs = ['Bhopal','Indore']\n",
    "\n",
    "routes = list(product(plants,DCs))\n",
    "demand = dict(zip(DCs,[4800,5700]))\n",
    "capacity=dict(zip(plants,[4800,3500,2200]))\n",
    "\n",
    "ship_cost = dict(zip(routes,[16500,10600,12200,12600,10300,9240]))\n"
   ]
  },
  {
   "cell_type": "code",
   "execution_count": 87,
   "metadata": {},
   "outputs": [],
   "source": [
    "#Initiate model\n",
    "m = gp.Model('RaileyMotors')"
   ]
  },
  {
   "cell_type": "code",
   "execution_count": 88,
   "metadata": {},
   "outputs": [
    {
     "data": {
      "text/plain": [
       "{('Ahmedabad', 'Bhopal'): <gurobi.Var *Awaiting Model Update*>,\n",
       " ('Ahmedabad', 'Indore'): <gurobi.Var *Awaiting Model Update*>,\n",
       " ('Patna', 'Bhopal'): <gurobi.Var *Awaiting Model Update*>,\n",
       " ('Patna', 'Indore'): <gurobi.Var *Awaiting Model Update*>,\n",
       " ('Hyderabad', 'Bhopal'): <gurobi.Var *Awaiting Model Update*>,\n",
       " ('Hyderabad', 'Indore'): <gurobi.Var *Awaiting Model Update*>}"
      ]
     },
     "execution_count": 88,
     "metadata": {},
     "output_type": "execute_result"
    }
   ],
   "source": [
    "#Decision Variable\n",
    "ship_units = m.addVars(routes,vtype=GRB.INTEGER,lb=0,name='ShippingUnits')\n",
    "ship_units"
   ]
  },
  {
   "cell_type": "code",
   "execution_count": 89,
   "metadata": {},
   "outputs": [],
   "source": [
    "#Objective Function\n",
    "m.setObjective(ship_units.prod(ship_cost), GRB.MINIMIZE)"
   ]
  },
  {
   "cell_type": "code",
   "execution_count": 90,
   "metadata": {},
   "outputs": [
    {
     "data": {
      "text/plain": [
       "{'Ahmedabad': <gurobi.Constr *Awaiting Model Update*>,\n",
       " 'Patna': <gurobi.Constr *Awaiting Model Update*>,\n",
       " 'Hyderabad': <gurobi.Constr *Awaiting Model Update*>}"
      ]
     },
     "execution_count": 90,
     "metadata": {},
     "output_type": "execute_result"
    }
   ],
   "source": [
    "#Constraints\n",
    "#Capacity\n",
    "m.addConstrs(ship_units.sum(p)<=capacity[p] for p in plants)"
   ]
  },
  {
   "cell_type": "code",
   "execution_count": 91,
   "metadata": {},
   "outputs": [
    {
     "data": {
      "text/plain": [
       "{'Bhopal': <gurobi.Constr *Awaiting Model Update*>,\n",
       " 'Indore': <gurobi.Constr *Awaiting Model Update*>}"
      ]
     },
     "execution_count": 91,
     "metadata": {},
     "output_type": "execute_result"
    }
   ],
   "source": [
    "#Demand\n",
    "m.addConstrs(ship_units.sum('*',dc)>=demand[dc] for dc in DCs)"
   ]
  },
  {
   "cell_type": "code",
   "execution_count": 92,
   "metadata": {},
   "outputs": [],
   "source": [
    "#write model\n",
    "m.write('RaileyMotors.lp')"
   ]
  },
  {
   "cell_type": "code",
   "execution_count": 93,
   "metadata": {},
   "outputs": [
    {
     "name": "stdout",
     "output_type": "stream",
     "text": [
      "\\ Model RaileyMotors\n",
      "\\ LP format - for model browsing. Use MPS format to capture full model detail.\n",
      "Minimize\n",
      "  16500 ShippingUnits[Ahmedabad,Bhopal]\n",
      "   + 10600 ShippingUnits[Ahmedabad,Indore]\n",
      "   + 12200 ShippingUnits[Patna,Bhopal] + 12600 ShippingUnits[Patna,Indore]\n",
      "   + 10300 ShippingUnits[Hyderabad,Bhopal]\n",
      "   + 9240 ShippingUnits[Hyderabad,Indore]\n",
      "Subject To\n",
      " R0: ShippingUnits[Ahmedabad,Bhopal] + ShippingUnits[Ahmedabad,Indore]\n",
      "   <= 4800\n",
      " R1: ShippingUnits[Patna,Bhopal] + ShippingUnits[Patna,Indore] <= 3500\n",
      " R2: ShippingUnits[Hyderabad,Bhopal] + ShippingUnits[Hyderabad,Indore]\n",
      "   <= 2200\n",
      " R3: ShippingUnits[Ahmedabad,Bhopal] + ShippingUnits[Patna,Bhopal]\n",
      "   + ShippingUnits[Hyderabad,Bhopal] >= 4800\n",
      " R4: ShippingUnits[Ahmedabad,Indore] + ShippingUnits[Patna,Indore]\n",
      "   + ShippingUnits[Hyderabad,Indore] >= 5700\n",
      "Bounds\n",
      "Generals\n",
      " ShippingUnits[Ahmedabad,Bhopal] ShippingUnits[Ahmedabad,Indore]\n",
      " ShippingUnits[Patna,Bhopal] ShippingUnits[Patna,Indore]\n",
      " ShippingUnits[Hyderabad,Bhopal] ShippingUnits[Hyderabad,Indore]\n",
      "End\n",
      "\n"
     ]
    }
   ],
   "source": [
    "# Details of the model\n",
    "with open('RaileyMotors.lp') as f:\n",
    "  print (f.read())"
   ]
  },
  {
   "cell_type": "code",
   "execution_count": 94,
   "metadata": {},
   "outputs": [
    {
     "name": "stdout",
     "output_type": "stream",
     "text": [
      "Gurobi Optimizer version 10.0.2 build v10.0.2rc0 (win64)\n",
      "\n",
      "CPU model: AMD Ryzen 7 4800H with Radeon Graphics, instruction set [SSE2|AVX|AVX2]\n",
      "Thread count: 8 physical cores, 16 logical processors, using up to 16 threads\n",
      "\n",
      "Optimize a model with 5 rows, 6 columns and 12 nonzeros\n",
      "Model fingerprint: 0x1fd57f0a\n",
      "Variable types: 0 continuous, 6 integer (0 binary)\n",
      "Coefficient statistics:\n",
      "  Matrix range     [1e+00, 1e+00]\n",
      "  Objective range  [9e+03, 2e+04]\n",
      "  Bounds range     [0e+00, 0e+00]\n",
      "  RHS range        [2e+03, 6e+03]\n",
      "Presolve removed 2 rows and 2 columns\n",
      "Presolve time: 0.00s\n",
      "Presolved: 3 rows, 4 columns, 8 nonzeros\n",
      "Variable types: 0 continuous, 4 integer (0 binary)\n",
      "Found heuristic solution: objective 1.436232e+08\n",
      "Found heuristic solution: objective 1.166000e+08\n",
      "\n",
      "Root relaxation: objective 1.152860e+08, 2 iterations, 0.00 seconds (0.00 work units)\n",
      "\n",
      "    Nodes    |    Current Node    |     Objective Bounds      |     Work\n",
      " Expl Unexpl |  Obj  Depth IntInf | Incumbent    BestBd   Gap | It/Node Time\n",
      "\n",
      "*    0     0               0    1.152860e+08 1.1529e+08  0.00%     -    0s\n",
      "\n",
      "Explored 1 nodes (2 simplex iterations) in 0.01 seconds (0.00 work units)\n",
      "Thread count was 16 (of 16 available processors)\n",
      "\n",
      "Solution count 3: 1.15286e+08 1.166e+08 1.43623e+08 \n",
      "\n",
      "Optimal solution found (tolerance 1.00e-04)\n",
      "Best objective 1.152860000000e+08, best bound 1.152860000000e+08, gap 0.0000%\n"
     ]
    }
   ],
   "source": [
    "#optimize\n",
    "m.optimize()"
   ]
  },
  {
   "cell_type": "code",
   "execution_count": 95,
   "metadata": {},
   "outputs": [
    {
     "name": "stdout",
     "output_type": "stream",
     "text": [
      "Optimal objective value: 115286000.0\n"
     ]
    }
   ],
   "source": [
    "print(f\"Optimal objective value: {m.objVal}\")"
   ]
  },
  {
   "cell_type": "markdown",
   "metadata": {},
   "source": [
    "PP11 - Fancy Furniture"
   ]
  },
  {
   "cell_type": "code",
   "execution_count": 1,
   "metadata": {},
   "outputs": [],
   "source": [
    "# import gurobi library\n",
    "import gurobipy as gp         #Gurobi Python interface\n",
    "from gurobipy import GRB      #Import as shortcut to avoid writing GP.grb\n",
    "from itertools import product #product creates the cartesian product from 2 or more lists."
   ]
  },
  {
   "cell_type": "code",
   "execution_count": 2,
   "metadata": {},
   "outputs": [],
   "source": [
    "#data\n",
    "prod_facilities = ['C1','T1','F','C2','T2']\n",
    "wh = ['WH1','WH2']\n",
    "\n",
    "#new_plants=['C2','T2']\n",
    "\n",
    "sku_flow = list(product(prod_facilities,wh))\n",
    "\n",
    "capacity = dict(zip(prod_facilities,[1500,1800,6000,2000,2200]))\n",
    "demand = dict(zip(wh,[6000,5200]))\n",
    "\n",
    "fix_cost = dict(zip(['C2','T2'],[41700,21100]))\n",
    "\n",
    "sku_flow_profit=dict(zip(sku_flow, [82,83,\n",
    "                                  46,49,\n",
    "                                  30,35,\n",
    "                                  86,81,\n",
    "                                  44,52]))\n",
    "\n"
   ]
  },
  {
   "cell_type": "code",
   "execution_count": 3,
   "metadata": {},
   "outputs": [
    {
     "name": "stdout",
     "output_type": "stream",
     "text": [
      "Restricted license - for non-production use only - expires 2024-10-28\n"
     ]
    }
   ],
   "source": [
    "#Initialize model\n",
    "m = gp.Model('FancyFurniture')"
   ]
  },
  {
   "cell_type": "code",
   "execution_count": 4,
   "metadata": {},
   "outputs": [
    {
     "data": {
      "text/plain": [
       "{('C1', 'WH1'): <gurobi.Var *Awaiting Model Update*>,\n",
       " ('C1', 'WH2'): <gurobi.Var *Awaiting Model Update*>,\n",
       " ('T1', 'WH1'): <gurobi.Var *Awaiting Model Update*>,\n",
       " ('T1', 'WH2'): <gurobi.Var *Awaiting Model Update*>,\n",
       " ('F', 'WH1'): <gurobi.Var *Awaiting Model Update*>,\n",
       " ('F', 'WH2'): <gurobi.Var *Awaiting Model Update*>,\n",
       " ('C2', 'WH1'): <gurobi.Var *Awaiting Model Update*>,\n",
       " ('C2', 'WH2'): <gurobi.Var *Awaiting Model Update*>,\n",
       " ('T2', 'WH1'): <gurobi.Var *Awaiting Model Update*>,\n",
       " ('T2', 'WH2'): <gurobi.Var *Awaiting Model Update*>}"
      ]
     },
     "execution_count": 4,
     "metadata": {},
     "output_type": "execute_result"
    }
   ],
   "source": [
    "#Decision Variables\n",
    "sku_flow_var = m.addVars(sku_flow,vtype=GRB.INTEGER,name='sku_flow')\n",
    "sku_flow_var"
   ]
  },
  {
   "cell_type": "code",
   "execution_count": 5,
   "metadata": {},
   "outputs": [
    {
     "data": {
      "text/plain": [
       "{'C2': <gurobi.Var *Awaiting Model Update*>,\n",
       " 'T2': <gurobi.Var *Awaiting Model Update*>}"
      ]
     },
     "execution_count": 5,
     "metadata": {},
     "output_type": "execute_result"
    }
   ],
   "source": [
    "new_plant_var = m.addVars(fix_cost,vtype=GRB.BINARY,name='NewPlantBinary')\n",
    "new_plant_var"
   ]
  },
  {
   "cell_type": "code",
   "execution_count": 6,
   "metadata": {},
   "outputs": [],
   "source": [
    "#Set Objective\n",
    "m.setObjective(sku_flow_var.prod(sku_flow_profit) - new_plant_var.prod(fix_cost),GRB.MAXIMIZE)"
   ]
  },
  {
   "cell_type": "code",
   "execution_count": 7,
   "metadata": {},
   "outputs": [
    {
     "data": {
      "text/plain": [
       "{'WH1': <gurobi.Constr *Awaiting Model Update*>,\n",
       " 'WH2': <gurobi.Constr *Awaiting Model Update*>}"
      ]
     },
     "execution_count": 7,
     "metadata": {},
     "output_type": "execute_result"
    }
   ],
   "source": [
    "#Constraints\n",
    "#demand\n",
    "m.addConstrs((sku_flow_var.sum('*',w)==demand[w] for w in wh),name='DemandConstr')"
   ]
  },
  {
   "cell_type": "code",
   "execution_count": 8,
   "metadata": {},
   "outputs": [
    {
     "data": {
      "text/plain": [
       "{'C1': <gurobi.Constr *Awaiting Model Update*>,\n",
       " 'T1': <gurobi.Constr *Awaiting Model Update*>,\n",
       " 'F': <gurobi.Constr *Awaiting Model Update*>,\n",
       " 'C2': <gurobi.Constr *Awaiting Model Update*>,\n",
       " 'T2': <gurobi.Constr *Awaiting Model Update*>}"
      ]
     },
     "execution_count": 8,
     "metadata": {},
     "output_type": "execute_result"
    }
   ],
   "source": [
    "#capacity\n",
    "m.addConstrs((sku_flow_var.sum(pf)<=capacity[pf] for pf in prod_facilities),name = 'CapacityConstr')"
   ]
  },
  {
   "cell_type": "code",
   "execution_count": 9,
   "metadata": {},
   "outputs": [
    {
     "data": {
      "text/plain": [
       "<gurobi.Constr *Awaiting Model Update*>"
      ]
     },
     "execution_count": 9,
     "metadata": {},
     "output_type": "execute_result"
    }
   ],
   "source": [
    "#only open one\n",
    "m.addConstr(new_plant_var.sum()==1,name='Only1NewPlant')"
   ]
  },
  {
   "cell_type": "code",
   "execution_count": 10,
   "metadata": {},
   "outputs": [
    {
     "data": {
      "text/plain": [
       "{'C2': <gurobi.Constr *Awaiting Model Update*>,\n",
       " 'T2': <gurobi.Constr *Awaiting Model Update*>}"
      ]
     },
     "execution_count": 10,
     "metadata": {},
     "output_type": "execute_result"
    }
   ],
   "source": [
    "#linking constraint\n",
    "m.addConstrs((sku_flow_var.sum(pf)-10_000*new_plant_var.sum(pf) <=0 for pf in prod_facilities[-2:]),name='LinkingConstrs')"
   ]
  },
  {
   "cell_type": "code",
   "execution_count": 11,
   "metadata": {},
   "outputs": [],
   "source": [
    "#write model\n",
    "m.write('FancyFurniture.lp')"
   ]
  },
  {
   "cell_type": "code",
   "execution_count": 12,
   "metadata": {},
   "outputs": [
    {
     "name": "stdout",
     "output_type": "stream",
     "text": [
      "\\ Model FancyFurniture\n",
      "\\ LP format - for model browsing. Use MPS format to capture full model detail.\n",
      "Maximize\n",
      "  82 sku_flow[C1,WH1] + 83 sku_flow[C1,WH2] + 46 sku_flow[T1,WH1]\n",
      "   + 49 sku_flow[T1,WH2] + 30 sku_flow[F,WH1] + 35 sku_flow[F,WH2]\n",
      "   + 86 sku_flow[C2,WH1] + 81 sku_flow[C2,WH2] + 44 sku_flow[T2,WH1]\n",
      "   + 52 sku_flow[T2,WH2] - 41700 NewPlantBinary[C2]\n",
      "   - 21100 NewPlantBinary[T2]\n",
      "Subject To\n",
      " DemandConstr[WH1]: sku_flow[C1,WH1] + sku_flow[T1,WH1] + sku_flow[F,WH1]\n",
      "   + sku_flow[C2,WH1] + sku_flow[T2,WH1] = 6000\n",
      " DemandConstr[WH2]: sku_flow[C1,WH2] + sku_flow[T1,WH2] + sku_flow[F,WH2]\n",
      "   + sku_flow[C2,WH2] + sku_flow[T2,WH2] = 5200\n",
      " CapacityConstr[C1]: sku_flow[C1,WH1] + sku_flow[C1,WH2] <= 1500\n",
      " CapacityConstr[T1]: sku_flow[T1,WH1] + sku_flow[T1,WH2] <= 1800\n",
      " CapacityConstr[F]: sku_flow[F,WH1] + sku_flow[F,WH2] <= 6000\n",
      " CapacityConstr[C2]: sku_flow[C2,WH1] + sku_flow[C2,WH2] <= 2000\n",
      " CapacityConstr[T2]: sku_flow[T2,WH1] + sku_flow[T2,WH2] <= 2200\n",
      " Only1NewPlant: NewPlantBinary[C2] + NewPlantBinary[T2] = 1\n",
      " LinkingConstrs[C2]: sku_flow[C2,WH1] + sku_flow[C2,WH2]\n",
      "   - 10000 NewPlantBinary[C2] <= 0\n",
      " LinkingConstrs[T2]: sku_flow[T2,WH1] + sku_flow[T2,WH2]\n",
      "   - 10000 NewPlantBinary[T2] <= 0\n",
      "Bounds\n",
      "Binaries\n",
      " NewPlantBinary[C2] NewPlantBinary[T2]\n",
      "Generals\n",
      " sku_flow[C1,WH1] sku_flow[C1,WH2] sku_flow[T1,WH1] sku_flow[T1,WH2]\n",
      " sku_flow[F,WH1] sku_flow[F,WH2] sku_flow[C2,WH1] sku_flow[C2,WH2]\n",
      " sku_flow[T2,WH1] sku_flow[T2,WH2]\n",
      "End\n",
      "\n"
     ]
    }
   ],
   "source": [
    "# Details of the model\n",
    "with open('FancyFurniture.lp') as f:\n",
    "  print (f.read())"
   ]
  },
  {
   "cell_type": "code",
   "execution_count": 13,
   "metadata": {},
   "outputs": [
    {
     "name": "stdout",
     "output_type": "stream",
     "text": [
      "Gurobi Optimizer version 10.0.2 build v10.0.2rc0 (win64)\n",
      "\n",
      "CPU model: AMD Ryzen 7 4800H with Radeon Graphics, instruction set [SSE2|AVX|AVX2]\n",
      "Thread count: 8 physical cores, 16 logical processors, using up to 16 threads\n",
      "\n",
      "Optimize a model with 10 rows, 12 columns and 28 nonzeros\n",
      "Model fingerprint: 0xff7114b5\n",
      "Variable types: 0 continuous, 12 integer (2 binary)\n",
      "Coefficient statistics:\n",
      "  Matrix range     [1e+00, 1e+04]\n",
      "  Objective range  [3e+01, 4e+04]\n",
      "  Bounds range     [1e+00, 1e+00]\n",
      "  RHS range        [1e+00, 6e+03]\n",
      "Found heuristic solution: objective 529500.00000\n",
      "Presolve removed 3 rows and 1 columns\n",
      "Presolve time: 0.00s\n",
      "Presolved: 7 rows, 11 columns, 22 nonzeros\n",
      "Variable types: 0 continuous, 11 integer (1 binary)\n",
      "\n",
      "Root relaxation: objective 5.391000e+05, 9 iterations, 0.00 seconds (0.00 work units)\n",
      "\n",
      "    Nodes    |    Current Node    |     Objective Bounds      |     Work\n",
      " Expl Unexpl |  Obj  Depth IntInf | Incumbent    BestBd   Gap | It/Node Time\n",
      "\n",
      "*    0     0               0    539100.00000 539100.000  0.00%     -    0s\n",
      "\n",
      "Explored 1 nodes (9 simplex iterations) in 0.01 seconds (0.00 work units)\n",
      "Thread count was 16 (of 16 available processors)\n",
      "\n",
      "Solution count 2: 539100 529500 \n",
      "\n",
      "Optimal solution found (tolerance 1.00e-04)\n",
      "Best objective 5.391000000000e+05, best bound 5.391000000000e+05, gap 0.0000%\n"
     ]
    }
   ],
   "source": [
    "#optimize model\n",
    "m.optimize()"
   ]
  },
  {
   "cell_type": "code",
   "execution_count": 14,
   "metadata": {},
   "outputs": [
    {
     "name": "stdout",
     "output_type": "stream",
     "text": [
      "Optimal objective value: 539100.0\n"
     ]
    }
   ],
   "source": [
    "print(f\"Optimal objective value: {m.objVal}\")"
   ]
  },
  {
   "cell_type": "code",
   "execution_count": 15,
   "metadata": {},
   "outputs": [
    {
     "name": "stdout",
     "output_type": "stream",
     "text": [
      "Results of the constraints: (Slack is the difference between the right side of the constraint and the left side)\n",
      "Constraint DemandConstr[WH1]: Slack Value = 0.0\n",
      "Constraint DemandConstr[WH2]: Slack Value = 0.0\n",
      "Constraint CapacityConstr[C1]: Slack Value = 0.0\n",
      "Constraint CapacityConstr[T1]: Slack Value = 0.0\n",
      "Constraint CapacityConstr[F]: Slack Value = 100.0\n",
      "Constraint CapacityConstr[C2]: Slack Value = 0.0\n",
      "Constraint CapacityConstr[T2]: Slack Value = 2200.0\n",
      "Constraint Only1NewPlant: Slack Value = 0.0\n",
      "Constraint LinkingConstrs[C2]: Slack Value = 8000.0\n",
      "Constraint LinkingConstrs[T2]: Slack Value = 0.0\n"
     ]
    }
   ],
   "source": [
    "print(\"Results of the constraints: (Slack is the difference between the right side of the constraint and the left side)\")\n",
    "for constr in m.getConstrs():\n",
    "    constr_name = constr.ConstrName\n",
    "    slack_value = constr.Slack\n",
    "    print(f\"Constraint {constr_name}: Slack Value = {slack_value}\")"
   ]
  },
  {
   "cell_type": "code",
   "execution_count": null,
   "metadata": {},
   "outputs": [],
   "source": []
  },
  {
   "cell_type": "markdown",
   "metadata": {},
   "source": [
    "## Module 4. Unit 4 - Network NLP"
   ]
  },
  {
   "cell_type": "markdown",
   "metadata": {},
   "source": [
    "PP1 - Transportation Problem"
   ]
  },
  {
   "cell_type": "code",
   "execution_count": 96,
   "metadata": {},
   "outputs": [],
   "source": [
    "# import gurobi library\n",
    "import gurobipy as gp         #Gurobi Python interface\n",
    "from gurobipy import GRB      #Import as shortcut to avoid writing GP.grb\n",
    "from itertools import product #product creates the cartesian product from 2 or more lists."
   ]
  },
  {
   "cell_type": "code",
   "execution_count": 97,
   "metadata": {},
   "outputs": [],
   "source": [
    "#data\n",
    "facilities=['Chicago','Atlanta','Denver']\n",
    "destination=['Boston','Seattle','Tampa']\n",
    "\n",
    "routes = list(product(facilities,destination))\n",
    "\n",
    "demand = dict(zip(destination,[11000,6300,7400]))\n",
    "capacity = dict(zip(facilities,[10000]*3))\n",
    "\n",
    "ship_cost = dict(zip(routes,[1.04,1.27,1.22,\n",
    "                             1.23,1.93,0.6,\n",
    "                             1.92,0.94,1.03]))\n",
    "\n"
   ]
  },
  {
   "cell_type": "code",
   "execution_count": 98,
   "metadata": {},
   "outputs": [],
   "source": [
    "# Initialize model\n",
    "m = gp.Model('GreekYogurt')"
   ]
  },
  {
   "cell_type": "code",
   "execution_count": 99,
   "metadata": {},
   "outputs": [],
   "source": [
    "# Decision Variables\n",
    "ship_units = m.addVars(routes, vtype=GRB.INTEGER,lb=0,name='UnitsShipped' )"
   ]
  },
  {
   "cell_type": "code",
   "execution_count": 100,
   "metadata": {},
   "outputs": [],
   "source": [
    "#Objective Function\n",
    "m.setObjective(ship_units.prod(ship_cost), GRB.MINIMIZE)"
   ]
  },
  {
   "cell_type": "code",
   "execution_count": 101,
   "metadata": {},
   "outputs": [
    {
     "data": {
      "text/plain": [
       "{'Chicago': <gurobi.Constr *Awaiting Model Update*>,\n",
       " 'Atlanta': <gurobi.Constr *Awaiting Model Update*>,\n",
       " 'Denver': <gurobi.Constr *Awaiting Model Update*>}"
      ]
     },
     "execution_count": 101,
     "metadata": {},
     "output_type": "execute_result"
    }
   ],
   "source": [
    "#Constraints\n",
    "#capacity\n",
    "m.addConstrs((ship_units.sum(fac) <=capacity[fac] for fac in facilities), name= 'CapacityConstr')"
   ]
  },
  {
   "cell_type": "code",
   "execution_count": 102,
   "metadata": {},
   "outputs": [
    {
     "data": {
      "text/plain": [
       "{'Boston': <gurobi.Constr *Awaiting Model Update*>,\n",
       " 'Seattle': <gurobi.Constr *Awaiting Model Update*>,\n",
       " 'Tampa': <gurobi.Constr *Awaiting Model Update*>}"
      ]
     },
     "execution_count": 102,
     "metadata": {},
     "output_type": "execute_result"
    }
   ],
   "source": [
    "#demand\n",
    "m.addConstrs((ship_units.sum('*',dest)>=demand[dest] for dest in destination), name='DemandConstr')"
   ]
  },
  {
   "cell_type": "code",
   "execution_count": 103,
   "metadata": {},
   "outputs": [],
   "source": [
    "#write model\n",
    "m.write('GreekYogurt.lp')"
   ]
  },
  {
   "cell_type": "code",
   "execution_count": 104,
   "metadata": {},
   "outputs": [
    {
     "name": "stdout",
     "output_type": "stream",
     "text": [
      "\\ Model GreekYogurt\n",
      "\\ LP format - for model browsing. Use MPS format to capture full model detail.\n",
      "Minimize\n",
      "  1.04 UnitsShipped[Chicago,Boston] + 1.27 UnitsShipped[Chicago,Seattle]\n",
      "   + 1.22 UnitsShipped[Chicago,Tampa] + 1.23 UnitsShipped[Atlanta,Boston]\n",
      "   + 1.93 UnitsShipped[Atlanta,Seattle] + 0.6 UnitsShipped[Atlanta,Tampa]\n",
      "   + 1.92 UnitsShipped[Denver,Boston] + 0.94 UnitsShipped[Denver,Seattle]\n",
      "   + 1.03 UnitsShipped[Denver,Tampa]\n",
      "Subject To\n",
      " CapacityConstr[Chicago]: UnitsShipped[Chicago,Boston]\n",
      "   + UnitsShipped[Chicago,Seattle] + UnitsShipped[Chicago,Tampa] <= 10000\n",
      " CapacityConstr[Atlanta]: UnitsShipped[Atlanta,Boston]\n",
      "   + UnitsShipped[Atlanta,Seattle] + UnitsShipped[Atlanta,Tampa] <= 10000\n",
      " CapacityConstr[Denver]: UnitsShipped[Denver,Boston]\n",
      "   + UnitsShipped[Denver,Seattle] + UnitsShipped[Denver,Tampa] <= 10000\n",
      " DemandConstr[Boston]: UnitsShipped[Chicago,Boston]\n",
      "   + UnitsShipped[Atlanta,Boston] + UnitsShipped[Denver,Boston] >= 11000\n",
      " DemandConstr[Seattle]: UnitsShipped[Chicago,Seattle]\n",
      "   + UnitsShipped[Atlanta,Seattle] + UnitsShipped[Denver,Seattle] >= 6300\n",
      " DemandConstr[Tampa]: UnitsShipped[Chicago,Tampa]\n",
      "   + UnitsShipped[Atlanta,Tampa] + UnitsShipped[Denver,Tampa] >= 7400\n",
      "Bounds\n",
      "Generals\n",
      " UnitsShipped[Chicago,Boston] UnitsShipped[Chicago,Seattle]\n",
      " UnitsShipped[Chicago,Tampa] UnitsShipped[Atlanta,Boston]\n",
      " UnitsShipped[Atlanta,Seattle] UnitsShipped[Atlanta,Tampa]\n",
      " UnitsShipped[Denver,Boston] UnitsShipped[Denver,Seattle]\n",
      " UnitsShipped[Denver,Tampa]\n",
      "End\n",
      "\n"
     ]
    }
   ],
   "source": [
    "# Details of the model\n",
    "with open('GreekYogurt.lp') as f:\n",
    "  print (f.read())"
   ]
  },
  {
   "cell_type": "code",
   "execution_count": 105,
   "metadata": {},
   "outputs": [
    {
     "name": "stdout",
     "output_type": "stream",
     "text": [
      "Gurobi Optimizer version 10.0.2 build v10.0.2rc0 (win64)\n",
      "\n",
      "CPU model: AMD Ryzen 7 4800H with Radeon Graphics, instruction set [SSE2|AVX|AVX2]\n",
      "Thread count: 8 physical cores, 16 logical processors, using up to 16 threads\n",
      "\n",
      "Optimize a model with 6 rows, 9 columns and 18 nonzeros\n",
      "Model fingerprint: 0xc5668a60\n",
      "Variable types: 0 continuous, 9 integer (0 binary)\n",
      "Coefficient statistics:\n",
      "  Matrix range     [1e+00, 1e+00]\n",
      "  Objective range  [6e-01, 2e+00]\n",
      "  Bounds range     [0e+00, 0e+00]\n",
      "  RHS range        [6e+03, 1e+04]\n",
      "Presolve time: 0.00s\n",
      "Presolved: 6 rows, 9 columns, 18 nonzeros\n",
      "Variable types: 0 continuous, 9 integer (0 binary)\n",
      "Found heuristic solution: objective 25550.930000\n",
      "Found heuristic solution: objective 23582.570000\n",
      "\n",
      "Root relaxation: objective 2.199200e+04, 3 iterations, 0.00 seconds (0.00 work units)\n",
      "\n",
      "    Nodes    |    Current Node    |     Objective Bounds      |     Work\n",
      " Expl Unexpl |  Obj  Depth IntInf | Incumbent    BestBd   Gap | It/Node Time\n",
      "\n",
      "*    0     0               0    21992.000000 21992.0000  0.00%     -    0s\n",
      "\n",
      "Explored 1 nodes (3 simplex iterations) in 0.02 seconds (0.00 work units)\n",
      "Thread count was 16 (of 16 available processors)\n",
      "\n",
      "Solution count 3: 21992 23582.6 25550.9 \n",
      "\n",
      "Optimal solution found (tolerance 1.00e-04)\n",
      "Best objective 2.199200000000e+04, best bound 2.199200000000e+04, gap 0.0000%\n"
     ]
    }
   ],
   "source": [
    "m.optimize()"
   ]
  },
  {
   "cell_type": "code",
   "execution_count": 106,
   "metadata": {},
   "outputs": [
    {
     "name": "stdout",
     "output_type": "stream",
     "text": [
      "Optimal objective value: 21992.0\n"
     ]
    }
   ],
   "source": [
    "print(f\"Optimal objective value: {m.objVal}\")"
   ]
  },
  {
   "cell_type": "markdown",
   "metadata": {},
   "source": [
    "PP2 - Transshipment Problem  \n",
    "\n",
    "'Ralph Calvin Hilfiger'"
   ]
  },
  {
   "cell_type": "code",
   "execution_count": 1,
   "metadata": {},
   "outputs": [],
   "source": [
    "# import gurobi library\n",
    "import gurobipy as gp         #Gurobi Python interface\n",
    "from gurobipy import GRB      #Import as shortcut to avoid writing GP.grb\n",
    "from itertools import product #product creates the cartesian product from 2 or more lists."
   ]
  },
  {
   "cell_type": "code",
   "execution_count": 2,
   "metadata": {},
   "outputs": [],
   "source": [
    "factory = ['Factory1','Factory2','Factory3','Factory4','Factory5']\n",
    "crossdock = ['CR1','CR2']\n",
    "DC = ['DC1','DC2','DC3','DC4','DC5']\n",
    "\n",
    "capacity = dict(zip(factory,[200,300,100,150,220]))\n",
    "\n",
    "demand = dict(zip(DC,[150,100,110,200,180]))\n",
    "\n",
    "fact2CR = list(product(crossdock,factory))\n",
    "CR2DC = list(product(crossdock,DC))\n",
    "\n",
    "fact2CR_cost = dict(zip(fact2CR,[30,23,35,70,65,\n",
    "                                 50,66,14,12,70]))\n",
    "\n",
    "CR2DC_cost = dict(zip(CR2DC,[12,25,22,40,41,\n",
    "                             65,22,23,12,15]))"
   ]
  },
  {
   "cell_type": "code",
   "execution_count": 3,
   "metadata": {},
   "outputs": [
    {
     "name": "stdout",
     "output_type": "stream",
     "text": [
      "Restricted license - for non-production use only - expires 2024-10-28\n"
     ]
    }
   ],
   "source": [
    "#Initialize model\n",
    "m = gp.Model('Ralph')"
   ]
  },
  {
   "cell_type": "code",
   "execution_count": 4,
   "metadata": {},
   "outputs": [
    {
     "data": {
      "text/plain": [
       "{('CR1', 'Factory1'): <gurobi.Var *Awaiting Model Update*>,\n",
       " ('CR1', 'Factory2'): <gurobi.Var *Awaiting Model Update*>,\n",
       " ('CR1', 'Factory3'): <gurobi.Var *Awaiting Model Update*>,\n",
       " ('CR1', 'Factory4'): <gurobi.Var *Awaiting Model Update*>,\n",
       " ('CR1', 'Factory5'): <gurobi.Var *Awaiting Model Update*>,\n",
       " ('CR2', 'Factory1'): <gurobi.Var *Awaiting Model Update*>,\n",
       " ('CR2', 'Factory2'): <gurobi.Var *Awaiting Model Update*>,\n",
       " ('CR2', 'Factory3'): <gurobi.Var *Awaiting Model Update*>,\n",
       " ('CR2', 'Factory4'): <gurobi.Var *Awaiting Model Update*>,\n",
       " ('CR2', 'Factory5'): <gurobi.Var *Awaiting Model Update*>}"
      ]
     },
     "execution_count": 4,
     "metadata": {},
     "output_type": "execute_result"
    }
   ],
   "source": [
    "#Decision Variable\n",
    "fact2CR_var = m.addVars(fact2CR,vtype=GRB.INTEGER,name='Factory_2_CR')\n",
    "fact2CR_var"
   ]
  },
  {
   "cell_type": "code",
   "execution_count": 5,
   "metadata": {},
   "outputs": [],
   "source": [
    "CR2DC_var = m.addVars(CR2DC, vtype=GRB.INTEGER,name='CR_2_DC')"
   ]
  },
  {
   "cell_type": "code",
   "execution_count": 6,
   "metadata": {},
   "outputs": [],
   "source": [
    "#Set Objective Function\n",
    "m.setObjective(fact2CR_var.prod(fact2CR_cost)+CR2DC_var.prod(CR2DC_cost),GRB.MINIMIZE)"
   ]
  },
  {
   "cell_type": "code",
   "execution_count": 7,
   "metadata": {},
   "outputs": [
    {
     "data": {
      "text/plain": [
       "{'Factory1': <gurobi.Constr *Awaiting Model Update*>,\n",
       " 'Factory2': <gurobi.Constr *Awaiting Model Update*>,\n",
       " 'Factory3': <gurobi.Constr *Awaiting Model Update*>,\n",
       " 'Factory4': <gurobi.Constr *Awaiting Model Update*>,\n",
       " 'Factory5': <gurobi.Constr *Awaiting Model Update*>}"
      ]
     },
     "execution_count": 7,
     "metadata": {},
     "output_type": "execute_result"
    }
   ],
   "source": [
    "#Constraints\n",
    "#Capacity\n",
    "m.addConstrs((fact2CR_var.sum('*',f)<=capacity[f] for f in factory), name='CapacityConst')"
   ]
  },
  {
   "cell_type": "code",
   "execution_count": 8,
   "metadata": {},
   "outputs": [
    {
     "data": {
      "text/plain": [
       "{'DC1': <gurobi.Constr *Awaiting Model Update*>,\n",
       " 'DC2': <gurobi.Constr *Awaiting Model Update*>,\n",
       " 'DC3': <gurobi.Constr *Awaiting Model Update*>,\n",
       " 'DC4': <gurobi.Constr *Awaiting Model Update*>,\n",
       " 'DC5': <gurobi.Constr *Awaiting Model Update*>}"
      ]
     },
     "execution_count": 8,
     "metadata": {},
     "output_type": "execute_result"
    }
   ],
   "source": [
    "#Demand\n",
    "m.addConstrs((CR2DC_var.sum('*',dc)>=demand[dc] for dc in DC),name='DemandConstr')"
   ]
  },
  {
   "cell_type": "code",
   "execution_count": 9,
   "metadata": {},
   "outputs": [
    {
     "data": {
      "text/plain": [
       "{'CR1': <gurobi.Constr *Awaiting Model Update*>,\n",
       " 'CR2': <gurobi.Constr *Awaiting Model Update*>}"
      ]
     },
     "execution_count": 9,
     "metadata": {},
     "output_type": "execute_result"
    }
   ],
   "source": [
    "#Conservation of flow\n",
    "m.addConstrs((fact2CR_var.sum(cr)-CR2DC_var.sum(cr)==0 for cr in crossdock),name='Conservation of flow')"
   ]
  },
  {
   "cell_type": "code",
   "execution_count": 10,
   "metadata": {},
   "outputs": [
    {
     "name": "stdout",
     "output_type": "stream",
     "text": [
      "Warning: constraint name \"Conservation of flow[CR1]\" has a space\n"
     ]
    }
   ],
   "source": [
    "#write model\n",
    "m.write('Ralph.lp')"
   ]
  },
  {
   "cell_type": "code",
   "execution_count": 11,
   "metadata": {},
   "outputs": [
    {
     "name": "stdout",
     "output_type": "stream",
     "text": [
      "\\ Model Ralph\n",
      "\\ LP format - for model browsing. Use MPS format to capture full model detail.\n",
      "Minimize\n",
      "  30 Factory_2_CR[CR1,Factory1] + 23 Factory_2_CR[CR1,Factory2]\n",
      "   + 35 Factory_2_CR[CR1,Factory3] + 70 Factory_2_CR[CR1,Factory4]\n",
      "   + 65 Factory_2_CR[CR1,Factory5] + 50 Factory_2_CR[CR2,Factory1]\n",
      "   + 66 Factory_2_CR[CR2,Factory2] + 14 Factory_2_CR[CR2,Factory3]\n",
      "   + 12 Factory_2_CR[CR2,Factory4] + 70 Factory_2_CR[CR2,Factory5]\n",
      "   + 12 CR_2_DC[CR1,DC1] + 25 CR_2_DC[CR1,DC2] + 22 CR_2_DC[CR1,DC3]\n",
      "   + 40 CR_2_DC[CR1,DC4] + 41 CR_2_DC[CR1,DC5] + 65 CR_2_DC[CR2,DC1]\n",
      "   + 22 CR_2_DC[CR2,DC2] + 23 CR_2_DC[CR2,DC3] + 12 CR_2_DC[CR2,DC4]\n",
      "   + 15 CR_2_DC[CR2,DC5]\n",
      "Subject To\n",
      " CapacityConst[Factory1]: Factory_2_CR[CR1,Factory1]\n",
      "   + Factory_2_CR[CR2,Factory1] <= 200\n",
      " CapacityConst[Factory2]: Factory_2_CR[CR1,Factory2]\n",
      "   + Factory_2_CR[CR2,Factory2] <= 300\n",
      " CapacityConst[Factory3]: Factory_2_CR[CR1,Factory3]\n",
      "   + Factory_2_CR[CR2,Factory3] <= 100\n",
      " CapacityConst[Factory4]: Factory_2_CR[CR1,Factory4]\n",
      "   + Factory_2_CR[CR2,Factory4] <= 150\n",
      " CapacityConst[Factory5]: Factory_2_CR[CR1,Factory5]\n",
      "   + Factory_2_CR[CR2,Factory5] <= 220\n",
      " DemandConstr[DC1]: CR_2_DC[CR1,DC1] + CR_2_DC[CR2,DC1] >= 150\n",
      " DemandConstr[DC2]: CR_2_DC[CR1,DC2] + CR_2_DC[CR2,DC2] >= 100\n",
      " DemandConstr[DC3]: CR_2_DC[CR1,DC3] + CR_2_DC[CR2,DC3] >= 110\n",
      " DemandConstr[DC4]: CR_2_DC[CR1,DC4] + CR_2_DC[CR2,DC4] >= 200\n",
      " DemandConstr[DC5]: CR_2_DC[CR1,DC5] + CR_2_DC[CR2,DC5] >= 180\n",
      " Conservation_of_flow[CR1]: Factory_2_CR[CR1,Factory1]\n",
      "   + Factory_2_CR[CR1,Factory2] + Factory_2_CR[CR1,Factory3]\n",
      "   + Factory_2_CR[CR1,Factory4] + Factory_2_CR[CR1,Factory5]\n",
      "   - CR_2_DC[CR1,DC1] - CR_2_DC[CR1,DC2] - CR_2_DC[CR1,DC3]\n",
      "   - CR_2_DC[CR1,DC4] - CR_2_DC[CR1,DC5] = 0\n",
      " Conservation_of_flow[CR2]: Factory_2_CR[CR2,Factory1]\n",
      "   + Factory_2_CR[CR2,Factory2] + Factory_2_CR[CR2,Factory3]\n",
      "   + Factory_2_CR[CR2,Factory4] + Factory_2_CR[CR2,Factory5]\n",
      "   - CR_2_DC[CR2,DC1] - CR_2_DC[CR2,DC2] - CR_2_DC[CR2,DC3]\n",
      "   - CR_2_DC[CR2,DC4] - CR_2_DC[CR2,DC5] = 0\n",
      "Bounds\n",
      "Generals\n",
      " Factory_2_CR[CR1,Factory1] Factory_2_CR[CR1,Factory2]\n",
      " Factory_2_CR[CR1,Factory3] Factory_2_CR[CR1,Factory4]\n",
      " Factory_2_CR[CR1,Factory5] Factory_2_CR[CR2,Factory1]\n",
      " Factory_2_CR[CR2,Factory2] Factory_2_CR[CR2,Factory3]\n",
      " Factory_2_CR[CR2,Factory4] Factory_2_CR[CR2,Factory5] CR_2_DC[CR1,DC1]\n",
      " CR_2_DC[CR1,DC2] CR_2_DC[CR1,DC3] CR_2_DC[CR1,DC4] CR_2_DC[CR1,DC5]\n",
      " CR_2_DC[CR2,DC1] CR_2_DC[CR2,DC2] CR_2_DC[CR2,DC3] CR_2_DC[CR2,DC4]\n",
      " CR_2_DC[CR2,DC5]\n",
      "End\n",
      "\n"
     ]
    }
   ],
   "source": [
    "# Details of the model\n",
    "with open('Ralph.lp') as f:\n",
    "  print (f.read())"
   ]
  },
  {
   "cell_type": "code",
   "execution_count": 12,
   "metadata": {},
   "outputs": [
    {
     "name": "stdout",
     "output_type": "stream",
     "text": [
      "Gurobi Optimizer version 10.0.2 build v10.0.2rc0 (win64)\n",
      "\n",
      "CPU model: AMD Ryzen 7 4800H with Radeon Graphics, instruction set [SSE2|AVX|AVX2]\n",
      "Thread count: 8 physical cores, 16 logical processors, using up to 16 threads\n",
      "\n",
      "Optimize a model with 12 rows, 20 columns and 40 nonzeros\n",
      "Model fingerprint: 0x674e5a3e\n",
      "Variable types: 0 continuous, 20 integer (0 binary)\n",
      "Coefficient statistics:\n",
      "  Matrix range     [1e+00, 1e+00]\n",
      "  Objective range  [1e+01, 7e+01]\n",
      "  Bounds range     [0e+00, 0e+00]\n",
      "  RHS range        [1e+02, 3e+02]\n",
      "Found heuristic solution: objective 50960.000000\n",
      "Presolve time: 0.00s\n",
      "Presolved: 12 rows, 20 columns, 40 nonzeros\n",
      "Variable types: 0 continuous, 20 integer (0 binary)\n",
      "Found heuristic solution: objective 50899.000000\n",
      "\n",
      "Root relaxation: objective 3.022000e+04, 8 iterations, 0.00 seconds (0.00 work units)\n",
      "\n",
      "    Nodes    |    Current Node    |     Objective Bounds      |     Work\n",
      " Expl Unexpl |  Obj  Depth IntInf | Incumbent    BestBd   Gap | It/Node Time\n",
      "\n",
      "*    0     0               0    30220.000000 30220.0000  0.00%     -    0s\n",
      "\n",
      "Explored 1 nodes (8 simplex iterations) in 0.01 seconds (0.00 work units)\n",
      "Thread count was 16 (of 16 available processors)\n",
      "\n",
      "Solution count 3: 30220 50899 50960 \n",
      "\n",
      "Optimal solution found (tolerance 1.00e-04)\n",
      "Best objective 3.022000000000e+04, best bound 3.022000000000e+04, gap 0.0000%\n"
     ]
    }
   ],
   "source": [
    "#optimize model\n",
    "m.optimize()"
   ]
  },
  {
   "cell_type": "code",
   "execution_count": 13,
   "metadata": {},
   "outputs": [
    {
     "name": "stdout",
     "output_type": "stream",
     "text": [
      "Optimal objective value: 30220.0\n"
     ]
    }
   ],
   "source": [
    "print(f\"Optimal objective value: {m.objVal}\")\n"
   ]
  },
  {
   "cell_type": "code",
   "execution_count": 14,
   "metadata": {},
   "outputs": [
    {
     "name": "stdout",
     "output_type": "stream",
     "text": [
      "Results of the constraints: (Slack is the difference between the right side of the constraint and the left side)\n",
      "Constraint CapacityConst[Factory1]: Slack Value = 10.0\n",
      "Constraint CapacityConst[Factory2]: Slack Value = 0.0\n",
      "Constraint CapacityConst[Factory3]: Slack Value = 0.0\n",
      "Constraint CapacityConst[Factory4]: Slack Value = 0.0\n",
      "Constraint CapacityConst[Factory5]: Slack Value = 220.0\n",
      "Constraint DemandConstr[DC1]: Slack Value = -0.0\n",
      "Constraint DemandConstr[DC2]: Slack Value = -0.0\n",
      "Constraint DemandConstr[DC3]: Slack Value = -0.0\n",
      "Constraint DemandConstr[DC4]: Slack Value = -0.0\n",
      "Constraint DemandConstr[DC5]: Slack Value = -0.0\n",
      "Constraint Conservation of flow[CR1]: Slack Value = 0.0\n",
      "Constraint Conservation of flow[CR2]: Slack Value = 0.0\n"
     ]
    }
   ],
   "source": [
    "print(\"Results of the constraints: (Slack is the difference between the right side of the constraint and the left side)\")\n",
    "for constr in m.getConstrs():\n",
    "    constr_name = constr.ConstrName\n",
    "    slack_value = constr.Slack\n",
    "    print(f\"Constraint {constr_name}: Slack Value = {slack_value}\")"
   ]
  },
  {
   "cell_type": "markdown",
   "metadata": {},
   "source": [
    "## Module 4 | Test\n",
    "Problem 2: Production for softdrinks\n"
   ]
  },
  {
   "cell_type": "code",
   "execution_count": 107,
   "metadata": {},
   "outputs": [],
   "source": [
    "# import gurobi library\n",
    "import gurobipy as gp         #Gurobi Python interface\n",
    "from gurobipy import GRB      #Import as shortcut to avoid writing GP.grb\n",
    "from itertools import product #product creates the cartesian product from 2 or more lists."
   ]
  },
  {
   "cell_type": "code",
   "execution_count": 108,
   "metadata": {},
   "outputs": [],
   "source": [
    "#data and variables\n",
    "drinks = ['Lemon','Orange']\n",
    "\n",
    "water = dict(zip(drinks,[54,80]))\n",
    "sugar = dict(zip(drinks,[24,13]))\n",
    "vitamin = dict(zip(drinks,[24,15]))\n",
    "\n",
    "inventory = {'water':9800,\n",
    "             'sugar':2980,\n",
    "             'vitamin':2080}\n",
    "\n",
    "drink_price=dict(zip(drinks,[60,71]))"
   ]
  },
  {
   "cell_type": "code",
   "execution_count": 109,
   "metadata": {},
   "outputs": [],
   "source": [
    "#Defining the model\n",
    "m = gp.Model('softdrinks')"
   ]
  },
  {
   "cell_type": "code",
   "execution_count": 110,
   "metadata": {},
   "outputs": [],
   "source": [
    "#Decision Variables\n",
    "Drinks_var = m.addVars(drinks,vtype=GRB.CONTINUOUS,name='Drinks')"
   ]
  },
  {
   "cell_type": "code",
   "execution_count": 111,
   "metadata": {},
   "outputs": [],
   "source": [
    "#Objective Function\n",
    "m.setObjective(Drinks_var.prod(drink_price), GRB.MAXIMIZE)"
   ]
  },
  {
   "cell_type": "code",
   "execution_count": 112,
   "metadata": {},
   "outputs": [
    {
     "data": {
      "text/plain": [
       "<gurobi.Constr *Awaiting Model Update*>"
      ]
     },
     "execution_count": 112,
     "metadata": {},
     "output_type": "execute_result"
    }
   ],
   "source": [
    "#Constraints\n",
    "#Water\n",
    "m.addConstr(Drinks_var.prod(water)<=inventory['water'], name='WaterConstr')"
   ]
  },
  {
   "cell_type": "code",
   "execution_count": 113,
   "metadata": {},
   "outputs": [
    {
     "data": {
      "text/plain": [
       "<gurobi.Constr *Awaiting Model Update*>"
      ]
     },
     "execution_count": 113,
     "metadata": {},
     "output_type": "execute_result"
    }
   ],
   "source": [
    "#Sugar\n",
    "m.addConstr(Drinks_var.prod(sugar)<=inventory['sugar'],name='SugarConstr')"
   ]
  },
  {
   "cell_type": "code",
   "execution_count": 114,
   "metadata": {},
   "outputs": [
    {
     "data": {
      "text/plain": [
       "<gurobi.Constr *Awaiting Model Update*>"
      ]
     },
     "execution_count": 114,
     "metadata": {},
     "output_type": "execute_result"
    }
   ],
   "source": [
    "#Vitamin\n",
    "m.addConstr(Drinks_var.prod(vitamin)<=inventory['vitamin'],name='VitaminConstr')"
   ]
  },
  {
   "cell_type": "code",
   "execution_count": 115,
   "metadata": {},
   "outputs": [
    {
     "name": "stdout",
     "output_type": "stream",
     "text": [
      "\\ Model softdrinks\n",
      "\\ LP format - for model browsing. Use MPS format to capture full model detail.\n",
      "Maximize\n",
      "  60 Drinks[Lemon] + 71 Drinks[Orange]\n",
      "Subject To\n",
      " WaterConstr: 54 Drinks[Lemon] + 80 Drinks[Orange] <= 9800\n",
      " SugarConstr: 24 Drinks[Lemon] + 13 Drinks[Orange] <= 2980\n",
      " VitaminConstr: 24 Drinks[Lemon] + 15 Drinks[Orange] <= 2080\n",
      "Bounds\n",
      "End\n",
      "\n"
     ]
    }
   ],
   "source": [
    "#Writting the model\n",
    "m.write('Drinks.lp')\n",
    "\n",
    "# Details of the model\n",
    "with open('Drinks.lp') as f:\n",
    "  print (f.read())"
   ]
  },
  {
   "cell_type": "code",
   "execution_count": 116,
   "metadata": {},
   "outputs": [
    {
     "name": "stdout",
     "output_type": "stream",
     "text": [
      "Gurobi Optimizer version 10.0.2 build v10.0.2rc0 (win64)\n",
      "\n",
      "CPU model: AMD Ryzen 7 4800H with Radeon Graphics, instruction set [SSE2|AVX|AVX2]\n",
      "Thread count: 8 physical cores, 16 logical processors, using up to 16 threads\n",
      "\n",
      "Optimize a model with 3 rows, 2 columns and 6 nonzeros\n",
      "Model fingerprint: 0xdfa8c07c\n",
      "Coefficient statistics:\n",
      "  Matrix range     [1e+01, 8e+01]\n",
      "  Objective range  [6e+01, 7e+01]\n",
      "  Bounds range     [0e+00, 0e+00]\n",
      "  RHS range        [2e+03, 1e+04]\n",
      "Presolve time: 0.00s\n",
      "Presolved: 3 rows, 2 columns, 6 nonzeros\n",
      "\n",
      "Iteration    Objective       Primal Inf.    Dual Inf.      Time\n",
      "       0    1.1937500e+31   3.406250e+30   1.193750e+01      0s\n",
      "       2    8.9085405e+03   0.000000e+00   0.000000e+00      0s\n",
      "\n",
      "Solved in 2 iterations and 0.01 seconds (0.00 work units)\n",
      "Optimal objective  8.908540541e+03\n"
     ]
    }
   ],
   "source": [
    "#Optimize\n",
    "m.optimize()"
   ]
  },
  {
   "cell_type": "code",
   "execution_count": 117,
   "metadata": {},
   "outputs": [
    {
     "name": "stdout",
     "output_type": "stream",
     "text": [
      "Optimal objective value: 8908.540540540542\n",
      "\n",
      "Drinks Produces\n",
      "Produced 17 amounts of Lemon\n",
      "Produced 111 amounts of Orange\n"
     ]
    }
   ],
   "source": [
    "print(f\"Optimal objective value: {m.objVal}\")\n",
    "\n",
    "print(\"\\nDrinks Produces\")\n",
    "for d in Drinks_var:\n",
    "  if (Drinks_var[d].x>0):\n",
    "    print(f'Produced {round(Drinks_var[d].x)} amounts of {d}')"
   ]
  },
  {
   "cell_type": "markdown",
   "metadata": {},
   "source": [
    "Problem 3"
   ]
  },
  {
   "cell_type": "code",
   "execution_count": 1,
   "metadata": {},
   "outputs": [],
   "source": [
    "# import gurobi library\n",
    "import gurobipy as gp         #Gurobi Python interface\n",
    "from gurobipy import GRB      #Import as shortcut to avoid writing GP.grb\n",
    "from itertools import product #product creates the cartesian product from 2 or more lists."
   ]
  },
  {
   "cell_type": "code",
   "execution_count": 16,
   "metadata": {},
   "outputs": [
    {
     "data": {
      "text/plain": [
       "{('A', 'M1'): 73,\n",
       " ('A', 'M2'): 62,\n",
       " ('A', 'M3'): 53,\n",
       " ('B', 'M1'): 56,\n",
       " ('B', 'M2'): 73,\n",
       " ('B', 'M3'): 64}"
      ]
     },
     "execution_count": 16,
     "metadata": {},
     "output_type": "execute_result"
    }
   ],
   "source": [
    "#Data\n",
    "market = ['M1','M2','M3']\n",
    "roasting_plant = ['N','S']\n",
    "DCs = ['A','B']\n",
    "\n",
    "demand = dict(zip(market,[500,500,350]))\n",
    "capacity = dict(zip(roasting_plant,[1000,350]))\n",
    "\n",
    "plant_2_DC = list(product(DCs, roasting_plant))\n",
    "DC_2_Market = list(product(DCs,market))\n",
    "\n",
    "plant_2_DC_cost = dict(zip(plant_2_DC,[51,57,\n",
    "                                       59,53]))\n",
    "\n",
    "DC_2_Market_cost = dict(zip(DC_2_Market,[73,62,53,\n",
    "                                         56,73,64]))\n",
    "\n",
    "DC_2_Market_cost\n"
   ]
  },
  {
   "cell_type": "code",
   "execution_count": 17,
   "metadata": {},
   "outputs": [],
   "source": [
    "#Initialize model\n",
    "m = gp.Model('PureCoffee')"
   ]
  },
  {
   "cell_type": "code",
   "execution_count": 18,
   "metadata": {},
   "outputs": [],
   "source": [
    "#Decision Variables\n",
    "plant_2_DC_var = m.addVars(plant_2_DC,vtype=GRB.INTEGER,name='plant_2_dc')\n",
    "\n",
    "DC_2_Market_var = m.addVars(DC_2_Market,vtype=GRB.INTEGER,name='DC_2_Market')"
   ]
  },
  {
   "cell_type": "code",
   "execution_count": 19,
   "metadata": {},
   "outputs": [],
   "source": [
    "#Set Objective Function\n",
    "m.setObjective(plant_2_DC_var.prod(plant_2_DC_cost)+DC_2_Market_var.prod(DC_2_Market_cost),GRB.MINIMIZE)"
   ]
  },
  {
   "cell_type": "code",
   "execution_count": 20,
   "metadata": {},
   "outputs": [
    {
     "data": {
      "text/plain": [
       "{'M1': <gurobi.Constr *Awaiting Model Update*>,\n",
       " 'M2': <gurobi.Constr *Awaiting Model Update*>,\n",
       " 'M3': <gurobi.Constr *Awaiting Model Update*>}"
      ]
     },
     "execution_count": 20,
     "metadata": {},
     "output_type": "execute_result"
    }
   ],
   "source": [
    "#Constraints\n",
    "#Demand\n",
    "m.addConstrs((DC_2_Market_var.sum('*',m)>=demand[m] for m in market), name='DemandConstr')"
   ]
  },
  {
   "cell_type": "code",
   "execution_count": 21,
   "metadata": {},
   "outputs": [
    {
     "data": {
      "text/plain": [
       "{'N': <gurobi.Constr *Awaiting Model Update*>,\n",
       " 'S': <gurobi.Constr *Awaiting Model Update*>}"
      ]
     },
     "execution_count": 21,
     "metadata": {},
     "output_type": "execute_result"
    }
   ],
   "source": [
    "#Capacity\n",
    "m.addConstrs((plant_2_DC_var.sum('*',p)<=capacity[p] for p in roasting_plant),name='CapacityConstr')"
   ]
  },
  {
   "cell_type": "code",
   "execution_count": 22,
   "metadata": {},
   "outputs": [
    {
     "data": {
      "text/plain": [
       "{'A': <gurobi.Constr *Awaiting Model Update*>,\n",
       " 'B': <gurobi.Constr *Awaiting Model Update*>}"
      ]
     },
     "execution_count": 22,
     "metadata": {},
     "output_type": "execute_result"
    }
   ],
   "source": [
    "#Conservation of flow\n",
    "m.addConstrs((DC_2_Market_var.sum(dc) - plant_2_DC_var.sum(dc) == 0 for dc in DCs), name='ConservationOfFlow')"
   ]
  },
  {
   "cell_type": "code",
   "execution_count": 23,
   "metadata": {},
   "outputs": [],
   "source": [
    "#write model\n",
    "m.write('PureCoffee.lp')"
   ]
  },
  {
   "cell_type": "code",
   "execution_count": 24,
   "metadata": {},
   "outputs": [
    {
     "name": "stdout",
     "output_type": "stream",
     "text": [
      "\\ Model PureCoffee\n",
      "\\ LP format - for model browsing. Use MPS format to capture full model detail.\n",
      "Minimize\n",
      "  51 plant_2_dc[A,N] + 57 plant_2_dc[A,S] + 59 plant_2_dc[B,N]\n",
      "   + 53 plant_2_dc[B,S] + 73 DC_2_Market[A,M1] + 62 DC_2_Market[A,M2]\n",
      "   + 53 DC_2_Market[A,M3] + 56 DC_2_Market[B,M1] + 73 DC_2_Market[B,M2]\n",
      "   + 64 DC_2_Market[B,M3]\n",
      "Subject To\n",
      " DemandConstr[M1]: DC_2_Market[A,M1] + DC_2_Market[B,M1] >= 500\n",
      " DemandConstr[M2]: DC_2_Market[A,M2] + DC_2_Market[B,M2] >= 500\n",
      " DemandConstr[M3]: DC_2_Market[A,M3] + DC_2_Market[B,M3] >= 350\n",
      " CapacityConstr[N]: plant_2_dc[A,N] + plant_2_dc[B,N] <= 1000\n",
      " CapacityConstr[S]: plant_2_dc[A,S] + plant_2_dc[B,S] <= 350\n",
      " ConservationOfFlow[A]: - plant_2_dc[A,N] - plant_2_dc[A,S]\n",
      "   + DC_2_Market[A,M1] + DC_2_Market[A,M2] + DC_2_Market[A,M3] = 0\n",
      " ConservationOfFlow[B]: - plant_2_dc[B,N] - plant_2_dc[B,S]\n",
      "   + DC_2_Market[B,M1] + DC_2_Market[B,M2] + DC_2_Market[B,M3] = 0\n",
      "Bounds\n",
      "Generals\n",
      " plant_2_dc[A,N] plant_2_dc[A,S] plant_2_dc[B,N] plant_2_dc[B,S]\n",
      " DC_2_Market[A,M1] DC_2_Market[A,M2] DC_2_Market[A,M3] DC_2_Market[B,M1]\n",
      " DC_2_Market[B,M2] DC_2_Market[B,M3]\n",
      "End\n",
      "\n"
     ]
    }
   ],
   "source": [
    "# Details of the model\n",
    "with open('PureCoffee.lp') as f:\n",
    "  print (f.read())"
   ]
  },
  {
   "cell_type": "code",
   "execution_count": 25,
   "metadata": {},
   "outputs": [
    {
     "name": "stdout",
     "output_type": "stream",
     "text": [
      "Gurobi Optimizer version 10.0.2 build v10.0.2rc0 (win64)\n",
      "\n",
      "CPU model: AMD Ryzen 7 4800H with Radeon Graphics, instruction set [SSE2|AVX|AVX2]\n",
      "Thread count: 8 physical cores, 16 logical processors, using up to 16 threads\n",
      "\n",
      "Optimize a model with 7 rows, 10 columns and 20 nonzeros\n",
      "Model fingerprint: 0x6bc3551b\n",
      "Variable types: 0 continuous, 10 integer (0 binary)\n",
      "Coefficient statistics:\n",
      "  Matrix range     [1e+00, 1e+00]\n",
      "  Objective range  [5e+01, 7e+01]\n",
      "  Bounds range     [0e+00, 0e+00]\n",
      "  RHS range        [4e+02, 1e+03]\n",
      "Presolve time: 0.00s\n",
      "Presolved: 7 rows, 10 columns, 20 nonzeros\n",
      "Variable types: 0 continuous, 10 integer (0 binary)\n",
      "\n",
      "Root relaxation: objective 1.483000e+05, 7 iterations, 0.00 seconds (0.00 work units)\n",
      "\n",
      "    Nodes    |    Current Node    |     Objective Bounds      |     Work\n",
      " Expl Unexpl |  Obj  Depth IntInf | Incumbent    BestBd   Gap | It/Node Time\n",
      "\n",
      "*    0     0               0    148300.00000 148300.000  0.00%     -    0s\n",
      "\n",
      "Explored 1 nodes (7 simplex iterations) in 0.01 seconds (0.00 work units)\n",
      "Thread count was 16 (of 16 available processors)\n",
      "\n",
      "Solution count 1: 148300 \n",
      "\n",
      "Optimal solution found (tolerance 1.00e-04)\n",
      "Best objective 1.483000000000e+05, best bound 1.483000000000e+05, gap 0.0000%\n"
     ]
    }
   ],
   "source": [
    "#optimize model\n",
    "m.optimize()"
   ]
  },
  {
   "cell_type": "code",
   "execution_count": 26,
   "metadata": {},
   "outputs": [
    {
     "name": "stdout",
     "output_type": "stream",
     "text": [
      "Optimal objective value: 148300.0\n"
     ]
    }
   ],
   "source": [
    "print(f\"Optimal objective value: {m.objVal}\")"
   ]
  },
  {
   "cell_type": "code",
   "execution_count": 27,
   "metadata": {},
   "outputs": [
    {
     "name": "stdout",
     "output_type": "stream",
     "text": [
      "Results of the constraints: (Slack is the difference between the right side of the constraint and the left side)\n",
      "Constraint DemandConstr[M1]: Slack Value = -0.0\n",
      "Constraint DemandConstr[M2]: Slack Value = -0.0\n",
      "Constraint DemandConstr[M3]: Slack Value = -0.0\n",
      "Constraint CapacityConstr[N]: Slack Value = 0.0\n",
      "Constraint CapacityConstr[S]: Slack Value = 0.0\n",
      "Constraint ConservationOfFlow[A]: Slack Value = 0.0\n",
      "Constraint ConservationOfFlow[B]: Slack Value = 0.0\n"
     ]
    }
   ],
   "source": [
    "print(\"Results of the constraints: (Slack is the difference between the right side of the constraint and the left side)\")\n",
    "for constr in m.getConstrs():\n",
    "    constr_name = constr.ConstrName\n",
    "    slack_value = constr.Slack\n",
    "    print(f\"Constraint {constr_name}: Slack Value = {slack_value}\")"
   ]
  },
  {
   "cell_type": "markdown",
   "metadata": {},
   "source": []
  },
  {
   "cell_type": "code",
   "execution_count": null,
   "metadata": {},
   "outputs": [],
   "source": []
  }
 ],
 "metadata": {
  "kernelspec": {
   "display_name": "Python 3",
   "language": "python",
   "name": "python3"
  },
  "language_info": {
   "codemirror_mode": {
    "name": "ipython",
    "version": 3
   },
   "file_extension": ".py",
   "mimetype": "text/x-python",
   "name": "python",
   "nbconvert_exporter": "python",
   "pygments_lexer": "ipython3",
   "version": "3.10.1"
  },
  "orig_nbformat": 4
 },
 "nbformat": 4,
 "nbformat_minor": 2
}
