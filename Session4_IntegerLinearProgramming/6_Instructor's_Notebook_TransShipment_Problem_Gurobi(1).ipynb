{
  "cells": [
    {
      "cell_type": "code",
      "execution_count": 1,
      "id": "rziSs2By8tEs",
      "metadata": {
        "id": "rziSs2By8tEs",
        "colab": {
          "base_uri": "https://localhost:8080/"
        },
        "outputId": "21ec2e77-94e7-4a93-a961-557d7e7cdeae"
      },
      "outputs": [
        {
          "output_type": "stream",
          "name": "stdout",
          "text": [
            "Collecting gurobipy\n",
            "  Downloading gurobipy-10.0.2-cp310-cp310-manylinux2014_x86_64.whl (12.7 MB)\n",
            "\u001b[2K     \u001b[90m━━━━━━━━━━━━━━━━━━━━━━━━━━━━━━━━━━━━━━━━\u001b[0m \u001b[32m12.7/12.7 MB\u001b[0m \u001b[31m24.9 MB/s\u001b[0m eta \u001b[36m0:00:00\u001b[0m\n",
            "\u001b[?25hInstalling collected packages: gurobipy\n",
            "Successfully installed gurobipy-10.0.2\n"
          ]
        }
      ],
      "source": [
        "!pip install gurobipy"
      ]
    },
    {
      "cell_type": "markdown",
      "id": "4cea0576",
      "metadata": {
        "id": "4cea0576"
      },
      "source": [
        "# A TransShipment Problem"
      ]
    },
    {
      "cell_type": "markdown",
      "id": "9f1af096",
      "metadata": {
        "id": "9f1af096"
      },
      "source": [
        "![slide1.png](https://i.ibb.co/XLWcpmr/download.png)\n"
      ]
    },
    {
      "cell_type": "code",
      "execution_count": 2,
      "id": "0f664957",
      "metadata": {
        "id": "0f664957"
      },
      "outputs": [],
      "source": [
        "# import gurobi library\n",
        "import gurobipy as gp         #Gurobi Python interface\n",
        "from gurobipy import GRB      #Import as shortcut to avoid writing GP.grb"
      ]
    },
    {
      "cell_type": "markdown",
      "id": "e0c46a12",
      "metadata": {
        "id": "e0c46a12"
      },
      "source": [
        "To define our node id's we use a python generator to generate a number for each node"
      ]
    },
    {
      "cell_type": "code",
      "execution_count": 3,
      "id": "b08a34c6",
      "metadata": {
        "id": "b08a34c6",
        "colab": {
          "base_uri": "https://localhost:8080/"
        },
        "outputId": "e9f57c16-792e-491c-ac9c-2a416427dd67"
      },
      "outputs": [
        {
          "output_type": "execute_result",
          "data": {
            "text/plain": [
              "['1', '2', '3', '4', '5', '6']"
            ]
          },
          "metadata": {},
          "execution_count": 3
        }
      ],
      "source": [
        "N = [str(i+1) for i in range(6)]\n",
        "N"
      ]
    },
    {
      "cell_type": "markdown",
      "id": "a9038b3a",
      "metadata": {
        "id": "a9038b3a"
      },
      "source": [
        "Now we provide the supply/demand in the sequence of our node ids."
      ]
    },
    {
      "cell_type": "code",
      "execution_count": 4,
      "id": "e8a177dc",
      "metadata": {
        "id": "e8a177dc"
      },
      "outputs": [],
      "source": [
        "supply = [5, 2, 0, -2, -4, -1]"
      ]
    },
    {
      "cell_type": "markdown",
      "id": "cde38f78",
      "metadata": {
        "id": "cde38f78"
      },
      "source": [
        "Just to make sure we generated a label for each node and put in a supply for each node we include an assert."
      ]
    },
    {
      "cell_type": "code",
      "execution_count": 5,
      "id": "86efe9b8",
      "metadata": {
        "id": "86efe9b8"
      },
      "outputs": [],
      "source": [
        "assert len(supply) == len(N)"
      ]
    },
    {
      "cell_type": "markdown",
      "id": "d4f2a71a",
      "metadata": {
        "id": "d4f2a71a"
      },
      "source": [
        "We can now convert this into a dictionary of values, with node IDs used as keys."
      ]
    },
    {
      "cell_type": "code",
      "execution_count": 6,
      "id": "7a0a8bc7",
      "metadata": {
        "id": "7a0a8bc7",
        "colab": {
          "base_uri": "https://localhost:8080/"
        },
        "outputId": "39f809c6-6961-46c4-c67e-1b7a89dbbd4c"
      },
      "outputs": [
        {
          "output_type": "execute_result",
          "data": {
            "text/plain": [
              "{'1': 5, '2': 2, '3': 0, '4': -2, '5': -4, '6': -1}"
            ]
          },
          "metadata": {},
          "execution_count": 6
        }
      ],
      "source": [
        "D = dict(zip(N, supply))\n",
        "D"
      ]
    },
    {
      "cell_type": "markdown",
      "id": "0bb43642",
      "metadata": {
        "id": "0bb43642"
      },
      "source": [
        "We give the cost of each link as a dictionary with a tuple (origin, destination). The cost from Node o to Node d can be retrieved with C\\[(o,d)]"
      ]
    },
    {
      "cell_type": "code",
      "execution_count": 7,
      "id": "c8ebf09b",
      "metadata": {
        "id": "c8ebf09b"
      },
      "outputs": [],
      "source": [
        "C = {('1', '2'): 1,\n",
        "     ('1', '3'): 4,\n",
        "     ('2', '3'): 2,\n",
        "     ('3', '4'): 2,\n",
        "     ('3', '5'): 5,\n",
        "     ('3', '6'): 8,\n",
        "     ('4', '5'): 1}"
      ]
    },
    {
      "cell_type": "markdown",
      "id": "205b2f7f",
      "metadata": {
        "id": "205b2f7f"
      },
      "source": [
        "Similarily we list the capacity of each link."
      ]
    },
    {
      "cell_type": "code",
      "execution_count": 8,
      "id": "ee4d5ff5",
      "metadata": {
        "id": "ee4d5ff5"
      },
      "outputs": [],
      "source": [
        "CAPACITY = { ('1', '2'): 3,\n",
        "             ('1', '3'): 3,\n",
        "             ('2', '3'): 7,\n",
        "             ('3', '4'): 5,\n",
        "             ('3', '5'): 7,\n",
        "             ('3', '6'): 1,\n",
        "             ('4', '5'): 3}"
      ]
    },
    {
      "cell_type": "code",
      "execution_count": 9,
      "id": "65f96fd2",
      "metadata": {
        "id": "65f96fd2"
      },
      "outputs": [],
      "source": [
        "#Just to check if we did not make an input error we do a quick assert on the length of both input dicts\n",
        "assert len(CAPACITY) == len(C)"
      ]
    },
    {
      "cell_type": "markdown",
      "source": [
        "First we create our gurobi model:"
      ],
      "metadata": {
        "id": "r4xHnMO7KG78"
      },
      "id": "r4xHnMO7KG78"
    },
    {
      "cell_type": "code",
      "source": [
        "# Define the model\n",
        "m = gp.Model('TransShipmentProblem')"
      ],
      "metadata": {
        "colab": {
          "base_uri": "https://localhost:8080/"
        },
        "id": "HAlQn8c6J5B1",
        "outputId": "33a64cd0-9ad6-427e-b35a-9b9eac61ec60"
      },
      "id": "HAlQn8c6J5B1",
      "execution_count": 10,
      "outputs": [
        {
          "output_type": "stream",
          "name": "stdout",
          "text": [
            "Restricted license - for non-production use only - expires 2024-10-28\n"
          ]
        }
      ]
    },
    {
      "cell_type": "markdown",
      "id": "5b097490",
      "metadata": {
        "id": "5b097490"
      },
      "source": [
        "And finally, we can declare our decision variables: for each arc we define the flow. By setting the data-type with vtype as an Integer we restrict the decision variables to be 0 or higher."
      ]
    },
    {
      "cell_type": "code",
      "execution_count": 11,
      "id": "6594f099",
      "metadata": {
        "id": "6594f099",
        "colab": {
          "base_uri": "https://localhost:8080/"
        },
        "outputId": "2c365c46-13cb-40c5-aa3b-68da78972411"
      },
      "outputs": [
        {
          "output_type": "execute_result",
          "data": {
            "text/plain": [
              "{('1', '2'): <gurobi.Var *Awaiting Model Update*>,\n",
              " ('1', '3'): <gurobi.Var *Awaiting Model Update*>,\n",
              " ('2', '3'): <gurobi.Var *Awaiting Model Update*>,\n",
              " ('3', '4'): <gurobi.Var *Awaiting Model Update*>,\n",
              " ('3', '5'): <gurobi.Var *Awaiting Model Update*>,\n",
              " ('3', '6'): <gurobi.Var *Awaiting Model Update*>,\n",
              " ('4', '5'): <gurobi.Var *Awaiting Model Update*>}"
            ]
          },
          "metadata": {},
          "execution_count": 11
        }
      ],
      "source": [
        "x = m.addVars(C, vtype=GRB.INTEGER, name='x')\n",
        "x"
      ]
    },
    {
      "cell_type": "markdown",
      "id": "40b6d66a",
      "metadata": {
        "id": "40b6d66a"
      },
      "source": [
        "## Objective and constraints\n",
        "The objective function which we want to minimize is the cost of the flow in the network.\n",
        "Thus, the sum over the cost of each arc multiplied by the flow variable for the arc."
      ]
    },
    {
      "cell_type": "code",
      "execution_count": 12,
      "id": "eb237dcd",
      "metadata": {
        "id": "eb237dcd"
      },
      "outputs": [],
      "source": [
        "#Set the objective function as the product of the flow number of each arch multipled by the cost of that arc.\n",
        "m.setObjective(x.prod(C), GRB.MINIMIZE)"
      ]
    },
    {
      "cell_type": "markdown",
      "id": "c6c99574",
      "metadata": {
        "id": "c6c99574"
      },
      "source": [
        "Next we specify our flow conservation constraint in the network. For each node i in the system, we constrain the difference between the incoming flow and outgoing flow to be equal to the specified supply for that node."
      ]
    },
    {
      "cell_type": "code",
      "execution_count": 13,
      "id": "016dc924",
      "metadata": {
        "id": "016dc924"
      },
      "outputs": [],
      "source": [
        "for i in N:\n",
        "    m.addConstr(x.sum(i,'*') - x.sum('*',i) == D[i], name=f'FlowConstraints_{i}')"
      ]
    },
    {
      "cell_type": "markdown",
      "id": "a6c23e24",
      "metadata": {
        "id": "a6c23e24"
      },
      "source": [
        "To constrain each arc at its capacity, we iterate through all the decision variables and add a constraint for each."
      ]
    },
    {
      "cell_type": "code",
      "execution_count": 14,
      "id": "8a7c0b52",
      "metadata": {
        "id": "8a7c0b52"
      },
      "outputs": [],
      "source": [
        "for (o, d), var in x.items():\n",
        "    m.addConstr(var <= CAPACITY[(o,d)], name=f\"CapacityConstraints_{o}_{d}\")"
      ]
    },
    {
      "cell_type": "markdown",
      "source": [
        "Write Gurobi model to text file for inspection"
      ],
      "metadata": {
        "id": "BAJ3wQpefSzf"
      },
      "id": "BAJ3wQpefSzf"
    },
    {
      "cell_type": "code",
      "source": [
        "# Write Gurobi model to file for inspection\n",
        "m.write('TransShipment.lp')"
      ],
      "metadata": {
        "id": "69Z73KW9fpK3"
      },
      "id": "69Z73KW9fpK3",
      "execution_count": 16,
      "outputs": []
    },
    {
      "cell_type": "code",
      "source": [
        "# Print text file\n",
        "with open('TransShipment.lp') as f:\n",
        "  print (f.read())"
      ],
      "metadata": {
        "colab": {
          "base_uri": "https://localhost:8080/"
        },
        "id": "xsET8r-ffvJH",
        "outputId": "87a22a18-f2c6-4668-b93b-1bd7ab54c950"
      },
      "id": "xsET8r-ffvJH",
      "execution_count": 31,
      "outputs": [
        {
          "output_type": "stream",
          "name": "stdout",
          "text": [
            "\\ Model TransShipmentProblem\n",
            "\\ LP format - for model browsing. Use MPS format to capture full model detail.\n",
            "Minimize\n",
            "  x[1,2] + 4 x[1,3] + 2 x[2,3] + 2 x[3,4] + 5 x[3,5] + 8 x[3,6] + x[4,5]\n",
            "Subject To\n",
            " FlowConstraints_1: x[1,2] + x[1,3] = 5\n",
            " FlowConstraints_2: - x[1,2] + x[2,3] = 2\n",
            " FlowConstraints_3: - x[1,3] - x[2,3] + x[3,4] + x[3,5] + x[3,6] = 0\n",
            " FlowConstraints_4: - x[3,4] + x[4,5] = -2\n",
            " FlowConstraints_5: - x[3,5] - x[4,5] = -4\n",
            " FlowConstraints_6: - x[3,6] = -1\n",
            " CapacityConstraints_1_2: x[1,2] <= 3\n",
            " CapacityConstraints_1_3: x[1,3] <= 3\n",
            " CapacityConstraints_2_3: x[2,3] <= 7\n",
            " CapacityConstraints_3_4: x[3,4] <= 5\n",
            " CapacityConstraints_3_5: x[3,5] <= 7\n",
            " CapacityConstraints_3_6: x[3,6] <= 1\n",
            " CapacityConstraints_4_5: x[4,5] <= 3\n",
            "Bounds\n",
            "Generals\n",
            " x[1,2] x[1,3] x[2,3] x[3,4] x[3,5] x[3,6] x[4,5]\n",
            "End\n",
            "\n"
          ]
        }
      ]
    },
    {
      "cell_type": "code",
      "execution_count": 18,
      "id": "e36fcc3a",
      "metadata": {
        "id": "e36fcc3a",
        "colab": {
          "base_uri": "https://localhost:8080/"
        },
        "outputId": "da8377f7-a971-41fb-9f83-fa03b8856b23"
      },
      "outputs": [
        {
          "output_type": "stream",
          "name": "stdout",
          "text": [
            "Gurobi Optimizer version 10.0.2 build v10.0.2rc0 (linux64)\n",
            "\n",
            "CPU model: Intel(R) Xeon(R) CPU @ 2.20GHz, instruction set [SSE2|AVX|AVX2]\n",
            "Thread count: 1 physical cores, 2 logical processors, using up to 2 threads\n",
            "\n",
            "Optimize a model with 13 rows, 7 columns and 21 nonzeros\n",
            "Model fingerprint: 0xa0573156\n",
            "Variable types: 0 continuous, 7 integer (0 binary)\n",
            "Coefficient statistics:\n",
            "  Matrix range     [1e+00, 1e+00]\n",
            "  Objective range  [1e+00, 8e+00]\n",
            "  Bounds range     [0e+00, 0e+00]\n",
            "  RHS range        [1e+00, 7e+00]\n",
            "Presolve removed 13 rows and 7 columns\n",
            "Presolve time: 0.00s\n",
            "Presolve: All rows and columns removed\n",
            "\n",
            "Explored 0 nodes (0 simplex iterations) in 0.01 seconds (0.00 work units)\n",
            "Thread count was 1 (of 2 available processors)\n",
            "\n",
            "Solution count 1: 47 \n",
            "\n",
            "Optimal solution found (tolerance 1.00e-04)\n",
            "Best objective 4.700000000000e+01, best bound 4.700000000000e+01, gap 0.0000%\n"
          ]
        }
      ],
      "source": [
        "m.optimize()"
      ]
    },
    {
      "cell_type": "code",
      "execution_count": 19,
      "id": "47ed0708",
      "metadata": {
        "id": "47ed0708",
        "colab": {
          "base_uri": "https://localhost:8080/"
        },
        "outputId": "8f73eb3f-78b9-4fb3-ce32-2d7f5dd3d3a4"
      },
      "outputs": [
        {
          "output_type": "stream",
          "name": "stdout",
          "text": [
            "Optimal objective value: 47.0\n",
            "\n",
            "Shipment plan:\n",
            "Ship 3.0 units from node 1 to node 2\n",
            "Ship 2.0 units from node 1 to node 3\n",
            "Ship 5.0 units from node 2 to node 3\n",
            "Ship 5.0 units from node 3 to node 4\n",
            "Ship 1.0 units from node 3 to node 5\n",
            "Ship 1.0 units from node 3 to node 6\n",
            "Ship 3.0 units from node 4 to node 5\n"
          ]
        }
      ],
      "source": [
        "print(f\"Optimal objective value: {m.objVal}\")\n",
        "\n",
        "print(\"\\nShipment plan:\")\n",
        "for o, d in x.keys():\n",
        "    if (abs(x[o, d].x) > 0): #Only print if not 0\n",
        "        print (f\"Ship {x[o,d].x} units from node {o} to node {d}\")"
      ]
    },
    {
      "cell_type": "markdown",
      "id": "bb89d6df",
      "metadata": {
        "id": "bb89d6df"
      },
      "source": [
        "Our mimimal transport cost is 47 and we have the flow for each arc given by the decision variables."
      ]
    },
    {
      "cell_type": "markdown",
      "id": "df76764a",
      "metadata": {
        "id": "df76764a"
      },
      "source": [
        "![slide2.png](https://i.ibb.co/wWYbzJw/download-1.png)"
      ]
    },
    {
      "cell_type": "markdown",
      "id": "05595392",
      "metadata": {
        "id": "05595392"
      },
      "source": [
        "## Second Transhipment point"
      ]
    },
    {
      "cell_type": "markdown",
      "id": "c79640fb",
      "metadata": {
        "id": "c79640fb"
      },
      "source": [
        "We have the opportunity to place a second transshipment point that is more centrally located. However there is a much higher fixed cost attached for using this point. Are the lower transport costs worth this?"
      ]
    },
    {
      "cell_type": "code",
      "execution_count": 20,
      "id": "3e6eefc5",
      "metadata": {
        "id": "3e6eefc5"
      },
      "outputs": [],
      "source": [
        "#New transport cost OD matrix, with added transshipment point 7.\n",
        "#Lower transport costs to stores, higher from factories.\n",
        "C = {('1', '2'): 1,\n",
        "     ('1', '3'): 4,\n",
        "     ('1', '7'): 5,\n",
        "     ('2', '3'): 2,\n",
        "     ('2', '7'): 3,\n",
        "     ('3', '4'): 2,\n",
        "     ('3', '5'): 5,\n",
        "     ('3', '6'): 8,\n",
        "     ('4', '5'): 1,\n",
        "     ('7', '4'): 1,\n",
        "     ('7', '5'): 1,\n",
        "     ('7', '6'): 7}\n",
        "\n",
        "\n",
        "N = [str(i+1) for i in range(7)]\n",
        "N\n",
        "\n",
        "supply = [5, 2, 0, -2, -4, -1, 0]\n",
        "\n",
        "D = dict(zip(N, supply))\n",
        "D\n",
        "\n",
        "#New capacity OD matrix, with added transshipment point 7\n",
        "CAPACITY = { ('1', '2'): 3,\n",
        "             ('1', '3'): 3,\n",
        "             ('1', '7'): 3,\n",
        "             ('2', '3'): 7,\n",
        "             ('2', '7'): 7,\n",
        "             ('3', '4'): 5,\n",
        "             ('3', '5'): 7,\n",
        "             ('3', '6'): 1,\n",
        "             ('4', '5'): 3,\n",
        "             ('7', '4'): 5,\n",
        "             ('7', '5'): 7,\n",
        "             ('7', '6'): 1}\n",
        "\n",
        "#Cost for using a node\n",
        "node_costs = {'7' : 4, '3' : 1}\n",
        "\n",
        "E = [(i,j) for i in N for j in N if i in C.keys() if j in C[i].keys()]"
      ]
    },
    {
      "cell_type": "code",
      "execution_count": 21,
      "id": "9e5a0c64",
      "metadata": {
        "id": "9e5a0c64"
      },
      "outputs": [],
      "source": [
        "# Define our new model\n",
        "m = gp.Model('TransShipmentProblemPlus')"
      ]
    },
    {
      "cell_type": "code",
      "execution_count": 22,
      "id": "ba4edfe0",
      "metadata": {
        "id": "ba4edfe0",
        "colab": {
          "base_uri": "https://localhost:8080/"
        },
        "outputId": "932c5a74-0ca1-413b-9a24-b9970f98da7a"
      },
      "outputs": [
        {
          "output_type": "execute_result",
          "data": {
            "text/plain": [
              "{('1', '2'): <gurobi.Var *Awaiting Model Update*>,\n",
              " ('1', '3'): <gurobi.Var *Awaiting Model Update*>,\n",
              " ('1', '7'): <gurobi.Var *Awaiting Model Update*>,\n",
              " ('2', '3'): <gurobi.Var *Awaiting Model Update*>,\n",
              " ('2', '7'): <gurobi.Var *Awaiting Model Update*>,\n",
              " ('3', '4'): <gurobi.Var *Awaiting Model Update*>,\n",
              " ('3', '5'): <gurobi.Var *Awaiting Model Update*>,\n",
              " ('3', '6'): <gurobi.Var *Awaiting Model Update*>,\n",
              " ('4', '5'): <gurobi.Var *Awaiting Model Update*>,\n",
              " ('7', '4'): <gurobi.Var *Awaiting Model Update*>,\n",
              " ('7', '5'): <gurobi.Var *Awaiting Model Update*>,\n",
              " ('7', '6'): <gurobi.Var *Awaiting Model Update*>}"
            ]
          },
          "metadata": {},
          "execution_count": 22
        }
      ],
      "source": [
        "x = m.addVars(C, vtype=GRB.INTEGER, name='x')\n",
        "x"
      ]
    },
    {
      "cell_type": "markdown",
      "id": "f9f16e9d",
      "metadata": {
        "id": "f9f16e9d"
      },
      "source": [
        "Add a new binary variable that indices whether we use transhippment place 3 or 7"
      ]
    },
    {
      "cell_type": "code",
      "execution_count": 23,
      "id": "b33f9c3d",
      "metadata": {
        "id": "b33f9c3d",
        "colab": {
          "base_uri": "https://localhost:8080/"
        },
        "outputId": "b7869139-0baf-4dde-f806-47321e539499"
      },
      "outputs": [
        {
          "output_type": "execute_result",
          "data": {
            "text/plain": [
              "{'7': <gurobi.Var *Awaiting Model Update*>,\n",
              " '3': <gurobi.Var *Awaiting Model Update*>}"
            ]
          },
          "metadata": {},
          "execution_count": 23
        }
      ],
      "source": [
        "y = m.addVars(node_costs, vtype=GRB.BINARY, name='USE_TRANSSHIPMENT')\n",
        "y"
      ]
    },
    {
      "cell_type": "code",
      "execution_count": 24,
      "id": "c1022937",
      "metadata": {
        "id": "c1022937"
      },
      "outputs": [],
      "source": [
        "#Set the objective function as the product of the flow number of each arch multipled by the cost of that arc.\n",
        "# Note that we now also added the unit costs of running either transhipment point 3 or 7\n",
        "m.setObjective(y.prod(node_costs) + x.prod(C), GRB.MINIMIZE)"
      ]
    },
    {
      "cell_type": "markdown",
      "id": "ea0114bd",
      "metadata": {
        "id": "ea0114bd"
      },
      "source": [
        "Next we will again specify our flow conservation constraint in the network. For each node i in the system, we constrain the difference between the incoming flow and outgoing flow to be equal to the specified supply for that node."
      ]
    },
    {
      "cell_type": "code",
      "execution_count": 25,
      "id": "de18f2ce",
      "metadata": {
        "id": "de18f2ce"
      },
      "outputs": [],
      "source": [
        "for i in N:\n",
        "    m.addConstr(x.sum(i,'*') - x.sum('*',i) == D[i], name=f'FlowConstraints_{i}')"
      ]
    },
    {
      "cell_type": "markdown",
      "id": "20e57a79",
      "metadata": {
        "id": "20e57a79"
      },
      "source": [
        "To again constrain each arc at its capacity, we iterate through all the decision variables and add a constraint for each."
      ]
    },
    {
      "cell_type": "code",
      "execution_count": 26,
      "id": "1d8cd86a",
      "metadata": {
        "id": "1d8cd86a"
      },
      "outputs": [],
      "source": [
        "for (o, d), var in x.items():\n",
        "    m.addConstr(var <= CAPACITY[(o,d)], name=f\"CapacityConstraints_{o}_{d}\")"
      ]
    },
    {
      "cell_type": "code",
      "execution_count": 27,
      "id": "c35e8054",
      "metadata": {
        "id": "c35e8054",
        "colab": {
          "base_uri": "https://localhost:8080/"
        },
        "outputId": "221e31bb-1aa8-44c3-9d6a-ab5ef93d0c8e"
      },
      "outputs": [
        {
          "output_type": "execute_result",
          "data": {
            "text/plain": [
              "{'7': <gurobi.Constr *Awaiting Model Update*>,\n",
              " '3': <gurobi.Constr *Awaiting Model Update*>}"
            ]
          },
          "metadata": {},
          "execution_count": 27
        }
      ],
      "source": [
        "network_capacity = sum(CAPACITY.values())\n",
        "#Adding linking constraints to limit the in and outgoing flow to 0, if that node is not being used.\n",
        "\n",
        "m.addConstrs((x.sum(node) - y[node]*network_capacity <= 0 for node in y.keys()), name='LinkingIn')\n",
        "m.addConstrs((x.sum('*',node) - y[node]*network_capacity <= 0 for node in y.keys()), name='LinkingOut')"
      ]
    },
    {
      "cell_type": "code",
      "execution_count": 28,
      "id": "f5fd17ad",
      "metadata": {
        "id": "f5fd17ad",
        "colab": {
          "base_uri": "https://localhost:8080/"
        },
        "outputId": "77161998-54c5-4581-b767-ce18a8616c1d"
      },
      "outputs": [
        {
          "output_type": "execute_result",
          "data": {
            "text/plain": [
              "{'7': <gurobi.Var *Awaiting Model Update*>,\n",
              " '3': <gurobi.Var *Awaiting Model Update*>}"
            ]
          },
          "metadata": {},
          "execution_count": 28
        }
      ],
      "source": [
        "y"
      ]
    },
    {
      "cell_type": "code",
      "execution_count": 29,
      "id": "1adde8d9",
      "metadata": {
        "id": "1adde8d9",
        "colab": {
          "base_uri": "https://localhost:8080/"
        },
        "outputId": "8bdeeae0-6400-40b9-e7f6-b1c626b56dd4"
      },
      "outputs": [
        {
          "output_type": "stream",
          "name": "stdout",
          "text": [
            "Gurobi Optimizer version 10.0.2 build v10.0.2rc0 (linux64)\n",
            "\n",
            "CPU model: Intel(R) Xeon(R) CPU @ 2.20GHz, instruction set [SSE2|AVX|AVX2]\n",
            "Thread count: 1 physical cores, 2 logical processors, using up to 2 threads\n",
            "\n",
            "Optimize a model with 23 rows, 14 columns and 50 nonzeros\n",
            "Model fingerprint: 0xa87ebe46\n",
            "Variable types: 0 continuous, 14 integer (2 binary)\n",
            "Coefficient statistics:\n",
            "  Matrix range     [1e+00, 5e+01]\n",
            "  Objective range  [1e+00, 8e+00]\n",
            "  Bounds range     [1e+00, 1e+00]\n",
            "  RHS range        [1e+00, 7e+00]\n",
            "Found heuristic solution: objective 49.0000000\n",
            "Presolve removed 13 rows and 1 columns\n",
            "Presolve time: 0.00s\n",
            "Presolved: 10 rows, 13 columns, 36 nonzeros\n",
            "Variable types: 0 continuous, 13 integer (3 binary)\n",
            "\n",
            "Root relaxation: objective 4.337500e+01, 9 iterations, 0.00 seconds (0.00 work units)\n",
            "\n",
            "    Nodes    |    Current Node    |     Objective Bounds      |     Work\n",
            " Expl Unexpl |  Obj  Depth IntInf | Incumbent    BestBd   Gap | It/Node Time\n",
            "\n",
            "     0     0   43.37500    0    2   49.00000   43.37500  11.5%     -    0s\n",
            "H    0     0                      46.0000000   43.37500  5.71%     -    0s\n",
            "H    0     0                      45.0000000   43.37500  3.61%     -    0s\n",
            "     0     0   43.37500    0    2   45.00000   43.37500  3.61%     -    0s\n",
            "\n",
            "Explored 1 nodes (9 simplex iterations) in 0.03 seconds (0.00 work units)\n",
            "Thread count was 2 (of 2 available processors)\n",
            "\n",
            "Solution count 3: 45 46 49 \n",
            "\n",
            "Optimal solution found (tolerance 1.00e-04)\n",
            "Best objective 4.500000000000e+01, best bound 4.500000000000e+01, gap 0.0000%\n"
          ]
        }
      ],
      "source": [
        "m.optimize()"
      ]
    },
    {
      "cell_type": "code",
      "execution_count": 30,
      "id": "687e31a9",
      "metadata": {
        "id": "687e31a9",
        "colab": {
          "base_uri": "https://localhost:8080/"
        },
        "outputId": "e6a19723-ed77-4b89-a9d9-7332cdfb4992"
      },
      "outputs": [
        {
          "output_type": "stream",
          "name": "stdout",
          "text": [
            "Optimal objective value: 45.0\n",
            "Use transhipment point 7\n",
            "Shipment plan\n",
            "Ship 3.0 units from node 1 to node 2\n",
            "Ship 2.0 units from node 1 to node 7\n",
            "Ship 5.0 units from node 2 to node 7\n",
            "Ship 2.0 units from node 7 to node 4\n",
            "Ship 4.0 units from node 7 to node 5\n",
            "Ship 1.0 units from node 7 to node 6\n"
          ]
        }
      ],
      "source": [
        "print(f\"Optimal objective value: {m.objVal}\")\n",
        "\n",
        "for n, var in y.items():\n",
        "    if (abs(var.x) > 0): #Only print if not 0\n",
        "        print (f\"Use transhipment point {n}\")\n",
        "print (\"Shipment plan\")\n",
        "for (o,d), var in x.items():\n",
        "    if (abs(var.x) > 0): #Only print if not 0\n",
        "        print (f\"Ship {x[o,d].x} units from node {o} to node {d}\")"
      ]
    },
    {
      "cell_type": "markdown",
      "id": "790c91f6",
      "metadata": {
        "id": "790c91f6"
      },
      "source": [
        "Running this model indicates that a solution with only node 7 has the lowest transport costs.\n",
        "This indicates that renting the space for more centrally located transhipment will pay itself back in savings on transport costs."
      ]
    },
    {
      "cell_type": "markdown",
      "source": [
        "\n",
        "\n",
        "---\n",
        "\n",
        "**Acknowledgements**\n",
        "\n",
        "The first Transshipment Problem was originally authored for SCM.250 by Dr. Josue Velasquez\n",
        "All problems modified to Gurobi in Python by Dr. Elenna Dugundji & Dr. Thomas Koch, CTL, 2023, CC-BY-SA\n",
        "https://creativecommons.org/licenses/by-sa/3.0/nz/"
      ],
      "metadata": {
        "id": "WH0cX_ggB9H7"
      },
      "id": "WH0cX_ggB9H7"
    }
  ],
  "metadata": {
    "colab": {
      "provenance": []
    },
    "kernelspec": {
      "display_name": "Python 3 (ipykernel)",
      "language": "python",
      "name": "python3"
    },
    "language_info": {
      "codemirror_mode": {
        "name": "ipython",
        "version": 3
      },
      "file_extension": ".py",
      "mimetype": "text/x-python",
      "name": "python",
      "nbconvert_exporter": "python",
      "pygments_lexer": "ipython3",
      "version": "3.11.4"
    },
    "vscode": {
      "interpreter": {
        "hash": "dc5f856df681cf36bc5efddcb2a84a2cd35056a6cd8ebd45133cbd641251ee46"
      }
    }
  },
  "nbformat": 4,
  "nbformat_minor": 5
}