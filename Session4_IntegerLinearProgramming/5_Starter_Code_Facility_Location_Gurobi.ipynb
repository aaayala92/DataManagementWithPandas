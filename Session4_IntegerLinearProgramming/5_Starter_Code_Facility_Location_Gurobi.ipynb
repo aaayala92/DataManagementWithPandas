{
  "cells": [
    {
      "cell_type": "code",
      "execution_count": 1,
      "id": "FuU1dOoS9hZ5",
      "metadata": {
        "id": "FuU1dOoS9hZ5"
      },
      "outputs": [
        {
          "name": "stdout",
          "output_type": "stream",
          "text": [
            "Requirement already satisfied: gurobipy in c:\\users\\artur\\appdata\\local\\programs\\python\\python310\\lib\\site-packages (10.0.2)\n"
          ]
        },
        {
          "name": "stderr",
          "output_type": "stream",
          "text": [
            "WARNING: You are using pip version 21.2.4; however, version 23.2.1 is available.\n",
            "You should consider upgrading via the 'C:\\Users\\artur\\AppData\\Local\\Programs\\Python\\Python310\\python.exe -m pip install --upgrade pip' command.\n"
          ]
        }
      ],
      "source": [
        "!pip install gurobipy"
      ]
    },
    {
      "cell_type": "markdown",
      "id": "8cc9fd8b",
      "metadata": {
        "id": "8cc9fd8b"
      },
      "source": [
        "## A Facility Location Problem"
      ]
    },
    {
      "cell_type": "markdown",
      "id": "3d1908f2",
      "metadata": {
        "id": "3d1908f2"
      },
      "source": [
        "![slide1.png](https://i.ibb.co/q1G74jk/download-2.png)"
      ]
    },
    {
      "cell_type": "markdown",
      "id": "8887e7a9",
      "metadata": {
        "id": "8887e7a9"
      },
      "source": [
        "![slide3.png](https://i.ibb.co/v4H51g7/download-3.png)"
      ]
    },
    {
      "cell_type": "markdown",
      "id": "11f31864",
      "metadata": {
        "id": "11f31864"
      },
      "source": [
        "The prob variable is created using the LpProblem function, with the usual input parameters."
      ]
    },
    {
      "cell_type": "code",
      "execution_count": 29,
      "id": "d53f8ee2",
      "metadata": {
        "id": "d53f8ee2"
      },
      "outputs": [],
      "source": [
        "# import gurobi library\n",
        "import gurobipy as gp         #Gurobi Python interface\n",
        "from gurobipy import GRB      #Import as shortcut to avoid writing GP.grb\n",
        "from itertools import product #product creates the cartesian product from 2 or more lists.\n",
        "\n"
      ]
    },
    {
      "cell_type": "code",
      "execution_count": 3,
      "id": "0aea40ef",
      "metadata": {
        "id": "0aea40ef"
      },
      "outputs": [],
      "source": [
        "#P is the number of facilities that we want to locate.\n",
        "p = 1"
      ]
    },
    {
      "cell_type": "markdown",
      "id": "2aa13f55",
      "metadata": {
        "id": "2aa13f55"
      },
      "source": [
        "We create a list of our facilities."
      ]
    },
    {
      "cell_type": "code",
      "execution_count": 4,
      "id": "74b3b868",
      "metadata": {
        "id": "74b3b868"
      },
      "outputs": [],
      "source": [
        "Facilities = ['A', 'B']"
      ]
    },
    {
      "cell_type": "markdown",
      "id": "a169ec57",
      "metadata": {
        "id": "a169ec57"
      },
      "source": [
        "To define our customer id's we use a python generator to generate a number for each node"
      ]
    },
    {
      "cell_type": "code",
      "execution_count": 5,
      "id": "e88d9e8b",
      "metadata": {
        "colab": {
          "base_uri": "https://localhost:8080/"
        },
        "id": "e88d9e8b",
        "outputId": "09489dc8-b067-44d2-a2ec-bc29bbf38fed"
      },
      "outputs": [
        {
          "data": {
            "text/plain": [
              "['1', '2', '3', '4']"
            ]
          },
          "execution_count": 5,
          "metadata": {},
          "output_type": "execute_result"
        }
      ],
      "source": [
        "Customers = [str(i+1) for i in range(4)]\n",
        "Customers"
      ]
    },
    {
      "cell_type": "code",
      "execution_count": 6,
      "id": "3ad9b73e",
      "metadata": {
        "colab": {
          "base_uri": "https://localhost:8080/"
        },
        "id": "3ad9b73e",
        "outputId": "daad69f9-bcc4-42e4-fe79-7aeffd23b2c0"
      },
      "outputs": [
        {
          "data": {
            "text/plain": [
              "[('1', 'A'),\n",
              " ('1', 'B'),\n",
              " ('2', 'A'),\n",
              " ('2', 'B'),\n",
              " ('3', 'A'),\n",
              " ('3', 'B'),\n",
              " ('4', 'A'),\n",
              " ('4', 'B')]"
            ]
          },
          "execution_count": 6,
          "metadata": {},
          "output_type": "execute_result"
        }
      ],
      "source": [
        "#product creates the cartesian product from 2 or more lists.\n",
        "customer_facilities = list(product(Customers, Facilities))\n",
        "customer_facilities"
      ]
    },
    {
      "cell_type": "markdown",
      "id": "8e10ddb1",
      "metadata": {
        "id": "8e10ddb1"
      },
      "source": [
        "Now we provide the customer demand in the order of our customer ids."
      ]
    },
    {
      "cell_type": "code",
      "execution_count": 7,
      "id": "9d3cef60",
      "metadata": {
        "id": "9d3cef60"
      },
      "outputs": [],
      "source": [
        "demand = [10, 11, 2, 3]"
      ]
    },
    {
      "cell_type": "markdown",
      "id": "794707ad",
      "metadata": {
        "id": "794707ad"
      },
      "source": [
        "Just to make sure we generated a label for each node and put in a supply for each node we include an assert."
      ]
    },
    {
      "cell_type": "code",
      "execution_count": 8,
      "id": "57403eb3",
      "metadata": {
        "id": "57403eb3"
      },
      "outputs": [],
      "source": [
        "assert len(demand) == len(Customers)"
      ]
    },
    {
      "cell_type": "markdown",
      "id": "ff04c07c",
      "metadata": {
        "id": "ff04c07c"
      },
      "source": [
        "We can now convert this into a dictionary of values, with customer IDs used as keys."
      ]
    },
    {
      "cell_type": "code",
      "execution_count": 9,
      "id": "7cc7eaec",
      "metadata": {
        "colab": {
          "base_uri": "https://localhost:8080/"
        },
        "id": "7cc7eaec",
        "outputId": "3085710e-4bb9-42cd-9f0b-60e747ea5f54"
      },
      "outputs": [
        {
          "data": {
            "text/plain": [
              "{'1': 10, '2': 11, '3': 2, '4': 3}"
            ]
          },
          "execution_count": 9,
          "metadata": {},
          "output_type": "execute_result"
        }
      ],
      "source": [
        "D = dict(zip(Customers, demand))\n",
        "D"
      ]
    },
    {
      "cell_type": "markdown",
      "id": "94cd516b",
      "metadata": {
        "id": "94cd516b"
      },
      "source": [
        "We give the distance between customers and facilities as a dictionary with the tuple (customer, facility) as kyy. The cost from customer i to facility location j can be retrieved with C\\[(i,j)]"
      ]
    },
    {
      "cell_type": "code",
      "execution_count": 10,
      "id": "c9a7e3de",
      "metadata": {
        "id": "c9a7e3de"
      },
      "outputs": [],
      "source": [
        "C = {('1', 'A'): 20,\n",
        " ('1', 'B'): 30,\n",
        " ('2', 'A'): 10,\n",
        " ('2', 'B'): 20,\n",
        " ('3', 'A'): 10,\n",
        " ('3', 'B'): 10,\n",
        " ('4', 'A'): 10,\n",
        " ('4', 'B'): 20}"
      ]
    },
    {
      "cell_type": "code",
      "execution_count": 11,
      "id": "SICbCDx4bx8r",
      "metadata": {
        "id": "SICbCDx4bx8r"
      },
      "outputs": [
        {
          "name": "stdout",
          "output_type": "stream",
          "text": [
            "Restricted license - for non-production use only - expires 2024-10-28\n"
          ]
        }
      ],
      "source": [
        "# Define model\n",
        "m = gp.Model('FacilityLocation')"
      ]
    },
    {
      "cell_type": "markdown",
      "id": "0e558c3d",
      "metadata": {
        "id": "0e558c3d"
      },
      "source": [
        "We add decision variables if we locate a facility at candidate site j or not. Setting the variable type as BINARY the lower bound is 0 and upper bound is 1, for yes or no."
      ]
    },
    {
      "cell_type": "code",
      "execution_count": 12,
      "id": "24b68d69",
      "metadata": {
        "id": "24b68d69"
      },
      "outputs": [
        {
          "data": {
            "text/plain": [
              "{'A': <gurobi.Var *Awaiting Model Update*>,\n",
              " 'B': <gurobi.Var *Awaiting Model Update*>}"
            ]
          },
          "execution_count": 12,
          "metadata": {},
          "output_type": "execute_result"
        }
      ],
      "source": [
        "# Add Decision variables if locate facility at candidate site j\n",
        "X_j = m.addVars(Facilities,vtype=GRB.BINARY,name = 'FACILITIES')\n",
        "X_j"
      ]
    },
    {
      "cell_type": "markdown",
      "id": "d2a31d75",
      "metadata": {
        "id": "d2a31d75"
      },
      "source": [
        "We add decision variables if we service customer i from candidate site j or not. Setting the variable type as BINARY the lower bound is 0 and upper bound is 1, for yes or no."
      ]
    },
    {
      "cell_type": "code",
      "execution_count": 30,
      "id": "5fa7f275",
      "metadata": {
        "id": "5fa7f275"
      },
      "outputs": [
        {
          "data": {
            "text/plain": [
              "{('1', 'A'): <gurobi.Var *Awaiting Model Update*>,\n",
              " ('1', 'B'): <gurobi.Var *Awaiting Model Update*>,\n",
              " ('2', 'A'): <gurobi.Var *Awaiting Model Update*>,\n",
              " ('2', 'B'): <gurobi.Var *Awaiting Model Update*>,\n",
              " ('3', 'A'): <gurobi.Var *Awaiting Model Update*>,\n",
              " ('3', 'B'): <gurobi.Var *Awaiting Model Update*>,\n",
              " ('4', 'A'): <gurobi.Var *Awaiting Model Update*>,\n",
              " ('4', 'B'): <gurobi.Var *Awaiting Model Update*>}"
            ]
          },
          "execution_count": 30,
          "metadata": {},
          "output_type": "execute_result"
        }
      ],
      "source": [
        "# Add Decision variables if service customer i from candidate site j\n",
        "Y_ij = m.addVars(customer_facilities,vtype=GRB.BINARY, name='CUSTOMERS')\n",
        "Y_ij"
      ]
    },
    {
      "cell_type": "markdown",
      "id": "4224e923",
      "metadata": {
        "id": "4224e923"
      },
      "source": [
        ":First we add the objective function to the problem. The sum of actual distance for the customer demand is the distance between facilities and customers and whether we plan the facility times the demand for the customer."
      ]
    },
    {
      "cell_type": "code",
      "execution_count": 31,
      "id": "0a193a20",
      "metadata": {
        "id": "0a193a20"
      },
      "outputs": [],
      "source": [
        "# Set objective function\n",
        "m.setObjective(gp.quicksum([Y_ij.prod(C,c)*D[c] for c in Customers]),GRB.MINIMIZE)"
      ]
    },
    {
      "cell_type": "markdown",
      "id": "fe9523a3",
      "metadata": {},
      "source": []
    },
    {
      "cell_type": "markdown",
      "id": "9cdc34b5",
      "metadata": {
        "id": "9cdc34b5"
      },
      "source": [
        "Our first constraint is that each customer is served by one and only one facility."
      ]
    },
    {
      "cell_type": "code",
      "execution_count": 32,
      "id": "1be4df77",
      "metadata": {
        "id": "1be4df77"
      },
      "outputs": [
        {
          "data": {
            "text/plain": [
              "{'1': <gurobi.Constr *Awaiting Model Update*>,\n",
              " '2': <gurobi.Constr *Awaiting Model Update*>,\n",
              " '3': <gurobi.Constr *Awaiting Model Update*>,\n",
              " '4': <gurobi.Constr *Awaiting Model Update*>}"
            ]
          },
          "execution_count": 32,
          "metadata": {},
          "output_type": "execute_result"
        }
      ],
      "source": [
        "# Add constraint that each customer is served by one and only one facility\n",
        "m.addConstrs((Y_ij.sum(c) == 1 for c in Customers), name='1FacilityPerCustomer')"
      ]
    },
    {
      "cell_type": "markdown",
      "id": "dcb1f2f6",
      "metadata": {
        "id": "dcb1f2f6"
      },
      "source": [
        "Our second constraint is that we want to restrict the number of factilities to p"
      ]
    },
    {
      "cell_type": "code",
      "execution_count": 33,
      "id": "6e23ec5e",
      "metadata": {
        "id": "6e23ec5e"
      },
      "outputs": [
        {
          "data": {
            "text/plain": [
              "<gurobi.Constr *Awaiting Model Update*>"
            ]
          },
          "execution_count": 33,
          "metadata": {},
          "output_type": "execute_result"
        }
      ],
      "source": [
        "# Add constraint to restrict number of facilities to p\n",
        "m.addConstr(X_j.sum() == p, name='LimitFacilitiesToP')\n"
      ]
    },
    {
      "cell_type": "markdown",
      "id": "548d08b8",
      "metadata": {
        "id": "548d08b8"
      },
      "source": [
        "Our third constraint is that a customer can only be served from facility j, if we planned a facility there."
      ]
    },
    {
      "cell_type": "code",
      "execution_count": 34,
      "id": "45eb9bfd",
      "metadata": {
        "id": "45eb9bfd",
        "scrolled": true
      },
      "outputs": [],
      "source": [
        "#Add constraint that customer can only be served from facility j, if a facility is operational there\n",
        "for customer, facility in customer_facilities:\n",
        "    m.addConstr(Y_ij[(customer, facility)] - X_j[facility] <= 0,name=f\"OnlyAllowServiceAt{customer}IfFacility{facility}\")"
      ]
    },
    {
      "cell_type": "markdown",
      "id": "8a5d4c4d",
      "metadata": {
        "id": "8a5d4c4d"
      },
      "source": [
        "Recall:\n",
        " - if we service customer i from candidate site j: Y_ij = 1 , otherwise Y_ij = 0\n",
        " - if we locate a facility at candidate site j: X_j = 1, otherwise X_j = 0\n",
        "\n",
        "So the following situations are all allowed:\n",
        " - when we locate a facility at candidate site X_j, then if we service customer i from there we have: 1 - 1 = 0\n",
        " - when we locate a facility at candidate site X_j, then if we do NOT service customer i from there we have: 0 - 1 = -1\n",
        " - when we do NOT locate a facility at candidate site X_j, then we can not service any customers from there and we have: 0 - 0 = 0\n",
        "\n",
        " And the following situation is not allowed:\n",
        " - when we do NOT locate a facility at candidate site X_j, servicing a customer from there would give: 1 - 0 = 1 (which is contrained not to be allowed)"
      ]
    },
    {
      "cell_type": "markdown",
      "id": "d78c0c96",
      "metadata": {
        "id": "d78c0c96"
      },
      "source": [
        "Finally, recall:\n",
        "\n",
        "- The constraints that x_ij and x_j have to be {0,1} is specified by the lowBound and upBound parameteer when we introduced the decision variables."
      ]
    },
    {
      "cell_type": "code",
      "execution_count": null,
      "id": "01e9aadd",
      "metadata": {
        "id": "01e9aadd"
      },
      "outputs": [],
      "source": [
        "# Write model to file 'FacilityLocationProblem.lp'\n",
        "m.write('FacilityLocationProblem.lp')"
      ]
    },
    {
      "cell_type": "code",
      "execution_count": null,
      "id": "BRtzieMwdQGk",
      "metadata": {
        "id": "BRtzieMwdQGk"
      },
      "outputs": [
        {
          "name": "stdout",
          "output_type": "stream",
          "text": [
            "\\ Model FacilityLocation\n",
            "\\ LP format - for model browsing. Use MPS format to capture full model detail.\n",
            "Minimize\n",
            " \n",
            "Subject To\n",
            " R0: = 1\n",
            " R1: = 1\n",
            " R2: = 1\n",
            " R3: = 1\n",
            " R4: FACILITIES[A] = 1\n",
            " R5: FACILITIES[B] = 1\n",
            " R6: - FACILITIES[A] - FACILITIES[B] + CUSTOMERS[1] <= 0\n",
            " R7: - FACILITIES[A] - FACILITIES[B] + CUSTOMERS[1] <= 0\n",
            " R8: - FACILITIES[A] - FACILITIES[B] + CUSTOMERS[2] <= 0\n",
            " R9: - FACILITIES[A] - FACILITIES[B] + CUSTOMERS[2] <= 0\n",
            " R10: - FACILITIES[A] - FACILITIES[B] + CUSTOMERS[3] <= 0\n",
            " R11: - FACILITIES[A] - FACILITIES[B] + CUSTOMERS[3] <= 0\n",
            " R12: - FACILITIES[A] - FACILITIES[B] + CUSTOMERS[4] <= 0\n",
            " R13: - FACILITIES[A] - FACILITIES[B] + CUSTOMERS[4] <= 0\n",
            "Bounds\n",
            "Binaries\n",
            " FACILITIES[A] FACILITIES[B] CUSTOMERS[1] CUSTOMERS[2] CUSTOMERS[3]\n",
            " CUSTOMERS[4]\n",
            "End\n",
            "\n"
          ]
        }
      ],
      "source": [
        "# Inspect model file\n",
        "with open('FacilityLocationProblem.lp') as f:\n",
        "  print (f.read())"
      ]
    },
    {
      "cell_type": "markdown",
      "id": "4c53d2be",
      "metadata": {
        "id": "4c53d2be"
      },
      "source": [
        "Finally we can solve our problem."
      ]
    },
    {
      "cell_type": "code",
      "execution_count": null,
      "id": "6f8d5548",
      "metadata": {
        "id": "6f8d5548"
      },
      "outputs": [
        {
          "name": "stdout",
          "output_type": "stream",
          "text": [
            "Gurobi Optimizer version 10.0.2 build v10.0.2rc0 (win64)\n",
            "\n",
            "CPU model: AMD Ryzen 7 4800H with Radeon Graphics, instruction set [SSE2|AVX|AVX2]\n",
            "Thread count: 8 physical cores, 16 logical processors, using up to 16 threads\n",
            "\n",
            "Optimize a model with 14 rows, 6 columns and 26 nonzeros\n",
            "Model fingerprint: 0x9198f3e3\n",
            "Variable types: 0 continuous, 6 integer (6 binary)\n",
            "Coefficient statistics:\n",
            "  Matrix range     [1e+00, 1e+00]\n",
            "  Objective range  [0e+00, 0e+00]\n",
            "  Bounds range     [1e+00, 1e+00]\n",
            "  RHS range        [1e+00, 1e+00]\n",
            "Presolve time: 0.00s\n",
            "\n",
            "Explored 0 nodes (0 simplex iterations) in 0.01 seconds (0.00 work units)\n",
            "Thread count was 1 (of 16 available processors)\n",
            "\n",
            "Solution count 0\n",
            "\n",
            "Model is infeasible\n",
            "Best objective -, best bound -, gap -\n"
          ]
        }
      ],
      "source": [
        "# Optimize model\n",
        "m.optimize()"
      ]
    },
    {
      "cell_type": "code",
      "execution_count": null,
      "id": "9e4ad088",
      "metadata": {
        "id": "9e4ad088"
      },
      "outputs": [
        {
          "ename": "AttributeError",
          "evalue": "Unable to retrieve attribute 'objVal'",
          "output_type": "error",
          "traceback": [
            "\u001b[1;31m---------------------------------------------------------------------------\u001b[0m",
            "\u001b[1;31mAttributeError\u001b[0m                            Traceback (most recent call last)",
            "\u001b[1;32mc:\\Users\\artur\\OneDrive\\Documentos\\MIT SCM\\SCM250\\Data_Management_With_Pandas\\DataManagementWithPandas\\Session4_IntegerLinearProgramming\\5_Starter_Code_Facility_Location_Gurobi.ipynb Cell 40\u001b[0m in \u001b[0;36m<cell line: 1>\u001b[1;34m()\u001b[0m\n\u001b[1;32m----> <a href='vscode-notebook-cell:/c%3A/Users/artur/OneDrive/Documentos/MIT%20SCM/SCM250/Data_Management_With_Pandas/DataManagementWithPandas/Session4_IntegerLinearProgramming/5_Starter_Code_Facility_Location_Gurobi.ipynb#X54sZmlsZQ%3D%3D?line=0'>1</a>\u001b[0m \u001b[39mprint\u001b[39m(\u001b[39mf\u001b[39m\u001b[39m\"\u001b[39m\u001b[39mOptimal objective value: \u001b[39m\u001b[39m{\u001b[39;00mm\u001b[39m.\u001b[39mobjVal\u001b[39m}\u001b[39;00m\u001b[39m\"\u001b[39m)\n\u001b[0;32m      <a href='vscode-notebook-cell:/c%3A/Users/artur/OneDrive/Documentos/MIT%20SCM/SCM250/Data_Management_With_Pandas/DataManagementWithPandas/Session4_IntegerLinearProgramming/5_Starter_Code_Facility_Location_Gurobi.ipynb#X54sZmlsZQ%3D%3D?line=2'>3</a>\u001b[0m \u001b[39mfor\u001b[39;00m plant \u001b[39min\u001b[39;00m X_j\u001b[39m.\u001b[39mkeys():\n\u001b[0;32m      <a href='vscode-notebook-cell:/c%3A/Users/artur/OneDrive/Documentos/MIT%20SCM/SCM250/Data_Management_With_Pandas/DataManagementWithPandas/Session4_IntegerLinearProgramming/5_Starter_Code_Facility_Location_Gurobi.ipynb#X54sZmlsZQ%3D%3D?line=3'>4</a>\u001b[0m     \u001b[39mif\u001b[39;00m (\u001b[39mabs\u001b[39m(X_j[plant]\u001b[39m.\u001b[39mx) \u001b[39m>\u001b[39m \u001b[39m0\u001b[39m): \u001b[39m#Only print if not 0\u001b[39;00m\n",
            "File \u001b[1;32msrc\\gurobipy\\model.pxi:357\u001b[0m, in \u001b[0;36mgurobipy.Model.__getattr__\u001b[1;34m()\u001b[0m\n",
            "File \u001b[1;32msrc\\gurobipy\\model.pxi:1917\u001b[0m, in \u001b[0;36mgurobipy.Model.getAttr\u001b[1;34m()\u001b[0m\n",
            "File \u001b[1;32msrc\\gurobipy\\attrutil.pxi:100\u001b[0m, in \u001b[0;36mgurobipy.__getattr\u001b[1;34m()\u001b[0m\n",
            "\u001b[1;31mAttributeError\u001b[0m: Unable to retrieve attribute 'objVal'"
          ]
        }
      ],
      "source": [
        "print(f\"Optimal objective value: {m.objVal}\")\n",
        "\n",
        "for plant in X_j.keys():\n",
        "    if (abs(X_j[plant].x) > 0): #Only print if not 0\n",
        "        print(f\"Build a facility at location {plant}.\")\n",
        "print(\"\\nShipment plan:\")\n",
        "for customer, facility in Y_ij.keys():\n",
        "    if (abs(Y_ij[customer, facility].x) > 0): #Only print if not 0\n",
        "        print (f\"Service customer {customer} from facility {facility}\")"
      ]
    },
    {
      "cell_type": "markdown",
      "id": "9efe89ff",
      "metadata": {
        "id": "9efe89ff"
      },
      "source": [
        "Our solution is to place the facility at location A for a mimimal transportation distance of 360"
      ]
    }
  ],
  "metadata": {
    "colab": {
      "provenance": []
    },
    "kernelspec": {
      "display_name": "Python 3 (ipykernel)",
      "language": "python",
      "name": "python3"
    },
    "language_info": {
      "codemirror_mode": {
        "name": "ipython",
        "version": 3
      },
      "file_extension": ".py",
      "mimetype": "text/x-python",
      "name": "python",
      "nbconvert_exporter": "python",
      "pygments_lexer": "ipython3",
      "version": "3.10.1"
    },
    "vscode": {
      "interpreter": {
        "hash": "dc5f856df681cf36bc5efddcb2a84a2cd35056a6cd8ebd45133cbd641251ee46"
      }
    }
  },
  "nbformat": 4,
  "nbformat_minor": 5
}
