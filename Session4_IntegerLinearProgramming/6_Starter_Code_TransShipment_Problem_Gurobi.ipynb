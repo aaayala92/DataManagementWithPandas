{
  "cells": [
    {
      "cell_type": "code",
      "execution_count": 1,
      "id": "rziSs2By8tEs",
      "metadata": {
        "id": "rziSs2By8tEs"
      },
      "outputs": [
        {
          "name": "stdout",
          "output_type": "stream",
          "text": [
            "Requirement already satisfied: gurobipy in c:\\users\\artur\\appdata\\local\\programs\\python\\python310\\lib\\site-packages (10.0.2)\n"
          ]
        },
        {
          "name": "stderr",
          "output_type": "stream",
          "text": [
            "WARNING: You are using pip version 21.2.4; however, version 23.2.1 is available.\n",
            "You should consider upgrading via the 'C:\\Users\\artur\\AppData\\Local\\Programs\\Python\\Python310\\python.exe -m pip install --upgrade pip' command.\n"
          ]
        }
      ],
      "source": [
        "!pip install gurobipy"
      ]
    },
    {
      "cell_type": "markdown",
      "id": "4cea0576",
      "metadata": {
        "id": "4cea0576"
      },
      "source": [
        "# A TransShipment Problem"
      ]
    },
    {
      "cell_type": "markdown",
      "id": "9f1af096",
      "metadata": {
        "id": "9f1af096"
      },
      "source": [
        "![slide1.png](https://i.ibb.co/XLWcpmr/download.png)\n"
      ]
    },
    {
      "cell_type": "markdown",
      "id": "3d360eeb",
      "metadata": {},
      "source": [
        "negative values are demand\n",
        "positive values are supply\n",
        "0 means a distribution center\n",
        "Cij is the cost\n",
        "Uij is the capacity to send product"
      ]
    },
    {
      "cell_type": "code",
      "execution_count": 2,
      "id": "0f664957",
      "metadata": {
        "id": "0f664957"
      },
      "outputs": [],
      "source": [
        "# import gurobi library\n",
        "import gurobipy as gp         #Gurobi Python interface\n",
        "from gurobipy import GRB      #Import as shortcut to avoid writing GP.grb"
      ]
    },
    {
      "cell_type": "markdown",
      "id": "e0c46a12",
      "metadata": {
        "id": "e0c46a12"
      },
      "source": [
        "To define our node id's we use a python generator to generate a number for each node"
      ]
    },
    {
      "cell_type": "code",
      "execution_count": 3,
      "id": "b08a34c6",
      "metadata": {
        "id": "b08a34c6"
      },
      "outputs": [
        {
          "data": {
            "text/plain": [
              "['1', '2', '3', '4', '5', '6']"
            ]
          },
          "execution_count": 3,
          "metadata": {},
          "output_type": "execute_result"
        }
      ],
      "source": [
        "N = [str(i+1) for i in range(6)]\n",
        "N"
      ]
    },
    {
      "cell_type": "markdown",
      "id": "a9038b3a",
      "metadata": {
        "id": "a9038b3a"
      },
      "source": [
        "Now we provide the supply/demand in the sequence of our node ids."
      ]
    },
    {
      "cell_type": "code",
      "execution_count": 4,
      "id": "e8a177dc",
      "metadata": {
        "id": "e8a177dc"
      },
      "outputs": [],
      "source": [
        "supply = [5, 2, 0, -2, -4, -1]"
      ]
    },
    {
      "cell_type": "markdown",
      "id": "cde38f78",
      "metadata": {
        "id": "cde38f78"
      },
      "source": [
        "Just to make sure we generated a label for each node and put in a supply for each node we include an assert."
      ]
    },
    {
      "cell_type": "code",
      "execution_count": 5,
      "id": "86efe9b8",
      "metadata": {
        "id": "86efe9b8"
      },
      "outputs": [],
      "source": [
        "assert len(supply) == len(N)"
      ]
    },
    {
      "cell_type": "markdown",
      "id": "d4f2a71a",
      "metadata": {
        "id": "d4f2a71a"
      },
      "source": [
        "We can now convert this into a dictionary of values, with node IDs used as keys."
      ]
    },
    {
      "cell_type": "code",
      "execution_count": 6,
      "id": "7a0a8bc7",
      "metadata": {
        "id": "7a0a8bc7"
      },
      "outputs": [
        {
          "data": {
            "text/plain": [
              "{'1': 5, '2': 2, '3': 0, '4': -2, '5': -4, '6': -1}"
            ]
          },
          "execution_count": 6,
          "metadata": {},
          "output_type": "execute_result"
        }
      ],
      "source": [
        "D = dict(zip(N, supply))\n",
        "D"
      ]
    },
    {
      "cell_type": "markdown",
      "id": "0bb43642",
      "metadata": {
        "id": "0bb43642"
      },
      "source": [
        "We give the cost of each link as a dictionary with a tuple (origin, destination). The cost from Node o to Node d can be retrieved with C\\[(o,d)]"
      ]
    },
    {
      "cell_type": "code",
      "execution_count": 7,
      "id": "c8ebf09b",
      "metadata": {
        "id": "c8ebf09b"
      },
      "outputs": [],
      "source": [
        "C = {('1', '2'): 1,\n",
        "     ('1', '3'): 4,\n",
        "     ('2', '3'): 2,\n",
        "     ('3', '4'): 2,\n",
        "     ('3', '5'): 5,\n",
        "     ('3', '6'): 8,\n",
        "     ('4', '5'): 1}"
      ]
    },
    {
      "cell_type": "markdown",
      "id": "205b2f7f",
      "metadata": {
        "id": "205b2f7f"
      },
      "source": [
        "Similarily we list the capacity of each link."
      ]
    },
    {
      "cell_type": "code",
      "execution_count": 8,
      "id": "ee4d5ff5",
      "metadata": {
        "id": "ee4d5ff5"
      },
      "outputs": [],
      "source": [
        "CAPACITY = { ('1', '2'): 3,\n",
        "             ('1', '3'): 3,\n",
        "             ('2', '3'): 7,\n",
        "             ('3', '4'): 5,\n",
        "             ('3', '5'): 7,\n",
        "             ('3', '6'): 1,\n",
        "             ('4', '5'): 3}"
      ]
    },
    {
      "cell_type": "code",
      "execution_count": 9,
      "id": "65f96fd2",
      "metadata": {
        "id": "65f96fd2"
      },
      "outputs": [],
      "source": [
        "#Just to check if we did not make an input error we do a quick assert on the length of both input dicts\n",
        "assert len(CAPACITY) == len(C)"
      ]
    },
    {
      "cell_type": "markdown",
      "id": "xVT0NCTqeFkZ",
      "metadata": {
        "id": "xVT0NCTqeFkZ"
      },
      "source": [
        "First we create our gurobi model:"
      ]
    },
    {
      "cell_type": "code",
      "execution_count": 10,
      "id": "E4K1_o3td71h",
      "metadata": {
        "id": "E4K1_o3td71h"
      },
      "outputs": [
        {
          "name": "stdout",
          "output_type": "stream",
          "text": [
            "Restricted license - for non-production use only - expires 2024-10-28\n"
          ]
        }
      ],
      "source": [
        "# Creates the prob variable to contain the problem data\n",
        "m = gp.Model('TransShipment')"
      ]
    },
    {
      "cell_type": "markdown",
      "id": "5b097490",
      "metadata": {
        "id": "5b097490"
      },
      "source": [
        "And finally, we can declare our decision variables: for each arc we define the flow. By setting the data-type with vtype as an Integer we restrict the decision variables to be 0 or higher."
      ]
    },
    {
      "cell_type": "code",
      "execution_count": 14,
      "id": "6594f099",
      "metadata": {
        "id": "6594f099"
      },
      "outputs": [
        {
          "data": {
            "text/plain": [
              "{('1', '2'): <gurobi.Var *Awaiting Model Update*>,\n",
              " ('1', '3'): <gurobi.Var *Awaiting Model Update*>,\n",
              " ('2', '3'): <gurobi.Var *Awaiting Model Update*>,\n",
              " ('3', '4'): <gurobi.Var *Awaiting Model Update*>,\n",
              " ('3', '5'): <gurobi.Var *Awaiting Model Update*>,\n",
              " ('3', '6'): <gurobi.Var *Awaiting Model Update*>,\n",
              " ('4', '5'): <gurobi.Var *Awaiting Model Update*>}"
            ]
          },
          "execution_count": 14,
          "metadata": {},
          "output_type": "execute_result"
        }
      ],
      "source": [
        "x = m.addVars(C, vtype=GRB.INTEGER, name='x')\n",
        "x"
      ]
    },
    {
      "cell_type": "markdown",
      "id": "40b6d66a",
      "metadata": {
        "id": "40b6d66a"
      },
      "source": [
        "## Objective and constraints\n",
        "The objective function which we want to minimize is the cost of the flow in the network.\n",
        "Thus, the sum over the cost of each arc multiplied by the flow variable for the arc."
      ]
    },
    {
      "cell_type": "code",
      "execution_count": 15,
      "id": "eb237dcd",
      "metadata": {
        "id": "eb237dcd"
      },
      "outputs": [],
      "source": [
        "#Set the objective function as the product of the flow number of each arch multipled by the cost of that arc.\n",
        "m.setObjective(x.prod(C), GRB.MINIMIZE)"
      ]
    },
    {
      "cell_type": "markdown",
      "id": "c6c99574",
      "metadata": {
        "id": "c6c99574"
      },
      "source": [
        "Next we specify our flow conservation constraint in the network. For each node i in the system, we constrain the difference between the incoming flow and outgoing flow to be equal to the specified supply for that node."
      ]
    },
    {
      "cell_type": "code",
      "execution_count": 17,
      "id": "016dc924",
      "metadata": {
        "id": "016dc924"
      },
      "outputs": [],
      "source": [
        "# Add flow conservation constraints\n",
        "for i in N:\n",
        "  m.addConstr(x.sum(i,'*')-x.sum('*',i) == D[i], name=f\"ConservationOfFlow{i}\")"
      ]
    },
    {
      "cell_type": "markdown",
      "id": "a6c23e24",
      "metadata": {
        "id": "a6c23e24"
      },
      "source": [
        "To constrain each arc at its capacity, we iterate through all the decision variables and add a constraint for each."
      ]
    },
    {
      "cell_type": "code",
      "execution_count": 19,
      "id": "8a7c0b52",
      "metadata": {
        "id": "8a7c0b52"
      },
      "outputs": [],
      "source": [
        "# Add capacity constraints\n",
        "for (o, d), var in x.items():\n",
        "  m.addConstr(var <= CAPACITY[(o,d)], name=f\"CapacityConstraints_{o}_{d}\")"
      ]
    },
    {
      "cell_type": "code",
      "execution_count": 20,
      "id": "e36fcc3a",
      "metadata": {
        "id": "e36fcc3a"
      },
      "outputs": [
        {
          "name": "stdout",
          "output_type": "stream",
          "text": [
            "Gurobi Optimizer version 10.0.2 build v10.0.2rc0 (win64)\n",
            "\n",
            "CPU model: AMD Ryzen 7 4800H with Radeon Graphics, instruction set [SSE2|AVX|AVX2]\n",
            "Thread count: 8 physical cores, 16 logical processors, using up to 16 threads\n",
            "\n",
            "Optimize a model with 13 rows, 14 columns and 21 nonzeros\n",
            "Model fingerprint: 0xfabf43ce\n",
            "Variable types: 0 continuous, 14 integer (0 binary)\n",
            "Coefficient statistics:\n",
            "  Matrix range     [1e+00, 1e+00]\n",
            "  Objective range  [1e+00, 8e+00]\n",
            "  Bounds range     [0e+00, 0e+00]\n",
            "  RHS range        [1e+00, 7e+00]\n",
            "Found heuristic solution: objective 53.0000000\n",
            "Presolve removed 13 rows and 14 columns\n",
            "Presolve time: 0.00s\n",
            "Presolve: All rows and columns removed\n",
            "\n",
            "Explored 0 nodes (0 simplex iterations) in 0.01 seconds (0.00 work units)\n",
            "Thread count was 1 (of 16 available processors)\n",
            "\n",
            "Solution count 2: 47 53 \n",
            "\n",
            "Optimal solution found (tolerance 1.00e-04)\n",
            "Best objective 4.700000000000e+01, best bound 4.700000000000e+01, gap 0.0000%\n"
          ]
        }
      ],
      "source": [
        "# Optimize the model\n",
        "m.optimize()"
      ]
    },
    {
      "cell_type": "code",
      "execution_count": 21,
      "id": "47ed0708",
      "metadata": {
        "id": "47ed0708"
      },
      "outputs": [
        {
          "name": "stdout",
          "output_type": "stream",
          "text": [
            "Optimal objective value: 47.0\n",
            "\n",
            "Shipment plan:\n",
            "Ship 3.0 units from node 1 to node 2\n",
            "Ship 2.0 units from node 1 to node 3\n",
            "Ship 5.0 units from node 2 to node 3\n",
            "Ship 5.0 units from node 3 to node 4\n",
            "Ship 1.0 units from node 3 to node 5\n",
            "Ship 1.0 units from node 3 to node 6\n",
            "Ship 3.0 units from node 4 to node 5\n"
          ]
        }
      ],
      "source": [
        "print(f\"Optimal objective value: {m.objVal}\")\n",
        "\n",
        "print(\"\\nShipment plan:\")\n",
        "for o, d in x.keys():\n",
        "    if (abs(x[o, d].x) > 0): #Only print if not 0\n",
        "        print (f\"Ship {x[o,d].x} units from node {o} to node {d}\")"
      ]
    },
    {
      "cell_type": "markdown",
      "id": "bb89d6df",
      "metadata": {
        "id": "bb89d6df"
      },
      "source": [
        "Our mimimal transport cost is 47 and we have the flow for each arc given by the decision variables."
      ]
    },
    {
      "cell_type": "markdown",
      "id": "df76764a",
      "metadata": {
        "id": "df76764a"
      },
      "source": [
        "![slide2.png](https://i.ibb.co/wWYbzJw/download-1.png)"
      ]
    },
    {
      "cell_type": "markdown",
      "id": "05595392",
      "metadata": {
        "id": "05595392"
      },
      "source": [
        "## Second Transhipment point"
      ]
    },
    {
      "cell_type": "markdown",
      "id": "c79640fb",
      "metadata": {
        "id": "c79640fb"
      },
      "source": [
        "We have the opportunity to place a second transshipment point that is more centrally located. However there is a much higher fixed cost attached for using this point. Are the lower transport costs worth this?"
      ]
    },
    {
      "cell_type": "code",
      "execution_count": null,
      "id": "3e6eefc5",
      "metadata": {
        "id": "3e6eefc5"
      },
      "outputs": [],
      "source": [
        "#New transport cost OD matrix, with added transshipment point 7.\n",
        "#Lower transport costs to stores, higher from factories.\n",
        "C = {('1', '2'): 1,\n",
        "     ('1', '3'): 4,\n",
        "     ('1', '7'): 5,\n",
        "     ('2', '3'): 2,\n",
        "     ('2', '7'): 3,\n",
        "     ('3', '4'): 2,\n",
        "     ('3', '5'): 5,\n",
        "     ('3', '6'): 8,\n",
        "     ('4', '5'): 1,\n",
        "     ('7', '4'): 1,\n",
        "     ('7', '5'): 1,\n",
        "     ('7', '6'): 7}\n",
        "\n",
        "\n",
        "N = [str(i+1) for i in range(7)]\n",
        "N\n",
        "\n",
        "supply = [5, 2, 0, -2, -4, -1, 0]\n",
        "\n",
        "D = dict(zip(N, supply))\n",
        "D\n",
        "\n",
        "#New capacity OD matrix, with added transshipment point 7\n",
        "CAPACITY = { ('1', '2'): 3,\n",
        "             ('1', '3'): 3,\n",
        "             ('1', '7'): 3,\n",
        "             ('2', '3'): 7,\n",
        "             ('2', '7'): 7,\n",
        "             ('3', '4'): 5,\n",
        "             ('3', '5'): 7,\n",
        "             ('3', '6'): 1,\n",
        "             ('4', '5'): 3,\n",
        "             ('7', '4'): 5,\n",
        "             ('7', '5'): 7,\n",
        "             ('7', '6'): 1}\n",
        "\n",
        "#Cost for using a node\n",
        "node_costs = {'7' : 4, '3' : 1}\n",
        "\n",
        "E = [(i,j) for i in N for j in N if i in C.keys() if j in C[i].keys()]"
      ]
    },
    {
      "cell_type": "code",
      "execution_count": null,
      "id": "9e5a0c64",
      "metadata": {
        "id": "9e5a0c64"
      },
      "outputs": [],
      "source": [
        "# Define our new model\n",
        "m ="
      ]
    },
    {
      "cell_type": "code",
      "execution_count": null,
      "id": "ba4edfe0",
      "metadata": {
        "id": "ba4edfe0"
      },
      "outputs": [],
      "source": [
        "# Add decision variables\n",
        "x =\n",
        "x"
      ]
    },
    {
      "cell_type": "markdown",
      "id": "f9f16e9d",
      "metadata": {
        "id": "f9f16e9d"
      },
      "source": [
        "Add a new binary variable that indicates whether we use transhippment node 3 or 7"
      ]
    },
    {
      "cell_type": "code",
      "execution_count": null,
      "id": "b33f9c3d",
      "metadata": {
        "id": "b33f9c3d"
      },
      "outputs": [],
      "source": [
        "# Add new binary variable that indicates whether we use transshipment node 3 or 7\n",
        "y =\n",
        "y"
      ]
    },
    {
      "cell_type": "code",
      "execution_count": null,
      "id": "c1022937",
      "metadata": {
        "id": "c1022937"
      },
      "outputs": [],
      "source": [
        "#Set the objective function as the product of the flow number of each arch multipled by the cost of that arc.\n",
        "# Note that we now also added the unit costs of running either transhipment point 3 or 7\n"
      ]
    },
    {
      "cell_type": "markdown",
      "id": "ea0114bd",
      "metadata": {
        "id": "ea0114bd"
      },
      "source": [
        "Next we will again specify our flow conservation constraint in the network. For each node i in the system, we constrain the difference between the incoming flow and outgoing flow to be equal to the specified supply for that node."
      ]
    },
    {
      "cell_type": "code",
      "execution_count": null,
      "id": "de18f2ce",
      "metadata": {
        "id": "de18f2ce"
      },
      "outputs": [],
      "source": [
        "# Add flow constraint\n",
        "for i in N:\n"
      ]
    },
    {
      "cell_type": "markdown",
      "id": "20e57a79",
      "metadata": {
        "id": "20e57a79"
      },
      "source": [
        "To again constrain each arc at its capacity, we iterate through all the decision variables and add a constraint for each."
      ]
    },
    {
      "cell_type": "code",
      "execution_count": null,
      "id": "1d8cd86a",
      "metadata": {
        "id": "1d8cd86a"
      },
      "outputs": [],
      "source": [
        "# Add capacity constraint\n",
        "for (o, d), var in x.items():\n"
      ]
    },
    {
      "cell_type": "code",
      "execution_count": null,
      "id": "c35e8054",
      "metadata": {
        "id": "c35e8054"
      },
      "outputs": [],
      "source": [
        "network_capacity = sum(CAPACITY.values())\n",
        "#Adding linking constraints to limit the in and outgoing flow to 0, if that node is not being used.\n",
        "\n"
      ]
    },
    {
      "cell_type": "code",
      "execution_count": null,
      "id": "f5fd17ad",
      "metadata": {
        "id": "f5fd17ad"
      },
      "outputs": [],
      "source": [
        "y"
      ]
    },
    {
      "cell_type": "code",
      "execution_count": null,
      "id": "1adde8d9",
      "metadata": {
        "id": "1adde8d9"
      },
      "outputs": [],
      "source": [
        "# Optimize model\n"
      ]
    },
    {
      "cell_type": "code",
      "execution_count": null,
      "id": "687e31a9",
      "metadata": {
        "id": "687e31a9"
      },
      "outputs": [],
      "source": [
        "print(f\"Optimal objective value: {m.objVal}\")\n",
        "\n",
        "for n, var in y.items():\n",
        "    if (abs(var.x) > 0): #Only print if not 0\n",
        "        print (f\"Use transhipment point {n}\")\n",
        "print (\"Shipment plan\")\n",
        "for (o,d), var in x.items():\n",
        "    if (abs(var.x) > 0): #Only print if not 0\n",
        "        print (f\"Ship {x[o,d].x} units from node {o} to node {d}\")"
      ]
    },
    {
      "cell_type": "markdown",
      "id": "790c91f6",
      "metadata": {
        "id": "790c91f6"
      },
      "source": [
        "Running this model indicates that a solution with only node 7 has the lowest transport costs.\n",
        "This indicates that renting the space for more centrally located transhipment will pay itself back in savings on transport costs."
      ]
    }
  ],
  "metadata": {
    "colab": {
      "provenance": []
    },
    "kernelspec": {
      "display_name": "Python 3 (ipykernel)",
      "language": "python",
      "name": "python3"
    },
    "language_info": {
      "codemirror_mode": {
        "name": "ipython",
        "version": 3
      },
      "file_extension": ".py",
      "mimetype": "text/x-python",
      "name": "python",
      "nbconvert_exporter": "python",
      "pygments_lexer": "ipython3",
      "version": "3.10.1"
    },
    "vscode": {
      "interpreter": {
        "hash": "dc5f856df681cf36bc5efddcb2a84a2cd35056a6cd8ebd45133cbd641251ee46"
      }
    }
  },
  "nbformat": 4,
  "nbformat_minor": 5
}
