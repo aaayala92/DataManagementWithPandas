{
  "cells": [
    {
      "cell_type": "markdown",
      "metadata": {
        "id": "KQKcvi1kMGUn"
      },
      "source": [
        "# GoNuts Juice Company"
      ]
    },
    {
      "cell_type": "markdown",
      "metadata": {
        "id": "jPkSHnFYMGUq"
      },
      "source": [
        "## Objective and Prerequisites\n",
        "\n"
      ]
    },
    {
      "cell_type": "markdown",
      "metadata": {
        "id": "XvpHxj2qMGUr"
      },
      "source": [
        "## Problem description\n",
        "\n",
        "GoNuts manufactures different juices made entirely of various exotic nuts.Their primary market is China and they operate three plants located in Ethiopia,Tanzania, and Nigeria. You have been asked to help them determine where tomanufacture the two newest juices they offer, Gingko Nut and Kola Nut. Eachplant has a different variable cost structure and capacity for manufacturing the different juices. Also, each juice has an expected demand."
      ]
    },
    {
      "cell_type": "markdown",
      "metadata": {
        "id": "URVr2TXbMGUs"
      },
      "source": [
        "## Solution Approach\n",
        "\n",
        "Mathematical programming is a declarative approach where the modeler formulates a mathematical optimization model that captures the key aspects of a complex business problem. The Gurobi Optimizer solves such models using state-of-the-art mathematics and computer science.\n",
        "\n",
        "A mathematical optimization model has five components, namely:\n",
        "\n",
        "* Sets and indices.\n",
        "* Parameters.\n",
        "* Decision variables.\n",
        "* Objective function(s).\n",
        "* Constraints.\n",
        "\n",
        "We now present a MIP formulation for the facility location problem."
      ]
    },
    {
      "cell_type": "markdown",
      "metadata": {
        "id": "Plq3ryuQMGUs"
      },
      "source": [
        "## Model Formulation\n",
        "\n",
        "### Sets and Indices\n",
        "\n",
        "$j \\in Plants$: Index and set of plant location: Ethiopia, Tanzania, Nigeria.\n",
        "\n",
        "$i \\in Products$: Index and set of products: Ginko and Kola.\n",
        "\n",
        "### Decision Variables\n",
        "\n",
        "$0 \\geq x_{i,j}$: This non-negative continuous variable determines the number of products made at plant $i \\in Plants$ of product $j \\in Products$.\n",
        "\n",
        "$y_{j} \\in \\{0, 1 \\}$: This variable is equal to 1 if we open the plant at location $j \\in J$; and 0 otherwise.\n",
        "\n",
        "### Objective Function\n",
        "\n",
        "For the different variants of GoNuts we use two different objective functions\n",
        "\n",
        "- **Variable costs**\n",
        "\\begin{equation}\n",
        "Min\\;z = \\sum_i \\sum_j c_{ij} x_{ij}\n",
        "\\end{equation}\n",
        "\n",
        "Where $C_{ij}$ is the cost to produce product $j$ at location $i$ and $x_{ij}$ the number of units produced of product $i$ at location $j$\n",
        "\n",
        "- **Variable costs + Fixed Plant Costs**\n",
        "\n",
        "\\begin{equation*}\n",
        "Min\\;z = \\sum_i \\sum_j c_{ij} x_{ij} + \\sum_j f_j y_j\n",
        "\\end{equation*}\n",
        "\n",
        "Where $C_{ij}$ is the cost to produce product $j$ at location $i$ and $x_{ij}$ the number of units produced of product $i$ at location $j$. $f_j$ is the fixed cost to open location $j$ and $y_j$ whether the plant is opened or not.\n",
        "\n",
        "### Constraints\n",
        "\n",
        "For the different variants we need at least the following constraints\n",
        "\n",
        "- **Demand**. For each product $i \\in Products$ ensure that its demand is fulfilled. That is, the sum of the products received of each product from all plants must be equal to minimal demand $D_i$:\n",
        "\n",
        "\\begin{equation*}\n",
        "    \\sum_{j} x_{ij}  >= D_i \\;\\; \\forall i\n",
        "\\end{equation*}\n",
        "\n",
        "- **Capacity**. We need to ensure that we can only ship from facility $j \\in Plants$ up to the maximal capacity $c_j$\n",
        "\n",
        "\\begin{equation*}\n",
        "    \\sum_{i} x_{ij}  <= c_j \\;\\; \\forall j\n",
        "\\end{equation*}\n",
        "\n",
        "\n",
        "For some variants we need one or more of the following constraints:\n",
        "\n",
        "- **Linking**\n",
        "In this linking constraint multiplies the binary decision variable $y_j$ (0,1) with the capacity of the plant to link the binary variable with the continuous decision variable.\n",
        "Any value of $X_{ij}$ can only be positive if $y_j$ is 1 as any other value would lead to a right hand side that is $> 0$\n",
        "\n",
        "\\begin{equation*}\n",
        "    \\sum_{i} x_{ij} - My_j  <= 0 \\;\\; \\forall j\n",
        "\\end{equation*}\n",
        "\n",
        "- **Mimimal production**\n",
        "\n",
        "\\begin{equation*}\n",
        "    \\sum_{i} x_{ij} >= L_j y_j   \\;\\; \\forall j\n",
        "\\end{equation*}\n",
        "Where $L_j$ is the minimum level of production at plant $j$.\n",
        "\n",
        "- **Maximum number of plants**\n",
        "\n",
        "\\begin{equation*}\n",
        "    \\sum_{j} y_{j} <= N\n",
        "\\end{equation*}\n",
        "\n",
        "The sum of decision variable $y_j$ is the number of plants in use.\n"
      ]
    },
    {
      "cell_type": "code",
      "execution_count": 1,
      "metadata": {
        "id": "GVW3NYypMGUu"
      },
      "outputs": [
        {
          "name": "stdout",
          "output_type": "stream",
          "text": [
            "Requirement already satisfied: gurobipy in c:\\users\\artur\\appdata\\local\\programs\\python\\python310\\lib\\site-packages (10.0.2)\n"
          ]
        },
        {
          "name": "stderr",
          "output_type": "stream",
          "text": [
            "WARNING: You are using pip version 21.2.4; however, version 23.2.1 is available.\n",
            "You should consider upgrading via the 'C:\\Users\\artur\\AppData\\Local\\Programs\\Python\\Python310\\python.exe -m pip install --upgrade pip' command.\n"
          ]
        }
      ],
      "source": [
        "!pip install gurobipy"
      ]
    },
    {
      "cell_type": "code",
      "execution_count": 2,
      "metadata": {
        "id": "ayX0FNxFMGUv"
      },
      "outputs": [],
      "source": [
        "from itertools import product\n",
        "from math import sqrt\n",
        "\n",
        "import gurobipy as gp\n",
        "from gurobipy import GRB\n",
        "\n",
        "# tested with Gurobi v9.1.0 and Python 3.7.0"
      ]
    },
    {
      "cell_type": "markdown",
      "metadata": {
        "id": "N0qgqtVHMGUw"
      },
      "source": [
        "### Model Deployment\n",
        "\n",
        "We now determine the MIP model for the gonuts problems, by defining the decision variables, constraints, and objective function. Next, we start the optimization process and Gurobi finds the plan to build facilities that minimizes total costs."
      ]
    },
    {
      "cell_type": "markdown",
      "metadata": {
        "id": "3YmK7KMaBeq_"
      },
      "source": [
        "### GoNuts 1\n",
        "\n",
        "In GoNuts 1 we simply look at the best production plant that fits capacity and meets demand."
      ]
    },
    {
      "cell_type": "code",
      "execution_count": 3,
      "metadata": {
        "id": "MQv8CHDhCLw6"
      },
      "outputs": [
        {
          "data": {
            "text/plain": [
              "[('Ethiopia', 'Ginko'),\n",
              " ('Ethiopia', 'Kola'),\n",
              " ('Tanzania', 'Ginko'),\n",
              " ('Tanzania', 'Kola'),\n",
              " ('Nigeria', 'Ginko'),\n",
              " ('Nigeria', 'Kola')]"
            ]
          },
          "execution_count": 3,
          "metadata": {},
          "output_type": "execute_result"
        }
      ],
      "source": [
        "PLANTS = ['Ethiopia', 'Tanzania','Nigeria']\n",
        "PRODUCTS = ['Ginko','Kola']\n",
        "cartesian_prod = list(product(PLANTS, PRODUCTS))\n",
        "cartesian_prod"
      ]
    },
    {
      "cell_type": "code",
      "execution_count": 4,
      "metadata": {
        "id": "65YGJpzsDBmO"
      },
      "outputs": [],
      "source": [
        "#Table with production costs as dictionary with tuple (Plant, Product) as key to the unit cost.\n",
        "# You can access with UNIT_COST[('Ethiopia','Ginko')]\n",
        "\n",
        "UNIT_COST = { ('Ethiopia', 'Ginko'): 21,\n",
        "              ('Ethiopia', 'Kola'): 22.5,\n",
        "              ('Tanzania', 'Ginko'): 22.5,\n",
        "              ('Tanzania', 'Kola'): 24.5,\n",
        "              ('Nigeria', 'Ginko'): 23,\n",
        "              ('Nigeria', 'Kola'): 25.5}"
      ]
    },
    {
      "cell_type": "code",
      "execution_count": 5,
      "metadata": {
        "id": "VEkRuE36DYec"
      },
      "outputs": [],
      "source": [
        "#We store capacity as a simple dictionary with plant as key\n",
        "CAPACITY = {'Ethiopia'  : 425,\n",
        "            'Tanzania'  : 400,\n",
        "            'Nigeria'   : 750}"
      ]
    },
    {
      "cell_type": "code",
      "execution_count": 6,
      "metadata": {
        "id": "Td_3b-eWDbPE"
      },
      "outputs": [],
      "source": [
        "#We store demand as a simple dictionary with product as key\n",
        "DEMAND = {'Ginko' : 550,\n",
        "          'Kola'  : 450}"
      ]
    },
    {
      "cell_type": "code",
      "execution_count": 7,
      "metadata": {
        "id": "DLOfUkjZCTpZ"
      },
      "outputs": [
        {
          "name": "stdout",
          "output_type": "stream",
          "text": [
            "Restricted license - for non-production use only - expires 2024-10-28\n"
          ]
        },
        {
          "data": {
            "text/plain": [
              "{('Ethiopia', 'Ginko'): <gurobi.Var *Awaiting Model Update*>,\n",
              " ('Ethiopia', 'Kola'): <gurobi.Var *Awaiting Model Update*>,\n",
              " ('Tanzania', 'Ginko'): <gurobi.Var *Awaiting Model Update*>,\n",
              " ('Tanzania', 'Kola'): <gurobi.Var *Awaiting Model Update*>,\n",
              " ('Nigeria', 'Ginko'): <gurobi.Var *Awaiting Model Update*>,\n",
              " ('Nigeria', 'Kola'): <gurobi.Var *Awaiting Model Update*>}"
            ]
          },
          "execution_count": 7,
          "metadata": {},
          "output_type": "execute_result"
        }
      ],
      "source": [
        "#Define model\n",
        "m = gp.Model('GoNuts1')\n",
        "\n",
        "# Add variables for each plant and product combination.\n",
        "# X will be a dictionary with (plant, product) as a key.\n",
        "X = m.addVars(cartesian_prod, vtype=GRB.CONTINUOUS, name='PRODUCT_MADE')\n",
        "X"
      ]
    },
    {
      "cell_type": "code",
      "execution_count": 8,
      "metadata": {
        "id": "iMlvC7YYEuXQ"
      },
      "outputs": [],
      "source": [
        "#Set objective function to to the product of number of units produced times unit costs.\n",
        "# Multiply the number of units product made with production cost in dictionary\n",
        "# Since X and UNIT_COST have the same keys, Gurobi can pull the values from UNIT_COST\n",
        "m.setObjective(X.prod(UNIT_COST), GRB.MINIMIZE)"
      ]
    },
    {
      "cell_type": "code",
      "execution_count": 9,
      "metadata": {
        "id": "45R499XJCteK"
      },
      "outputs": [
        {
          "data": {
            "text/plain": [
              "{'Ethiopia': <gurobi.Constr *Awaiting Model Update*>,\n",
              " 'Tanzania': <gurobi.Constr *Awaiting Model Update*>,\n",
              " 'Nigeria': <gurobi.Constr *Awaiting Model Update*>}"
            ]
          },
          "execution_count": 9,
          "metadata": {},
          "output_type": "execute_result"
        }
      ],
      "source": [
        "# Add constraint to cap the output from each plant\n",
        "# at the maximum capacity of each plant.\n",
        "# This generator below creates a constraint with the capacity for each plant\n",
        "m.addConstrs((X.sum(plant)<=CAPACITY[plant] for plant in PLANTS),name='Capacity')\n",
        "\n",
        "#And would be equivalent to the following for-loop\n",
        "#for plant in PLANTS:\n",
        "#  m.addConstr(X.sum(plant) <= CAPACITY[plant], name='Capacity_'+plant)"
      ]
    },
    {
      "cell_type": "code",
      "execution_count": 10,
      "metadata": {
        "id": "Lnm8KdBXEOJm"
      },
      "outputs": [
        {
          "data": {
            "text/plain": [
              "{'Ginko': <gurobi.Constr *Awaiting Model Update*>,\n",
              " 'Kola': <gurobi.Constr *Awaiting Model Update*>}"
            ]
          },
          "execution_count": 10,
          "metadata": {},
          "output_type": "execute_result"
        }
      ],
      "source": [
        "# Add constraint to make sure the demand for each product is met.\n",
        "m.addConstrs((X.sum('*',product)>= DEMAND[product] for product in PRODUCTS), name='Demand')"
      ]
    },
    {
      "cell_type": "code",
      "execution_count": 15,
      "metadata": {
        "id": "ywSy3c1zEcZu"
      },
      "outputs": [],
      "source": [
        "#You can write your model to a text file 'gonuts1.lp' that you can look at.\n",
        "m.write('gonuts1.lp')"
      ]
    },
    {
      "cell_type": "code",
      "execution_count": 16,
      "metadata": {
        "id": "pEC_9GvwKCp3"
      },
      "outputs": [
        {
          "name": "stdout",
          "output_type": "stream",
          "text": [
            "\\ Model GoNuts1\n",
            "\\ LP format - for model browsing. Use MPS format to capture full model detail.\n",
            "Minimize\n",
            "  21 PRODUCT_MADE[Ethiopia,Ginko] + 22.5 PRODUCT_MADE[Ethiopia,Kola]\n",
            "   + 22.5 PRODUCT_MADE[Tanzania,Ginko] + 24.5 PRODUCT_MADE[Tanzania,Kola]\n",
            "   + 23 PRODUCT_MADE[Nigeria,Ginko] + 25.5 PRODUCT_MADE[Nigeria,Kola]\n",
            "Subject To\n",
            " Capacity[Ethiopia]: PRODUCT_MADE[Ethiopia,Ginko]\n",
            "   + PRODUCT_MADE[Ethiopia,Kola] <= 425\n",
            " Capacity[Tanzania]: PRODUCT_MADE[Tanzania,Ginko]\n",
            "   + PRODUCT_MADE[Tanzania,Kola] <= 400\n",
            " Capacity[Nigeria]: PRODUCT_MADE[Nigeria,Ginko]\n",
            "   + PRODUCT_MADE[Nigeria,Kola] <= 750\n",
            " Demand[Ginko]: PRODUCT_MADE[Ethiopia,Ginko] + PRODUCT_MADE[Tanzania,Ginko]\n",
            "   + PRODUCT_MADE[Nigeria,Ginko] >= 550\n",
            " Demand[Kola]: PRODUCT_MADE[Ethiopia,Kola] + PRODUCT_MADE[Tanzania,Kola]\n",
            "   + PRODUCT_MADE[Nigeria,Kola] >= 450\n",
            "Bounds\n",
            "End\n",
            "\n"
          ]
        }
      ],
      "source": [
        "# Read model formulation\n",
        "with open('gonuts1.lp') as f:\n",
        "  print (f.read())"
      ]
    },
    {
      "cell_type": "code",
      "execution_count": 13,
      "metadata": {
        "id": "p9rh7S25EhEe"
      },
      "outputs": [
        {
          "name": "stdout",
          "output_type": "stream",
          "text": [
            "Gurobi Optimizer version 10.0.2 build v10.0.2rc0 (win64)\n",
            "\n",
            "CPU model: AMD Ryzen 7 4800H with Radeon Graphics, instruction set [SSE2|AVX|AVX2]\n",
            "Thread count: 8 physical cores, 16 logical processors, using up to 16 threads\n",
            "\n",
            "Optimize a model with 5 rows, 6 columns and 12 nonzeros\n",
            "Model fingerprint: 0x89c3c709\n",
            "Coefficient statistics:\n",
            "  Matrix range     [1e+00, 1e+00]\n",
            "  Objective range  [2e+01, 3e+01]\n",
            "  Bounds range     [0e+00, 0e+00]\n",
            "  RHS range        [4e+02, 8e+02]\n",
            "Presolve time: 0.01s\n",
            "Presolved: 5 rows, 6 columns, 12 nonzeros\n",
            "\n",
            "Iteration    Objective       Primal Inf.    Dual Inf.      Time\n",
            "       0    0.0000000e+00   1.000000e+03   0.000000e+00      0s\n",
            "       5    2.2637500e+04   0.000000e+00   0.000000e+00      0s\n",
            "\n",
            "Solved in 5 iterations and 0.01 seconds (0.00 work units)\n",
            "Optimal objective  2.263750000e+04\n"
          ]
        }
      ],
      "source": [
        "#Optimize model\n",
        "m.optimize()"
      ]
    },
    {
      "cell_type": "code",
      "execution_count": 14,
      "metadata": {
        "id": "DF56ktO2EjL2"
      },
      "outputs": [
        {
          "name": "stdout",
          "output_type": "stream",
          "text": [
            "Optimal objective value: 22637.5\n",
            "\n",
            "Production plan:\n",
            "Plant Ethiopia produces 425.0 of Kola .\n",
            "Plant Tanzania produces 375.0 of Ginko .\n",
            "Plant Tanzania produces 25.0 of Kola .\n",
            "Plant Nigeria produces 175.0 of Ginko .\n"
          ]
        }
      ],
      "source": [
        "print(f\"Optimal objective value: {m.objVal}\")\n",
        "\n",
        "print(\"\\nProduction plan:\")\n",
        "for (plant, product), var in X.items():\n",
        "    if (abs(var.x) > 0): #Only print if not 0\n",
        "        print(f\"Plant {plant} produces {var.x} of {product} .\")"
      ]
    },
    {
      "cell_type": "markdown",
      "metadata": {
        "id": "j4Y-7cjuGh4J"
      },
      "source": [
        "### GoNuts 2\n",
        "\n",
        "In GoNuts2 we add a fixed cost structure to incorporate the costs to open a plant."
      ]
    },
    {
      "cell_type": "code",
      "execution_count": 18,
      "metadata": {
        "id": "E152wlVpGfZ5"
      },
      "outputs": [],
      "source": [
        "#Store plant costs as cost with plant name as key\n",
        "PLANT_COST = {'Ethiopia'  : 1500,\n",
        "               'Tanzania'  : 2000,\n",
        "               'Nigeria'   : 3000}"
      ]
    },
    {
      "cell_type": "code",
      "execution_count": 19,
      "metadata": {
        "id": "Xb3J9mUCOp_W"
      },
      "outputs": [],
      "source": [
        "# MIP  model formulation\n",
        "m = gp.Model('GoNuts2')\n",
        "\n",
        "#Add variables\n",
        "X =m.addVars(cartesian_prod, vtype=GRB.CONTINUOUS, name='PRODUCT_MADE')\n",
        "# We add an additional binary decision variable\n",
        "# that tracks wether an plant is open\n",
        "y = m.addVars(PLANTS, vtype=GRB.BINARY, name='PLANT_OPEN')"
      ]
    },
    {
      "cell_type": "code",
      "execution_count": 20,
      "metadata": {
        "id": "WyOLawnTHAqU"
      },
      "outputs": [],
      "source": [
        "# Add constraint to maximize the output from each plant\n",
        "# at the maximum capacity of each plant.\n",
        "# This generator below creates a constraint with the capacity for each plant\n"
      ]
    },
    {
      "cell_type": "code",
      "execution_count": 21,
      "metadata": {
        "id": "-Wu2Kc0FH7zF"
      },
      "outputs": [],
      "source": [
        "# Add constraint to make sure the demand for each product is met.\n"
      ]
    },
    {
      "cell_type": "code",
      "execution_count": 22,
      "metadata": {
        "id": "QMetTQOiSPLQ"
      },
      "outputs": [
        {
          "data": {
            "text/plain": [
              "{'Ethiopia': <gurobi.Constr *Awaiting Model Update*>,\n",
              " 'Tanzania': <gurobi.Constr *Awaiting Model Update*>,\n",
              " 'Nigeria': <gurobi.Constr *Awaiting Model Update*>}"
            ]
          },
          "execution_count": 22,
          "metadata": {},
          "output_type": "execute_result"
        }
      ],
      "source": [
        "#Linking\n",
        "#m.addConstrs((X.sum(plant) - y.prod(CAPACITY) <= 0 for plant in PLANTS), name='Linking')\n",
        "# The following line of code would do the same effectively.\n",
        "m.addConstrs((X.sum(plant) - y[plant]*CAPACITY[plant] <= 0 for plant in PLANTS), name='Linking')\n"
      ]
    },
    {
      "cell_type": "code",
      "execution_count": 23,
      "metadata": {
        "id": "ziJSzp5ZHczK"
      },
      "outputs": [],
      "source": [
        "#We now include the plant cost in the objective function.\n",
        "m.setObjective(X.prod(UNIT_COST) + y.prod(PLANT_COST), GRB.MINIMIZE)"
      ]
    },
    {
      "cell_type": "code",
      "execution_count": 28,
      "metadata": {
        "id": "vAZRnTYmHRka"
      },
      "outputs": [],
      "source": [
        "#Write your model to a text file 'gonuts2.lp' that you can look at.\n",
        "m.write('gonuts2.lp')"
      ]
    },
    {
      "cell_type": "code",
      "execution_count": 29,
      "metadata": {
        "id": "QK_D951gZKCb"
      },
      "outputs": [
        {
          "name": "stdout",
          "output_type": "stream",
          "text": [
            "\\ Model GoNuts2\n",
            "\\ LP format - for model browsing. Use MPS format to capture full model detail.\n",
            "Minimize\n",
            "  21 PRODUCT_MADE[Ethiopia,Ginko] + 22.5 PRODUCT_MADE[Ethiopia,Kola]\n",
            "   + 22.5 PRODUCT_MADE[Tanzania,Ginko] + 24.5 PRODUCT_MADE[Tanzania,Kola]\n",
            "   + 23 PRODUCT_MADE[Nigeria,Ginko] + 25.5 PRODUCT_MADE[Nigeria,Kola]\n",
            "   + 1500 PLANT_OPEN[Ethiopia] + 2000 PLANT_OPEN[Tanzania]\n",
            "   + 3000 PLANT_OPEN[Nigeria]\n",
            "Subject To\n",
            " Linking[Ethiopia]: PRODUCT_MADE[Ethiopia,Ginko]\n",
            "   + PRODUCT_MADE[Ethiopia,Kola] - 425 PLANT_OPEN[Ethiopia] <= 0\n",
            " Linking[Tanzania]: PRODUCT_MADE[Tanzania,Ginko]\n",
            "   + PRODUCT_MADE[Tanzania,Kola] - 400 PLANT_OPEN[Tanzania] <= 0\n",
            " Linking[Nigeria]: PRODUCT_MADE[Nigeria,Ginko] + PRODUCT_MADE[Nigeria,Kola]\n",
            "   - 750 PLANT_OPEN[Nigeria] <= 0\n",
            "Bounds\n",
            "Binaries\n",
            " PLANT_OPEN[Ethiopia] PLANT_OPEN[Tanzania] PLANT_OPEN[Nigeria]\n",
            "End\n",
            "\n"
          ]
        }
      ],
      "source": [
        "#Read your model formulation\n",
        "with open('gonuts2.lp') as f:\n",
        "  print (f.read())"
      ]
    },
    {
      "cell_type": "code",
      "execution_count": 30,
      "metadata": {
        "id": "ylCnQ4DkHR7v"
      },
      "outputs": [
        {
          "name": "stdout",
          "output_type": "stream",
          "text": [
            "Gurobi Optimizer version 10.0.2 build v10.0.2rc0 (win64)\n",
            "\n",
            "CPU model: AMD Ryzen 7 4800H with Radeon Graphics, instruction set [SSE2|AVX|AVX2]\n",
            "Thread count: 8 physical cores, 16 logical processors, using up to 16 threads\n",
            "\n",
            "Optimize a model with 3 rows, 9 columns and 9 nonzeros\n",
            "Model fingerprint: 0xa15e06e7\n",
            "Variable types: 6 continuous, 3 integer (3 binary)\n",
            "Coefficient statistics:\n",
            "  Matrix range     [1e+00, 8e+02]\n",
            "  Objective range  [2e+01, 3e+03]\n",
            "  Bounds range     [1e+00, 1e+00]\n",
            "  RHS range        [0e+00, 0e+00]\n",
            "\n",
            "\n",
            "\n",
            "Explored 0 nodes (0 simplex iterations) in 0.02 seconds (0.00 work units)\n",
            "Thread count was 1 (of 16 available processors)\n",
            "\n",
            "Solution count 1: 0 \n",
            "\n",
            "Optimal solution found (tolerance 1.00e-04)\n",
            "Best objective 0.000000000000e+00, best bound 0.000000000000e+00, gap 0.0000%\n"
          ]
        }
      ],
      "source": [
        "#Optimize model\n",
        "m.optimize()"
      ]
    },
    {
      "cell_type": "code",
      "execution_count": 27,
      "metadata": {
        "id": "HWx6D6PtHSJC"
      },
      "outputs": [
        {
          "name": "stdout",
          "output_type": "stream",
          "text": [
            "Optimal objective value: 0.0\n",
            "\n",
            "Production plan:\n"
          ]
        }
      ],
      "source": [
        "print(f\"Optimal objective value: {m.objVal}\")\n",
        "for plant,var in y.items():\n",
        "    if (abs(var.x) > 0): #Only print if not 0\n",
        "        print(f\"Use plant {plant}.\")\n",
        "print(\"\\nProduction plan:\")\n",
        "for (plant, product), var in X.items():\n",
        "    if (abs(var.x) > 0): #Only print if not 0\n",
        "        print(f\"Plant {plant} produces {var.x} of {product} .\")"
      ]
    },
    {
      "cell_type": "markdown",
      "metadata": {
        "id": "BSgkJ9UDIKYF"
      },
      "source": [
        "### GoNuts 3\n",
        "\n",
        "In GoNuts 3 we want to ensure that a miminal production takes place at each plant so we remain cost effective."
      ]
    },
    {
      "cell_type": "code",
      "execution_count": null,
      "metadata": {
        "id": "BiBOqzEqJCZ0"
      },
      "outputs": [],
      "source": [
        "#Store minimal production with plant name as key\n",
        "MIN_PRODUCTION = {'Ethiopia'  : 100,\n",
        "                  'Tanzania'  : 250,\n",
        "                  'Nigeria'   : 600}"
      ]
    },
    {
      "cell_type": "code",
      "execution_count": null,
      "metadata": {
        "id": "ytugJyWnIImj"
      },
      "outputs": [],
      "source": [
        "# MIP  model formulation\n",
        "m =\n",
        "\n",
        "#Add variables\n",
        "X =\n",
        "# We add an additional binary decision variable\n",
        "# that tracks wether an plant is open\n",
        "y =\n",
        "\n",
        "#We keep the same objective function as the previous 2 models.\n",
        "\n",
        "\n",
        "# Add constraint to maximize the output from each plant\n",
        "# at the maximum capacity of each plant.\n",
        "# This generator below creates a constraint with the capacity for each plant\n",
        "\n",
        "\n",
        "# Add constraint to make sure the demand for each product is met.\n",
        "\n",
        "\n",
        "#Linking\n"
      ]
    },
    {
      "cell_type": "code",
      "execution_count": null,
      "metadata": {
        "id": "Zx_2GRhDIIdV"
      },
      "outputs": [],
      "source": [
        "# Minimal production constraint per plant\n",
        "# For each plant we require that the production\n",
        "# of either types is above the minimums if we open that plant.\n",
        "# If the plant is closed and y is 0, than production can be 0\n",
        "\n"
      ]
    },
    {
      "cell_type": "code",
      "execution_count": null,
      "metadata": {
        "id": "SLjK9s5kLmQT"
      },
      "outputs": [],
      "source": [
        "# Write model to file 'gonuts3.lp'\n"
      ]
    },
    {
      "cell_type": "code",
      "execution_count": null,
      "metadata": {
        "id": "JG2ry3DbZ8ip"
      },
      "outputs": [],
      "source": [
        "# Read model formulation\n",
        "with open('gonuts3.lp') as f:\n",
        "  print (f.read())"
      ]
    },
    {
      "cell_type": "code",
      "execution_count": null,
      "metadata": {
        "id": "ObWc9IZmGAwQ"
      },
      "outputs": [],
      "source": [
        "# Optimize model\n"
      ]
    },
    {
      "cell_type": "code",
      "execution_count": null,
      "metadata": {
        "id": "dMVlY24qIzh7"
      },
      "outputs": [],
      "source": [
        "print(f\"Optimal objective value: {m.objVal}\")\n",
        "for plant,var in y.items():\n",
        "    if (abs(var.x) > 0): #Only print if not 0\n",
        "        print(f\"Use plant {plant}.\")\n",
        "print(\"\\nProduction plan:\")\n",
        "for (plant, product), var in X.items():\n",
        "    if (abs(var.x) > 0): #Only print if not 0\n",
        "        print(f\"Plant {plant} produces {var.x} of {product} .\")"
      ]
    },
    {
      "cell_type": "markdown",
      "metadata": {
        "id": "bHwilRfIYpIW"
      },
      "source": [
        "The Gurobi log provided indicates the successful optimization of a mathematical model using the Gurobi solver. Let's break down the key elements in the log:\n",
        "\n",
        "- Gurobi Version Information:\n",
        "\n",
        "  This section provides information about the Gurobi solver version, including the version number and build details. It also mentions the CPU model and thread count.\n",
        "- Model Information:\n",
        "\n",
        "  It describes the optimization model being solved:\n",
        "  The model has 11 rows (constraints), 9 columns (variables), and 30 non-zero coefficients in its constraint matrix.\n",
        "  The variable types consist of 9 integer variables (including 3 binary) and 0 continuous variables.\n",
        "  Coefficient statistics provide information about the range of coefficient values in the model, objective function coefficients, variable bounds, and right-hand side (RHS) values for constraints.\n",
        "  The presolve phase removed 3 rows and 1 column, which often simplifies the problem by eliminating redundant or unnecessary constraints or variables.\n",
        "  Presolve time indicates the time taken for the presolve phase, which aims to simplify the problem without affecting its optimal solution.\n",
        "- Initial Heuristic Solution:\n",
        "\n",
        "  The solver found an initial heuristic solution with an objective value of 27925. This is often obtained using heuristic algorithms to provide an initial starting point for the optimization process.\n",
        "- Root Relaxation:\n",
        "\n",
        "   Before the solver enters the main branch-and-bound process, it performs a relaxation of the original problem called the \"root relaxation.\" This relaxation allows integer variables to take non-integer values, essentially treating them as continuous variables.\n",
        "  The result of the root relaxation is an objective value of approximately 27257.35 after 6 simplex iterations.\n",
        "- Node Exploration:\n",
        "\n",
        "  The solver proceeds to explore nodes in a branch-and-bound search tree.\n",
        "  The \"Nodes\" column indicates the number of nodes explored.\n",
        "  The \"Current Node\" column provides details about the current node being explored.\n",
        "  The \"Objective Bounds\" column displays the current best-known upper and lower bounds on the objective function value.\n",
        "  The \"Gap\" represents the optimality gap, which measures how close the current best solution is to the lower bound.\n",
        "  The \"It/Node\" column indicates the average number of simplex iterations performed per node.\n",
        "  In this case, the solver found an optimal solution with an objective value of 27425, meeting the specified optimality tolerance (1.00e-04).\n",
        "- Thread Information:\n",
        "\n",
        "  The solver utilized 2 threads out of the 2 available processors for parallel processing.\n",
        "- Solution Summary:\n",
        "\n",
        "  The \"Solution count\" indicates that the solver found two solutions during the optimization process.\n",
        "  The \"Optimal solution found\" message confirms that an optimal solution was found within the specified tolerance.\n",
        "  \"Best objective\" provides the final optimal objective function value, which is approximately 27425, and indicates that the optimality gap is 0.0000%, meaning that the solver proved that the solution is indeed optimal within the specified tolerance.\n",
        "\n",
        "In summary, the Gurobi log demonstrates that the solver successfully found an optimal solution to the optimization problem, with an objective value of approximately 27425, meeting the specified optimality tolerance. The Simplex algorithm played a crucial role in this process, especially in the root relaxation and node exploration phases, where it iteratively improved the objective function value while respecting the problem's constraints.\n",
        "\n",
        "(Interpretation by ChatGPT)\n"
      ]
    },
    {
      "cell_type": "markdown",
      "metadata": {
        "id": "J368p__fM5I6"
      },
      "source": [
        "### GoNuts 4\n",
        "\n",
        "Constrain the maximum number of plants"
      ]
    },
    {
      "cell_type": "code",
      "execution_count": null,
      "metadata": {
        "id": "3GC3OFxZNQYq"
      },
      "outputs": [],
      "source": [
        "MAX_NUMBER_OF_PLANTS = 2"
      ]
    },
    {
      "cell_type": "code",
      "execution_count": null,
      "metadata": {
        "id": "5RZ-kCOPM4gI"
      },
      "outputs": [],
      "source": [
        "# MIP  model formulation\n",
        "m =\n",
        "\n",
        "#Add variables\n",
        "X =\n",
        "# We add an additional binary decision variable\n",
        "# that tracks wether an plant is open\n",
        "y =\n",
        "\n",
        "#Unlike the previous 2 mondels, our objective function again only looks at\n",
        "# the variable cost per unit.\n",
        "\n",
        "\n",
        "# Add constraint to maximize the output from each plant\n",
        "# at the maximum capacity of each plant.\n",
        "# This generator below creates a constraint with the capacity for each plant\n",
        "\n",
        "\n",
        "# Add constraint to make sure the demand for each product is met.\n",
        "\n",
        "\n",
        "#Linking\n"
      ]
    },
    {
      "cell_type": "code",
      "execution_count": null,
      "metadata": {
        "id": "aScOe6nIN4ZP"
      },
      "outputs": [],
      "source": [
        "#We now add a constraint that take the sum of the binary (1,0) variables\n",
        "# whether a plant is open or not and constraint that our\n",
        "# set max number of plants\n"
      ]
    },
    {
      "cell_type": "code",
      "execution_count": null,
      "metadata": {
        "id": "PiqSAatHNYCK"
      },
      "outputs": [],
      "source": [
        "# Write model to file 'gonuts4.lp'\n"
      ]
    },
    {
      "cell_type": "code",
      "execution_count": null,
      "metadata": {
        "id": "jCXLPykoafZE"
      },
      "outputs": [],
      "source": [
        "# Read model\n",
        "with open('gonuts4.lp') as f:\n",
        "  print (f.read())"
      ]
    },
    {
      "cell_type": "code",
      "execution_count": null,
      "metadata": {
        "id": "KJnVWkIWNWbc"
      },
      "outputs": [],
      "source": [
        "# Optimize model\n"
      ]
    },
    {
      "cell_type": "code",
      "execution_count": null,
      "metadata": {
        "id": "a0zytD4fNU2t"
      },
      "outputs": [],
      "source": [
        "print(f\"Optimal objective value: {m.objVal}\")\n",
        "for plant,var in y.items():\n",
        "    if (abs(var.x) > 0): #Only print if not 0\n",
        "        print(f\"Use plant {plant}.\")\n",
        "print(\"\\nProduction plan:\")\n",
        "for (plant, product), var in X.items():\n",
        "    if (abs(var.x) > 0): #Only print if not 0\n",
        "        print(f\"Plant {plant} produces {var.x} of {product} .\")"
      ]
    },
    {
      "cell_type": "markdown",
      "metadata": {
        "id": "4nw3gD9gM6q0"
      },
      "source": [
        "## Acknowledgements\n",
        "\n",
        "GoNuts is an example created by Chris Caplice and and the MITx MicroMasters® Program in Supply Chain Management"
      ]
    }
  ],
  "metadata": {
    "colab": {
      "provenance": [],
      "toc_visible": true
    },
    "kernelspec": {
      "display_name": "Python 3",
      "language": "python",
      "name": "python3"
    },
    "language_info": {
      "codemirror_mode": {
        "name": "ipython",
        "version": 3
      },
      "file_extension": ".py",
      "mimetype": "text/x-python",
      "name": "python",
      "nbconvert_exporter": "python",
      "pygments_lexer": "ipython3",
      "version": "3.10.1"
    }
  },
  "nbformat": 4,
  "nbformat_minor": 0
}
