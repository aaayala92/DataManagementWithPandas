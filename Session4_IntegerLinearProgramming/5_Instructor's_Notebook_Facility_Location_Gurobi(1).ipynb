{
  "cells": [
    {
      "cell_type": "code",
      "execution_count": 1,
      "id": "FuU1dOoS9hZ5",
      "metadata": {
        "colab": {
          "base_uri": "https://localhost:8080/"
        },
        "id": "FuU1dOoS9hZ5",
        "outputId": "e89c70ff-5e4f-4847-d9e9-a1eda2e5e266"
      },
      "outputs": [
        {
          "name": "stdout",
          "output_type": "stream",
          "text": [
            "Requirement already satisfied: gurobipy in c:\\users\\artur\\appdata\\local\\programs\\python\\python310\\lib\\site-packages (10.0.2)\n"
          ]
        },
        {
          "name": "stderr",
          "output_type": "stream",
          "text": [
            "WARNING: You are using pip version 21.2.4; however, version 23.2.1 is available.\n",
            "You should consider upgrading via the 'C:\\Users\\artur\\AppData\\Local\\Programs\\Python\\Python310\\python.exe -m pip install --upgrade pip' command.\n"
          ]
        }
      ],
      "source": [
        "!pip install gurobipy"
      ]
    },
    {
      "cell_type": "markdown",
      "id": "8cc9fd8b",
      "metadata": {
        "id": "8cc9fd8b"
      },
      "source": [
        "## A Facility Location Problem"
      ]
    },
    {
      "cell_type": "markdown",
      "id": "3d1908f2",
      "metadata": {
        "id": "3d1908f2"
      },
      "source": [
        "![slide1.png](https://i.ibb.co/q1G74jk/download-2.png)"
      ]
    },
    {
      "cell_type": "markdown",
      "id": "8887e7a9",
      "metadata": {
        "id": "8887e7a9"
      },
      "source": [
        "![slide3.png](https://i.ibb.co/v4H51g7/download-3.png)"
      ]
    },
    {
      "cell_type": "markdown",
      "id": "11f31864",
      "metadata": {
        "id": "11f31864"
      },
      "source": [
        "The prob variable is created using the LpProblem function, with the usual input parameters."
      ]
    },
    {
      "cell_type": "code",
      "execution_count": 2,
      "id": "d53f8ee2",
      "metadata": {
        "id": "d53f8ee2"
      },
      "outputs": [],
      "source": [
        "# import gurobi library\n",
        "import gurobipy as gp         #Gurobi Python interface\n",
        "from gurobipy import GRB      #Import as shortcut to avoid writing GP.grb\n",
        "from itertools import product #product creates the cartesian product from 2 or more lists."
      ]
    },
    {
      "cell_type": "code",
      "execution_count": 3,
      "id": "0aea40ef",
      "metadata": {
        "id": "0aea40ef"
      },
      "outputs": [],
      "source": [
        "p = 1 #P is the number of facilities that we want to locate."
      ]
    },
    {
      "cell_type": "markdown",
      "id": "2aa13f55",
      "metadata": {
        "id": "2aa13f55"
      },
      "source": [
        "We create a list of our facilities."
      ]
    },
    {
      "cell_type": "code",
      "execution_count": 4,
      "id": "74b3b868",
      "metadata": {
        "id": "74b3b868"
      },
      "outputs": [],
      "source": [
        "Facilities = ['A', 'B']"
      ]
    },
    {
      "cell_type": "markdown",
      "id": "a169ec57",
      "metadata": {
        "id": "a169ec57"
      },
      "source": [
        "To define our customer id's we use a python generator to generate a number for each node"
      ]
    },
    {
      "cell_type": "code",
      "execution_count": 5,
      "id": "e88d9e8b",
      "metadata": {
        "colab": {
          "base_uri": "https://localhost:8080/"
        },
        "id": "e88d9e8b",
        "outputId": "71eea795-173a-4b18-c497-019bfb4a873d"
      },
      "outputs": [
        {
          "data": {
            "text/plain": [
              "['1', '2', '3', '4']"
            ]
          },
          "execution_count": 5,
          "metadata": {},
          "output_type": "execute_result"
        }
      ],
      "source": [
        "Customers = [str(i+1) for i in range(4)]\n",
        "Customers"
      ]
    },
    {
      "cell_type": "code",
      "execution_count": 6,
      "id": "3ad9b73e",
      "metadata": {
        "colab": {
          "base_uri": "https://localhost:8080/"
        },
        "id": "3ad9b73e",
        "outputId": "4fc145a9-af78-4b6b-83f8-e91cd4e55995"
      },
      "outputs": [
        {
          "data": {
            "text/plain": [
              "[('1', 'A'),\n",
              " ('1', 'B'),\n",
              " ('2', 'A'),\n",
              " ('2', 'B'),\n",
              " ('3', 'A'),\n",
              " ('3', 'B'),\n",
              " ('4', 'A'),\n",
              " ('4', 'B')]"
            ]
          },
          "execution_count": 6,
          "metadata": {},
          "output_type": "execute_result"
        }
      ],
      "source": [
        "#product creates the cartesian product from 2 or more lists.\n",
        "customer_facilities = list(product(Customers, Facilities))\n",
        "customer_facilities"
      ]
    },
    {
      "cell_type": "markdown",
      "id": "8e10ddb1",
      "metadata": {
        "id": "8e10ddb1"
      },
      "source": [
        "Now we provide the customer demand in the order of our customer ids."
      ]
    },
    {
      "cell_type": "code",
      "execution_count": 7,
      "id": "9d3cef60",
      "metadata": {
        "id": "9d3cef60"
      },
      "outputs": [],
      "source": [
        "demand = [10, 11, 2, 3]"
      ]
    },
    {
      "cell_type": "markdown",
      "id": "794707ad",
      "metadata": {
        "id": "794707ad"
      },
      "source": [
        "Just to make sure we generated a label for each node and put in a supply for each node we include an assert."
      ]
    },
    {
      "cell_type": "code",
      "execution_count": 8,
      "id": "57403eb3",
      "metadata": {
        "id": "57403eb3"
      },
      "outputs": [],
      "source": [
        "assert len(demand) == len(Customers)"
      ]
    },
    {
      "cell_type": "markdown",
      "id": "ff04c07c",
      "metadata": {
        "id": "ff04c07c"
      },
      "source": [
        "We can now convert this into a dictionary of values, with customer IDs used as keys."
      ]
    },
    {
      "cell_type": "code",
      "execution_count": 9,
      "id": "7cc7eaec",
      "metadata": {
        "colab": {
          "base_uri": "https://localhost:8080/"
        },
        "id": "7cc7eaec",
        "outputId": "1e737a6e-31f8-4cc4-92a6-0c879ec23398"
      },
      "outputs": [
        {
          "data": {
            "text/plain": [
              "{'1': 10, '2': 11, '3': 2, '4': 3}"
            ]
          },
          "execution_count": 9,
          "metadata": {},
          "output_type": "execute_result"
        }
      ],
      "source": [
        "D = dict(zip(Customers, demand))\n",
        "D"
      ]
    },
    {
      "cell_type": "markdown",
      "id": "94cd516b",
      "metadata": {
        "id": "94cd516b"
      },
      "source": [
        "We give the distance between customers and facilities as a dictionary with the tuple (customer, facility) as kyy. The cost from customer i to facility location j can be retrieved with C\\[(i,j)]"
      ]
    },
    {
      "cell_type": "code",
      "execution_count": 10,
      "id": "c9a7e3de",
      "metadata": {
        "id": "c9a7e3de"
      },
      "outputs": [],
      "source": [
        "C = {('1', 'A'): 20,\n",
        " ('1', 'B'): 30,\n",
        " ('2', 'A'): 10,\n",
        " ('2', 'B'): 20,\n",
        " ('3', 'A'): 10,\n",
        " ('3', 'B'): 10,\n",
        " ('4', 'A'): 10,\n",
        " ('4', 'B'): 20}"
      ]
    },
    {
      "cell_type": "code",
      "execution_count": 11,
      "id": "11oxv61F4hyE",
      "metadata": {
        "colab": {
          "base_uri": "https://localhost:8080/"
        },
        "id": "11oxv61F4hyE",
        "outputId": "1e4375ce-80ab-4f05-f320-5bd6d4cedc87"
      },
      "outputs": [
        {
          "name": "stdout",
          "output_type": "stream",
          "text": [
            "Restricted license - for non-production use only - expires 2024-10-28\n"
          ]
        }
      ],
      "source": [
        "#Define model\n",
        "m = gp.Model('facility_location')"
      ]
    },
    {
      "cell_type": "markdown",
      "id": "0e558c3d",
      "metadata": {
        "id": "0e558c3d"
      },
      "source": [
        "We add decision variables if we locate a facility at candidate site j or not. Setting the variable type as BINARY the lower bound is 0 and upper bound is 1, for yes or no."
      ]
    },
    {
      "cell_type": "code",
      "execution_count": 12,
      "id": "24b68d69",
      "metadata": {
        "colab": {
          "base_uri": "https://localhost:8080/"
        },
        "id": "24b68d69",
        "outputId": "029042b9-f373-4a20-c8aa-f52618501e69"
      },
      "outputs": [
        {
          "data": {
            "text/plain": [
              "{'A': <gurobi.Var *Awaiting Model Update*>,\n",
              " 'B': <gurobi.Var *Awaiting Model Update*>}"
            ]
          },
          "execution_count": 12,
          "metadata": {},
          "output_type": "execute_result"
        }
      ],
      "source": [
        "X_j = m.addVars(Facilities, vtype=GRB.BINARY, name='x')\n",
        "X_j"
      ]
    },
    {
      "cell_type": "markdown",
      "id": "d2a31d75",
      "metadata": {
        "id": "d2a31d75"
      },
      "source": [
        "We add decision variables if we service customer i from candidate site j or not. Setting the variable type as BINARY the lower bound is 0 and upper bound is 1, for yes or no."
      ]
    },
    {
      "cell_type": "code",
      "execution_count": 13,
      "id": "5fa7f275",
      "metadata": {
        "colab": {
          "base_uri": "https://localhost:8080/"
        },
        "id": "5fa7f275",
        "outputId": "eb24cb11-61b7-4794-bade-bc47b47f0370"
      },
      "outputs": [
        {
          "data": {
            "text/plain": [
              "{('1', 'A'): <gurobi.Var *Awaiting Model Update*>,\n",
              " ('1', 'B'): <gurobi.Var *Awaiting Model Update*>,\n",
              " ('2', 'A'): <gurobi.Var *Awaiting Model Update*>,\n",
              " ('2', 'B'): <gurobi.Var *Awaiting Model Update*>,\n",
              " ('3', 'A'): <gurobi.Var *Awaiting Model Update*>,\n",
              " ('3', 'B'): <gurobi.Var *Awaiting Model Update*>,\n",
              " ('4', 'A'): <gurobi.Var *Awaiting Model Update*>,\n",
              " ('4', 'B'): <gurobi.Var *Awaiting Model Update*>}"
            ]
          },
          "execution_count": 13,
          "metadata": {},
          "output_type": "execute_result"
        }
      ],
      "source": [
        "Y_ij = m.addVars(customer_facilities, vtype=GRB.BINARY, name='y')\n",
        "Y_ij"
      ]
    },
    {
      "cell_type": "markdown",
      "id": "4224e923",
      "metadata": {
        "id": "4224e923"
      },
      "source": [
        ":First we add the objective function to the problem. The sum of actual distance for the customer demand is the distance between facilities and customers and whether we plan the facility times the demand for the customer."
      ]
    },
    {
      "cell_type": "code",
      "execution_count": 14,
      "id": "0a193a20",
      "metadata": {
        "id": "0a193a20"
      },
      "outputs": [],
      "source": [
        "# The second or (third) argument filters to a sub product of only decision varibles\n",
        "# were the first value in the key is equal to c\n",
        "# Y_ij.prod(C,'1') is the product of Y_ij and C where i is '1'\n",
        "# Y_ij.prod(C,'1','A') is the product of Y_ij and c where i is '1' and j is 'A'\n",
        "# Y_ij.prod(C,'*','A') is the product of Y_ij and c where i is any value and j is 'A'\n",
        "# We then sum up the product of each customer using quicksum\n",
        "m.setObjective(gp.quicksum([Y_ij.prod(C,c) * D[c] for c in Customers]), GRB.MINIMIZE)"
      ]
    },
    {
      "cell_type": "markdown",
      "id": "9cdc34b5",
      "metadata": {
        "id": "9cdc34b5"
      },
      "source": [
        "Our first constraint is that each customer is served by one and only one facility."
      ]
    },
    {
      "cell_type": "code",
      "execution_count": 15,
      "id": "1be4df77",
      "metadata": {
        "colab": {
          "base_uri": "https://localhost:8080/"
        },
        "id": "1be4df77",
        "outputId": "8c4a86d1-4bee-441f-d61d-5407b622d881"
      },
      "outputs": [
        {
          "data": {
            "text/plain": [
              "{'1': <gurobi.Constr *Awaiting Model Update*>,\n",
              " '2': <gurobi.Constr *Awaiting Model Update*>,\n",
              " '3': <gurobi.Constr *Awaiting Model Update*>,\n",
              " '4': <gurobi.Constr *Awaiting Model Update*>}"
            ]
          },
          "execution_count": 15,
          "metadata": {},
          "output_type": "execute_result"
        }
      ],
      "source": [
        "m.addConstrs((Y_ij.sum(customer) == 1 for customer in Customers),\n",
        "              name='1FacilityPerCustomer')"
      ]
    },
    {
      "cell_type": "markdown",
      "id": "dcb1f2f6",
      "metadata": {
        "id": "dcb1f2f6"
      },
      "source": [
        "Our second constraint is that we want to restrict the number of factilities to p"
      ]
    },
    {
      "cell_type": "code",
      "execution_count": 16,
      "id": "6e23ec5e",
      "metadata": {
        "colab": {
          "base_uri": "https://localhost:8080/"
        },
        "id": "6e23ec5e",
        "outputId": "87edcb02-2908-4775-f372-bd4a17f85123"
      },
      "outputs": [
        {
          "data": {
            "text/plain": [
              "<gurobi.Constr *Awaiting Model Update*>"
            ]
          },
          "execution_count": 16,
          "metadata": {},
          "output_type": "execute_result"
        }
      ],
      "source": [
        "m.addConstr(X_j.sum() == p, name='LimitFacilitiesToP')"
      ]
    },
    {
      "cell_type": "markdown",
      "id": "548d08b8",
      "metadata": {
        "id": "548d08b8"
      },
      "source": [
        "Our third constraint is that a customer can only be served from facility j, if we planned a facility there."
      ]
    },
    {
      "cell_type": "code",
      "execution_count": 17,
      "id": "45eb9bfd",
      "metadata": {
        "id": "45eb9bfd",
        "scrolled": true
      },
      "outputs": [],
      "source": [
        "for customer, facility in customer_facilities:\n",
        "    m.addConstr(Y_ij[(customer, facility)] - X_j[facility] <= 0,name=f\"OnlyAllowServiceAt{customer}IfFacility{facility}\")"
      ]
    },
    {
      "cell_type": "markdown",
      "id": "8a5d4c4d",
      "metadata": {
        "id": "8a5d4c4d"
      },
      "source": [
        "Recall:\n",
        " - if we service customer i from candidate site j: Y_ij = 1 , otherwise Y_ij = 0\n",
        " - if we locate a facility at candidate site j: X_j = 1, otherwise X_j = 0\n",
        "\n",
        "So the following situations are all allowed:\n",
        " - when we locate a facility at candidate site X_j, then if we service customer i from there we have: 1 - 1 = 0\n",
        " - when we locate a facility at candidate site X_j, then if we do NOT service customer i from there we have: 0 - 1 = -1\n",
        " - when we do NOT locate a facility at candidate site X_j, then we can not service any customers from there and we have: 0 - 0 = 0\n",
        "\n",
        " And the following situation is not allowed:\n",
        " - when we do NOT locate a facility at candidate site X_j, servicing a customer from there would give: 1 - 0 = 1 (which is contrained not to be allowed)"
      ]
    },
    {
      "cell_type": "markdown",
      "id": "d78c0c96",
      "metadata": {
        "id": "d78c0c96"
      },
      "source": [
        "Finally, recall:\n",
        "\n",
        "- The constraints that x_ij and x_j have to be {0,1} is specified by the lowBound and upBound parameteer when we introduced the decision variables."
      ]
    },
    {
      "cell_type": "code",
      "execution_count": 21,
      "id": "01e9aadd",
      "metadata": {
        "id": "01e9aadd"
      },
      "outputs": [],
      "source": [
        "m.write('FacilityLocationProblem.lp')"
      ]
    },
    {
      "cell_type": "markdown",
      "id": "4c53d2be",
      "metadata": {
        "id": "4c53d2be"
      },
      "source": [
        "Finally we can solve our problem."
      ]
    },
    {
      "cell_type": "code",
      "execution_count": 22,
      "id": "6f8d5548",
      "metadata": {
        "colab": {
          "base_uri": "https://localhost:8080/"
        },
        "id": "6f8d5548",
        "outputId": "2adc16cb-a7e0-49fc-9397-51012ca4c3ab"
      },
      "outputs": [
        {
          "name": "stdout",
          "output_type": "stream",
          "text": [
            "Gurobi Optimizer version 10.0.2 build v10.0.2rc0 (win64)\n",
            "\n",
            "CPU model: AMD Ryzen 7 4800H with Radeon Graphics, instruction set [SSE2|AVX|AVX2]\n",
            "Thread count: 8 physical cores, 16 logical processors, using up to 16 threads\n",
            "\n",
            "Optimize a model with 13 rows, 10 columns and 26 nonzeros\n",
            "Model fingerprint: 0x93ef3f78\n",
            "Variable types: 0 continuous, 10 integer (10 binary)\n",
            "Coefficient statistics:\n",
            "  Matrix range     [1e+00, 1e+00]\n",
            "  Objective range  [2e+01, 3e+02]\n",
            "  Bounds range     [1e+00, 1e+00]\n",
            "  RHS range        [1e+00, 1e+00]\n",
            "\n",
            "\n",
            "Presolve removed 13 rows and 10 columns\n",
            "Presolve time: 0.00s\n",
            "Presolve: All rows and columns removed\n",
            "\n",
            "Explored 0 nodes (0 simplex iterations) in 0.01 seconds (0.00 work units)\n",
            "Thread count was 1 (of 16 available processors)\n",
            "\n",
            "Solution count 1: 360 \n",
            "\n",
            "Optimal solution found (tolerance 1.00e-04)\n",
            "Best objective 3.600000000000e+02, best bound 3.600000000000e+02, gap 0.0000%\n"
          ]
        }
      ],
      "source": [
        "m.optimize()"
      ]
    },
    {
      "cell_type": "code",
      "execution_count": 23,
      "id": "9e4ad088",
      "metadata": {
        "colab": {
          "base_uri": "https://localhost:8080/"
        },
        "id": "9e4ad088",
        "outputId": "aa1fa2c4-f9a7-4d16-8117-a7c9e26ffbe2"
      },
      "outputs": [
        {
          "name": "stdout",
          "output_type": "stream",
          "text": [
            "Optimal objective value: 360.0\n",
            "Build a facility at location A.\n",
            "\n",
            "Shipment plan:\n",
            "Service customer 1 from facility A\n",
            "Service customer 2 from facility A\n",
            "Service customer 3 from facility A\n",
            "Service customer 4 from facility A\n"
          ]
        }
      ],
      "source": [
        "print(f\"Optimal objective value: {m.objVal}\")\n",
        "\n",
        "for plant in X_j.keys():\n",
        "    if (abs(X_j[plant].x) > 0): #Only print if not 0\n",
        "        print(f\"Build a facility at location {plant}.\")\n",
        "print(\"\\nShipment plan:\")\n",
        "for customer, facility in Y_ij.keys():\n",
        "    if (abs(Y_ij[customer, facility].x) > 0): #Only print if not 0\n",
        "        print (f\"Service customer {customer} from facility {facility}\")"
      ]
    },
    {
      "cell_type": "markdown",
      "id": "9efe89ff",
      "metadata": {
        "id": "9efe89ff"
      },
      "source": [
        "Our solution is to place the facility at location A for a mimimal transportation distance of 360"
      ]
    }
  ],
  "metadata": {
    "colab": {
      "provenance": []
    },
    "kernelspec": {
      "display_name": "Python 3 (ipykernel)",
      "language": "python",
      "name": "python3"
    },
    "language_info": {
      "codemirror_mode": {
        "name": "ipython",
        "version": 3
      },
      "file_extension": ".py",
      "mimetype": "text/x-python",
      "name": "python",
      "nbconvert_exporter": "python",
      "pygments_lexer": "ipython3",
      "version": "3.10.1"
    },
    "vscode": {
      "interpreter": {
        "hash": "dc5f856df681cf36bc5efddcb2a84a2cd35056a6cd8ebd45133cbd641251ee46"
      }
    }
  },
  "nbformat": 4,
  "nbformat_minor": 5
}
