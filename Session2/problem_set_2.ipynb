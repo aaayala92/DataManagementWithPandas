{
  "nbformat": 4,
  "nbformat_minor": 0,
  "metadata": {
    "colab": {
      "provenance": []
    },
    "kernelspec": {
      "name": "python3",
      "display_name": "Python 3"
    },
    "language_info": {
      "name": "python"
    }
  },
  "cells": [
    {
      "cell_type": "markdown",
      "metadata": {
        "id": "RpyP_I7I03e_"
      },
      "source": [
        "#**Problem set 2**"
      ]
    },
    {
      "cell_type": "markdown",
      "metadata": {
        "id": "pEV9Z2Za3ZEu"
      },
      "source": [
        "Please enter your name in a cell below"
      ]
    },
    {
      "cell_type": "code",
      "metadata": {
        "id": "mZcWeHfw3WN2"
      },
      "source": [
        "# First name Last name"
      ],
      "execution_count": null,
      "outputs": []
    },
    {
      "cell_type": "markdown",
      "metadata": {
        "id": "xkScUOkSMYqI"
      },
      "source": [
        "##Task\n",
        "### Please, find the dataset “SKU.xlsx”. The dataset contains SKU features at the pallet level, including pallet weight, pallet height, number of units per pallet, and expiry date. Use the dataset to perform the following:\n",
        "General task:\n",
        "1. Identify the data types (dtypes) of each column in the dataset.\n",
        "2. You may realize that such column names as [‘total_outbound’, ‘expiry_date’, ‘pallet_grossweight’, ‘pallet_height’, ‘units_per_pallet’] are wordy. Please rename them as [‘TO’, ‘PW’, ‘PH’, ‘N_units’] or use other names according to your preferences.\n",
        "3. How many na values by column are there in the dataset?\n",
        "4. Remove the rows with na values and confirm this by recounting the number of na values.\n",
        "5. Save the resulting DataFrame as an Excel file.\n",
        "6. Calculate the average pallet gross weight for the remaining SKUs.\n",
        "\n",
        "The general task is enough to complete. The \"challenging task\" below is aimed at those who are targeting the maximum grade and are looking for a challenging exercise. They may require consultation with the Pandas library documentation and possibly involve functionalities not directly covered in the course. Completing these questions will demonstrate a deeper understanding of data manipulation and engineering and may require creative problem-solving and independent research.\n",
        "\n",
        "Challenging task:\n",
        "\n",
        "1.   Calculate the value of each pallet by multiplying the unitprice by units_per_pallet.\n",
        "2. Identify the top 5 most valuable pallets and the top 5 least valuable pallets.\n",
        "3. Group the dataset by quartiles of pallet_grossweight and calculate the average unitprice and total number of units within each quartile.\n",
        "4. Propose a shipping strategy that minimizes costs by considering the pallet_grossweight and maximizing the total value shipped, assuming that shipping costs increase with weight. Feel free to make assumptions nescessary. Provide a written explanation to explain the proposed strategy.\n",
        "\n",
        "\n",
        "\n",
        "\n",
        "\n",
        "\n",
        "### Please, use cells below to write and execute your code. Feel free to add additional cells.\n",
        "### Submit the resulting .ipynb file to Canvas. Don’t forget to enter your name."
      ]
    },
    {
      "cell_type": "code",
      "metadata": {
        "id": "TFpIEYBYhD6B"
      },
      "source": [
        "# write your code here"
      ],
      "execution_count": null,
      "outputs": []
    }
  ]
}