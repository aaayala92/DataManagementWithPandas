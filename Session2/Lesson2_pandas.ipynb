{
 "cells": [
  {
   "cell_type": "markdown",
   "metadata": {},
   "source": [
    "# Data Management with Pandas\n",
    "\n",
    "### Lesson 2 | Data Engineering & PreProcessing\n",
    "\n",
    "Its all done in google collab, look for:\n",
    "https://colab.research.google.com/drive/1ZgCKvsqC8bJlvcPn352GBM0gmK3Eo_OQ?usp=sharing"
   ]
  },
  {
   "cell_type": "code",
   "execution_count": null,
   "metadata": {},
   "outputs": [],
   "source": []
  }
 ],
 "metadata": {
  "language_info": {
   "name": "python"
  },
  "orig_nbformat": 4
 },
 "nbformat": 4,
 "nbformat_minor": 2
}
