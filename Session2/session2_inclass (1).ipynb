{
 "cells": [
  {
   "cell_type": "markdown",
   "metadata": {
    "id": "RpyP_I7I03e_"
   },
   "source": [
    "#**Session 2.  In-class activities**"
   ]
  },
  {
   "cell_type": "markdown",
   "metadata": {
    "id": "pEV9Z2Za3ZEu"
   },
   "source": [
    "Please enter your name in a cell below "
   ]
  },
  {
   "cell_type": "code",
   "execution_count": null,
   "metadata": {
    "id": "mZcWeHfw3WN2"
   },
   "outputs": [],
   "source": [
    "# First name Last name "
   ]
  },
  {
   "cell_type": "markdown",
   "metadata": {
    "id": "P__xZa7a3rAn"
   },
   "source": [
    "### In-class activity 1\n",
    "### Using the dc_shipments dataset, perform the following operations to explore and clean the data:\n",
    "1. Identify the manufacturing plants where the shipments are coming from (unique values of column plants)\n",
    "2. Identify the data types (dtypes) of each column in the dataset\n",
    "3. Convert columns dc and sku data types to string (object). Verify this by calling dtypes again\n",
    "4. Rename columns ordered and delivered by qty_ordered and qty_delivered respectively\n",
    "\n",
    "### Please, use cells below to write and execute your code. Feel free to add additional cells. \n"
   ]
  },
  {
   "cell_type": "code",
   "execution_count": null,
   "metadata": {
    "id": "d7_Nfdk-0ttK"
   },
   "outputs": [],
   "source": [
    "# write your code for in-class activity 1 here "
   ]
  },
  {
   "cell_type": "markdown",
   "metadata": {
    "id": "JTjnW4IMBD0D"
   },
   "source": [
    "### In-class activity 2\n",
    "### Using the dc_shipments dataset, perform the following operations to clean the data:\n",
    "1. The column plant has a spelling error (west & West, Southeast & South east). Replace west by West and Southeast by South east. Verify this by calling .unique() again\n",
    "2. How many duplicates are there in the dataset? Show those duplicated rows.Remove the duplicates and verify this by recounting the number of duplicates\n",
    "3. How many na values by column are there in the dataset? Remove the rows with na values and confirm this by recounting the number of na values\n",
    "\n",
    "\n",
    "\n",
    "### Please, use cells below to write and execute your code. Feel free to add additional cells. "
   ]
  },
  {
   "cell_type": "code",
   "execution_count": null,
   "metadata": {
    "id": "Yke6egHKGFoq"
   },
   "outputs": [],
   "source": [
    "# write your code for in-class activity 2 here "
   ]
  },
  {
   "cell_type": "markdown",
   "metadata": {
    "id": "xkScUOkSMYqI"
   },
   "source": [
    "### In-class activity 3\n",
    "### Use the CO2_emissions_2017 dataset to identify the most polluting vehicle.In order to answer this question, write a Python program that perform the following operations:\n",
    "1. Create a column with the average C02 emissions\n",
    "2. Create a column with the standard deviation of CO2 emissions\n",
    "3. Create a column calculating the standardized C02 emissions: (value-average)/standard deviation\n",
    "4. Identify the vehicle (ID) with the largest standardized C02 emissions. What is the maximum value?\n",
    "\n",
    "\n",
    "\n",
    "\n",
    "### Please, use cells below to write and execute your code. Feel free to add additional cells. \n",
    "### Submit the resulting .ipynb file with all three in-class activities to Canvas. Don’t forget to enter your name. "
   ]
  },
  {
   "cell_type": "code",
   "execution_count": null,
   "metadata": {
    "id": "TFpIEYBYhD6B"
   },
   "outputs": [],
   "source": [
    "# write your code for in-class activity 3 here "
   ]
  }
 ],
 "metadata": {
  "colab": {
   "collapsed_sections": [],
   "name": "session2_inclass.ipynb",
   "provenance": []
  },
  "kernelspec": {
   "display_name": "Python 3",
   "language": "python",
   "name": "python3"
  },
  "language_info": {
   "codemirror_mode": {
    "name": "ipython",
    "version": 3
   },
   "file_extension": ".py",
   "mimetype": "text/x-python",
   "name": "python",
   "nbconvert_exporter": "python",
   "pygments_lexer": "ipython3",
   "version": "3.8.8"
  }
 },
 "nbformat": 4,
 "nbformat_minor": 1
}
