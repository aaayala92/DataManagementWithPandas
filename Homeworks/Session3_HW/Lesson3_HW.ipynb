{
 "cells": [
  {
   "cell_type": "code",
   "execution_count": 1,
   "metadata": {},
   "outputs": [
    {
     "name": "stdout",
     "output_type": "stream",
     "text": [
      "Requirement already satisfied: gurobipy in c:\\users\\artur\\appdata\\local\\programs\\python\\python310\\lib\\site-packages (10.0.2)\n",
      "Requirement already satisfied: numpy in c:\\users\\artur\\appdata\\local\\programs\\python\\python310\\lib\\site-packages (1.23.3)\n",
      "Requirement already satisfied: pandas in c:\\users\\artur\\appdata\\local\\programs\\python\\python310\\lib\\site-packages (1.4.4)\n",
      "Requirement already satisfied: pytz>=2020.1 in c:\\users\\artur\\appdata\\local\\programs\\python\\python310\\lib\\site-packages (from pandas) (2022.2.1)\n",
      "Requirement already satisfied: python-dateutil>=2.8.1 in c:\\users\\artur\\appdata\\local\\programs\\python\\python310\\lib\\site-packages (from pandas) (2.8.2)\n",
      "Requirement already satisfied: six>=1.5 in c:\\users\\artur\\appdata\\local\\programs\\python\\python310\\lib\\site-packages (from python-dateutil>=2.8.1->pandas) (1.16.0)\n"
     ]
    },
    {
     "name": "stderr",
     "output_type": "stream",
     "text": [
      "WARNING: You are using pip version 21.2.4; however, version 23.2.1 is available.\n",
      "You should consider upgrading via the 'C:\\Users\\artur\\AppData\\Local\\Programs\\Python\\Python310\\python.exe -m pip install --upgrade pip' command.\n"
     ]
    }
   ],
   "source": [
    "\"\"\"\n",
    "Homework | Production Distribution in Gurobi\n",
    "\"\"\"\n",
    "!pip install gurobipy numpy pandas\n",
    "\n",
    "# import gurobi library\n",
    "import gurobipy as gp         #Gurobi Python interface\n",
    "from gurobipy import GRB      #Import as shortcut to avoid writing GP.grb\n",
    "from itertools import product #product creates the cartesian product from 2 or more lists."
   ]
  },
  {
   "cell_type": "code",
   "execution_count": 2,
   "metadata": {},
   "outputs": [],
   "source": [
    "# Creates a list of all the supply nodes\n",
    "Plants = [\"Monterrey\",\"Puebla\",\"San Luis Potosi\"]\n",
    "\n",
    "# Creates a dictionary for the number of units of Capacity for each supply node\n",
    "Capacity = {\"Monterrey\": 96000,\n",
    "            \"Puebla\": 78000,\n",
    "            \"San Luis Potosi\":48000}\n",
    "\n",
    "# Creates a dictionary for the number of units of Variable Cost for each supply node\n",
    "VariableCost = {\"Monterrey\": 381,\n",
    "                \"Puebla\": 342,\n",
    "                \"San Luis Potosi\":368}\n",
    "\n",
    "# Creates a list of all demand nodes\n",
    "Markets = [\"Chihuahua\", \"Ciudad Victoria\", \"Durango\", \"Guadalajara\", \"Leon\",\n",
    "           \"Mexico City\", \"Morelia\", 'Oaxaca','Queretaro','Toluca','Villahermosa','Xalapa']\n"
   ]
  },
  {
   "cell_type": "code",
   "execution_count": 3,
   "metadata": {},
   "outputs": [
    {
     "data": {
      "text/plain": [
       "{'Chihuahua': 1000,\n",
       " 'Ciudad Victoria': 7000,\n",
       " 'Durango': 8000,\n",
       " 'Guadalajara': 22000,\n",
       " 'Leon': 12000,\n",
       " 'Mexico City': 50000,\n",
       " 'Morelia': 5000,\n",
       " 'Oaxaca': 2000,\n",
       " 'Queretaro': 22000,\n",
       " 'Toluca': 26000,\n",
       " 'Villahermosa': 11000,\n",
       " 'Xalapa': 10000}"
      ]
     },
     "execution_count": 3,
     "metadata": {},
     "output_type": "execute_result"
    }
   ],
   "source": [
    "# Creates a dictionary for the number of units of demand for each demand node\n",
    "\n",
    "Demand = dict(zip(Markets,[1000,7000,8000,22000,12000,50000,5000,2000,22000,26000,11000,10000]))\n",
    "  \n",
    "Demand"
   ]
  },
  {
   "cell_type": "code",
   "execution_count": 4,
   "metadata": {},
   "outputs": [
    {
     "data": {
      "text/plain": [
       "[('Monterrey', 'Chihuahua'),\n",
       " ('Monterrey', 'Ciudad Victoria'),\n",
       " ('Monterrey', 'Durango'),\n",
       " ('Monterrey', 'Guadalajara'),\n",
       " ('Monterrey', 'Leon'),\n",
       " ('Monterrey', 'Mexico City'),\n",
       " ('Monterrey', 'Morelia'),\n",
       " ('Monterrey', 'Oaxaca'),\n",
       " ('Monterrey', 'Queretaro'),\n",
       " ('Monterrey', 'Toluca'),\n",
       " ('Monterrey', 'Villahermosa'),\n",
       " ('Monterrey', 'Xalapa'),\n",
       " ('Puebla', 'Chihuahua'),\n",
       " ('Puebla', 'Ciudad Victoria'),\n",
       " ('Puebla', 'Durango'),\n",
       " ('Puebla', 'Guadalajara'),\n",
       " ('Puebla', 'Leon'),\n",
       " ('Puebla', 'Mexico City'),\n",
       " ('Puebla', 'Morelia'),\n",
       " ('Puebla', 'Oaxaca'),\n",
       " ('Puebla', 'Queretaro'),\n",
       " ('Puebla', 'Toluca'),\n",
       " ('Puebla', 'Villahermosa'),\n",
       " ('Puebla', 'Xalapa'),\n",
       " ('San Luis Potosi', 'Chihuahua'),\n",
       " ('San Luis Potosi', 'Ciudad Victoria'),\n",
       " ('San Luis Potosi', 'Durango'),\n",
       " ('San Luis Potosi', 'Guadalajara'),\n",
       " ('San Luis Potosi', 'Leon'),\n",
       " ('San Luis Potosi', 'Mexico City'),\n",
       " ('San Luis Potosi', 'Morelia'),\n",
       " ('San Luis Potosi', 'Oaxaca'),\n",
       " ('San Luis Potosi', 'Queretaro'),\n",
       " ('San Luis Potosi', 'Toluca'),\n",
       " ('San Luis Potosi', 'Villahermosa'),\n",
       " ('San Luis Potosi', 'Xalapa')]"
      ]
     },
     "execution_count": 4,
     "metadata": {},
     "output_type": "execute_result"
    }
   ],
   "source": [
    "Routes = [(p,m) for p in Plants for m in Markets]\n",
    "Routes"
   ]
  },
  {
   "cell_type": "code",
   "execution_count": 5,
   "metadata": {},
   "outputs": [
    {
     "data": {
      "text/plain": [
       "{('Monterrey', 'Chihuahua'): 59,\n",
       " ('Monterrey', 'Ciudad Victoria'): 20,\n",
       " ('Monterrey', 'Durango'): 38,\n",
       " ('Monterrey', 'Guadalajara'): 60,\n",
       " ('Monterrey', 'Leon'): 53,\n",
       " ('Monterrey', 'Mexico City'): 64,\n",
       " ('Monterrey', 'Morelia'): 63,\n",
       " ('Monterrey', 'Oaxaca'): 91,\n",
       " ('Monterrey', 'Queretaro'): 62,\n",
       " ('Monterrey', 'Toluca'): 63,\n",
       " ('Monterrey', 'Villahermosa'): 99,\n",
       " ('Monterrey', 'Xalapa'): 70,\n",
       " ('Puebla', 'Chihuahua'): 125,\n",
       " ('Puebla', 'Ciudad Victoria'): 52,\n",
       " ('Puebla', 'Durango'): 81,\n",
       " ('Puebla', 'Guadalajara'): 25,\n",
       " ('Puebla', 'Leon'): 41,\n",
       " ('Puebla', 'Mexico City'): 13,\n",
       " ('Puebla', 'Morelia'): 31,\n",
       " ('Puebla', 'Oaxaca'): 21,\n",
       " ('Puebla', 'Queretaro'): 25,\n",
       " ('Puebla', 'Toluca'): 16,\n",
       " ('Puebla', 'Villahermosa'): 42,\n",
       " ('Puebla', 'Xalapa'): 15,\n",
       " ('San Luis Potosi', 'Chihuahua'): 91,\n",
       " ('San Luis Potosi', 'Ciudad Victoria'): 25,\n",
       " ('San Luis Potosi', 'Durango'): 48,\n",
       " ('San Luis Potosi', 'Guadalajara'): 18,\n",
       " ('San Luis Potosi', 'Leon'): 12,\n",
       " ('San Luis Potosi', 'Mexico City'): 25,\n",
       " ('San Luis Potosi', 'Morelia'): 26,\n",
       " ('San Luis Potosi', 'Oaxaca'): 55,\n",
       " ('San Luis Potosi', 'Queretaro'): 20,\n",
       " ('San Luis Potosi', 'Toluca'): 23,\n",
       " ('San Luis Potosi', 'Villahermosa'): 70,\n",
       " ('San Luis Potosi', 'Xalapa'): 38}"
      ]
     },
     "execution_count": 5,
     "metadata": {},
     "output_type": "execute_result"
    }
   ],
   "source": [
    "Logistic_cost = dict(zip(Routes,[59,20,38,60,53,64,63,91,62,63,99,70,\n",
    "                                 125,52,81,25,41,13,31,21,25,16,42,15,\n",
    "                                 91,25,48,18,12,25,26,55,20,23,70,38]))\n",
    "\n",
    "Logistic_cost"
   ]
  },
  {
   "cell_type": "code",
   "execution_count": 6,
   "metadata": {},
   "outputs": [
    {
     "name": "stdout",
     "output_type": "stream",
     "text": [
      "Restricted license - for non-production use only - expires 2024-10-28\n"
     ]
    }
   ],
   "source": [
    "# Creates the prob variable to contain the problem data\n",
    "m = gp.Model('ProdDistrPlanning')"
   ]
  },
  {
   "cell_type": "code",
   "execution_count": 7,
   "metadata": {},
   "outputs": [
    {
     "data": {
      "text/plain": [
       "{('Monterrey', 'Chihuahua'): <gurobi.Var *Awaiting Model Update*>,\n",
       " ('Monterrey', 'Ciudad Victoria'): <gurobi.Var *Awaiting Model Update*>,\n",
       " ('Monterrey', 'Durango'): <gurobi.Var *Awaiting Model Update*>,\n",
       " ('Monterrey', 'Guadalajara'): <gurobi.Var *Awaiting Model Update*>,\n",
       " ('Monterrey', 'Leon'): <gurobi.Var *Awaiting Model Update*>,\n",
       " ('Monterrey', 'Mexico City'): <gurobi.Var *Awaiting Model Update*>,\n",
       " ('Monterrey', 'Morelia'): <gurobi.Var *Awaiting Model Update*>,\n",
       " ('Monterrey', 'Oaxaca'): <gurobi.Var *Awaiting Model Update*>,\n",
       " ('Monterrey', 'Queretaro'): <gurobi.Var *Awaiting Model Update*>,\n",
       " ('Monterrey', 'Toluca'): <gurobi.Var *Awaiting Model Update*>,\n",
       " ('Monterrey', 'Villahermosa'): <gurobi.Var *Awaiting Model Update*>,\n",
       " ('Monterrey', 'Xalapa'): <gurobi.Var *Awaiting Model Update*>,\n",
       " ('Puebla', 'Chihuahua'): <gurobi.Var *Awaiting Model Update*>,\n",
       " ('Puebla', 'Ciudad Victoria'): <gurobi.Var *Awaiting Model Update*>,\n",
       " ('Puebla', 'Durango'): <gurobi.Var *Awaiting Model Update*>,\n",
       " ('Puebla', 'Guadalajara'): <gurobi.Var *Awaiting Model Update*>,\n",
       " ('Puebla', 'Leon'): <gurobi.Var *Awaiting Model Update*>,\n",
       " ('Puebla', 'Mexico City'): <gurobi.Var *Awaiting Model Update*>,\n",
       " ('Puebla', 'Morelia'): <gurobi.Var *Awaiting Model Update*>,\n",
       " ('Puebla', 'Oaxaca'): <gurobi.Var *Awaiting Model Update*>,\n",
       " ('Puebla', 'Queretaro'): <gurobi.Var *Awaiting Model Update*>,\n",
       " ('Puebla', 'Toluca'): <gurobi.Var *Awaiting Model Update*>,\n",
       " ('Puebla', 'Villahermosa'): <gurobi.Var *Awaiting Model Update*>,\n",
       " ('Puebla', 'Xalapa'): <gurobi.Var *Awaiting Model Update*>,\n",
       " ('San Luis Potosi', 'Chihuahua'): <gurobi.Var *Awaiting Model Update*>,\n",
       " ('San Luis Potosi', 'Ciudad Victoria'): <gurobi.Var *Awaiting Model Update*>,\n",
       " ('San Luis Potosi', 'Durango'): <gurobi.Var *Awaiting Model Update*>,\n",
       " ('San Luis Potosi', 'Guadalajara'): <gurobi.Var *Awaiting Model Update*>,\n",
       " ('San Luis Potosi', 'Leon'): <gurobi.Var *Awaiting Model Update*>,\n",
       " ('San Luis Potosi', 'Mexico City'): <gurobi.Var *Awaiting Model Update*>,\n",
       " ('San Luis Potosi', 'Morelia'): <gurobi.Var *Awaiting Model Update*>,\n",
       " ('San Luis Potosi', 'Oaxaca'): <gurobi.Var *Awaiting Model Update*>,\n",
       " ('San Luis Potosi', 'Queretaro'): <gurobi.Var *Awaiting Model Update*>,\n",
       " ('San Luis Potosi', 'Toluca'): <gurobi.Var *Awaiting Model Update*>,\n",
       " ('San Luis Potosi', 'Villahermosa'): <gurobi.Var *Awaiting Model Update*>,\n",
       " ('San Luis Potosi', 'Xalapa'): <gurobi.Var *Awaiting Model Update*>}"
      ]
     },
     "execution_count": 7,
     "metadata": {},
     "output_type": "execute_result"
    }
   ],
   "source": [
    "#A dictionary called route_vars is created to contain the referenced variables (the routes)\n",
    "route_vars = m.addVars(Routes,vtype=GRB.INTEGER, name='Route')\n",
    "route_vars"
   ]
  },
  {
   "cell_type": "code",
   "execution_count": 8,
   "metadata": {},
   "outputs": [],
   "source": [
    "#Set the objective function as the product of the number of units transported on a route with the cost of that route.\n",
    "\n",
    "#logistic_cost = route_vars.prod(Logistic_cost)\n",
    "#variable_cost= gp.quicksum(VariableCost[p] * route_vars.sum(p, \"*\") for p in Plants)\n",
    "\n",
    "#m.setObjective(logistic_cost + variable_cost, GRB.MINIMIZE)\n",
    "\n",
    "m.setObjective(route_vars.prod(Logistic_cost)+gp.quicksum(VariableCost[p] * route_vars.sum(p, \"*\") for p in Plants), GRB.MINIMIZE)\n"
   ]
  },
  {
   "cell_type": "code",
   "execution_count": 9,
   "metadata": {},
   "outputs": [
    {
     "data": {
      "text/plain": [
       "{'Monterrey': <gurobi.Constr *Awaiting Model Update*>,\n",
       " 'Puebla': <gurobi.Constr *Awaiting Model Update*>,\n",
       " 'San Luis Potosi': <gurobi.Constr *Awaiting Model Update*>}"
      ]
     },
     "execution_count": 9,
     "metadata": {},
     "output_type": "execute_result"
    }
   ],
   "source": [
    "#Capacity Constraint\n",
    "m.addConstrs((route_vars.sum(p,'*')<=Capacity[p] for p in Plants), name=\"CapacityConstrs\")\n"
   ]
  },
  {
   "cell_type": "code",
   "execution_count": 10,
   "metadata": {},
   "outputs": [
    {
     "data": {
      "text/plain": [
       "{'Chihuahua': <gurobi.Constr *Awaiting Model Update*>,\n",
       " 'Ciudad Victoria': <gurobi.Constr *Awaiting Model Update*>,\n",
       " 'Durango': <gurobi.Constr *Awaiting Model Update*>,\n",
       " 'Guadalajara': <gurobi.Constr *Awaiting Model Update*>,\n",
       " 'Leon': <gurobi.Constr *Awaiting Model Update*>,\n",
       " 'Mexico City': <gurobi.Constr *Awaiting Model Update*>,\n",
       " 'Morelia': <gurobi.Constr *Awaiting Model Update*>,\n",
       " 'Oaxaca': <gurobi.Constr *Awaiting Model Update*>,\n",
       " 'Queretaro': <gurobi.Constr *Awaiting Model Update*>,\n",
       " 'Toluca': <gurobi.Constr *Awaiting Model Update*>,\n",
       " 'Villahermosa': <gurobi.Constr *Awaiting Model Update*>,\n",
       " 'Xalapa': <gurobi.Constr *Awaiting Model Update*>}"
      ]
     },
     "execution_count": 10,
     "metadata": {},
     "output_type": "execute_result"
    }
   ],
   "source": [
    "#Demand Constraint\n",
    "m.addConstrs((route_vars.sum('*',m)>=Demand[m] for m in Markets),name=\"DemandConstrs\")\n"
   ]
  },
  {
   "cell_type": "code",
   "execution_count": 11,
   "metadata": {},
   "outputs": [
    {
     "name": "stdout",
     "output_type": "stream",
     "text": [
      "Gurobi Optimizer version 10.0.2 build v10.0.2rc0 (win64)\n",
      "\n",
      "CPU model: AMD Ryzen 7 4800H with Radeon Graphics, instruction set [SSE2|AVX|AVX2]\n",
      "Thread count: 8 physical cores, 16 logical processors, using up to 16 threads\n",
      "\n",
      "Optimize a model with 15 rows, 36 columns and 72 nonzeros\n",
      "Model fingerprint: 0x5dc73a78\n",
      "Variable types: 0 continuous, 36 integer (0 binary)\n",
      "Coefficient statistics:\n",
      "  Matrix range     [1e+00, 1e+00]\n",
      "  Objective range  [4e+02, 5e+02]\n",
      "  Bounds range     [0e+00, 0e+00]\n",
      "  RHS range        [1e+03, 1e+05]\n",
      "Found heuristic solution: objective 7.048500e+07\n",
      "Presolve time: 0.00s\n",
      "Presolved: 15 rows, 36 columns, 72 nonzeros\n",
      "Variable types: 0 continuous, 36 integer (0 binary)\n",
      "Found heuristic solution: objective 7.048456e+07\n",
      "\n",
      "Root relaxation: objective 6.822300e+07, 17 iterations, 0.00 seconds (0.00 work units)\n",
      "\n",
      "    Nodes    |    Current Node    |     Objective Bounds      |     Work\n",
      " Expl Unexpl |  Obj  Depth IntInf | Incumbent    BestBd   Gap | It/Node Time\n",
      "\n",
      "*    0     0               0    6.822300e+07 6.8223e+07  0.00%     -    0s\n",
      "\n",
      "Explored 1 nodes (17 simplex iterations) in 0.02 seconds (0.00 work units)\n",
      "Thread count was 16 (of 16 available processors)\n",
      "\n",
      "Solution count 3: 6.8223e+07 7.04846e+07 7.0485e+07 \n",
      "\n",
      "Optimal solution found (tolerance 1.00e-04)\n",
      "Best objective 6.822300000000e+07, best bound 6.822300000000e+07, gap 0.0000%\n"
     ]
    }
   ],
   "source": [
    "# Run the model\n",
    "m.optimize()\n"
   ]
  },
  {
   "cell_type": "code",
   "execution_count": 13,
   "metadata": {},
   "outputs": [
    {
     "name": "stdout",
     "output_type": "stream",
     "text": [
      "Optimal objective value: 68223000.0\n",
      "\n",
      "Production plan:\n",
      "\n",
      "50000 units need to be produced by the Monterrey plant.\n",
      "78000 units need to be produced by the Puebla plant.\n",
      "48000 units need to be produced by the San Luis Potosi plant.\n",
      "\n",
      "Shipment plan:\n",
      "Ship 1000.0 units to bar Chihuahua from warehouse Monterrey\n",
      "Ship 7000.0 units to bar Ciudad Victoria from warehouse Monterrey\n",
      "Ship 8000.0 units to bar Durango from warehouse Monterrey\n",
      "Ship 8000.0 units to bar Leon from warehouse Monterrey\n",
      "Ship 5000.0 units to bar Morelia from warehouse Monterrey\n",
      "Ship 21000.0 units to bar Toluca from warehouse Monterrey\n",
      "Ship 50000.0 units to bar Mexico City from warehouse Puebla\n",
      "Ship 2000.0 units to bar Oaxaca from warehouse Puebla\n",
      "Ship 5000.0 units to bar Toluca from warehouse Puebla\n",
      "Ship 11000.0 units to bar Villahermosa from warehouse Puebla\n",
      "Ship 10000.0 units to bar Xalapa from warehouse Puebla\n",
      "Ship 22000.0 units to bar Guadalajara from warehouse San Luis Potosi\n",
      "Ship 4000.0 units to bar Leon from warehouse San Luis Potosi\n",
      "Ship 22000.0 units to bar Queretaro from warehouse San Luis Potosi\n"
     ]
    }
   ],
   "source": [
    "print(f\"Optimal objective value: {m.objVal}\")\n",
    "\n",
    "print(\"\\nProduction plan:\")\n",
    "\n",
    "print(\"\")\n",
    "\n",
    "for p in Plants:\n",
    "    produced = sum(route_vars[p, m].x for m in Markets)\n",
    "    print(f\"{int(produced)} units need to be produced by the {p} plant.\")\n",
    "\n",
    "\n",
    "print(\"\\nShipment plan:\")\n",
    "for warehouse, bar in route_vars.keys():\n",
    "    if (abs(route_vars[warehouse, bar].x) > 0): #Only print if not 0\n",
    "        print (f\"Ship {route_vars[warehouse, bar].x} units to bar {bar} from warehouse {warehouse}\")"
   ]
  },
  {
   "cell_type": "markdown",
   "metadata": {},
   "source": [
    "# Optional Extra Practice\n",
    "\n",
    "HW3 Extension\n",
    "\n",
    "A steel manufacturer has three plants in Mexico.\n",
    "The variable costs of each plant are different. \n",
    "Monterrey: 381 USD/ton \n",
    "Puebla: 342 USD/ton\n",
    "San Luis Potosi: 368 USD/ton \n",
    "The transportation costs increase with distance, as in HW3.\n",
    "\n",
    "The steel manufacturer is now reconsidering their operations. \n",
    "It may be cheaper to expand one or more of the existing plants \n",
    "and close down one or more plants. \n",
    "Assume each plant has a capacity of 150,000 tons per month.\n",
    "Assume market demand and transportation costs remain the same as HW3.\n",
    "Each plant has a different fixed operational cost per month if the plant is open.\n",
    "Monterrey: 10,000,000 \n",
    "Puebla: 5,000,000\n",
    "San Luis Potosi: 3,000,000\n",
    "Use Gurobi to evaluate the optimal facility planning going forward.\n",
    "\n",
    "Bonus: What do you notice about this solution?\n"
   ]
  },
  {
   "cell_type": "code",
   "execution_count": 9,
   "metadata": {},
   "outputs": [],
   "source": [
    "# import gurobi library\n",
    "import gurobipy as gp         #Gurobi Python interface\n",
    "from gurobipy import GRB      #Import as shortcut to avoid writing GP.grb\n",
    "from itertools import product #product creates the cartesian product from 2 or more lists."
   ]
  },
  {
   "cell_type": "code",
   "execution_count": 13,
   "metadata": {},
   "outputs": [],
   "source": [
    "# Creates a list of all the supply nodes\n",
    "Plants = [\"Monterrey\",\"Puebla\",\"San Luis Potosi\"]\n",
    "\n",
    "\n",
    "\n",
    "# Creates a dictionary for the number of units of Variable Cost for each supply node\n",
    "VariableCost = {\"Monterrey\": 381,\n",
    "                \"Puebla\": 342,\n",
    "                \"San Luis Potosi\":368}\n",
    "\n",
    "# Creates a list of all demand nodes\n",
    "Markets = [\"Chihuahua\", \"Ciudad Victoria\", \"Durango\", \"Guadalajara\", \"Leon\",\n",
    "           \"Mexico City\", \"Morelia\", 'Oaxaca','Queretaro','Toluca','Villahermosa','Xalapa']\n",
    "\n",
    "#NEW\n",
    "#fixed_costs\n",
    "FixCost = {\"Monterrey\": 10_000_000,\n",
    "            \"Puebla\": 5_000_000,\n",
    "            \"San Luis Potosi\":3_000_000}\n",
    "\n",
    "#Capacities changed\n",
    "# Creates a dictionary for the number of units of Capacity for each supply node\n",
    "Capacity = {\"Monterrey\": 150000,\n",
    "            \"Puebla\": 150000,\n",
    "            \"San Luis Potosi\":150000}"
   ]
  },
  {
   "cell_type": "code",
   "execution_count": 14,
   "metadata": {},
   "outputs": [],
   "source": [
    "# Creates a dictionary for the number of units of demand for each demand node\n",
    "\n",
    "Demand = dict(zip(Markets,[1000,7000,8000,22000,12000,50000,5000,2000,22000,26000,11000,10000]))\n",
    "  \n",
    "\n",
    "Routes = [(p,m) for p in Plants for m in Markets]\n",
    "\n",
    "Logistic_cost = dict(zip(Routes,[59,20,38,60,53,64,63,91,62,63,99,70,\n",
    "                                 125,52,81,25,41,13,31,21,25,16,42,15,\n",
    "                                 91,25,48,18,12,25,26,55,20,23,70,38]))\n",
    "\n",
    "\n"
   ]
  },
  {
   "cell_type": "code",
   "execution_count": 15,
   "metadata": {},
   "outputs": [],
   "source": [
    "# Initiate model\n",
    "m = gp.Model('HW3_Extra')"
   ]
  },
  {
   "cell_type": "code",
   "execution_count": 16,
   "metadata": {},
   "outputs": [
    {
     "data": {
      "text/plain": [
       "{('Monterrey', 'Chihuahua'): <gurobi.Var *Awaiting Model Update*>,\n",
       " ('Monterrey', 'Ciudad Victoria'): <gurobi.Var *Awaiting Model Update*>,\n",
       " ('Monterrey', 'Durango'): <gurobi.Var *Awaiting Model Update*>,\n",
       " ('Monterrey', 'Guadalajara'): <gurobi.Var *Awaiting Model Update*>,\n",
       " ('Monterrey', 'Leon'): <gurobi.Var *Awaiting Model Update*>,\n",
       " ('Monterrey', 'Mexico City'): <gurobi.Var *Awaiting Model Update*>,\n",
       " ('Monterrey', 'Morelia'): <gurobi.Var *Awaiting Model Update*>,\n",
       " ('Monterrey', 'Oaxaca'): <gurobi.Var *Awaiting Model Update*>,\n",
       " ('Monterrey', 'Queretaro'): <gurobi.Var *Awaiting Model Update*>,\n",
       " ('Monterrey', 'Toluca'): <gurobi.Var *Awaiting Model Update*>,\n",
       " ('Monterrey', 'Villahermosa'): <gurobi.Var *Awaiting Model Update*>,\n",
       " ('Monterrey', 'Xalapa'): <gurobi.Var *Awaiting Model Update*>,\n",
       " ('Puebla', 'Chihuahua'): <gurobi.Var *Awaiting Model Update*>,\n",
       " ('Puebla', 'Ciudad Victoria'): <gurobi.Var *Awaiting Model Update*>,\n",
       " ('Puebla', 'Durango'): <gurobi.Var *Awaiting Model Update*>,\n",
       " ('Puebla', 'Guadalajara'): <gurobi.Var *Awaiting Model Update*>,\n",
       " ('Puebla', 'Leon'): <gurobi.Var *Awaiting Model Update*>,\n",
       " ('Puebla', 'Mexico City'): <gurobi.Var *Awaiting Model Update*>,\n",
       " ('Puebla', 'Morelia'): <gurobi.Var *Awaiting Model Update*>,\n",
       " ('Puebla', 'Oaxaca'): <gurobi.Var *Awaiting Model Update*>,\n",
       " ('Puebla', 'Queretaro'): <gurobi.Var *Awaiting Model Update*>,\n",
       " ('Puebla', 'Toluca'): <gurobi.Var *Awaiting Model Update*>,\n",
       " ('Puebla', 'Villahermosa'): <gurobi.Var *Awaiting Model Update*>,\n",
       " ('Puebla', 'Xalapa'): <gurobi.Var *Awaiting Model Update*>,\n",
       " ('San Luis Potosi', 'Chihuahua'): <gurobi.Var *Awaiting Model Update*>,\n",
       " ('San Luis Potosi', 'Ciudad Victoria'): <gurobi.Var *Awaiting Model Update*>,\n",
       " ('San Luis Potosi', 'Durango'): <gurobi.Var *Awaiting Model Update*>,\n",
       " ('San Luis Potosi', 'Guadalajara'): <gurobi.Var *Awaiting Model Update*>,\n",
       " ('San Luis Potosi', 'Leon'): <gurobi.Var *Awaiting Model Update*>,\n",
       " ('San Luis Potosi', 'Mexico City'): <gurobi.Var *Awaiting Model Update*>,\n",
       " ('San Luis Potosi', 'Morelia'): <gurobi.Var *Awaiting Model Update*>,\n",
       " ('San Luis Potosi', 'Oaxaca'): <gurobi.Var *Awaiting Model Update*>,\n",
       " ('San Luis Potosi', 'Queretaro'): <gurobi.Var *Awaiting Model Update*>,\n",
       " ('San Luis Potosi', 'Toluca'): <gurobi.Var *Awaiting Model Update*>,\n",
       " ('San Luis Potosi', 'Villahermosa'): <gurobi.Var *Awaiting Model Update*>,\n",
       " ('San Luis Potosi', 'Xalapa'): <gurobi.Var *Awaiting Model Update*>}"
      ]
     },
     "execution_count": 16,
     "metadata": {},
     "output_type": "execute_result"
    }
   ],
   "source": [
    "#Decision Variable\n",
    "route_var = m.addVars(Routes, vtype=GRB.INTEGER, name='Routes')\n",
    "route_var"
   ]
  },
  {
   "cell_type": "code",
   "execution_count": 18,
   "metadata": {},
   "outputs": [
    {
     "data": {
      "text/plain": [
       "{'Monterrey': <gurobi.Var *Awaiting Model Update*>,\n",
       " 'Puebla': <gurobi.Var *Awaiting Model Update*>,\n",
       " 'San Luis Potosi': <gurobi.Var *Awaiting Model Update*>}"
      ]
     },
     "execution_count": 18,
     "metadata": {},
     "output_type": "execute_result"
    }
   ],
   "source": [
    "plant_decision = m.addVars(Plants, vtype=GRB.BINARY,name='PlantDecision')\n",
    "plant_decision"
   ]
  },
  {
   "cell_type": "code",
   "execution_count": 23,
   "metadata": {},
   "outputs": [
    {
     "ename": "KeyError",
     "evalue": "'Monterrey'",
     "output_type": "error",
     "traceback": [
      "\u001b[1;31m---------------------------------------------------------------------------\u001b[0m",
      "\u001b[1;31mKeyError\u001b[0m                                  Traceback (most recent call last)",
      "\u001b[1;32mc:\\Users\\artur\\OneDrive\\Documentos\\MIT SCM\\SCM250\\Data_Management_With_Pandas\\DataManagementWithPandas\\Homeworks\\Session3_HW\\Lesson3_HW.ipynb Cell 20\u001b[0m in \u001b[0;36m<cell line: 2>\u001b[1;34m()\u001b[0m\n\u001b[0;32m      <a href='vscode-notebook-cell:/c%3A/Users/artur/OneDrive/Documentos/MIT%20SCM/SCM250/Data_Management_With_Pandas/DataManagementWithPandas/Homeworks/Session3_HW/Lesson3_HW.ipynb#X25sZmlsZQ%3D%3D?line=0'>1</a>\u001b[0m \u001b[39m#Set Objective\u001b[39;00m\n\u001b[1;32m----> <a href='vscode-notebook-cell:/c%3A/Users/artur/OneDrive/Documentos/MIT%20SCM/SCM250/Data_Management_With_Pandas/DataManagementWithPandas/Homeworks/Session3_HW/Lesson3_HW.ipynb#X25sZmlsZQ%3D%3D?line=1'>2</a>\u001b[0m m\u001b[39m.\u001b[39msetObjective((route_var\u001b[39m.\u001b[39mprod(Logistic_cost)\u001b[39m+\u001b[39mgp\u001b[39m.\u001b[39;49mquicksum(route_var[p]\u001b[39m*\u001b[39;49mVariableCost[p] \u001b[39mfor\u001b[39;49;00m p \u001b[39min\u001b[39;49;00m Plants) \u001b[39m+\u001b[39m plant_decision\u001b[39m.\u001b[39mprod(FixCost)), GRB\u001b[39m.\u001b[39mMINIMIZE)\n",
      "File \u001b[1;32msrc\\gurobipy\\gurobi.pxi:3706\u001b[0m, in \u001b[0;36mgurobipy.quicksum\u001b[1;34m()\u001b[0m\n",
      "\u001b[1;32mc:\\Users\\artur\\OneDrive\\Documentos\\MIT SCM\\SCM250\\Data_Management_With_Pandas\\DataManagementWithPandas\\Homeworks\\Session3_HW\\Lesson3_HW.ipynb Cell 20\u001b[0m in \u001b[0;36m<genexpr>\u001b[1;34m(.0)\u001b[0m\n\u001b[0;32m      <a href='vscode-notebook-cell:/c%3A/Users/artur/OneDrive/Documentos/MIT%20SCM/SCM250/Data_Management_With_Pandas/DataManagementWithPandas/Homeworks/Session3_HW/Lesson3_HW.ipynb#X25sZmlsZQ%3D%3D?line=0'>1</a>\u001b[0m \u001b[39m#Set Objective\u001b[39;00m\n\u001b[1;32m----> <a href='vscode-notebook-cell:/c%3A/Users/artur/OneDrive/Documentos/MIT%20SCM/SCM250/Data_Management_With_Pandas/DataManagementWithPandas/Homeworks/Session3_HW/Lesson3_HW.ipynb#X25sZmlsZQ%3D%3D?line=1'>2</a>\u001b[0m m\u001b[39m.\u001b[39msetObjective((route_var\u001b[39m.\u001b[39mprod(Logistic_cost)\u001b[39m+\u001b[39mgp\u001b[39m.\u001b[39mquicksum(route_var[p]\u001b[39m*\u001b[39mVariableCost[p] \u001b[39mfor\u001b[39;00m p \u001b[39min\u001b[39;00m Plants) \u001b[39m+\u001b[39m plant_decision\u001b[39m.\u001b[39mprod(FixCost)), GRB\u001b[39m.\u001b[39mMINIMIZE)\n",
      "\u001b[1;31mKeyError\u001b[0m: 'Monterrey'"
     ]
    }
   ],
   "source": [
    "#Set Objective\n",
    "m.setObjective((route_var.prod(Logistic_cost)+gp.quicksum(route_var[p]*VariableCost[p] for p in Plants) + plant_decision.prod(FixCost)), GRB.MINIMIZE)"
   ]
  },
  {
   "cell_type": "code",
   "execution_count": null,
   "metadata": {},
   "outputs": [],
   "source": []
  }
 ],
 "metadata": {
  "kernelspec": {
   "display_name": "Python 3",
   "language": "python",
   "name": "python3"
  },
  "language_info": {
   "codemirror_mode": {
    "name": "ipython",
    "version": 3
   },
   "file_extension": ".py",
   "mimetype": "text/x-python",
   "name": "python",
   "nbconvert_exporter": "python",
   "pygments_lexer": "ipython3",
   "version": "3.10.1"
  },
  "orig_nbformat": 4
 },
 "nbformat": 4,
 "nbformat_minor": 2
}
