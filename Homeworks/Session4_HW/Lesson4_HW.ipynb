{
 "cells": [
  {
   "cell_type": "markdown",
   "metadata": {},
   "source": [
    "# Homework 4 - MILP\n",
    "### Network Design"
   ]
  },
  {
   "cell_type": "code",
   "execution_count": 1,
   "metadata": {},
   "outputs": [],
   "source": [
    "# import gurobi library\n",
    "import gurobipy as gp         #Gurobi Python interface\n",
    "from gurobipy import GRB      #Import as shortcut to avoid writing GP.grb\n",
    "from itertools import product #product creates the cartesian product from 2 or more lists."
   ]
  },
  {
   "cell_type": "code",
   "execution_count": 30,
   "metadata": {},
   "outputs": [
    {
     "data": {
      "text/plain": [
       "{'East': 150000, 'South': 110000, 'Midwest': 100000, 'West': 90000}"
      ]
     },
     "execution_count": 30,
     "metadata": {},
     "output_type": "execute_result"
    }
   ],
   "source": [
    "# Data\n",
    "\n",
    "Regions = ['East','South','Midwest','West']\n",
    "\n",
    "Demand = dict(zip(Regions,[150_000,110_000,100_000,90_000]))\n",
    "\n",
    "Sites = ['Atlanta','Chicago','NewYork','SanDiego']\n",
    "\n",
    "Capacity_option = ['150k','300k']\n",
    "\n"
   ]
  },
  {
   "cell_type": "code",
   "execution_count": 31,
   "metadata": {},
   "outputs": [
    {
     "data": {
      "text/plain": [
       "<itertools.product at 0x29d9427f840>"
      ]
     },
     "execution_count": 31,
     "metadata": {},
     "output_type": "execute_result"
    }
   ],
   "source": [
    "product(Regions,[150_000,110_000,100_000,90_000])"
   ]
  },
  {
   "cell_type": "code",
   "execution_count": 11,
   "metadata": {},
   "outputs": [
    {
     "data": {
      "text/plain": [
       "[('Atlanta', 'East'),\n",
       " ('Atlanta', 'South'),\n",
       " ('Atlanta', 'Midwest'),\n",
       " ('Atlanta', 'West'),\n",
       " ('Chicago', 'East'),\n",
       " ('Chicago', 'South'),\n",
       " ('Chicago', 'Midwest'),\n",
       " ('Chicago', 'West'),\n",
       " ('NewYork', 'East'),\n",
       " ('NewYork', 'South'),\n",
       " ('NewYork', 'Midwest'),\n",
       " ('NewYork', 'West'),\n",
       " ('SanDiego', 'East'),\n",
       " ('SanDiego', 'South'),\n",
       " ('SanDiego', 'Midwest'),\n",
       " ('SanDiego', 'West')]"
      ]
     },
     "execution_count": 11,
     "metadata": {},
     "output_type": "execute_result"
    }
   ],
   "source": [
    "#Variables\n",
    "\n",
    "Routes = list(product(Sites,Regions))\n",
    "Routes\n"
   ]
  },
  {
   "cell_type": "code",
   "execution_count": 15,
   "metadata": {},
   "outputs": [
    {
     "data": {
      "text/plain": [
       "[('Atlanta', '150k'),\n",
       " ('Atlanta', '300k'),\n",
       " ('Chicago', '150k'),\n",
       " ('Chicago', '300k'),\n",
       " ('NewYork', '150k'),\n",
       " ('NewYork', '300k'),\n",
       " ('SanDiego', '150k'),\n",
       " ('SanDiego', '300k')]"
      ]
     },
     "execution_count": 15,
     "metadata": {},
     "output_type": "execute_result"
    }
   ],
   "source": [
    "Capacity_plant_option = list(product(Sites,Capacity_option))\n",
    "\n",
    "Capacity_plant_option"
   ]
  },
  {
   "cell_type": "code",
   "execution_count": 18,
   "metadata": {},
   "outputs": [
    {
     "data": {
      "text/plain": [
       "{('Atlanta', 'East'): 211,\n",
       " ('Atlanta', 'South'): 232,\n",
       " ('Atlanta', 'Midwest'): 240,\n",
       " ('Atlanta', 'West'): 300,\n",
       " ('Chicago', 'East'): 232,\n",
       " ('Chicago', 'South'): 212,\n",
       " ('Chicago', 'Midwest'): 230,\n",
       " ('Chicago', 'West'): 280,\n",
       " ('NewYork', 'East'): 238,\n",
       " ('NewYork', 'South'): 230,\n",
       " ('NewYork', 'Midwest'): 215,\n",
       " ('NewYork', 'West'): 270,\n",
       " ('SanDiego', 'East'): 299,\n",
       " ('SanDiego', 'South'): 280,\n",
       " ('SanDiego', 'Midwest'): 270,\n",
       " ('SanDiego', 'West'): 225}"
      ]
     },
     "execution_count": 18,
     "metadata": {},
     "output_type": "execute_result"
    }
   ],
   "source": [
    "Var_costs_list = [211,232,240,300,\n",
    "              232,212,230,280,\n",
    "              238,230,215,270,\n",
    "              299,280,270,225]\n",
    "\n",
    "VarCost=dict(zip(Routes,Var_costs_list))\n",
    "\n",
    "VarCost"
   ]
  },
  {
   "cell_type": "code",
   "execution_count": 20,
   "metadata": {},
   "outputs": [
    {
     "data": {
      "text/plain": [
       "{('Atlanta', '150k'): 4.5,\n",
       " ('Atlanta', '300k'): 7,\n",
       " ('Chicago', '150k'): 5,\n",
       " ('Chicago', '300k'): 8,\n",
       " ('NewYork', '150k'): 5.5,\n",
       " ('NewYork', '300k'): 8.5,\n",
       " ('SanDiego', '150k'): 6,\n",
       " ('SanDiego', '300k'): 10}"
      ]
     },
     "execution_count": 20,
     "metadata": {},
     "output_type": "execute_result"
    }
   ],
   "source": [
    "Fix_costs_list = [4.5,7,\n",
    "                  5,8,\n",
    "                  5.5,8.5,\n",
    "                  6,10]   #This costs are in Millions of USD\n",
    "\n",
    "FixCost = dict(zip(Capacity_plant_option,Fix_costs_list))\n",
    "\n",
    "FixCost\n"
   ]
  },
  {
   "cell_type": "code",
   "execution_count": null,
   "metadata": {},
   "outputs": [],
   "source": []
  }
 ],
 "metadata": {
  "kernelspec": {
   "display_name": "Python 3",
   "language": "python",
   "name": "python3"
  },
  "language_info": {
   "codemirror_mode": {
    "name": "ipython",
    "version": 3
   },
   "file_extension": ".py",
   "mimetype": "text/x-python",
   "name": "python",
   "nbconvert_exporter": "python",
   "pygments_lexer": "ipython3",
   "version": "3.10.1"
  },
  "orig_nbformat": 4
 },
 "nbformat": 4,
 "nbformat_minor": 2
}
