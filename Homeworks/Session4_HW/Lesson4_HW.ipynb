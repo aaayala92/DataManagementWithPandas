{
 "cells": [
  {
   "cell_type": "markdown",
   "metadata": {},
   "source": [
    "# Homework 4 - MILP\n",
    "### Network Design\n",
    "\n",
    "First we import the necessary variables"
   ]
  },
  {
   "cell_type": "code",
   "execution_count": 85,
   "metadata": {},
   "outputs": [],
   "source": [
    "# import gurobi library\n",
    "import gurobipy as gp         #Gurobi Python interface\n",
    "from gurobipy import GRB      #Import as shortcut to avoid writing GP.grb\n",
    "from itertools import product #product creates the cartesian product from 2 or more lists."
   ]
  },
  {
   "cell_type": "markdown",
   "metadata": {},
   "source": [
    "Setting our variables and the data provided"
   ]
  },
  {
   "cell_type": "code",
   "execution_count": 86,
   "metadata": {},
   "outputs": [],
   "source": [
    "# Data\n",
    "\n",
    "Regions = ['East','South','Midwest','West']\n",
    "\n",
    "Demand = dict(zip(Regions,[100_000,150_000,110_000,90_000]))\n",
    "\n",
    "Sites = ['Atlanta','Chicago','NewYork','SanDiego']\n",
    "\n",
    "Capacity_option = ['150k','300k']\n",
    "\n"
   ]
  },
  {
   "cell_type": "code",
   "execution_count": 87,
   "metadata": {},
   "outputs": [
    {
     "data": {
      "text/plain": [
       "{'East': 100000, 'South': 150000, 'Midwest': 110000, 'West': 90000}"
      ]
     },
     "execution_count": 87,
     "metadata": {},
     "output_type": "execute_result"
    }
   ],
   "source": [
    "Demand"
   ]
  },
  {
   "cell_type": "code",
   "execution_count": 88,
   "metadata": {},
   "outputs": [
    {
     "data": {
      "text/plain": [
       "[('Atlanta', 'East'),\n",
       " ('Atlanta', 'South'),\n",
       " ('Atlanta', 'Midwest'),\n",
       " ('Atlanta', 'West'),\n",
       " ('Chicago', 'East'),\n",
       " ('Chicago', 'South'),\n",
       " ('Chicago', 'Midwest'),\n",
       " ('Chicago', 'West'),\n",
       " ('NewYork', 'East'),\n",
       " ('NewYork', 'South'),\n",
       " ('NewYork', 'Midwest'),\n",
       " ('NewYork', 'West'),\n",
       " ('SanDiego', 'East'),\n",
       " ('SanDiego', 'South'),\n",
       " ('SanDiego', 'Midwest'),\n",
       " ('SanDiego', 'West')]"
      ]
     },
     "execution_count": 88,
     "metadata": {},
     "output_type": "execute_result"
    }
   ],
   "source": [
    "#Variables\n",
    "\n",
    "Routes = list(product(Sites,Regions))\n",
    "Routes\n"
   ]
  },
  {
   "cell_type": "code",
   "execution_count": 89,
   "metadata": {},
   "outputs": [
    {
     "data": {
      "text/plain": [
       "[('Atlanta', '150k'),\n",
       " ('Atlanta', '300k'),\n",
       " ('Chicago', '150k'),\n",
       " ('Chicago', '300k'),\n",
       " ('NewYork', '150k'),\n",
       " ('NewYork', '300k'),\n",
       " ('SanDiego', '150k'),\n",
       " ('SanDiego', '300k')]"
      ]
     },
     "execution_count": 89,
     "metadata": {},
     "output_type": "execute_result"
    }
   ],
   "source": [
    "Capacity_plant_option = list(product(Sites,Capacity_option))\n",
    "\n",
    "Capacity_plant_option"
   ]
  },
  {
   "cell_type": "code",
   "execution_count": 90,
   "metadata": {},
   "outputs": [
    {
     "data": {
      "text/plain": [
       "{('Atlanta', '150k'): 150000,\n",
       " ('Atlanta', '300k'): 300000,\n",
       " ('Chicago', '150k'): 150000,\n",
       " ('Chicago', '300k'): 300000,\n",
       " ('NewYork', '150k'): 150000,\n",
       " ('NewYork', '300k'): 300000,\n",
       " ('SanDiego', '150k'): 150000,\n",
       " ('SanDiego', '300k'): 300000}"
      ]
     },
     "execution_count": 90,
     "metadata": {},
     "output_type": "execute_result"
    }
   ],
   "source": [
    "Capacity_plant_value = dict(zip(Capacity_plant_option,[150_000,300_000]*4))\n",
    "Capacity_plant_value"
   ]
  },
  {
   "cell_type": "code",
   "execution_count": 91,
   "metadata": {},
   "outputs": [
    {
     "data": {
      "text/plain": [
       "{('Atlanta', 'East'): 211,\n",
       " ('Atlanta', 'South'): 232,\n",
       " ('Atlanta', 'Midwest'): 240,\n",
       " ('Atlanta', 'West'): 300,\n",
       " ('Chicago', 'East'): 232,\n",
       " ('Chicago', 'South'): 212,\n",
       " ('Chicago', 'Midwest'): 230,\n",
       " ('Chicago', 'West'): 280,\n",
       " ('NewYork', 'East'): 238,\n",
       " ('NewYork', 'South'): 230,\n",
       " ('NewYork', 'Midwest'): 215,\n",
       " ('NewYork', 'West'): 270,\n",
       " ('SanDiego', 'East'): 299,\n",
       " ('SanDiego', 'South'): 280,\n",
       " ('SanDiego', 'Midwest'): 270,\n",
       " ('SanDiego', 'West'): 225}"
      ]
     },
     "execution_count": 91,
     "metadata": {},
     "output_type": "execute_result"
    }
   ],
   "source": [
    "Var_costs_list = [211,232,240,300,\n",
    "              232,212,230,280,\n",
    "              238,230,215,270,\n",
    "              299,280,270,225]\n",
    "\n",
    "VarCost=dict(zip(Routes,Var_costs_list))\n",
    "\n",
    "VarCost"
   ]
  },
  {
   "cell_type": "code",
   "execution_count": 92,
   "metadata": {},
   "outputs": [
    {
     "data": {
      "text/plain": [
       "{('Atlanta', '150k'): 4500000.0,\n",
       " ('Atlanta', '300k'): 7000000,\n",
       " ('Chicago', '150k'): 5000000,\n",
       " ('Chicago', '300k'): 8000000,\n",
       " ('NewYork', '150k'): 5500000.0,\n",
       " ('NewYork', '300k'): 8500000.0,\n",
       " ('SanDiego', '150k'): 6000000,\n",
       " ('SanDiego', '300k'): 10000000}"
      ]
     },
     "execution_count": 92,
     "metadata": {},
     "output_type": "execute_result"
    }
   ],
   "source": [
    "Fix_costs_list = [i*1_000_000 for i in [4.5,7,5,8,5.5,8.5,6,10]]\n",
    "\n",
    "FixCost = dict(zip(Capacity_plant_option,Fix_costs_list))\n",
    "\n",
    "FixCost\n"
   ]
  },
  {
   "cell_type": "markdown",
   "metadata": {},
   "source": [
    "### Defining the Model"
   ]
  },
  {
   "cell_type": "code",
   "execution_count": 93,
   "metadata": {},
   "outputs": [],
   "source": [
    "m = gp.Model('NetworkDesign_Team:AnacondaArtillery')"
   ]
  },
  {
   "cell_type": "markdown",
   "metadata": {},
   "source": [
    "### Decision Variables"
   ]
  },
  {
   "cell_type": "code",
   "execution_count": 94,
   "metadata": {},
   "outputs": [
    {
     "data": {
      "text/plain": [
       "{('Atlanta', 'East'): <gurobi.Var *Awaiting Model Update*>,\n",
       " ('Atlanta', 'South'): <gurobi.Var *Awaiting Model Update*>,\n",
       " ('Atlanta', 'Midwest'): <gurobi.Var *Awaiting Model Update*>,\n",
       " ('Atlanta', 'West'): <gurobi.Var *Awaiting Model Update*>,\n",
       " ('Chicago', 'East'): <gurobi.Var *Awaiting Model Update*>,\n",
       " ('Chicago', 'South'): <gurobi.Var *Awaiting Model Update*>,\n",
       " ('Chicago', 'Midwest'): <gurobi.Var *Awaiting Model Update*>,\n",
       " ('Chicago', 'West'): <gurobi.Var *Awaiting Model Update*>,\n",
       " ('NewYork', 'East'): <gurobi.Var *Awaiting Model Update*>,\n",
       " ('NewYork', 'South'): <gurobi.Var *Awaiting Model Update*>,\n",
       " ('NewYork', 'Midwest'): <gurobi.Var *Awaiting Model Update*>,\n",
       " ('NewYork', 'West'): <gurobi.Var *Awaiting Model Update*>,\n",
       " ('SanDiego', 'East'): <gurobi.Var *Awaiting Model Update*>,\n",
       " ('SanDiego', 'South'): <gurobi.Var *Awaiting Model Update*>,\n",
       " ('SanDiego', 'Midwest'): <gurobi.Var *Awaiting Model Update*>,\n",
       " ('SanDiego', 'West'): <gurobi.Var *Awaiting Model Update*>}"
      ]
     },
     "execution_count": 94,
     "metadata": {},
     "output_type": "execute_result"
    }
   ],
   "source": [
    "#Routes variable: From City to Region | Integer\n",
    "Routes_ij = m.addVars(Routes, vtype=GRB.INTEGER, name='Routes')\n",
    "Routes_ij"
   ]
  },
  {
   "cell_type": "code",
   "execution_count": 95,
   "metadata": {},
   "outputs": [
    {
     "data": {
      "text/plain": [
       "{('Atlanta', '150k'): <gurobi.Var *Awaiting Model Update*>,\n",
       " ('Atlanta', '300k'): <gurobi.Var *Awaiting Model Update*>,\n",
       " ('Chicago', '150k'): <gurobi.Var *Awaiting Model Update*>,\n",
       " ('Chicago', '300k'): <gurobi.Var *Awaiting Model Update*>,\n",
       " ('NewYork', '150k'): <gurobi.Var *Awaiting Model Update*>,\n",
       " ('NewYork', '300k'): <gurobi.Var *Awaiting Model Update*>,\n",
       " ('SanDiego', '150k'): <gurobi.Var *Awaiting Model Update*>,\n",
       " ('SanDiego', '300k'): <gurobi.Var *Awaiting Model Update*>}"
      ]
     },
     "execution_count": 95,
     "metadata": {},
     "output_type": "execute_result"
    }
   ],
   "source": [
    "#Capacity variable: For City which Capacity (150k or 300k) | Binary\n",
    "Cap_plant_ij = m.addVars(Capacity_plant_option, vtype=GRB.BINARY,name='Capacity_type')\n",
    "Cap_plant_ij"
   ]
  },
  {
   "cell_type": "markdown",
   "metadata": {},
   "source": [
    "### Objective Function"
   ]
  },
  {
   "cell_type": "code",
   "execution_count": 96,
   "metadata": {},
   "outputs": [],
   "source": [
    "#Objective Function: Total Cost = Variable Cost + Fixed Cost\n",
    "\n",
    "m.setObjective(Routes_ij.prod(VarCost) + Cap_plant_ij.prod(FixCost), GRB.MINIMIZE) "
   ]
  },
  {
   "cell_type": "markdown",
   "metadata": {},
   "source": [
    "### Constraints"
   ]
  },
  {
   "cell_type": "code",
   "execution_count": 97,
   "metadata": {},
   "outputs": [
    {
     "data": {
      "text/plain": [
       "{'East': <gurobi.Constr *Awaiting Model Update*>,\n",
       " 'South': <gurobi.Constr *Awaiting Model Update*>,\n",
       " 'Midwest': <gurobi.Constr *Awaiting Model Update*>,\n",
       " 'West': <gurobi.Constr *Awaiting Model Update*>}"
      ]
     },
     "execution_count": 97,
     "metadata": {},
     "output_type": "execute_result"
    }
   ],
   "source": [
    "#Demand Constraints\n",
    "m.addConstrs((Routes_ij.sum('*',r)>=Demand[r] for r in Regions), name='Demand')"
   ]
  },
  {
   "cell_type": "code",
   "execution_count": 98,
   "metadata": {},
   "outputs": [
    {
     "data": {
      "text/plain": [
       "{'Atlanta': <gurobi.Constr *Awaiting Model Update*>,\n",
       " 'Chicago': <gurobi.Constr *Awaiting Model Update*>,\n",
       " 'NewYork': <gurobi.Constr *Awaiting Model Update*>,\n",
       " 'SanDiego': <gurobi.Constr *Awaiting Model Update*>}"
      ]
     },
     "execution_count": 98,
     "metadata": {},
     "output_type": "execute_result"
    }
   ],
   "source": [
    "#Capacity Constraints\n",
    "\n",
    "m.addConstrs((Routes_ij.sum(s)-Cap_plant_ij.prod(Capacity_plant_value, s)<=0 for s in Sites), name='Capacity')"
   ]
  },
  {
   "cell_type": "code",
   "execution_count": 99,
   "metadata": {},
   "outputs": [
    {
     "data": {
      "text/plain": [
       "{'Atlanta': <gurobi.Constr *Awaiting Model Update*>,\n",
       " 'Chicago': <gurobi.Constr *Awaiting Model Update*>,\n",
       " 'NewYork': <gurobi.Constr *Awaiting Model Update*>,\n",
       " 'SanDiego': <gurobi.Constr *Awaiting Model Update*>}"
      ]
     },
     "execution_count": 99,
     "metadata": {},
     "output_type": "execute_result"
    }
   ],
   "source": [
    "#Select one capacity per plant\n",
    "m.addConstrs((Cap_plant_ij.sum(s) <= 1 for s in Sites), name = 'Only1Capacity')"
   ]
  },
  {
   "cell_type": "code",
   "execution_count": 113,
   "metadata": {},
   "outputs": [
    {
     "data": {
      "text/plain": [
       "<gurobi.Constr *Awaiting Model Update*>"
      ]
     },
     "execution_count": 113,
     "metadata": {},
     "output_type": "execute_result"
    }
   ],
   "source": [
    "#Select at least one plant\n",
    "m.addConstr(Cap_plant_ij.sum('*','*') >= 1, name='AtLeast1Site')"
   ]
  },
  {
   "cell_type": "code",
   "execution_count": 101,
   "metadata": {},
   "outputs": [
    {
     "data": {
      "text/plain": [
       "{'Atlanta': <gurobi.Constr *Awaiting Model Update*>,\n",
       " 'Chicago': <gurobi.Constr *Awaiting Model Update*>,\n",
       " 'NewYork': <gurobi.Constr *Awaiting Model Update*>,\n",
       " 'SanDiego': <gurobi.Constr *Awaiting Model Update*>}"
      ]
     },
     "execution_count": 101,
     "metadata": {},
     "output_type": "execute_result"
    }
   ],
   "source": [
    "#linking Constraints\n",
    "m.addConstrs((Routes_ij.sum(s) - Cap_plant_ij.sum(s)*10_000_000 <=0 for s in Sites), name='Linking')"
   ]
  },
  {
   "cell_type": "markdown",
   "metadata": {},
   "source": [
    "### Writting the model"
   ]
  },
  {
   "cell_type": "code",
   "execution_count": 102,
   "metadata": {},
   "outputs": [],
   "source": [
    "m.write('NetworkDesign.lp')"
   ]
  },
  {
   "cell_type": "code",
   "execution_count": 112,
   "metadata": {},
   "outputs": [
    {
     "name": "stdout",
     "output_type": "stream",
     "text": [
      "\\ Model NetworkDesign_Team:AnacondaArtillery\n",
      "\\ LP format - for model browsing. Use MPS format to capture full model detail.\n",
      "Minimize\n",
      "  211 Routes[Atlanta,East] + 232 Routes[Atlanta,South]\n",
      "   + 240 Routes[Atlanta,Midwest] + 300 Routes[Atlanta,West]\n",
      "   + 232 Routes[Chicago,East] + 212 Routes[Chicago,South]\n",
      "   + 230 Routes[Chicago,Midwest] + 280 Routes[Chicago,West]\n",
      "   + 238 Routes[NewYork,East] + 230 Routes[NewYork,South]\n",
      "   + 215 Routes[NewYork,Midwest] + 270 Routes[NewYork,West]\n",
      "   + 299 Routes[SanDiego,East] + 280 Routes[SanDiego,South]\n",
      "   + 270 Routes[SanDiego,Midwest] + 225 Routes[SanDiego,West]\n",
      "   + 4.5e+06 Capacity_type[Atlanta,150k]\n",
      "   + 7e+06 Capacity_type[Atlanta,300k] + 5e+06 Capacity_type[Chicago,150k]\n",
      "   + 8e+06 Capacity_type[Chicago,300k]\n",
      "   + 5.5e+06 Capacity_type[NewYork,150k]\n",
      "   + 8.5e+06 Capacity_type[NewYork,300k]\n",
      "   + 6e+06 Capacity_type[SanDiego,150k]\n",
      "   + 1e+07 Capacity_type[SanDiego,300k]\n",
      "Subject To\n",
      " Demand[East]: Routes[Atlanta,East] + Routes[Chicago,East]\n",
      "   + Routes[NewYork,East] + Routes[SanDiego,East] >= 100000\n",
      " Demand[South]: Routes[Atlanta,South] + Routes[Chicago,South]\n",
      "   + Routes[NewYork,South] + Routes[SanDiego,South] >= 150000\n",
      " Demand[Midwest]: Routes[Atlanta,Midwest] + Routes[Chicago,Midwest]\n",
      "   + Routes[NewYork,Midwest] + Routes[SanDiego,Midwest] >= 110000\n",
      " Demand[West]: Routes[Atlanta,West] + Routes[Chicago,West]\n",
      "   + Routes[NewYork,West] + Routes[SanDiego,West] >= 90000\n",
      " Capacity[Atlanta]: Routes[Atlanta,East] + Routes[Atlanta,South]\n",
      "   + Routes[Atlanta,Midwest] + Routes[Atlanta,West]\n",
      "   - 150000 Capacity_type[Atlanta,150k]\n",
      "   - 300000 Capacity_type[Atlanta,300k] <= 0\n",
      " Capacity[Chicago]: Routes[Chicago,East] + Routes[Chicago,South]\n",
      "   + Routes[Chicago,Midwest] + Routes[Chicago,West]\n",
      "   - 150000 Capacity_type[Chicago,150k]\n",
      "   - 300000 Capacity_type[Chicago,300k] <= 0\n",
      " Capacity[NewYork]: Routes[NewYork,East] + Routes[NewYork,South]\n",
      "   + Routes[NewYork,Midwest] + Routes[NewYork,West]\n",
      "   - 150000 Capacity_type[NewYork,150k]\n",
      "   - 300000 Capacity_type[NewYork,300k] <= 0\n",
      " Capacity[SanDiego]: Routes[SanDiego,East] + Routes[SanDiego,South]\n",
      "   + Routes[SanDiego,Midwest] + Routes[SanDiego,West]\n",
      "   - 150000 Capacity_type[SanDiego,150k]\n",
      "   - 300000 Capacity_type[SanDiego,300k] <= 0\n",
      " Only1Capacity[Atlanta]: Capacity_type[Atlanta,150k]\n",
      "   + Capacity_type[Atlanta,300k] <= 1\n",
      " Only1Capacity[Chicago]: Capacity_type[Chicago,150k]\n",
      "   + Capacity_type[Chicago,300k] <= 1\n",
      " Only1Capacity[NewYork]: Capacity_type[NewYork,150k]\n",
      "   + Capacity_type[NewYork,300k] <= 1\n",
      " Only1Capacity[SanDiego]: Capacity_type[SanDiego,150k]\n",
      "   + Capacity_type[SanDiego,300k] <= 1\n",
      " AtLeast1Site: Capacity_type[Atlanta,150k] + Capacity_type[Atlanta,300k]\n",
      "   + Capacity_type[Chicago,150k] + Capacity_type[Chicago,300k]\n",
      "   + Capacity_type[NewYork,150k] + Capacity_type[NewYork,300k]\n",
      "   + Capacity_type[SanDiego,150k] + Capacity_type[SanDiego,300k] >= 1\n",
      " Linking[Atlanta]: Routes[Atlanta,East] + Routes[Atlanta,South]\n",
      "   + Routes[Atlanta,Midwest] + Routes[Atlanta,West]\n",
      "   - 1e+07 Capacity_type[Atlanta,150k] - 1e+07 Capacity_type[Atlanta,300k]\n",
      "   <= 0\n",
      " Linking[Chicago]: Routes[Chicago,East] + Routes[Chicago,South]\n",
      "   + Routes[Chicago,Midwest] + Routes[Chicago,West]\n",
      "   - 1e+07 Capacity_type[Chicago,150k] - 1e+07 Capacity_type[Chicago,300k]\n",
      "   <= 0\n",
      " Linking[NewYork]: Routes[NewYork,East] + Routes[NewYork,South]\n",
      "   + Routes[NewYork,Midwest] + Routes[NewYork,West]\n",
      "   - 1e+07 Capacity_type[NewYork,150k] - 1e+07 Capacity_type[NewYork,300k]\n",
      "   <= 0\n",
      " Linking[SanDiego]: Routes[SanDiego,East] + Routes[SanDiego,South]\n",
      "   + Routes[SanDiego,Midwest] + Routes[SanDiego,West]\n",
      "   - 1e+07 Capacity_type[SanDiego,150k]\n",
      "   - 1e+07 Capacity_type[SanDiego,300k] <= 0\n",
      "Bounds\n",
      "Binaries\n",
      " Capacity_type[Atlanta,150k] Capacity_type[Atlanta,300k]\n",
      " Capacity_type[Chicago,150k] Capacity_type[Chicago,300k]\n",
      " Capacity_type[NewYork,150k] Capacity_type[NewYork,300k]\n",
      " Capacity_type[SanDiego,150k] Capacity_type[SanDiego,300k]\n",
      "Generals\n",
      " Routes[Atlanta,East] Routes[Atlanta,South] Routes[Atlanta,Midwest]\n",
      " Routes[Atlanta,West] Routes[Chicago,East] Routes[Chicago,South]\n",
      " Routes[Chicago,Midwest] Routes[Chicago,West] Routes[NewYork,East]\n",
      " Routes[NewYork,South] Routes[NewYork,Midwest] Routes[NewYork,West]\n",
      " Routes[SanDiego,East] Routes[SanDiego,South] Routes[SanDiego,Midwest]\n",
      " Routes[SanDiego,West]\n",
      "End\n",
      "\n"
     ]
    }
   ],
   "source": [
    "# Details of the model\n",
    "with open('NetworkDesign.lp') as f:\n",
    "  print (f.read())"
   ]
  },
  {
   "cell_type": "markdown",
   "metadata": {},
   "source": [
    "### Optimize Model"
   ]
  },
  {
   "cell_type": "code",
   "execution_count": 103,
   "metadata": {},
   "outputs": [
    {
     "name": "stdout",
     "output_type": "stream",
     "text": [
      "Gurobi Optimizer version 10.0.2 build v10.0.2rc0 (win64)\n",
      "\n",
      "CPU model: AMD Ryzen 7 4800H with Radeon Graphics, instruction set [SSE2|AVX|AVX2]\n",
      "Thread count: 8 physical cores, 16 logical processors, using up to 16 threads\n",
      "\n",
      "Optimize a model with 17 rows, 24 columns and 80 nonzeros\n",
      "Model fingerprint: 0x462de2e0\n",
      "Variable types: 0 continuous, 24 integer (8 binary)\n",
      "Coefficient statistics:\n",
      "  Matrix range     [1e+00, 1e+07]\n",
      "  Objective range  [2e+02, 1e+07]\n",
      "  Bounds range     [1e+00, 1e+00]\n",
      "  RHS range        [1e+00, 2e+05]\n",
      "Found heuristic solution: objective 1.195500e+08\n",
      "Presolve removed 4 rows and 0 columns\n",
      "Presolve time: 0.00s\n",
      "Presolved: 13 rows, 24 columns, 56 nonzeros\n",
      "Variable types: 0 continuous, 24 integer (8 binary)\n",
      "\n",
      "Root relaxation: objective 1.092500e+08, 12 iterations, 0.00 seconds (0.00 work units)\n",
      "\n",
      "    Nodes    |    Current Node    |     Objective Bounds      |     Work\n",
      " Expl Unexpl |  Obj  Depth IntInf | Incumbent    BestBd   Gap | It/Node Time\n",
      "\n",
      "     0     0 1.0925e+08    0    4 1.1955e+08 1.0925e+08  8.62%     -    0s\n",
      "H    0     0                    1.166500e+08 1.0925e+08  6.34%     -    0s\n",
      "H    0     0                    1.164000e+08 1.0925e+08  6.14%     -    0s\n",
      "     0     0 1.1550e+08    0    1 1.1640e+08 1.1550e+08  0.77%     -    0s\n",
      "     0     0 1.1555e+08    0    6 1.1640e+08 1.1555e+08  0.73%     -    0s\n",
      "     0     0 1.1601e+08    0    2 1.1640e+08 1.1601e+08  0.34%     -    0s\n",
      "\n",
      "Cutting planes:\n",
      "  Implied bound: 5\n",
      "  Relax-and-lift: 1\n",
      "\n",
      "Explored 1 nodes (21 simplex iterations) in 0.03 seconds (0.00 work units)\n",
      "Thread count was 16 (of 16 available processors)\n",
      "\n",
      "Solution count 3: 1.164e+08 1.1665e+08 1.1955e+08 \n",
      "\n",
      "Optimal solution found (tolerance 1.00e-04)\n",
      "Best objective 1.164000000000e+08, best bound 1.164000000000e+08, gap 0.0000%\n"
     ]
    }
   ],
   "source": [
    "m.optimize()"
   ]
  },
  {
   "cell_type": "markdown",
   "metadata": {},
   "source": [
    "### Optimization Result"
   ]
  },
  {
   "cell_type": "code",
   "execution_count": 111,
   "metadata": {},
   "outputs": [
    {
     "name": "stdout",
     "output_type": "stream",
     "text": [
      "Optimal objective value: 116400000.0\n",
      "\n",
      "Sites Openned\n",
      "Open Site in Atlanta with capacity: 150k\n",
      "Open Site in Chicago with capacity: 300k\n",
      "\n",
      "Shipment plan:\n",
      "Ship 100000.0 units to region East from site Atlanta\n",
      "Ship 50000.0 units to region Midwest from site Atlanta\n",
      "Ship 150000.0 units to region South from site Chicago\n",
      "Ship 60000.0 units to region Midwest from site Chicago\n",
      "Ship 90000.0 units to region West from site Chicago\n"
     ]
    }
   ],
   "source": [
    "print(f\"Optimal objective value: {m.objVal}\")\n",
    "\n",
    "print(\"\\nSites Openned\",end = '\\n')\n",
    "for site, capacity in Cap_plant_ij:\n",
    "  if (Cap_plant_ij[site,capacity].x>0):\n",
    "    print(f'Open Site in {site} with capacity: {capacity}')\n",
    "\n",
    "print(\"\\nShipment plan:\")\n",
    "for site, region in Routes_ij.keys():\n",
    "    if (abs(Routes_ij[site, region].x) > 0): #Only print if not 0\n",
    "        print (f\"Ship {Routes_ij[site, region].x} units to region {region} from site {site}\")\n",
    "        \n"
   ]
  },
  {
   "cell_type": "code",
   "execution_count": null,
   "metadata": {},
   "outputs": [],
   "source": []
  }
 ],
 "metadata": {
  "kernelspec": {
   "display_name": "Python 3",
   "language": "python",
   "name": "python3"
  },
  "language_info": {
   "codemirror_mode": {
    "name": "ipython",
    "version": 3
   },
   "file_extension": ".py",
   "mimetype": "text/x-python",
   "name": "python",
   "nbconvert_exporter": "python",
   "pygments_lexer": "ipython3",
   "version": "3.10.1"
  },
  "orig_nbformat": 4
 },
 "nbformat": 4,
 "nbformat_minor": 2
}
